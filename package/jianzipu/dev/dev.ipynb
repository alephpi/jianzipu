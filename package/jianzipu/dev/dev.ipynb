{
 "cells": [
  {
   "cell_type": "code",
   "execution_count": 1,
   "metadata": {},
   "outputs": [],
   "source": [
    "%load_ext autoreload\n",
    "%autoreload 2"
   ]
  },
  {
   "cell_type": "markdown",
   "metadata": {},
   "source": [
    "# draft\n"
   ]
  },
  {
   "cell_type": "code",
   "execution_count": 2,
   "metadata": {},
   "outputs": [],
   "source": [
    "l = [\n",
    "     '大指七徽六分勾三弦',\n",
    "     '跪指五徽八分挑六弦',\n",
    "     '名指一徽九分注挑二弦',\n",
    "     '食指十二徽半绰抹挑四弦',\n",
    "     '中指徽外勾剔七弦',\n",
    "     '中指徽外历二弦三弦',\n",
    "     '散音历二弦三弦',\n",
    "     '大指七徽六分掩',\n",
    "     '名指七徽六分掐起',\n",
    "     '打圆',\n",
    "     '不动',\n",
    "     '推出',\n",
    "     '滚拂',\n",
    "     ]"
   ]
  },
  {
   "cell_type": "code",
   "execution_count": 5,
   "metadata": {},
   "outputs": [
    {
     "name": "stdout",
     "output_type": "stream",
     "text": [
      "SimpleForm(hui_finger_phrase=FingerPhrase(finger=Finger(id='大指'),\n",
      "                                          number=[Number(id='七徽'),Number(id='六分')]),\n",
      "           xian_finger_phrase=FingerPhrase(finger=Finger(id='勾'),\n",
      "                                           number=[Number(id='三弦')]),\n",
      "           special_finger=Finger(id=None))\n",
      "SimpleForm(hui_finger_phrase=FingerPhrase(finger=Finger(id='跪指'),\n",
      "                                          number=[Number(id='五徽'),Number(id='八分')]),\n",
      "           xian_finger_phrase=FingerPhrase(finger=Finger(id='挑'),\n",
      "                                           number=[Number(id='六弦')]),\n",
      "           special_finger=Finger(id=None))\n",
      "SimpleForm(hui_finger_phrase=FingerPhrase(finger=Finger(id='名指'),\n",
      "                                          number=[Number(id='一徽'),Number(id='九分')]),\n",
      "           xian_finger_phrase=FingerPhrase(finger=Finger(id='挑'),\n",
      "                                           number=[Number(id='二弦')]),\n",
      "           special_finger=Finger(id='注'))\n",
      "SimpleForm(hui_finger_phrase=FingerPhrase(finger=Finger(id='食指'),\n",
      "                                          number=[Number(id='十二徽'),Number(id='半')]),\n",
      "           xian_finger_phrase=FingerPhrase(finger=Finger(id='抹挑'),\n",
      "                                           number=[Number(id='四弦')]),\n",
      "           special_finger=Finger(id='绰'))\n",
      "SimpleForm(hui_finger_phrase=FingerPhrase(finger=Finger(id='中指'),\n",
      "                                          number=[Number(id='徽外')]),\n",
      "           xian_finger_phrase=FingerPhrase(finger=Finger(id='勾剔'),\n",
      "                                           number=[Number(id='七弦')]),\n",
      "           special_finger=Finger(id=None))\n",
      "SimpleForm(hui_finger_phrase=FingerPhrase(finger=Finger(id='中指'),\n",
      "                                          number=[Number(id='徽外')]),\n",
      "           xian_finger_phrase=FingerPhrase(finger=Finger(id='历'),\n",
      "                                           number=[Number(id='二弦'),Number(id='三弦')]),\n",
      "           special_finger=Finger(id=None))\n",
      "SimpleForm(hui_finger_phrase=FingerPhrase(finger=Finger(id='散音'), number=Null),\n",
      "           xian_finger_phrase=FingerPhrase(finger=Finger(id='历'),\n",
      "                                           number=[Number(id='二弦'),Number(id='三弦')]),\n",
      "           special_finger=Finger(id=None))\n",
      "SimpleForm(hui_finger_phrase=FingerPhrase(finger=Finger(id='大指'),\n",
      "                                          number=[Number(id='七徽'),Number(id='六分')]),\n",
      "           xian_finger_phrase=FingerPhrase(finger=Finger(id='掩'), number=Null),\n",
      "           special_finger=Finger(id=None))\n"
     ]
    },
    {
     "ename": "ParseException",
     "evalue": ", found '掐'  (at char 6), (line:1, col:7)",
     "output_type": "error",
     "traceback": [
      "\u001b[0;31m---------------------------------------------------------------------------\u001b[0m",
      "\u001b[0;31mParseException\u001b[0m                            Traceback (most recent call last)",
      "Cell \u001b[0;32mIn[5], line 5\u001b[0m\n\u001b[1;32m      3\u001b[0m pp \u001b[39m=\u001b[39m pprint\u001b[39m.\u001b[39mPrettyPrinter(indent\u001b[39m=\u001b[39m\u001b[39m2\u001b[39m)\n\u001b[1;32m      4\u001b[0m \u001b[39mfor\u001b[39;00m i \u001b[39min\u001b[39;00m l:\n\u001b[0;32m----> 5\u001b[0m   m \u001b[39m=\u001b[39m parse(i, \u001b[39m'\u001b[39;49m\u001b[39mortho\u001b[39;49m\u001b[39m'\u001b[39;49m)\n\u001b[1;32m      6\u001b[0m   pp\u001b[39m.\u001b[39mpprint(m)\n",
      "File \u001b[0;32m~/workspace/jianzipu/package/jianzipu/jianzipu/parser.py:125\u001b[0m, in \u001b[0;36mparse\u001b[0;34m(s, form)\u001b[0m\n\u001b[1;32m    122\u001b[0m       d[\u001b[39m'\u001b[39m\u001b[39mcomplex_form\u001b[39m\u001b[39m'\u001b[39m][\u001b[39m'\u001b[39m\u001b[39mright_sub_phrase\u001b[39m\u001b[39m'\u001b[39m][\u001b[39m'\u001b[39m\u001b[39mxian_finger_phrase\u001b[39m\u001b[39m'\u001b[39m][\u001b[39m'\u001b[39m\u001b[39mnumber\u001b[39m\u001b[39m'\u001b[39m]\u001b[39m.\u001b[39mappend(d[\u001b[39m'\u001b[39m\u001b[39mcomplex_form\u001b[39m\u001b[39m'\u001b[39m][\u001b[39m'\u001b[39m\u001b[39mright_sub_phrase\u001b[39m\u001b[39m'\u001b[39m][\u001b[39m'\u001b[39m\u001b[39mhui_finger_phrase\u001b[39m\u001b[39m'\u001b[39m][\u001b[39m'\u001b[39m\u001b[39mnumber\u001b[39m\u001b[39m'\u001b[39m]\u001b[39m.\u001b[39mpop(\u001b[39m-\u001b[39m\u001b[39m1\u001b[39m))\n\u001b[1;32m    124\u001b[0m \u001b[39mcase\u001b[39;00m \u001b[39m'\u001b[39m\u001b[39mortho\u001b[39m\u001b[39m'\u001b[39m:\n\u001b[0;32m--> 125\u001b[0m   d \u001b[39m=\u001b[39m OrthoParseVar\u001b[39m.\u001b[39;49mPUZI\u001b[39m.\u001b[39;49mparse_string(s)\u001b[39m.\u001b[39mas_dict()\n\u001b[1;32m    126\u001b[0m \u001b[39mcase\u001b[39;00m\u001b[39m \u001b[39m\u001b[39m_\u001b[39;00m:\n\u001b[1;32m    127\u001b[0m   \u001b[39mraise\u001b[39;00m \u001b[39mValueError\u001b[39;00m(\u001b[39mf\u001b[39m\u001b[39m\"\u001b[39m\u001b[39mform must be either \u001b[39m\u001b[39m'\u001b[39m\u001b[39mabbr\u001b[39m\u001b[39m'\u001b[39m\u001b[39mor \u001b[39m\u001b[39m'\u001b[39m\u001b[39mortho\u001b[39m\u001b[39m'\u001b[39m\u001b[39m\"\u001b[39m)\n",
      "File \u001b[0;32m~/micromamba/envs/jianzipu/lib/python3.11/site-packages/pyparsing/core.py:1197\u001b[0m, in \u001b[0;36mParserElement.parse_string\u001b[0;34m(self, instring, parse_all, parseAll)\u001b[0m\n\u001b[1;32m   1194\u001b[0m         \u001b[39mraise\u001b[39;00m\n\u001b[1;32m   1195\u001b[0m     \u001b[39melse\u001b[39;00m:\n\u001b[1;32m   1196\u001b[0m         \u001b[39m# catch and re-raise exception from here, clearing out pyparsing internal stack trace\u001b[39;00m\n\u001b[0;32m-> 1197\u001b[0m         \u001b[39mraise\u001b[39;00m exc\u001b[39m.\u001b[39mwith_traceback(\u001b[39mNone\u001b[39;00m)\n\u001b[1;32m   1198\u001b[0m \u001b[39melse\u001b[39;00m:\n\u001b[1;32m   1199\u001b[0m     \u001b[39mreturn\u001b[39;00m tokens\n",
      "\u001b[0;31mParseException\u001b[0m: , found '掐'  (at char 6), (line:1, col:7)"
     ]
    }
   ],
   "source": [
    "from jianzipu.parser import parse\n",
    "import pprint\n",
    "pp = pprint.PrettyPrinter(indent=2)\n",
    "for i in l:\n",
    "  m = parse(i, 'ortho')\n",
    "  pp.pprint(m)"
   ]
  },
  {
   "cell_type": "code",
   "execution_count": null,
   "metadata": {},
   "outputs": [],
   "source": [
    "m = PUZI.parse_string('慢注上八徽')\n",
    "pp.pprint(m.as_dict())"
   ]
  },
  {
   "cell_type": "code",
   "execution_count": null,
   "metadata": {},
   "outputs": [],
   "source": [
    "PUZI.parse_string('大指七徽六分勾三弦')"
   ]
  },
  {
   "cell_type": "code",
   "execution_count": 4,
   "metadata": {},
   "outputs": [],
   "source": [
    "from jianzipu.parser import parse"
   ]
  },
  {
   "cell_type": "code",
   "execution_count": 7,
   "metadata": {},
   "outputs": [],
   "source": [
    "test = parse('大指七徽六分勾三弦')\n",
    "# test = parse(l[-4])"
   ]
  },
  {
   "cell_type": "code",
   "execution_count": 8,
   "metadata": {},
   "outputs": [
    {
     "name": "stdout",
     "output_type": "stream",
     "text": [
      "大指七徽六分勾三弦\n"
     ]
    }
   ],
   "source": [
    "print(test)"
   ]
  },
  {
   "cell_type": "code",
   "execution_count": 19,
   "metadata": {},
   "outputs": [
    {
     "data": {
      "image/svg+xml": [
       "<svg xmlns=\"http://www.w3.org/2000/svg\" xmlns:xlink=\"http://www.w3.org/1999/xlink\" version=\"1.1\" baseProfile=\"full\" viewBox=\"0 0 200 200\" width=\"96\" height=\"96\"><path d=\"M 14,40 L 74,40 74,44 14,44\" fill=\"black\"/><path d=\"M 74,40 L 50,42 62,30\" fill=\"black\"/><path d=\"M 47,12.8 L 46.8,25.9 45.9,38.3 44.4,49.9 42.2,60.8 39.3,70.9 35.7,80.2 31.5,88.7 26.6,96.3 20.9,103 14.6,108.6 13.3,107.3 18,100.6 22,93.4 25.6,85.8 28.6,77.5 31.1,68.5 33,58.9 34.4,48.6 35.2,37.5 35.4,25.7 35,13.1\" fill=\"black\"/><path d=\"M 35,14.1 L 47,12.8 34.9,10.8\" fill=\"black\"/><path d=\"M 47,12.8 L 50,14.7 45.1,17.8\" fill=\"black\"/><path d=\"M 46.3,57.9 L 49.8,60.4 53.3,62.9 56.5,65.5 59.4,68.3 62,71.2 64.4,74.3 66.5,77.5 68.4,80.8 69.9,84.2 71.2,87.8 59.5,90.3 59.1,87.4 58.6,84.5 57.8,81.6 56.7,78.6 55.4,75.5 53.9,72.4 52.1,69.2 50,65.9 47.8,62.6 45.1,59.3\" fill=\"black\"/><path d=\"M 71.2,87.8 L 70.3,92.3 66.6,94.9 62.1,94 59.5,90.3\" fill=\"black\"/><path d=\"M 61.9,27 L 185.9,21 186,24.9 62,30.9\" fill=\"black\"/><path d=\"M 185.9,21 L 162,24.1 173.4,11.5\" fill=\"black\"/><path d=\"M 115,14 L 115,33 103,33 103,12\" fill=\"black\"/><path d=\"M 115,14 L 118,16 113,19\" fill=\"black\"/><path d=\"M 103,33 L 105.4,36.6 109,39 112.6,36.6 115,33\" fill=\"black\"/><path d=\"M 115,33 L 115,34.2 115.1,35.1 115.2,35.7 115.4,36.1 115.5,36.4 115.7,36.6 116.1,36.9 116.7,37.1 117.7,37.3 119,37.5 119,48.5 116.4,48.4 114,48 111.6,47.2 109.4,46.1 107.4,44.5 105.7,42.6 104.5,40.4 103.6,38 103.1,35.5 103,33\" fill=\"black\"/><path d=\"M 119,37.5 L 122.8,39.1 124.5,43 122.8,46.8 119,48.5\" fill=\"black\"/><path d=\"M 119,37.5 L 172,37.5 172,48.5 119,48.5\" fill=\"black\"/><path d=\"M 172,37.5 L 175.3,39.7 177.5,43 175.3,46.3 172,48.5\" fill=\"black\"/><path d=\"M 172,37.5 L 174,16.5 172,16.5 166.5,37.5\" fill=\"black\"/><path d=\"M 112.6,78.9 L 109.9,82.2 106.8,85.2 103.1,88.2 99,91 94.4,93.7 89.3,96.4 83.6,98.9 77.4,101.4 70.7,103.7 63.3,105.8 62.6,104.1 69.1,100.2 75.1,96.6 80.5,93.1 85.4,89.8 89.7,86.6 93.5,83.5 96.6,80.6 99.1,77.7 101,75.1 102.3,72.7\" fill=\"black\"/><path d=\"M 101.8,73.6 L 112.6,78.9 102.8,71.8\" fill=\"black\"/><path d=\"M 112.6,78.9 L 114.1,82.2 108.3,82.2\" fill=\"black\"/><path d=\"M 137.3,73.6 L 141.2,75 145.2,76.4 149.1,78.2 152.9,80.1 156.6,82.3 160.3,84.6 163.9,87.2 167.4,89.8 170.9,92.7 174.3,95.6 165.5,103.9 162.9,100.7 160.2,97.6 157.4,94.5 154.6,91.6 151.7,88.7 148.7,86 145.7,83.2 142.7,80.5 139.6,77.8 136.4,75.2\" fill=\"black\"/><path d=\"M 174.3,95.6 L 175.8,99.9 174,104.1 169.7,105.7 165.5,103.9\" fill=\"black\"/><path d=\"M 113.2,49.6 L 115.4,50.6 117.7,51 119.9,51.5 121.8,52 123.6,52.5 125.2,53.1 126.8,53.7 128.2,54.4 129.6,55.3 131,56.6 120.2,61.9 120.7,61.9 120.9,61.3 120.7,60.5 120.3,59.4 119.6,58.3 118.6,57 117.5,55.6 116.1,54 114.5,52.4 112.4,51.2\" fill=\"black\"/><path d=\"M 131,56.6 L 131.2,61.1 128.3,64.6 123.7,64.9 120.2,61.9\" fill=\"black\"/><path d=\"M 64,65 L 183,65 183,69 64,69\" fill=\"black\"/><path d=\"M 183,65 L 163,67 173,56\" fill=\"black\"/><path d=\"M 49,136 L 148,136 148,140 49,140\" fill=\"black\"/><path d=\"M 148,136 L 128,138 138,127\" fill=\"black\"/><path d=\"M 53,153 L 142,153 142,157 53,157\" fill=\"black\"/><path d=\"M 142,153 L 122,155 132,144\" fill=\"black\"/><path d=\"M 36,171 L 152,171 152,175 36,175\" fill=\"black\"/><path d=\"M 152,171 L 128,173 140,161\" fill=\"black\"/><path d=\"M 69.5,112 L 65.9,116.8 61.8,121.4 57.4,125.9 52.4,130.3 47.1,134.6 41.3,138.8 35,142.8 28.3,146.7 21.1,150.3 13.4,153.7 12.5,152.2 19.1,147.1 25.4,142.2 31.2,137.5 36.6,132.8 41.6,128.2 46,123.6 50.1,119.1 53.6,114.5 56.7,110.1 59.3,105.6\" fill=\"black\"/><path d=\"M 58.8,106.5 L 69.5,112 59.9,104.8\" fill=\"black\"/><path d=\"M 69.5,112 L 71,115.3 65.2,115.2\" fill=\"black\"/><path d=\"M 52,120 L 176,120 176,124 52,124\" fill=\"black\"/><path d=\"M 181.9,121.8 L 182,132 181.6,141.4 180.9,150 179.7,157.8 178.2,164.8 176.2,171.1 173.7,176.6 170.7,181.4 167,185.4 162.6,188.5 156.9,177.9 159,176.4 161.1,174.2 163.1,171 165,166.9 166.6,161.7 167.9,155.6 169,148.6 169.6,140.7 170,131.8 170,122.1\" fill=\"black\"/><path d=\"M 170,120 L 176,115 187,124 182,127 170,132\" fill=\"black\"/><path d=\"M 162.6,188.5 L 160.6,189.5 158.5,190.4 156.4,191.3 154.3,192 152.1,192.6 149.9,193.1 147.7,193.5 145.5,193.7 143.2,193.9 141,194 141,182 142.7,181.9 144.3,181.8 146,181.6 147.6,181.3 149.2,180.9 150.8,180.5 152.3,180 153.9,179.4 155.4,178.7 156.9,177.9\" fill=\"black\"/><path d=\"M 141,188 L 141,182 121,182 121,185\" fill=\"black\"/></svg>"
      ],
      "text/plain": [
       "<IPython.core.display.SVG object>"
      ]
     },
     "metadata": {},
     "output_type": "display_data"
    }
   ],
   "source": [
    "test.char.draw()"
   ]
  },
  {
   "cell_type": "code",
   "execution_count": 16,
   "metadata": {},
   "outputs": [
    {
     "data": {
      "text/plain": [
       "'⿹勹三'"
      ]
     },
     "execution_count": 16,
     "metadata": {},
     "output_type": "execute_result"
    }
   ],
   "source": [
    "test.special_finger.char * test.xian_finger_phrase.char"
   ]
  },
  {
   "cell_type": "code",
   "execution_count": 11,
   "metadata": {},
   "outputs": [
    {
     "ename": "ValueError",
     "evalue": "Invalid IDS ⿱⿰大⿱七六⿱⿹勹三",
     "output_type": "error",
     "traceback": [
      "\u001b[0;31m---------------------------------------------------------------------------\u001b[0m",
      "\u001b[0;31mValueError\u001b[0m                                Traceback (most recent call last)",
      "Cell \u001b[0;32mIn[11], line 1\u001b[0m\n\u001b[0;32m----> 1\u001b[0m test\u001b[39m.\u001b[39;49mchar\u001b[39m.\u001b[39;49mdraw()\n",
      "File \u001b[0;32m~/workspace/jianzipu/package/jianzipu/ids.py:53\u001b[0m, in \u001b[0;36mIDS.draw\u001b[0;34m(self, by)\u001b[0m\n\u001b[1;32m     48\u001b[0m \u001b[39mdef\u001b[39;00m \u001b[39mdraw\u001b[39m(\u001b[39mself\u001b[39m, by:Literal[\u001b[39m'\u001b[39m\u001b[39mzitool\u001b[39m\u001b[39m'\u001b[39m, \u001b[39m'\u001b[39m\u001b[39mnative\u001b[39m\u001b[39m'\u001b[39m] \u001b[39m=\u001b[39m \u001b[39m'\u001b[39m\u001b[39mzitool\u001b[39m\u001b[39m'\u001b[39m):\n\u001b[1;32m     49\u001b[0m     \u001b[39m\"\"\"draw the IDS\u001b[39;00m\n\u001b[1;32m     50\u001b[0m \u001b[39m    \"\"\"\u001b[39;00m\n\u001b[1;32m     51\u001b[0m     \u001b[39mmatch\u001b[39;00m by:\n\u001b[1;32m     52\u001b[0m       \u001b[39mcase\u001b[39;00m \u001b[39m'\u001b[39m\u001b[39mzitool\u001b[39m\u001b[39m'\u001b[39m:\n\u001b[0;32m---> 53\u001b[0m           \u001b[39mself\u001b[39;49m\u001b[39m.\u001b[39;49m_draw_by_zitool()\n\u001b[1;32m     54\u001b[0m       \u001b[39mcase\u001b[39;00m \u001b[39m'\u001b[39m\u001b[39mnative\u001b[39m\u001b[39m'\u001b[39m:\n\u001b[1;32m     55\u001b[0m           \u001b[39mself\u001b[39m\u001b[39m.\u001b[39m_draw_by_native()\n\u001b[1;32m     56\u001b[0m       \u001b[39mcase\u001b[39;00m \u001b[39m_\u001b[39;00m:\n\u001b[1;32m     57\u001b[0m           \u001b[39mraise\u001b[39;00m \u001b[39mValueError\u001b[39;00m(\u001b[39mf\u001b[39m\u001b[39m'\u001b[39m\u001b[39mUnsupported by=\u001b[39m\u001b[39m{\u001b[39;00mby\u001b[39m}\u001b[39;00m\u001b[39m'\u001b[39m)\n",
      "File \u001b[0;32m~/workspace/jianzipu/package/jianzipu/ids.py:69\u001b[0m, in \u001b[0;36mIDS._draw_by_zitool\u001b[0;34m(self, api)\u001b[0m\n\u001b[1;32m     67\u001b[0m     json \u001b[39m=\u001b[39m response_json\u001b[39m.\u001b[39mjson()\n\u001b[1;32m     68\u001b[0m     \u001b[39mif\u001b[39;00m json[\u001b[39mself\u001b[39m] \u001b[39mis\u001b[39;00m \u001b[39mNone\u001b[39;00m:\n\u001b[0;32m---> 69\u001b[0m         \u001b[39mraise\u001b[39;00m \u001b[39mValueError\u001b[39;00m(\u001b[39mf\u001b[39m\u001b[39m'\u001b[39m\u001b[39mInvalid IDS \u001b[39m\u001b[39m{\u001b[39;00m\u001b[39mself\u001b[39m\u001b[39m}\u001b[39;00m\u001b[39m'\u001b[39m)\n\u001b[1;32m     70\u001b[0m response_svg \u001b[39m=\u001b[39m requests\u001b[39m.\u001b[39mget(api_svg\u001b[39m.\u001b[39mformat(\u001b[39mself\u001b[39m))\n\u001b[1;32m     71\u001b[0m \u001b[39mif\u001b[39;00m response_svg\u001b[39m.\u001b[39mstatus_code \u001b[39m==\u001b[39m \u001b[39m200\u001b[39m:\n",
      "\u001b[0;31mValueError\u001b[0m: Invalid IDS ⿱⿰大⿱七六⿱⿹勹三"
     ]
    }
   ],
   "source": [
    "test.char.draw()"
   ]
  },
  {
   "cell_type": "code",
   "execution_count": null,
   "metadata": {},
   "outputs": [],
   "source": [
    "test"
   ]
  },
  {
   "cell_type": "code",
   "execution_count": null,
   "metadata": {},
   "outputs": [],
   "source": [
    "print(test.hui_finger_phrase)"
   ]
  },
  {
   "cell_type": "code",
   "execution_count": null,
   "metadata": {},
   "outputs": [],
   "source": [
    "from dataclasses import dataclass\n",
    "@dataclass\n",
    "class A:\n",
    "    id: str = ''\n",
    "a = A(None)"
   ]
  },
  {
   "cell_type": "code",
   "execution_count": null,
   "metadata": {},
   "outputs": [],
   "source": [
    "a.id"
   ]
  },
  {
   "cell_type": "code",
   "execution_count": null,
   "metadata": {},
   "outputs": [],
   "source": [
    "from jianzipu.grammar import Note\n",
    "\n",
    "\n",
    "Note()"
   ]
  },
  {
   "cell_type": "code",
   "execution_count": null,
   "metadata": {},
   "outputs": [],
   "source": [
    "from jianzipu.constant import JIANZI\n",
    "from jianzipu.ids import IDS\n",
    "d = {k: IDS(v) for k, v in JIANZI.items()}"
   ]
  },
  {
   "cell_type": "code",
   "execution_count": null,
   "metadata": {},
   "outputs": [],
   "source": [
    "d['勾'] + d['三'] * d['一']"
   ]
  },
  {
   "cell_type": "code",
   "execution_count": null,
   "metadata": {},
   "outputs": [],
   "source": [
    "str(a)"
   ]
  },
  {
   "cell_type": "code",
   "execution_count": null,
   "metadata": {},
   "outputs": [],
   "source": [
    "type(a)"
   ]
  },
  {
   "cell_type": "code",
   "execution_count": null,
   "metadata": {},
   "outputs": [],
   "source": [
    "e = IDS('')"
   ]
  },
  {
   "cell_type": "code",
   "execution_count": null,
   "metadata": {},
   "outputs": [],
   "source": [
    "isinstance(e, IDS)"
   ]
  },
  {
   "cell_type": "code",
   "execution_count": null,
   "metadata": {},
   "outputs": [],
   "source": [
    "a + e"
   ]
  },
  {
   "cell_type": "code",
   "execution_count": null,
   "metadata": {},
   "outputs": [],
   "source": [
    "a * e"
   ]
  },
  {
   "cell_type": "code",
   "execution_count": null,
   "metadata": {},
   "outputs": [],
   "source": [
    "a"
   ]
  },
  {
   "cell_type": "code",
   "execution_count": null,
   "metadata": {},
   "outputs": [],
   "source": [
    "type('')"
   ]
  },
  {
   "cell_type": "code",
   "execution_count": null,
   "metadata": {},
   "outputs": [],
   "source": [
    "a + IDS('')"
   ]
  },
  {
   "cell_type": "code",
   "execution_count": null,
   "metadata": {},
   "outputs": [],
   "source": [
    "isinstance('', str)"
   ]
  },
  {
   "cell_type": "code",
   "execution_count": null,
   "metadata": {},
   "outputs": [],
   "source": [
    "import requests\n",
    "api_json = \"https://zi.tools/api/ids/lookupids/{}?replace_token\"\n",
    "api_svg = \"http://zu.zi.tools/{}.svg\"\n",
    "# api.format into stringify\n",
    "response = requests.get(api_json.format(a*e))"
   ]
  },
  {
   "cell_type": "code",
   "execution_count": null,
   "metadata": {},
   "outputs": [],
   "source": [
    "pp.pprint(response.json()[a*e])"
   ]
  },
  {
   "cell_type": "code",
   "execution_count": null,
   "metadata": {},
   "outputs": [],
   "source": [
    "response.url"
   ]
  },
  {
   "cell_type": "code",
   "execution_count": null,
   "metadata": {},
   "outputs": [],
   "source": [
    "from IPython.display import display, SVG \n",
    "display(SVG(response.content))"
   ]
  },
  {
   "cell_type": "code",
   "execution_count": null,
   "metadata": {},
   "outputs": [],
   "source": [
    "from IPython import get_ipython\n",
    "\n",
    "get_ipython()"
   ]
  },
  {
   "cell_type": "code",
   "execution_count": null,
   "metadata": {},
   "outputs": [],
   "source": [
    "from functools import reduce\n",
    "import operator\n",
    "\n",
    "\n",
    "a = reduce(operator.add, (d['一'], d['二'], d['三']))"
   ]
  },
  {
   "cell_type": "code",
   "execution_count": null,
   "metadata": {},
   "outputs": [],
   "source": [
    "type(a)"
   ]
  },
  {
   "cell_type": "code",
   "execution_count": 1,
   "metadata": {},
   "outputs": [],
   "source": [
    "import pypinyin\n",
    "from pypinyin import pinyin, lazy_pinyin"
   ]
  },
  {
   "cell_type": "code",
   "execution_count": 2,
   "metadata": {},
   "outputs": [],
   "source": [
    "import yaml\n",
    "with open('./jianzipu/kage.yaml', 'r', encoding='utf-8') as f:\n",
    "    kage = yaml.safe_load(f)"
   ]
  },
  {
   "cell_type": "code",
   "execution_count": 4,
   "metadata": {},
   "outputs": [],
   "source": [
    "l = []\n",
    "for d in kage.values():\n",
    "  for i in d.keys():\n",
    "    l.append(i)"
   ]
  },
  {
   "cell_type": "code",
   "execution_count": 18,
   "metadata": {},
   "outputs": [
    {
     "name": "stdout",
     "output_type": "stream",
     "text": [
      "散音\n",
      "大指\n",
      "食指\n",
      "中指\n",
      "名指\n",
      "跪指\n",
      "勾剔\n",
      "半轮\n",
      "长琐\n",
      "如一\n",
      "如一声\n",
      "滚拂\n",
      "全扶\n",
      "剌伏\n",
      "打圆\n",
      "掐起\n",
      "对起\n",
      "对过\n",
      "对按\n",
      "抓起\n",
      "带起\n",
      "虚掩\n",
      "推出\n",
      "不动\n",
      "进复\n",
      "退复\n",
      "往来\n",
      "分开\n",
      "同声\n",
      "应合\n",
      "放合\n",
      "掐撮三声\n",
      "掐撮\n",
      "双弹\n",
      "拨剌\n",
      "齐撮\n",
      "少息\n",
      "大息\n",
      "入拍\n",
      "入慢\n",
      "句号\n",
      "再作\n",
      "从头再作\n",
      "曲终\n",
      "操终\n",
      "泛起\n",
      "泛止\n",
      "十一\n",
      "十二\n",
      "十三\n",
      "按音\n",
      "泛音\n"
     ]
    }
   ],
   "source": [
    "for i in l:\n",
    "  if len(i) > 1:\n",
    "    print(i)"
   ]
  },
  {
   "cell_type": "code",
   "execution_count": 22,
   "metadata": {},
   "outputs": [],
   "source": [
    "dico = {}\n",
    "for w in l:\n",
    "  # for c in w:\n",
    "    dico[w] = lazy_pinyin(w)[0]"
   ]
  },
  {
   "cell_type": "code",
   "execution_count": 24,
   "metadata": {},
   "outputs": [
    {
     "name": "stdout",
     "output_type": "stream",
     "text": [
      "散音\tsan\n",
      "大指\tda\n",
      "食指\tshi\n",
      "中指\tzhong\n",
      "名指\tming\n",
      "跪指\tgui\n",
      "擘\tbai\n",
      "托\ttuo\n",
      "抹\tmo\n",
      "挑\ttiao\n",
      "勾\tgou\n",
      "剔\tti\n",
      "打\tda\n",
      "摘\tzhai\n",
      "勾剔\tgou\n",
      "历\tli\n",
      "蠲\tjuan\n",
      "轮\tlun\n",
      "半轮\tban\n",
      "琐\tsuo\n",
      "长琐\tzhang\n",
      "如一\tru\n",
      "伏\tfu\n",
      "如一声\tru\n",
      "滚\tgun\n",
      "拂\tfu\n",
      "滚拂\tgun\n",
      "全扶\tquan\n",
      "拨\tbo\n",
      "剌\tla\n",
      "剌伏\tla\n",
      "打圆\tda\n",
      "掐起\tqia\n",
      "对起\tdui\n",
      "对过\tdui\n",
      "对按\tdui\n",
      "抓起\tzhua\n",
      "带起\tdai\n",
      "掩\tyan\n",
      "虚掩\txu\n",
      "推出\ttui\n",
      "不动\tbu\n",
      "上\tshang\n",
      "下\txia\n",
      "进\tjin\n",
      "退\ttui\n",
      "复\tfu\n",
      "进复\tjin\n",
      "退复\ttui\n",
      "往来\twang\n",
      "撞\tzhuang\n",
      "逗\tdou\n",
      "唤\thuan\n",
      "吟\tyin\n",
      "猱\tnao\n",
      "注\tzhu\n",
      "绰\tchuo\n",
      "引\tyin\n",
      "淌\ttang\n",
      "急\tji\n",
      "缓\thuan\n",
      "紧\tjin\n",
      "慢\tman\n",
      "分开\tfen\n",
      "同声\ttong\n",
      "应合\tying\n",
      "放合\tfang\n",
      "掐撮三声\tqia\n",
      "撮\tcuo\n",
      "掐撮\tqia\n",
      "双弹\tshuang\n",
      "拨剌\tbo\n",
      "齐撮\tqi\n",
      "少息\tshao\n",
      "大息\tda\n",
      "入拍\tru\n",
      "入慢\tru\n",
      "句号\tju\n",
      "。\t。\n",
      "间\tjian\n",
      "再作\tzai\n",
      "从头再作\tcong\n",
      "曲终\tqu\n",
      "操终\tcao\n",
      "泛起\tfan\n",
      "泛止\tfan\n",
      "一\tyi\n",
      "二\ter\n",
      "三\tsan\n",
      "四\tsi\n",
      "五\twu\n",
      "六\tliu\n",
      "七\tqi\n",
      "八\tba\n",
      "九\tjiu\n",
      "十\tshi\n",
      "十一\tshi\n",
      "十二\tshi\n",
      "十三\tshi\n",
      "半\tban\n",
      "外\twai\n",
      "就\tjiu\n",
      "按音\tan\n",
      "泛音\tfan\n"
     ]
    }
   ],
   "source": [
    "for i in dico.items():\n",
    "  print(f'{i[0]}\\t{i[1]}')"
   ]
  },
  {
   "cell_type": "code",
   "execution_count": 6,
   "metadata": {},
   "outputs": [],
   "source": [
    "l = [\n",
    "      '大一六勾三',\n",
    "      '大二剔四',\n",
    "      '跪三七抹五',\n",
    "      '跪四挑六',\n",
    "      '名五八注托七',\n",
    "      '名六注擘一',\n",
    "      '中七打二',\n",
    "      '中八九摘三',\n",
    "      '食十绰打四',\n",
    "      '食外绰打五',\n",
    "      '中外摘六',\n",
    "      '中外历二三',\n",
    "      '散历二三',\n",
    "      '大七六掩',\n",
    "      '名七六搯起',\n",
    "      '名十二搯起',\n",
    "      '名十二三搯起',\n",
    "      '名十三搯起',\n",
    "      '名十三抹挑三',\n",
    "      '名十三勾剔三',\n",
    "      '撮大七七三散四',\n",
    "      '撮大七七注三散四'\n",
    "]"
   ]
  },
  {
   "cell_type": "code",
   "execution_count": 11,
   "metadata": {},
   "outputs": [
    {
     "data": {
      "text/plain": [
       "FingerPhrase(finger=Finger(id=''), number=[Number(id='三')])"
      ]
     },
     "execution_count": 11,
     "metadata": {},
     "output_type": "execute_result"
    }
   ],
   "source": [
    "test.left_sub_phrase.xian_finger_phrase"
   ]
  },
  {
   "cell_type": "code",
   "execution_count": 9,
   "metadata": {},
   "outputs": [
    {
     "name": "stdout",
     "output_type": "stream",
     "text": [
      "SimpleForm(hui_finger_phrase=FingerPhrase(finger=Finger(id='大'),\n",
      "                                          number=[Number(id='一'),Number(id='六')]),\n",
      "           xian_finger_phrase=FingerPhrase(finger=Finger(id='勾'),\n",
      "                                           number=[Number(id='三')]),\n",
      "           special_finger=Finger(id=None))\n",
      "SimpleForm(hui_finger_phrase=FingerPhrase(finger=Finger(id='大'),\n",
      "                                          number=[Number(id='二')]),\n",
      "           xian_finger_phrase=FingerPhrase(finger=Finger(id='剔'),\n",
      "                                           number=[Number(id='四')]),\n",
      "           special_finger=Finger(id=None))\n",
      "SimpleForm(hui_finger_phrase=FingerPhrase(finger=Finger(id='跪'),\n",
      "                                          number=[Number(id='三'),Number(id='七')]),\n",
      "           xian_finger_phrase=FingerPhrase(finger=Finger(id='抹'),\n",
      "                                           number=[Number(id='五')]),\n",
      "           special_finger=Finger(id=None))\n",
      "SimpleForm(hui_finger_phrase=FingerPhrase(finger=Finger(id='跪'),\n",
      "                                          number=[Number(id='四')]),\n",
      "           xian_finger_phrase=FingerPhrase(finger=Finger(id='挑'),\n",
      "                                           number=[Number(id='六')]),\n",
      "           special_finger=Finger(id=None))\n",
      "SimpleForm(hui_finger_phrase=FingerPhrase(finger=Finger(id='名'),\n",
      "                                          number=[Number(id='五'),Number(id='八')]),\n",
      "           xian_finger_phrase=FingerPhrase(finger=Finger(id='托'),\n",
      "                                           number=[Number(id='七')]),\n",
      "           special_finger=Finger(id='注'))\n",
      "SimpleForm(hui_finger_phrase=FingerPhrase(finger=Finger(id='名'),\n",
      "                                          number=[Number(id='六')]),\n",
      "           xian_finger_phrase=FingerPhrase(finger=Finger(id='擘'),\n",
      "                                           number=[Number(id='一')]),\n",
      "           special_finger=Finger(id='注'))\n",
      "SimpleForm(hui_finger_phrase=FingerPhrase(finger=Finger(id='中'),\n",
      "                                          number=[Number(id='七')]),\n",
      "           xian_finger_phrase=FingerPhrase(finger=Finger(id='打'),\n",
      "                                           number=[Number(id='二')]),\n",
      "           special_finger=Finger(id=None))\n",
      "SimpleForm(hui_finger_phrase=FingerPhrase(finger=Finger(id='中'),\n",
      "                                          number=[Number(id='八'),Number(id='九')]),\n",
      "           xian_finger_phrase=FingerPhrase(finger=Finger(id='摘'),\n",
      "                                           number=[Number(id='三')]),\n",
      "           special_finger=Finger(id=None))\n",
      "SimpleForm(hui_finger_phrase=FingerPhrase(finger=Finger(id='食'),\n",
      "                                          number=[Number(id='十')]),\n",
      "           xian_finger_phrase=FingerPhrase(finger=Finger(id='打'),\n",
      "                                           number=[Number(id='四')]),\n",
      "           special_finger=Finger(id='绰'))\n",
      "SimpleForm(hui_finger_phrase=FingerPhrase(finger=Finger(id='食'),\n",
      "                                          number=[Number(id='外')]),\n",
      "           xian_finger_phrase=FingerPhrase(finger=Finger(id='打'),\n",
      "                                           number=[Number(id='五')]),\n",
      "           special_finger=Finger(id='绰'))\n",
      "SimpleForm(hui_finger_phrase=FingerPhrase(finger=Finger(id='中'),\n",
      "                                          number=[Number(id='外')]),\n",
      "           xian_finger_phrase=FingerPhrase(finger=Finger(id='摘'),\n",
      "                                           number=[Number(id='六')]),\n",
      "           special_finger=Finger(id=None))\n",
      "SimpleForm(hui_finger_phrase=FingerPhrase(finger=Finger(id='中'),\n",
      "                                          number=[Number(id='外')]),\n",
      "           xian_finger_phrase=FingerPhrase(finger=Finger(id='历'),\n",
      "                                           number=[Number(id='二'),Number(id='三')]),\n",
      "           special_finger=Finger(id=None))\n",
      "SimpleForm(hui_finger_phrase=FingerPhrase(finger=Finger(id='散'), number=Null),\n",
      "           xian_finger_phrase=FingerPhrase(finger=Finger(id='历'),\n",
      "                                           number=[Number(id='二'),Number(id='三')]),\n",
      "           special_finger=Finger(id=None))\n",
      "SimpleForm(hui_finger_phrase=FingerPhrase(finger=Finger(id='大'),\n",
      "                                          number=[Number(id='七'),Number(id='六')]),\n",
      "           xian_finger_phrase=FingerPhrase(finger=Finger(id='掩'), number=Null),\n",
      "           special_finger=Finger(id=None))\n",
      "SimpleForm(hui_finger_phrase=FingerPhrase(finger=Finger(id='名'),\n",
      "                                          number=[Number(id='七'),Number(id='六')]),\n",
      "           xian_finger_phrase=FingerPhrase(finger=Finger(id='搯起'), number=Null),\n",
      "           special_finger=Finger(id=None))\n",
      "SimpleForm(hui_finger_phrase=FingerPhrase(finger=Finger(id='名'),\n",
      "                                          number=[Number(id='十二')]),\n",
      "           xian_finger_phrase=FingerPhrase(finger=Finger(id='搯起'), number=Null),\n",
      "           special_finger=Finger(id=None))\n",
      "SimpleForm(hui_finger_phrase=FingerPhrase(finger=Finger(id='名'),\n",
      "                                          number=[Number(id='十二'),Number(id='三')]),\n",
      "           xian_finger_phrase=FingerPhrase(finger=Finger(id='搯起'), number=Null),\n",
      "           special_finger=Finger(id=None))\n",
      "SimpleForm(hui_finger_phrase=FingerPhrase(finger=Finger(id='名'),\n",
      "                                          number=[Number(id='十三')]),\n",
      "           xian_finger_phrase=FingerPhrase(finger=Finger(id='搯起'), number=Null),\n",
      "           special_finger=Finger(id=None))\n",
      "SimpleForm(hui_finger_phrase=FingerPhrase(finger=Finger(id='名'),\n",
      "                                          number=[Number(id='十三')]),\n",
      "           xian_finger_phrase=FingerPhrase(finger=Finger(id='抹挑'),\n",
      "                                           number=[Number(id='三')]),\n",
      "           special_finger=Finger(id=None))\n",
      "SimpleForm(hui_finger_phrase=FingerPhrase(finger=Finger(id='名'),\n",
      "                                          number=[Number(id='十三')]),\n",
      "           xian_finger_phrase=FingerPhrase(finger=Finger(id='勾剔'),\n",
      "                                           number=[Number(id='三')]),\n",
      "           special_finger=Finger(id=None))\n",
      "ComplexForm(complex_finger=Finger(id='撮'),\n",
      "            left_sub_phrase=SimpleForm(hui_finger_phrase=FingerPhrase(finger=Finger(id='大'),\n",
      "                                                                      number=[Number(id='七'),Number(id='七')]),\n",
      "                                       xian_finger_phrase=FingerPhrase(finger=Null,\n",
      "                                                                       number=[Number(id='三')]),\n",
      "                                       special_finger=Finger(id=None)),\n",
      "            right_sub_phrase=SimpleForm(hui_finger_phrase=FingerPhrase(finger=Finger(id='散'),\n",
      "                                                                       number=Null),\n",
      "                                        xian_finger_phrase=FingerPhrase(finger=Null,\n",
      "                                                                        number=[Number(id='四')]),\n",
      "                                        special_finger=Finger(id=None)))\n",
      "ComplexForm(complex_finger=Finger(id='撮'),\n",
      "            left_sub_phrase=SimpleForm(hui_finger_phrase=FingerPhrase(finger=Finger(id='大'),\n",
      "                                                                      number=[Number(id='七'),Number(id='七')]),\n",
      "                                       xian_finger_phrase=FingerPhrase(finger=Null,\n",
      "                                                                       number=[Number(id='三')]),\n",
      "                                       special_finger=Finger(id='注')),\n",
      "            right_sub_phrase=SimpleForm(hui_finger_phrase=FingerPhrase(finger=Finger(id='散'),\n",
      "                                                                       number=Null),\n",
      "                                        xian_finger_phrase=FingerPhrase(finger=Null,\n",
      "                                                                        number=[Number(id='四')]),\n",
      "                                        special_finger=Finger(id=None)))\n"
     ]
    }
   ],
   "source": [
    "from jianzipu.parser import parse\n",
    "for i in l:\n",
    "  test = parse(i, form='abbr')\n",
    "  pp.pprint(test)"
   ]
  },
  {
   "cell_type": "code",
   "execution_count": 10,
   "metadata": {},
   "outputs": [
    {
     "data": {
      "text/plain": [
       "ComplexForm(complex_finger=Finger(id='撮'), left_sub_phrase=SimpleForm(hui_finger_phrase=FingerPhrase(finger=Finger(id='大'), number=[Number(id='七'),Number(id='七')]), xian_finger_phrase=FingerPhrase(finger=Null, number=[Number(id='三')]), special_finger=Finger(id='注')), right_sub_phrase=SimpleForm(hui_finger_phrase=FingerPhrase(finger=Finger(id='散'), number=Null), xian_finger_phrase=FingerPhrase(finger=Null, number=[Number(id='四')]), special_finger=Finger(id=None)))"
      ]
     },
     "execution_count": 10,
     "metadata": {},
     "output_type": "execute_result"
    }
   ],
   "source": []
  },
  {
   "cell_type": "code",
   "execution_count": 59,
   "metadata": {},
   "outputs": [],
   "source": [
    "test = parse(i, form='abbr')"
   ]
  },
  {
   "cell_type": "code",
   "execution_count": 63,
   "metadata": {},
   "outputs": [
    {
     "data": {
      "text/plain": [
       "FingerPhrase(finger=Finger(id='搯起'), number=Null)"
      ]
     },
     "execution_count": 63,
     "metadata": {},
     "output_type": "execute_result"
    }
   ],
   "source": [
    "test.xian_finger_phrase"
   ]
  },
  {
   "cell_type": "code",
   "execution_count": 34,
   "metadata": {},
   "outputs": [
    {
     "data": {
      "text/plain": [
       "SimpleForm(hui_finger_phrase=FingerPhrase(finger=Finger(id='散'), number=[]), xian_finger_phrase=FingerPhrase(finger=Finger(id='历'), number=[Number(id='二'),Number(id='三')]), special_finger=Finger(id=None))"
      ]
     },
     "execution_count": 34,
     "metadata": {},
     "output_type": "execute_result"
    }
   ],
   "source": [
    "parse('散历二三', form='abbr')"
   ]
  },
  {
   "cell_type": "code",
   "execution_count": 26,
   "metadata": {},
   "outputs": [
    {
     "name": "stdout",
     "output_type": "stream",
     "text": [
      "{'complex_form': {'complex_finger': '撮',\n",
      "                  'left_sub_phrase': {'hui_finger_phrase': {'finger': '大',\n",
      "                                                            'number': ['七',\n",
      "                                                                       '七']},\n",
      "                                      'xian_finger_phrase': {'number': ['三']}},\n",
      "                  'right_sub_phrase': {'hui_finger_phrase': {'finger': '散',\n",
      "                                                             'number': []},\n",
      "                                       'xian_finger_phrase': {'number': ['四']}}}}\n"
     ]
    },
    {
     "data": {
      "text/plain": [
       "ComplexForm(complex_finger=Finger(id='撮'), left_sub_phrase=SimpleForm(hui_finger_phrase=FingerPhrase(finger=Finger(id='大'), number=[Number(id='七'),Number(id='七')]), xian_finger_phrase=FingerPhrase(finger=Finger(id=''), number=[Number(id='三')]), special_finger=Finger(id=None)), right_sub_phrase=SimpleForm(hui_finger_phrase=FingerPhrase(finger=Finger(id='散'), number=[]), xian_finger_phrase=FingerPhrase(finger=Finger(id=''), number=[Number(id='四')]), special_finger=Finger(id=None)))"
      ]
     },
     "execution_count": 26,
     "metadata": {},
     "output_type": "execute_result"
    }
   ],
   "source": [
    "parse('撮大七七三散四', form='abbr')"
   ]
  },
  {
   "cell_type": "code",
   "execution_count": 31,
   "metadata": {},
   "outputs": [
    {
     "data": {
      "text/plain": [
       "'撮大七三散四'"
      ]
     },
     "execution_count": 31,
     "metadata": {},
     "output_type": "execute_result"
    }
   ],
   "source": [
    "str(parse('撮大七三散四', form='abbr'))"
   ]
  },
  {
   "cell_type": "code",
   "execution_count": 19,
   "metadata": {},
   "outputs": [
    {
     "name": "stdout",
     "output_type": "stream",
     "text": [
      "散历二三\n"
     ]
    }
   ],
   "source": [
    "print(i)"
   ]
  },
  {
   "cell_type": "code",
   "execution_count": 12,
   "metadata": {},
   "outputs": [],
   "source": [
    "test = parse('大七七勾三', form='abbr')"
   ]
  },
  {
   "cell_type": "code",
   "execution_count": 13,
   "metadata": {},
   "outputs": [
    {
     "data": {
      "text/plain": [
       "[Number(id='七'),Number(id='七')]"
      ]
     },
     "execution_count": 13,
     "metadata": {},
     "output_type": "execute_result"
    }
   ],
   "source": [
    "test.hui_finger_phrase.number"
   ]
  },
  {
   "cell_type": "code",
   "execution_count": 15,
   "metadata": {},
   "outputs": [
    {
     "name": "stdout",
     "output_type": "stream",
     "text": [
      "{'complex_form': {'complex_finger': '撮',\n",
      "                  'left_sub_phrase': {'hui_finger_phrase': {'finger': '大指',\n",
      "                                                            'number': ['七徽',\n",
      "                                                                       '七分']},\n",
      "                                      'xian_finger_phrase': {'number': ['三弦']}},\n",
      "                  'right_sub_phrase': {'hui_finger_phrase': {'finger': '散音',\n",
      "                                                             'number': []},\n",
      "                                       'xian_finger_phrase': {'number': ['四弦']}}}}\n"
     ]
    },
    {
     "data": {
      "text/plain": [
       "ComplexForm(complex_finger=Finger(id='撮'), left_sub_phrase=SimpleForm(hui_finger_phrase=FingerPhrase(finger=Finger(id='大指'), number=[Number(id='七徽'),Number(id='七分')]), xian_finger_phrase=FingerPhrase(finger=Finger(id=''), number=[Number(id='三弦')]), special_finger=Finger(id=None)), right_sub_phrase=SimpleForm(hui_finger_phrase=FingerPhrase(finger=Finger(id='散音'), number=[]), xian_finger_phrase=FingerPhrase(finger=Finger(id=''), number=[Number(id='四弦')]), special_finger=Finger(id=None)))"
      ]
     },
     "execution_count": 15,
     "metadata": {},
     "output_type": "execute_result"
    }
   ],
   "source": [
    "parse('撮大指七徽七分三弦散音四弦', form='ortho')"
   ]
  },
  {
   "cell_type": "code",
   "execution_count": 14,
   "metadata": {},
   "outputs": [
    {
     "data": {
      "text/plain": [
       "{'complex_finger': Finger(id='撮'),\n",
       " 'left_sub_phrase': SimpleForm(hui_finger_phrase=FingerPhrase(finger=Finger(id='大'), number=[Number(id='七'),Number(id='七')]), xian_finger_phrase=FingerPhrase(finger=Finger(id=''), number=[Number(id='三')]), special_finger=Finger(id='注')),\n",
       " 'right_sub_phrase': SimpleForm(hui_finger_phrase=FingerPhrase(finger=Finger(id='散'), number=[Number(id='四')]), xian_finger_phrase=FingerPhrase(finger=Finger(id=''), number=[]), special_finger=Finger(id=None))}"
      ]
     },
     "execution_count": 14,
     "metadata": {},
     "output_type": "execute_result"
    }
   ],
   "source": [
    "test.__dict__"
   ]
  },
  {
   "cell_type": "code",
   "execution_count": 15,
   "metadata": {},
   "outputs": [
    {
     "data": {
      "text/plain": [
       "['大', '食', '中', '名', '跪', '散', '外']"
      ]
     },
     "execution_count": 15,
     "metadata": {},
     "output_type": "execute_result"
    }
   ],
   "source": [
    "d = {\n",
    "    '大': '大指',\n",
    "    '食': '食指',\n",
    "    '中': '中指',\n",
    "    '名': '名指',\n",
    "    '跪': '跪指',\n",
    "    '散': '散音',\n",
    "    '外': '徽外',\n",
    "  }\n",
    "list(d.keys())"
   ]
  },
  {
   "cell_type": "code",
   "execution_count": 1,
   "metadata": {},
   "outputs": [
    {
     "ename": "FileNotFoundError",
     "evalue": "[Errno 2] No such file or directory: '../../曲谱/酒狂.txt'",
     "output_type": "error",
     "traceback": [
      "\u001b[0;31m---------------------------------------------------------------------------\u001b[0m",
      "\u001b[0;31mFileNotFoundError\u001b[0m                         Traceback (most recent call last)",
      "Cell \u001b[0;32mIn[1], line 1\u001b[0m\n\u001b[0;32m----> 1\u001b[0m \u001b[39mwith\u001b[39;00m \u001b[39mopen\u001b[39;49m(\u001b[39m'\u001b[39;49m\u001b[39m../../曲谱/酒狂.txt\u001b[39;49m\u001b[39m'\u001b[39;49m, \u001b[39m'\u001b[39;49m\u001b[39mr\u001b[39;49m\u001b[39m'\u001b[39;49m, encoding\u001b[39m=\u001b[39;49m\u001b[39m'\u001b[39;49m\u001b[39mutf-8\u001b[39;49m\u001b[39m'\u001b[39;49m) \u001b[39mas\u001b[39;00m f:\n\u001b[1;32m      2\u001b[0m     paragraph \u001b[39m=\u001b[39m f\u001b[39m.\u001b[39mreadlines()\n",
      "File \u001b[0;32m~/micromamba/envs/jianzipu/lib/python3.11/site-packages/IPython/core/interactiveshell.py:284\u001b[0m, in \u001b[0;36m_modified_open\u001b[0;34m(file, *args, **kwargs)\u001b[0m\n\u001b[1;32m    277\u001b[0m \u001b[39mif\u001b[39;00m file \u001b[39min\u001b[39;00m {\u001b[39m0\u001b[39m, \u001b[39m1\u001b[39m, \u001b[39m2\u001b[39m}:\n\u001b[1;32m    278\u001b[0m     \u001b[39mraise\u001b[39;00m \u001b[39mValueError\u001b[39;00m(\n\u001b[1;32m    279\u001b[0m         \u001b[39mf\u001b[39m\u001b[39m\"\u001b[39m\u001b[39mIPython won\u001b[39m\u001b[39m'\u001b[39m\u001b[39mt let you open fd=\u001b[39m\u001b[39m{\u001b[39;00mfile\u001b[39m}\u001b[39;00m\u001b[39m by default \u001b[39m\u001b[39m\"\u001b[39m\n\u001b[1;32m    280\u001b[0m         \u001b[39m\"\u001b[39m\u001b[39mas it is likely to crash IPython. If you know what you are doing, \u001b[39m\u001b[39m\"\u001b[39m\n\u001b[1;32m    281\u001b[0m         \u001b[39m\"\u001b[39m\u001b[39myou can use builtins\u001b[39m\u001b[39m'\u001b[39m\u001b[39m open.\u001b[39m\u001b[39m\"\u001b[39m\n\u001b[1;32m    282\u001b[0m     )\n\u001b[0;32m--> 284\u001b[0m \u001b[39mreturn\u001b[39;00m io_open(file, \u001b[39m*\u001b[39;49margs, \u001b[39m*\u001b[39;49m\u001b[39m*\u001b[39;49mkwargs)\n",
      "\u001b[0;31mFileNotFoundError\u001b[0m: [Errno 2] No such file or directory: '../../曲谱/酒狂.txt'"
     ]
    }
   ],
   "source": [
    "with open('../../曲谱/酒狂.txt', 'r', encoding='utf-8') as f:\n",
    "    paragraph = f.readlines()"
   ]
  },
  {
   "cell_type": "code",
   "execution_count": 5,
   "metadata": {},
   "outputs": [],
   "source": [
    "from jianzipu.paragraph import parse_file\n",
    "from jianzipu.parser import parse"
   ]
  },
  {
   "cell_type": "code",
   "execution_count": 3,
   "metadata": {},
   "outputs": [
    {
     "name": "stdout",
     "output_type": "stream",
     "text": [
      "{'作者': ['姚丙炎 打谱', '润心 记谱'], '描述': '据《神奇秘谱》（1425年）', '曲名': '酒狂', '调性': '正调'}\n",
      "['『一』',\n",
      " '「',\n",
      " '散打三',\n",
      " '大九挑六',\n",
      " '抓起',\n",
      " '散打三',\n",
      " '大七九挑六',\n",
      " '抓起',\n",
      " '散打三',\n",
      " '大七抹六',\n",
      " '撮大七六散三',\n",
      " '散打三',\n",
      " '大七挑六',\n",
      " '抓起',\n",
      " '散打三',\n",
      " '大七九挑六',\n",
      " '抓起',\n",
      " '散打三',\n",
      " '大六四挑六',\n",
      " '抓起',\n",
      " '散打三',\n",
      " '大五六抹六',\n",
      " '撮大五六六散三',\n",
      " '从「再作',\n",
      " '散打三',\n",
      " '大五六挑六',\n",
      " '抓起',\n",
      " '散打三',\n",
      " '大六四挑六',\n",
      " '抓起',\n",
      " '散打三',\n",
      " '大七挑六',\n",
      " '撮大七六散三',\n",
      " '散打三',\n",
      " '大七挑六',\n",
      " '抓起',\n",
      " '散打三',\n",
      " '大七九挑六',\n",
      " '抓起',\n",
      " '散打三',\n",
      " '名十挑六',\n",
      " '撮名十六散三',\n",
      " '「',\n",
      " '名十打摘五',\n",
      " '大九历七六',\n",
      " '名十搯起',\n",
      " '散打三',\n",
      " '名十挑六',\n",
      " '撮名十六散三',\n",
      " '从「再作',\n",
      " '『二』',\n",
      " '散打三',\n",
      " '大九挑六',\n",
      " '上七九',\n",
      " '散打三',\n",
      " '大七九挑六',\n",
      " '上七',\n",
      " '散打三',\n",
      " '大七抹六',\n",
      " '撮大七六散三',\n",
      " '散打三',\n",
      " '大七挑六',\n",
      " '上六四',\n",
      " '散打三',\n",
      " '大六四挑六',\n",
      " '上五六',\n",
      " '散打三',\n",
      " '大五六抹六',\n",
      " '撮大五六六散三',\n",
      " '散打三',\n",
      " '大五六挑六',\n",
      " '抓起',\n",
      " '散打三',\n",
      " '大六四挑六',\n",
      " '抓起',\n",
      " '散打三',\n",
      " '大七挑六',\n",
      " '撮大七六散三',\n",
      " '散打三',\n",
      " '大七挑六',\n",
      " '抓起',\n",
      " '散打三',\n",
      " '大七九挑六',\n",
      " '抓起',\n",
      " '散打三',\n",
      " '名十抹六',\n",
      " '撮名十六散三',\n",
      " '「',\n",
      " '名十打摘五',\n",
      " '大九历七六',\n",
      " '名十搯起',\n",
      " '散打三',\n",
      " '名十抹六',\n",
      " '撮名十六散三',\n",
      " '从「再作',\n",
      " '『三』',\n",
      " '「',\n",
      " '散打五',\n",
      " '大九挑七',\n",
      " '抓起',\n",
      " '散打四',\n",
      " '大九挑六',\n",
      " '抓起',\n",
      " '散打三',\n",
      " '大八半抹五',\n",
      " '撮大八半五散三',\n",
      " '从「再作',\n",
      " '「',\n",
      " '中外打一',\n",
      " '上十',\n",
      " '散挑三',\n",
      " '大九打二',\n",
      " '散挑五',\n",
      " '名外打三',\n",
      " '上十八',\n",
      " '散抹六',\n",
      " '撮大九三散六',\n",
      " '从「再作',\n",
      " '「',\n",
      " '名十打摘五',\n",
      " '大九历七六',\n",
      " '名十搯起',\n",
      " '散打三',\n",
      " '名十挑六',\n",
      " '撮名十六散三',\n",
      " '从「再作',\n",
      " '『四』',\n",
      " '散打三',\n",
      " '大九挑六',\n",
      " '抓起',\n",
      " '散打三',\n",
      " '大七九挑六',\n",
      " '抓起',\n",
      " '散打三',\n",
      " '大七抹六',\n",
      " '撮大七六散三',\n",
      " '散打三',\n",
      " '大七挑六',\n",
      " '抓起',\n",
      " '散打三',\n",
      " '大六四挑六',\n",
      " '抓起',\n",
      " '散打三',\n",
      " '大五六抹六',\n",
      " '撮大五六六散三',\n",
      " '「',\n",
      " '中六四打一',\n",
      " '外上五六',\n",
      " '散打三',\n",
      " '大五打二',\n",
      " '散挑五',\n",
      " '跪六四打三',\n",
      " '外上五九',\n",
      " '散抹六',\n",
      " '撮大五三散六',\n",
      " '从「再作',\n",
      " '「',\n",
      " '跪五六打摘五',\n",
      " '大五历七六',\n",
      " '跪五六搯起',\n",
      " '散打三',\n",
      " '跪五六抹六',\n",
      " '撮跪五六六散三',\n",
      " '从「再作',\n",
      " '「',\n",
      " '散打五',\n",
      " '大五挑七',\n",
      " '抓起',\n",
      " '散打四',\n",
      " '大五挑六',\n",
      " '抓起',\n",
      " '散打三',\n",
      " '大四八抹五',\n",
      " '撮大四八五散三',\n",
      " '从「再作',\n",
      " '「',\n",
      " '中六四打一',\n",
      " '外上五六',\n",
      " '散打三',\n",
      " '大五打二',\n",
      " '散挑五',\n",
      " '跪六四打三',\n",
      " '外上五九',\n",
      " '散抹六',\n",
      " '撮大五三散六',\n",
      " '从「再作',\n",
      " '「',\n",
      " '跪五六打摘五',\n",
      " '大五历七六',\n",
      " '跪五六搯起',\n",
      " '散打三',\n",
      " '跪五六抹六',\n",
      " '撮跪五六六散三',\n",
      " '从「再作',\n",
      " '「',\n",
      " '名十打摘五',\n",
      " '大九历七六',\n",
      " '名十搯起',\n",
      " '散打三',\n",
      " '名十抹六',\n",
      " '撮名十六散三',\n",
      " '从「再作',\n",
      " '「',\n",
      " '散挑七',\n",
      " '大九打四',\n",
      " '散历七六',\n",
      " '大九打三',\n",
      " '名十搯起',\n",
      " '散历五四',\n",
      " '擘六',\n",
      " '中十打一',\n",
      " '散抹三',\n",
      " '撮中十一散三',\n",
      " '从「再作',\n",
      " '散拂一至大九长琐三',\n",
      " '上七九',\n",
      " '上七',\n",
      " '散拂一至大七长琐三',\n",
      " '抓起',\n",
      " '散滚二三',\n",
      " '打二',\n",
      " '历五四',\n",
      " '擘六',\n",
      " '中外打一',\n",
      " '上十',\n",
      " '散抹三',\n",
      " '撮中十一散三',\n",
      " '曲终']\n"
     ]
    }
   ],
   "source": [
    "_, paragraph = parse_file('../../曲谱/酒狂_简写.txt')"
   ]
  },
  {
   "cell_type": "code",
   "execution_count": 9,
   "metadata": {},
   "outputs": [
    {
     "name": "stdout",
     "output_type": "stream",
     "text": [
      "『一』\n",
      "「\n"
     ]
    },
    {
     "data": {
      "image/svg+xml": [
       "<svg baseProfile=\"full\" height=\"200\" version=\"1.1\" width=\"200\" xmlns=\"http://www.w3.org/2000/svg\" xmlns:ev=\"http://www.w3.org/2001/xml-events\" xmlns:xlink=\"http://www.w3.org/1999/xlink\"><defs /><path d=\"M12.0,40.8 L188.0,40.8\" fill=\"none\" stroke=\"black\" stroke-linejoin=\"bevel\" stroke-width=\"12\" /><path d=\"M71.0,16.0 L71.0,64.0\" fill=\"none\" stroke=\"black\" stroke-linejoin=\"bevel\" stroke-width=\"12\" /><path d=\"M129.0,16.0 L129.0,64.0\" fill=\"none\" stroke=\"black\" stroke-linejoin=\"bevel\" stroke-width=\"12\" /><path d=\"M22.0,91.46000000000001 L184.0,91.46000000000001\" fill=\"none\" stroke=\"black\" stroke-linejoin=\"bevel\" stroke-width=\"12\" /><path d=\"M152.0,85.46000000000001 L152.0,177.94 Q152.0,187.94 132.0,182.94\" fill=\"none\" stroke=\"black\" stroke-linejoin=\"bevel\" stroke-width=\"12\" /><path d=\"M32.75,113.6437 L133.25,113.6437\" fill=\"none\" stroke=\"black\" stroke-linejoin=\"bevel\" stroke-width=\"12\" /><path d=\"M44.14,133.3417 L121.86,133.3417\" fill=\"none\" stroke=\"black\" stroke-linejoin=\"bevel\" stroke-width=\"12\" /><path d=\"M25.380000000000006,154.3529 L140.62,154.3529\" fill=\"none\" stroke=\"black\" stroke-linejoin=\"bevel\" stroke-width=\"12\" /></svg>"
      ],
      "text/plain": [
       "<svgwrite.drawing.Drawing at 0x7f248c7b1d90>"
      ]
     },
     "metadata": {},
     "output_type": "display_data"
    },
    {
     "data": {
      "image/svg+xml": [
       "<svg baseProfile=\"full\" height=\"200\" version=\"1.1\" width=\"200\" xmlns=\"http://www.w3.org/2000/svg\" xmlns:ev=\"http://www.w3.org/2001/xml-events\" xmlns:xlink=\"http://www.w3.org/1999/xlink\"><defs /><path d=\"M11.2,28.0 L77.6,28.0\" fill=\"none\" stroke=\"black\" stroke-linejoin=\"bevel\" stroke-width=\"12\" /><path d=\"M41.6,5.6 Q44.0,54.8 11.2,75.2\" fill=\"none\" stroke=\"black\" stroke-linejoin=\"bevel\" stroke-width=\"12\" /><path d=\"M40.0,32.4 Q60.0,44.8 69.6,63.2\" fill=\"none\" stroke=\"black\" stroke-linejoin=\"bevel\" stroke-width=\"12\" /><path d=\"M128.6,5.6 L128.6,24.4 Q128.6,61.6 88.4,73.6\" fill=\"none\" stroke=\"black\" stroke-linejoin=\"bevel\" stroke-width=\"12\" /><path d=\"M93.8,26.4 L165.2,26.4\" fill=\"none\" stroke=\"black\" stroke-linejoin=\"bevel\" stroke-width=\"12\" /><path d=\"M159.3746832022088,20.4025433908309 L158.291138670348,57.604238984718165 Q158.0,67.6 168.0,67.6 L179.2,67.6 Q189.2,67.6 194.2,47.599999999999994\" fill=\"none\" stroke=\"black\" stroke-linejoin=\"bevel\" stroke-width=\"12\" /><path d=\"M24.0,78.73 L24.0,171.91 Q24.0,181.91 34.0,181.91 L170.0,181.91 Q180.0,181.91 185.0,161.91\" fill=\"none\" stroke=\"black\" stroke-linejoin=\"bevel\" stroke-width=\"12\" /><path d=\"M89.25,123.59989999999999 Q79.5,146.0985 42.75,167.1298\" fill=\"none\" stroke=\"black\" stroke-linejoin=\"bevel\" stroke-width=\"12\" /><path d=\"M118.5,122.62169999999999 Q138.75,136.8056 156.0,163.7061\" fill=\"none\" stroke=\"black\" stroke-linejoin=\"bevel\" stroke-width=\"12\" /><path d=\"M90.0,87.8956 Q108.0,94.743 114.75,105.50319999999999\" fill=\"none\" stroke=\"black\" stroke-linejoin=\"bevel\" stroke-width=\"12\" /><path d=\"M43.5,113.3288 L167.25,113.3288\" fill=\"none\" stroke=\"black\" stroke-linejoin=\"bevel\" stroke-width=\"12\" /></svg>"
      ],
      "text/plain": [
       "<svgwrite.drawing.Drawing at 0x7f249e8401d0>"
      ]
     },
     "metadata": {},
     "output_type": "display_data"
    },
    {
     "data": {
      "image/svg+xml": [
       "<svg baseProfile=\"full\" height=\"200\" version=\"1.1\" width=\"200\" xmlns=\"http://www.w3.org/2000/svg\" xmlns:ev=\"http://www.w3.org/2001/xml-events\" xmlns:xlink=\"http://www.w3.org/1999/xlink\"><defs /><path d=\"M161.0,20.47 Q107.0,35.16 45.0,41.94\" fill=\"none\" stroke=\"black\" stroke-linejoin=\"bevel\" stroke-width=\"12\" /><path d=\"M52.0,36.29 Q42.0,73.58 20.0,98.44\" fill=\"none\" stroke=\"black\" stroke-linejoin=\"bevel\" stroke-width=\"12\" /><path d=\"M86.0,46.46 Q102.0,62.28 107.0,84.88\" fill=\"none\" stroke=\"black\" stroke-linejoin=\"bevel\" stroke-width=\"12\" /><path d=\"M138.0,39.68 Q163.0,62.28 173.0,87.14\" fill=\"none\" stroke=\"black\" stroke-linejoin=\"bevel\" stroke-width=\"12\" /><path d=\"M35.72,97.98 L160.52,97.98\" fill=\"none\" stroke=\"black\" stroke-linejoin=\"bevel\" stroke-width=\"12\" /><path d=\"M154.52,91.98 L154.52,141.2\" fill=\"none\" stroke=\"black\" stroke-linejoin=\"bevel\" stroke-width=\"12\" /><path d=\"M35.72,132.2 L160.52,132.2\" fill=\"none\" stroke=\"black\" stroke-linejoin=\"bevel\" stroke-width=\"12\" /><path d=\"M41.72,91.98 L41.72,168.02 Q41.72,178.02 51.72,178.02 L161.44,178.02 Q171.44,178.02 176.44,158.02\" fill=\"none\" stroke=\"black\" stroke-linejoin=\"bevel\" stroke-width=\"12\" /></svg>"
      ],
      "text/plain": [
       "<svgwrite.drawing.Drawing at 0x7f2439d54e50>"
      ]
     },
     "metadata": {},
     "output_type": "display_data"
    },
    {
     "data": {
      "image/svg+xml": [
       "<svg baseProfile=\"full\" height=\"200\" version=\"1.1\" width=\"200\" xmlns=\"http://www.w3.org/2000/svg\" xmlns:ev=\"http://www.w3.org/2001/xml-events\" xmlns:xlink=\"http://www.w3.org/1999/xlink\"><defs /><path d=\"M12.0,40.8 L188.0,40.8\" fill=\"none\" stroke=\"black\" stroke-linejoin=\"bevel\" stroke-width=\"12\" /><path d=\"M71.0,16.0 L71.0,64.0\" fill=\"none\" stroke=\"black\" stroke-linejoin=\"bevel\" stroke-width=\"12\" /><path d=\"M129.0,16.0 L129.0,64.0\" fill=\"none\" stroke=\"black\" stroke-linejoin=\"bevel\" stroke-width=\"12\" /><path d=\"M22.0,91.46000000000001 L184.0,91.46000000000001\" fill=\"none\" stroke=\"black\" stroke-linejoin=\"bevel\" stroke-width=\"12\" /><path d=\"M152.0,85.46000000000001 L152.0,177.94 Q152.0,187.94 132.0,182.94\" fill=\"none\" stroke=\"black\" stroke-linejoin=\"bevel\" stroke-width=\"12\" /><path d=\"M32.75,113.6437 L133.25,113.6437\" fill=\"none\" stroke=\"black\" stroke-linejoin=\"bevel\" stroke-width=\"12\" /><path d=\"M44.14,133.3417 L121.86,133.3417\" fill=\"none\" stroke=\"black\" stroke-linejoin=\"bevel\" stroke-width=\"12\" /><path d=\"M25.380000000000006,154.3529 L140.62,154.3529\" fill=\"none\" stroke=\"black\" stroke-linejoin=\"bevel\" stroke-width=\"12\" /></svg>"
      ],
      "text/plain": [
       "<svgwrite.drawing.Drawing at 0x7f2439fa8c10>"
      ]
     },
     "metadata": {},
     "output_type": "display_data"
    },
    {
     "data": {
      "image/svg+xml": [
       "<svg baseProfile=\"full\" height=\"200\" version=\"1.1\" width=\"200\" xmlns=\"http://www.w3.org/2000/svg\" xmlns:ev=\"http://www.w3.org/2001/xml-events\" xmlns:xlink=\"http://www.w3.org/1999/xlink\"><defs /><path d=\"M11.2,28.0 L77.6,28.0\" fill=\"none\" stroke=\"black\" stroke-linejoin=\"bevel\" stroke-width=\"12\" /><path d=\"M41.6,5.6 Q44.0,54.8 11.2,75.2\" fill=\"none\" stroke=\"black\" stroke-linejoin=\"bevel\" stroke-width=\"12\" /><path d=\"M40.0,32.4 Q60.0,44.8 69.6,63.2\" fill=\"none\" stroke=\"black\" stroke-linejoin=\"bevel\" stroke-width=\"12\" /><path d=\"M88.4,20.6 L191.6,13.8\" fill=\"none\" stroke=\"black\" stroke-linejoin=\"bevel\" stroke-width=\"12\" /><path d=\"M128.0,3.8 L128.0,24.200000000000003 Q128.0,34.2 138.0,34.2 L180.8,34.2\" fill=\"none\" stroke=\"black\" stroke-linejoin=\"bevel\" stroke-width=\"12\" /><path d=\"M128.6,42.8 L128.6,52.2 Q128.6,70.8 88.4,76.8\" fill=\"none\" stroke=\"black\" stroke-linejoin=\"bevel\" stroke-width=\"12\" /><path d=\"M93.8,53.2 L165.2,53.2\" fill=\"none\" stroke=\"black\" stroke-linejoin=\"bevel\" stroke-width=\"12\" /><path d=\"M159.54892305627672,47.210154200582586 L158.5815384271279,63.81692366763763 Q158.0,73.8 168.0,73.8 L189.2,73.8\" fill=\"none\" stroke=\"black\" stroke-linejoin=\"bevel\" stroke-width=\"12\" /><path d=\"M24.0,78.73 L24.0,171.91 Q24.0,181.91 34.0,181.91 L170.0,181.91 Q180.0,181.91 185.0,161.91\" fill=\"none\" stroke=\"black\" stroke-linejoin=\"bevel\" stroke-width=\"12\" /><path d=\"M89.25,123.59989999999999 Q79.5,146.0985 42.75,167.1298\" fill=\"none\" stroke=\"black\" stroke-linejoin=\"bevel\" stroke-width=\"12\" /><path d=\"M118.5,122.62169999999999 Q138.75,136.8056 156.0,163.7061\" fill=\"none\" stroke=\"black\" stroke-linejoin=\"bevel\" stroke-width=\"12\" /><path d=\"M90.0,87.8956 Q108.0,94.743 114.75,105.50319999999999\" fill=\"none\" stroke=\"black\" stroke-linejoin=\"bevel\" stroke-width=\"12\" /><path d=\"M43.5,113.3288 L167.25,113.3288\" fill=\"none\" stroke=\"black\" stroke-linejoin=\"bevel\" stroke-width=\"12\" /></svg>"
      ],
      "text/plain": [
       "<svgwrite.drawing.Drawing at 0x7f2439f8f610>"
      ]
     },
     "metadata": {},
     "output_type": "display_data"
    },
    {
     "data": {
      "image/svg+xml": [
       "<svg baseProfile=\"full\" height=\"200\" version=\"1.1\" width=\"200\" xmlns=\"http://www.w3.org/2000/svg\" xmlns:ev=\"http://www.w3.org/2001/xml-events\" xmlns:xlink=\"http://www.w3.org/1999/xlink\"><defs /><path d=\"M161.0,20.47 Q107.0,35.16 45.0,41.94\" fill=\"none\" stroke=\"black\" stroke-linejoin=\"bevel\" stroke-width=\"12\" /><path d=\"M52.0,36.29 Q42.0,73.58 20.0,98.44\" fill=\"none\" stroke=\"black\" stroke-linejoin=\"bevel\" stroke-width=\"12\" /><path d=\"M86.0,46.46 Q102.0,62.28 107.0,84.88\" fill=\"none\" stroke=\"black\" stroke-linejoin=\"bevel\" stroke-width=\"12\" /><path d=\"M138.0,39.68 Q163.0,62.28 173.0,87.14\" fill=\"none\" stroke=\"black\" stroke-linejoin=\"bevel\" stroke-width=\"12\" /><path d=\"M35.72,97.98 L160.52,97.98\" fill=\"none\" stroke=\"black\" stroke-linejoin=\"bevel\" stroke-width=\"12\" /><path d=\"M154.52,91.98 L154.52,141.2\" fill=\"none\" stroke=\"black\" stroke-linejoin=\"bevel\" stroke-width=\"12\" /><path d=\"M35.72,132.2 L160.52,132.2\" fill=\"none\" stroke=\"black\" stroke-linejoin=\"bevel\" stroke-width=\"12\" /><path d=\"M41.72,91.98 L41.72,168.02 Q41.72,178.02 51.72,178.02 L161.44,178.02 Q171.44,178.02 176.44,158.02\" fill=\"none\" stroke=\"black\" stroke-linejoin=\"bevel\" stroke-width=\"12\" /></svg>"
      ],
      "text/plain": [
       "<svgwrite.drawing.Drawing at 0x7f2439d13d90>"
      ]
     },
     "metadata": {},
     "output_type": "display_data"
    },
    {
     "data": {
      "image/svg+xml": [
       "<svg baseProfile=\"full\" height=\"200\" version=\"1.1\" width=\"200\" xmlns=\"http://www.w3.org/2000/svg\" xmlns:ev=\"http://www.w3.org/2001/xml-events\" xmlns:xlink=\"http://www.w3.org/1999/xlink\"><defs /><path d=\"M12.0,40.8 L188.0,40.8\" fill=\"none\" stroke=\"black\" stroke-linejoin=\"bevel\" stroke-width=\"12\" /><path d=\"M71.0,16.0 L71.0,64.0\" fill=\"none\" stroke=\"black\" stroke-linejoin=\"bevel\" stroke-width=\"12\" /><path d=\"M129.0,16.0 L129.0,64.0\" fill=\"none\" stroke=\"black\" stroke-linejoin=\"bevel\" stroke-width=\"12\" /><path d=\"M22.0,91.46000000000001 L184.0,91.46000000000001\" fill=\"none\" stroke=\"black\" stroke-linejoin=\"bevel\" stroke-width=\"12\" /><path d=\"M152.0,85.46000000000001 L152.0,177.94 Q152.0,187.94 132.0,182.94\" fill=\"none\" stroke=\"black\" stroke-linejoin=\"bevel\" stroke-width=\"12\" /><path d=\"M32.75,113.6437 L133.25,113.6437\" fill=\"none\" stroke=\"black\" stroke-linejoin=\"bevel\" stroke-width=\"12\" /><path d=\"M44.14,133.3417 L121.86,133.3417\" fill=\"none\" stroke=\"black\" stroke-linejoin=\"bevel\" stroke-width=\"12\" /><path d=\"M25.380000000000006,154.3529 L140.62,154.3529\" fill=\"none\" stroke=\"black\" stroke-linejoin=\"bevel\" stroke-width=\"12\" /></svg>"
      ],
      "text/plain": [
       "<svgwrite.drawing.Drawing at 0x7f2439d4ad10>"
      ]
     },
     "metadata": {},
     "output_type": "display_data"
    },
    {
     "data": {
      "image/svg+xml": [
       "<svg baseProfile=\"full\" height=\"200\" version=\"1.1\" width=\"200\" xmlns=\"http://www.w3.org/2000/svg\" xmlns:ev=\"http://www.w3.org/2001/xml-events\" xmlns:xlink=\"http://www.w3.org/1999/xlink\"><defs /><path d=\"M11.2,28.0 L77.6,28.0\" fill=\"none\" stroke=\"black\" stroke-linejoin=\"bevel\" stroke-width=\"12\" /><path d=\"M41.6,5.6 Q44.0,54.8 11.2,75.2\" fill=\"none\" stroke=\"black\" stroke-linejoin=\"bevel\" stroke-width=\"12\" /><path d=\"M40.0,32.4 Q60.0,44.8 69.6,63.2\" fill=\"none\" stroke=\"black\" stroke-linejoin=\"bevel\" stroke-width=\"12\" /><path d=\"M88.4,41.2 L191.6,27.6\" fill=\"none\" stroke=\"black\" stroke-linejoin=\"bevel\" stroke-width=\"12\" /><path d=\"M128.0,7.6 L128.0,58.400000000000006 Q128.0,68.4 138.0,68.4 L180.8,68.4\" fill=\"none\" stroke=\"black\" stroke-linejoin=\"bevel\" stroke-width=\"12\" /><path d=\"M20.0,96.7396 L180.0,96.7396\" fill=\"none\" stroke=\"black\" stroke-linejoin=\"bevel\" stroke-width=\"12\" /><path d=\"M100.0,77.6312 L100.0,137.4488\" fill=\"none\" stroke=\"black\" stroke-linejoin=\"bevel\" stroke-width=\"12\" /><path d=\"M95.0,96.7396 Q64.0,129.1408 14.0,143.2644\" fill=\"none\" stroke=\"black\" stroke-linejoin=\"bevel\" stroke-width=\"12\" /><path d=\"M105.0,96.7396 Q136.0,126.64840000000001 178.0,137.4488\" fill=\"none\" stroke=\"black\" stroke-linejoin=\"bevel\" stroke-width=\"12\" /><path d=\"M79.0,164.67425000000003 Q66.0,179.31375 17.0,192.9985\" fill=\"none\" stroke=\"black\" stroke-linejoin=\"bevel\" stroke-width=\"12\" /><path d=\"M118.0,164.03775000000002 Q145.0,173.267 168.0,190.77075\" fill=\"none\" stroke=\"black\" stroke-linejoin=\"bevel\" stroke-width=\"12\" /><path d=\"M80.0,141.442 Q104.0,145.89749999999998 113.0,152.899\" fill=\"none\" stroke=\"black\" stroke-linejoin=\"bevel\" stroke-width=\"12\" /><path d=\"M18.0,157.99099999999999 L183.0,157.99099999999999\" fill=\"none\" stroke=\"black\" stroke-linejoin=\"bevel\" stroke-width=\"12\" /></svg>"
      ],
      "text/plain": [
       "<svgwrite.drawing.Drawing at 0x7f2439d496d0>"
      ]
     },
     "metadata": {},
     "output_type": "display_data"
    },
    {
     "data": {
      "image/svg+xml": [
       "<svg baseProfile=\"full\" height=\"200\" version=\"1.1\" width=\"200\" xmlns=\"http://www.w3.org/2000/svg\" xmlns:ev=\"http://www.w3.org/2001/xml-events\" xmlns:xlink=\"http://www.w3.org/1999/xlink\"><defs /><path d=\"M49.0,12.0 L49.0,68.0\" fill=\"none\" stroke=\"black\" stroke-linejoin=\"bevel\" stroke-width=\"12\" /><path d=\"M43.0,18.0 L156.0,18.0\" fill=\"none\" stroke=\"black\" stroke-linejoin=\"bevel\" stroke-width=\"12\" /><path d=\"M150.0,12.0 L150.0,68.0\" fill=\"none\" stroke=\"black\" stroke-linejoin=\"bevel\" stroke-width=\"12\" /><path d=\"M43.0,39.0 L156.0,39.0\" fill=\"none\" stroke=\"black\" stroke-linejoin=\"bevel\" stroke-width=\"12\" /><path d=\"M43.0,59.0 L156.0,59.0\" fill=\"none\" stroke=\"black\" stroke-linejoin=\"bevel\" stroke-width=\"12\" /><path d=\"M14.0,76.0 L188.0,76.0\" fill=\"none\" stroke=\"black\" stroke-linejoin=\"bevel\" stroke-width=\"12\" /><path d=\"M100.0,70.0 L100.0,183.0\" fill=\"none\" stroke=\"black\" stroke-linejoin=\"bevel\" stroke-width=\"12\" /><path d=\"M18.48,92.84 L45.04,92.84\" fill=\"none\" stroke=\"black\" stroke-linejoin=\"bevel\" stroke-width=\"12\" /><path d=\"M30.64,80.968 Q31.6,107.044 18.48,117.856\" fill=\"none\" stroke=\"black\" stroke-linejoin=\"bevel\" stroke-width=\"12\" /><path d=\"M30.0,95.172 Q38.0,101.744 41.84,111.49600000000001\" fill=\"none\" stroke=\"black\" stroke-linejoin=\"bevel\" stroke-width=\"12\" /><path d=\"M49.36,99.836 L90.64,92.628\" fill=\"none\" stroke=\"black\" stroke-linejoin=\"bevel\" stroke-width=\"12\" /><path d=\"M65.2,82.028 L65.2,104.25200000000001 Q65.2,114.25200000000001 75.2,114.25200000000001 L86.32,114.25200000000001\" fill=\"none\" stroke=\"black\" stroke-linejoin=\"bevel\" stroke-width=\"12\" /><path d=\"M45.6,144.5839 Q40.4,160.9185 20.8,176.18779999999998\" fill=\"none\" stroke=\"black\" stroke-linejoin=\"bevel\" stroke-width=\"12\" /><path d=\"M61.2,143.87369999999999 Q72.0,154.1716 81.2,173.70209999999997\" fill=\"none\" stroke=\"black\" stroke-linejoin=\"bevel\" stroke-width=\"12\" /><path d=\"M46.0,118.66159999999999 Q55.6,123.633 59.2,131.4452\" fill=\"none\" stroke=\"black\" stroke-linejoin=\"bevel\" stroke-width=\"12\" /><path d=\"M21.2,137.1268 L87.2,137.1268\" fill=\"none\" stroke=\"black\" stroke-linejoin=\"bevel\" stroke-width=\"12\" /><path d=\"M109.92,98.80799999999999 L182.07999999999998,98.80799999999999\" fill=\"none\" stroke=\"black\" stroke-linejoin=\"bevel\" stroke-width=\"12\" /><path d=\"M134.11,86.16 L134.11,110.64\" fill=\"none\" stroke=\"black\" stroke-linejoin=\"bevel\" stroke-width=\"12\" /><path d=\"M157.89,86.16 L157.89,110.64\" fill=\"none\" stroke=\"black\" stroke-linejoin=\"bevel\" stroke-width=\"12\" /><path d=\"M115.25,124.9863 L176.75,124.9863\" fill=\"none\" stroke=\"black\" stroke-linejoin=\"bevel\" stroke-width=\"12\" /><path d=\"M122.22,145.48829999999998 L169.78,145.48829999999998\" fill=\"none\" stroke=\"black\" stroke-linejoin=\"bevel\" stroke-width=\"12\" /><path d=\"M110.74,167.3571 L181.26,167.3571\" fill=\"none\" stroke=\"black\" stroke-linejoin=\"bevel\" stroke-width=\"12\" /></svg>"
      ],
      "text/plain": [
       "<svgwrite.drawing.Drawing at 0x7f2439d24e50>"
      ]
     },
     "metadata": {},
     "output_type": "display_data"
    },
    {
     "data": {
      "image/svg+xml": [
       "<svg baseProfile=\"full\" height=\"200\" version=\"1.1\" width=\"200\" xmlns=\"http://www.w3.org/2000/svg\" xmlns:ev=\"http://www.w3.org/2001/xml-events\" xmlns:xlink=\"http://www.w3.org/1999/xlink\"><defs /><path d=\"M12.0,40.8 L188.0,40.8\" fill=\"none\" stroke=\"black\" stroke-linejoin=\"bevel\" stroke-width=\"12\" /><path d=\"M71.0,16.0 L71.0,64.0\" fill=\"none\" stroke=\"black\" stroke-linejoin=\"bevel\" stroke-width=\"12\" /><path d=\"M129.0,16.0 L129.0,64.0\" fill=\"none\" stroke=\"black\" stroke-linejoin=\"bevel\" stroke-width=\"12\" /><path d=\"M22.0,91.46000000000001 L184.0,91.46000000000001\" fill=\"none\" stroke=\"black\" stroke-linejoin=\"bevel\" stroke-width=\"12\" /><path d=\"M152.0,85.46000000000001 L152.0,177.94 Q152.0,187.94 132.0,182.94\" fill=\"none\" stroke=\"black\" stroke-linejoin=\"bevel\" stroke-width=\"12\" /><path d=\"M32.75,113.6437 L133.25,113.6437\" fill=\"none\" stroke=\"black\" stroke-linejoin=\"bevel\" stroke-width=\"12\" /><path d=\"M44.14,133.3417 L121.86,133.3417\" fill=\"none\" stroke=\"black\" stroke-linejoin=\"bevel\" stroke-width=\"12\" /><path d=\"M25.380000000000006,154.3529 L140.62,154.3529\" fill=\"none\" stroke=\"black\" stroke-linejoin=\"bevel\" stroke-width=\"12\" /></svg>"
      ],
      "text/plain": [
       "<svgwrite.drawing.Drawing at 0x7f2439d4af10>"
      ]
     },
     "metadata": {},
     "output_type": "display_data"
    },
    {
     "data": {
      "image/svg+xml": [
       "<svg baseProfile=\"full\" height=\"200\" version=\"1.1\" width=\"200\" xmlns=\"http://www.w3.org/2000/svg\" xmlns:ev=\"http://www.w3.org/2001/xml-events\" xmlns:xlink=\"http://www.w3.org/1999/xlink\"><defs /><path d=\"M11.2,28.0 L77.6,28.0\" fill=\"none\" stroke=\"black\" stroke-linejoin=\"bevel\" stroke-width=\"12\" /><path d=\"M41.6,5.6 Q44.0,54.8 11.2,75.2\" fill=\"none\" stroke=\"black\" stroke-linejoin=\"bevel\" stroke-width=\"12\" /><path d=\"M40.0,32.4 Q60.0,44.8 69.6,63.2\" fill=\"none\" stroke=\"black\" stroke-linejoin=\"bevel\" stroke-width=\"12\" /><path d=\"M88.4,41.2 L191.6,27.6\" fill=\"none\" stroke=\"black\" stroke-linejoin=\"bevel\" stroke-width=\"12\" /><path d=\"M128.0,7.6 L128.0,58.400000000000006 Q128.0,68.4 138.0,68.4 L170.8,68.4 Q180.8,68.4 185.8,48.400000000000006\" fill=\"none\" stroke=\"black\" stroke-linejoin=\"bevel\" stroke-width=\"12\" /><path d=\"M24.0,78.73 L24.0,171.91 Q24.0,181.91 34.0,181.91 L170.0,181.91 Q180.0,181.91 185.0,161.91\" fill=\"none\" stroke=\"black\" stroke-linejoin=\"bevel\" stroke-width=\"12\" /><path d=\"M89.25,123.59989999999999 Q79.5,146.0985 42.75,167.1298\" fill=\"none\" stroke=\"black\" stroke-linejoin=\"bevel\" stroke-width=\"12\" /><path d=\"M118.5,122.62169999999999 Q138.75,136.8056 156.0,163.7061\" fill=\"none\" stroke=\"black\" stroke-linejoin=\"bevel\" stroke-width=\"12\" /><path d=\"M90.0,87.8956 Q108.0,94.743 114.75,105.50319999999999\" fill=\"none\" stroke=\"black\" stroke-linejoin=\"bevel\" stroke-width=\"12\" /><path d=\"M43.5,113.3288 L167.25,113.3288\" fill=\"none\" stroke=\"black\" stroke-linejoin=\"bevel\" stroke-width=\"12\" /></svg>"
      ],
      "text/plain": [
       "<svgwrite.drawing.Drawing at 0x7f2439d29410>"
      ]
     },
     "metadata": {},
     "output_type": "display_data"
    },
    {
     "data": {
      "image/svg+xml": [
       "<svg baseProfile=\"full\" height=\"200\" version=\"1.1\" width=\"200\" xmlns=\"http://www.w3.org/2000/svg\" xmlns:ev=\"http://www.w3.org/2001/xml-events\" xmlns:xlink=\"http://www.w3.org/1999/xlink\"><defs /><path d=\"M161.0,20.47 Q107.0,35.16 45.0,41.94\" fill=\"none\" stroke=\"black\" stroke-linejoin=\"bevel\" stroke-width=\"12\" /><path d=\"M52.0,36.29 Q42.0,73.58 20.0,98.44\" fill=\"none\" stroke=\"black\" stroke-linejoin=\"bevel\" stroke-width=\"12\" /><path d=\"M86.0,46.46 Q102.0,62.28 107.0,84.88\" fill=\"none\" stroke=\"black\" stroke-linejoin=\"bevel\" stroke-width=\"12\" /><path d=\"M138.0,39.68 Q163.0,62.28 173.0,87.14\" fill=\"none\" stroke=\"black\" stroke-linejoin=\"bevel\" stroke-width=\"12\" /><path d=\"M35.72,97.98 L160.52,97.98\" fill=\"none\" stroke=\"black\" stroke-linejoin=\"bevel\" stroke-width=\"12\" /><path d=\"M154.52,91.98 L154.52,141.2\" fill=\"none\" stroke=\"black\" stroke-linejoin=\"bevel\" stroke-width=\"12\" /><path d=\"M35.72,132.2 L160.52,132.2\" fill=\"none\" stroke=\"black\" stroke-linejoin=\"bevel\" stroke-width=\"12\" /><path d=\"M41.72,91.98 L41.72,168.02 Q41.72,178.02 51.72,178.02 L161.44,178.02 Q171.44,178.02 176.44,158.02\" fill=\"none\" stroke=\"black\" stroke-linejoin=\"bevel\" stroke-width=\"12\" /></svg>"
      ],
      "text/plain": [
       "<svgwrite.drawing.Drawing at 0x7f2439d4b950>"
      ]
     },
     "metadata": {},
     "output_type": "display_data"
    },
    {
     "data": {
      "image/svg+xml": [
       "<svg baseProfile=\"full\" height=\"200\" version=\"1.1\" width=\"200\" xmlns=\"http://www.w3.org/2000/svg\" xmlns:ev=\"http://www.w3.org/2001/xml-events\" xmlns:xlink=\"http://www.w3.org/1999/xlink\"><defs /><path d=\"M12.0,40.8 L188.0,40.8\" fill=\"none\" stroke=\"black\" stroke-linejoin=\"bevel\" stroke-width=\"12\" /><path d=\"M71.0,16.0 L71.0,64.0\" fill=\"none\" stroke=\"black\" stroke-linejoin=\"bevel\" stroke-width=\"12\" /><path d=\"M129.0,16.0 L129.0,64.0\" fill=\"none\" stroke=\"black\" stroke-linejoin=\"bevel\" stroke-width=\"12\" /><path d=\"M22.0,91.46000000000001 L184.0,91.46000000000001\" fill=\"none\" stroke=\"black\" stroke-linejoin=\"bevel\" stroke-width=\"12\" /><path d=\"M152.0,85.46000000000001 L152.0,177.94 Q152.0,187.94 132.0,182.94\" fill=\"none\" stroke=\"black\" stroke-linejoin=\"bevel\" stroke-width=\"12\" /><path d=\"M32.75,113.6437 L133.25,113.6437\" fill=\"none\" stroke=\"black\" stroke-linejoin=\"bevel\" stroke-width=\"12\" /><path d=\"M44.14,133.3417 L121.86,133.3417\" fill=\"none\" stroke=\"black\" stroke-linejoin=\"bevel\" stroke-width=\"12\" /><path d=\"M25.380000000000006,154.3529 L140.62,154.3529\" fill=\"none\" stroke=\"black\" stroke-linejoin=\"bevel\" stroke-width=\"12\" /></svg>"
      ],
      "text/plain": [
       "<svgwrite.drawing.Drawing at 0x7f2439d24a10>"
      ]
     },
     "metadata": {},
     "output_type": "display_data"
    },
    {
     "data": {
      "image/svg+xml": [
       "<svg baseProfile=\"full\" height=\"200\" version=\"1.1\" width=\"200\" xmlns=\"http://www.w3.org/2000/svg\" xmlns:ev=\"http://www.w3.org/2001/xml-events\" xmlns:xlink=\"http://www.w3.org/1999/xlink\"><defs /><path d=\"M11.2,28.0 L77.6,28.0\" fill=\"none\" stroke=\"black\" stroke-linejoin=\"bevel\" stroke-width=\"12\" /><path d=\"M41.6,5.6 Q44.0,54.8 11.2,75.2\" fill=\"none\" stroke=\"black\" stroke-linejoin=\"bevel\" stroke-width=\"12\" /><path d=\"M40.0,32.4 Q60.0,44.8 69.6,63.2\" fill=\"none\" stroke=\"black\" stroke-linejoin=\"bevel\" stroke-width=\"12\" /><path d=\"M88.4,20.6 L191.6,13.8\" fill=\"none\" stroke=\"black\" stroke-linejoin=\"bevel\" stroke-width=\"12\" /><path d=\"M128.0,3.8 L128.0,24.200000000000003 Q128.0,34.2 138.0,34.2 L180.8,34.2\" fill=\"none\" stroke=\"black\" stroke-linejoin=\"bevel\" stroke-width=\"12\" /><path d=\"M128.6,42.8 L128.6,52.2 Q128.6,70.8 88.4,76.8\" fill=\"none\" stroke=\"black\" stroke-linejoin=\"bevel\" stroke-width=\"12\" /><path d=\"M93.8,53.2 L165.2,53.2\" fill=\"none\" stroke=\"black\" stroke-linejoin=\"bevel\" stroke-width=\"12\" /><path d=\"M159.54892305627672,47.210154200582586 L158.5815384271279,63.81692366763763 Q158.0,73.8 168.0,73.8 L189.2,73.8\" fill=\"none\" stroke=\"black\" stroke-linejoin=\"bevel\" stroke-width=\"12\" /><path d=\"M24.0,78.73 L24.0,171.91 Q24.0,181.91 34.0,181.91 L170.0,181.91 Q180.0,181.91 185.0,161.91\" fill=\"none\" stroke=\"black\" stroke-linejoin=\"bevel\" stroke-width=\"12\" /><path d=\"M89.25,123.59989999999999 Q79.5,146.0985 42.75,167.1298\" fill=\"none\" stroke=\"black\" stroke-linejoin=\"bevel\" stroke-width=\"12\" /><path d=\"M118.5,122.62169999999999 Q138.75,136.8056 156.0,163.7061\" fill=\"none\" stroke=\"black\" stroke-linejoin=\"bevel\" stroke-width=\"12\" /><path d=\"M90.0,87.8956 Q108.0,94.743 114.75,105.50319999999999\" fill=\"none\" stroke=\"black\" stroke-linejoin=\"bevel\" stroke-width=\"12\" /><path d=\"M43.5,113.3288 L167.25,113.3288\" fill=\"none\" stroke=\"black\" stroke-linejoin=\"bevel\" stroke-width=\"12\" /></svg>"
      ],
      "text/plain": [
       "<svgwrite.drawing.Drawing at 0x7f2439d3a550>"
      ]
     },
     "metadata": {},
     "output_type": "display_data"
    },
    {
     "data": {
      "image/svg+xml": [
       "<svg baseProfile=\"full\" height=\"200\" version=\"1.1\" width=\"200\" xmlns=\"http://www.w3.org/2000/svg\" xmlns:ev=\"http://www.w3.org/2001/xml-events\" xmlns:xlink=\"http://www.w3.org/1999/xlink\"><defs /><path d=\"M161.0,20.47 Q107.0,35.16 45.0,41.94\" fill=\"none\" stroke=\"black\" stroke-linejoin=\"bevel\" stroke-width=\"12\" /><path d=\"M52.0,36.29 Q42.0,73.58 20.0,98.44\" fill=\"none\" stroke=\"black\" stroke-linejoin=\"bevel\" stroke-width=\"12\" /><path d=\"M86.0,46.46 Q102.0,62.28 107.0,84.88\" fill=\"none\" stroke=\"black\" stroke-linejoin=\"bevel\" stroke-width=\"12\" /><path d=\"M138.0,39.68 Q163.0,62.28 173.0,87.14\" fill=\"none\" stroke=\"black\" stroke-linejoin=\"bevel\" stroke-width=\"12\" /><path d=\"M35.72,97.98 L160.52,97.98\" fill=\"none\" stroke=\"black\" stroke-linejoin=\"bevel\" stroke-width=\"12\" /><path d=\"M154.52,91.98 L154.52,141.2\" fill=\"none\" stroke=\"black\" stroke-linejoin=\"bevel\" stroke-width=\"12\" /><path d=\"M35.72,132.2 L160.52,132.2\" fill=\"none\" stroke=\"black\" stroke-linejoin=\"bevel\" stroke-width=\"12\" /><path d=\"M41.72,91.98 L41.72,168.02 Q41.72,178.02 51.72,178.02 L161.44,178.02 Q171.44,178.02 176.44,158.02\" fill=\"none\" stroke=\"black\" stroke-linejoin=\"bevel\" stroke-width=\"12\" /></svg>"
      ],
      "text/plain": [
       "<svgwrite.drawing.Drawing at 0x7f2439d4b090>"
      ]
     },
     "metadata": {},
     "output_type": "display_data"
    },
    {
     "data": {
      "image/svg+xml": [
       "<svg baseProfile=\"full\" height=\"200\" version=\"1.1\" width=\"200\" xmlns=\"http://www.w3.org/2000/svg\" xmlns:ev=\"http://www.w3.org/2001/xml-events\" xmlns:xlink=\"http://www.w3.org/1999/xlink\"><defs /><path d=\"M12.0,40.8 L188.0,40.8\" fill=\"none\" stroke=\"black\" stroke-linejoin=\"bevel\" stroke-width=\"12\" /><path d=\"M71.0,16.0 L71.0,64.0\" fill=\"none\" stroke=\"black\" stroke-linejoin=\"bevel\" stroke-width=\"12\" /><path d=\"M129.0,16.0 L129.0,64.0\" fill=\"none\" stroke=\"black\" stroke-linejoin=\"bevel\" stroke-width=\"12\" /><path d=\"M22.0,91.46000000000001 L184.0,91.46000000000001\" fill=\"none\" stroke=\"black\" stroke-linejoin=\"bevel\" stroke-width=\"12\" /><path d=\"M152.0,85.46000000000001 L152.0,177.94 Q152.0,187.94 132.0,182.94\" fill=\"none\" stroke=\"black\" stroke-linejoin=\"bevel\" stroke-width=\"12\" /><path d=\"M32.75,113.6437 L133.25,113.6437\" fill=\"none\" stroke=\"black\" stroke-linejoin=\"bevel\" stroke-width=\"12\" /><path d=\"M44.14,133.3417 L121.86,133.3417\" fill=\"none\" stroke=\"black\" stroke-linejoin=\"bevel\" stroke-width=\"12\" /><path d=\"M25.380000000000006,154.3529 L140.62,154.3529\" fill=\"none\" stroke=\"black\" stroke-linejoin=\"bevel\" stroke-width=\"12\" /></svg>"
      ],
      "text/plain": [
       "<svgwrite.drawing.Drawing at 0x7f2439d31a90>"
      ]
     },
     "metadata": {},
     "output_type": "display_data"
    },
    {
     "data": {
      "image/svg+xml": [
       "<svg baseProfile=\"full\" height=\"200\" version=\"1.1\" width=\"200\" xmlns=\"http://www.w3.org/2000/svg\" xmlns:ev=\"http://www.w3.org/2001/xml-events\" xmlns:xlink=\"http://www.w3.org/1999/xlink\"><defs /><path d=\"M11.2,28.0 L77.6,28.0\" fill=\"none\" stroke=\"black\" stroke-linejoin=\"bevel\" stroke-width=\"12\" /><path d=\"M41.6,5.6 Q44.0,54.8 11.2,75.2\" fill=\"none\" stroke=\"black\" stroke-linejoin=\"bevel\" stroke-width=\"12\" /><path d=\"M40.0,32.4 Q60.0,44.8 69.6,63.2\" fill=\"none\" stroke=\"black\" stroke-linejoin=\"bevel\" stroke-width=\"12\" /><path d=\"M127.4,17.8 Q119.6,27.0 90.2,35.6\" fill=\"none\" stroke=\"black\" stroke-linejoin=\"bevel\" stroke-width=\"12\" /><path d=\"M150.8,17.4 Q167.0,23.2 180.8,34.2\" fill=\"none\" stroke=\"black\" stroke-linejoin=\"bevel\" stroke-width=\"12\" /><path d=\"M128.0,3.2 Q142.4,6.0 147.8,10.4\" fill=\"none\" stroke=\"black\" stroke-linejoin=\"bevel\" stroke-width=\"12\" /><path d=\"M90.8,13.6 L189.8,13.6\" fill=\"none\" stroke=\"black\" stroke-linejoin=\"bevel\" stroke-width=\"12\" /><path d=\"M97.4,41.4 L97.4,81.6\" fill=\"none\" stroke=\"black\" stroke-linejoin=\"bevel\" stroke-width=\"12\" /><path d=\"M91.4,47.4 L188.6,47.4\" fill=\"none\" stroke=\"black\" stroke-linejoin=\"bevel\" stroke-width=\"12\" /><path d=\"M182.6,41.4 L182.6,81.6\" fill=\"none\" stroke=\"black\" stroke-linejoin=\"bevel\" stroke-width=\"12\" /><path d=\"M127.4,41.4 L127.4,52.4 Q127.4,62.4 102.8,66.8\" fill=\"none\" stroke=\"black\" stroke-linejoin=\"bevel\" stroke-width=\"12\" /><path d=\"M150.8,41.4 L150.8,53.4 Q150.8,63.4 160.8,63.4 L171.8,63.4\" fill=\"none\" stroke=\"black\" stroke-linejoin=\"bevel\" stroke-width=\"12\" /><path d=\"M91.4,72.6 L188.6,72.6\" fill=\"none\" stroke=\"black\" stroke-linejoin=\"bevel\" stroke-width=\"12\" /><path d=\"M24.0,78.73 L24.0,171.91 Q24.0,181.91 34.0,181.91 L170.0,181.91 Q180.0,181.91 185.0,161.91\" fill=\"none\" stroke=\"black\" stroke-linejoin=\"bevel\" stroke-width=\"12\" /><path d=\"M89.25,123.59989999999999 Q79.5,146.0985 42.75,167.1298\" fill=\"none\" stroke=\"black\" stroke-linejoin=\"bevel\" stroke-width=\"12\" /><path d=\"M118.5,122.62169999999999 Q138.75,136.8056 156.0,163.7061\" fill=\"none\" stroke=\"black\" stroke-linejoin=\"bevel\" stroke-width=\"12\" /><path d=\"M90.0,87.8956 Q108.0,94.743 114.75,105.50319999999999\" fill=\"none\" stroke=\"black\" stroke-linejoin=\"bevel\" stroke-width=\"12\" /><path d=\"M43.5,113.3288 L167.25,113.3288\" fill=\"none\" stroke=\"black\" stroke-linejoin=\"bevel\" stroke-width=\"12\" /></svg>"
      ],
      "text/plain": [
       "<svgwrite.drawing.Drawing at 0x7f2439d31910>"
      ]
     },
     "metadata": {},
     "output_type": "display_data"
    },
    {
     "data": {
      "image/svg+xml": [
       "<svg baseProfile=\"full\" height=\"200\" version=\"1.1\" width=\"200\" xmlns=\"http://www.w3.org/2000/svg\" xmlns:ev=\"http://www.w3.org/2001/xml-events\" xmlns:xlink=\"http://www.w3.org/1999/xlink\"><defs /><path d=\"M161.0,20.47 Q107.0,35.16 45.0,41.94\" fill=\"none\" stroke=\"black\" stroke-linejoin=\"bevel\" stroke-width=\"12\" /><path d=\"M52.0,36.29 Q42.0,73.58 20.0,98.44\" fill=\"none\" stroke=\"black\" stroke-linejoin=\"bevel\" stroke-width=\"12\" /><path d=\"M86.0,46.46 Q102.0,62.28 107.0,84.88\" fill=\"none\" stroke=\"black\" stroke-linejoin=\"bevel\" stroke-width=\"12\" /><path d=\"M138.0,39.68 Q163.0,62.28 173.0,87.14\" fill=\"none\" stroke=\"black\" stroke-linejoin=\"bevel\" stroke-width=\"12\" /><path d=\"M35.72,97.98 L160.52,97.98\" fill=\"none\" stroke=\"black\" stroke-linejoin=\"bevel\" stroke-width=\"12\" /><path d=\"M154.52,91.98 L154.52,141.2\" fill=\"none\" stroke=\"black\" stroke-linejoin=\"bevel\" stroke-width=\"12\" /><path d=\"M35.72,132.2 L160.52,132.2\" fill=\"none\" stroke=\"black\" stroke-linejoin=\"bevel\" stroke-width=\"12\" /><path d=\"M41.72,91.98 L41.72,168.02 Q41.72,178.02 51.72,178.02 L161.44,178.02 Q171.44,178.02 176.44,158.02\" fill=\"none\" stroke=\"black\" stroke-linejoin=\"bevel\" stroke-width=\"12\" /></svg>"
      ],
      "text/plain": [
       "<svgwrite.drawing.Drawing at 0x7f2439d28250>"
      ]
     },
     "metadata": {},
     "output_type": "display_data"
    },
    {
     "data": {
      "image/svg+xml": [
       "<svg baseProfile=\"full\" height=\"200\" version=\"1.1\" width=\"200\" xmlns=\"http://www.w3.org/2000/svg\" xmlns:ev=\"http://www.w3.org/2001/xml-events\" xmlns:xlink=\"http://www.w3.org/1999/xlink\"><defs /><path d=\"M12.0,40.8 L188.0,40.8\" fill=\"none\" stroke=\"black\" stroke-linejoin=\"bevel\" stroke-width=\"12\" /><path d=\"M71.0,16.0 L71.0,64.0\" fill=\"none\" stroke=\"black\" stroke-linejoin=\"bevel\" stroke-width=\"12\" /><path d=\"M129.0,16.0 L129.0,64.0\" fill=\"none\" stroke=\"black\" stroke-linejoin=\"bevel\" stroke-width=\"12\" /><path d=\"M22.0,91.46000000000001 L184.0,91.46000000000001\" fill=\"none\" stroke=\"black\" stroke-linejoin=\"bevel\" stroke-width=\"12\" /><path d=\"M152.0,85.46000000000001 L152.0,177.94 Q152.0,187.94 132.0,182.94\" fill=\"none\" stroke=\"black\" stroke-linejoin=\"bevel\" stroke-width=\"12\" /><path d=\"M32.75,113.6437 L133.25,113.6437\" fill=\"none\" stroke=\"black\" stroke-linejoin=\"bevel\" stroke-width=\"12\" /><path d=\"M44.14,133.3417 L121.86,133.3417\" fill=\"none\" stroke=\"black\" stroke-linejoin=\"bevel\" stroke-width=\"12\" /><path d=\"M25.380000000000006,154.3529 L140.62,154.3529\" fill=\"none\" stroke=\"black\" stroke-linejoin=\"bevel\" stroke-width=\"12\" /></svg>"
      ],
      "text/plain": [
       "<svgwrite.drawing.Drawing at 0x7f2439d2ce50>"
      ]
     },
     "metadata": {},
     "output_type": "display_data"
    },
    {
     "data": {
      "image/svg+xml": [
       "<svg baseProfile=\"full\" height=\"200\" version=\"1.1\" width=\"200\" xmlns=\"http://www.w3.org/2000/svg\" xmlns:ev=\"http://www.w3.org/2001/xml-events\" xmlns:xlink=\"http://www.w3.org/1999/xlink\"><defs /><path d=\"M11.2,28.0 L77.6,28.0\" fill=\"none\" stroke=\"black\" stroke-linejoin=\"bevel\" stroke-width=\"12\" /><path d=\"M41.6,5.6 Q44.0,54.8 11.2,75.2\" fill=\"none\" stroke=\"black\" stroke-linejoin=\"bevel\" stroke-width=\"12\" /><path d=\"M40.0,32.4 Q60.0,44.8 69.6,63.2\" fill=\"none\" stroke=\"black\" stroke-linejoin=\"bevel\" stroke-width=\"12\" /><path d=\"M93.2,6.4 L186.8,6.4\" fill=\"none\" stroke=\"black\" stroke-linejoin=\"bevel\" stroke-width=\"12\" /><path d=\"M138.83720341258535,1.225505297076829 L116.56279658741465,39.17449470292317\" fill=\"none\" stroke=\"black\" stroke-linejoin=\"bevel\" stroke-width=\"12\" /><path d=\"M99.2,18.2 L170.0,18.2\" fill=\"none\" stroke=\"black\" stroke-linejoin=\"bevel\" stroke-width=\"12\" /><path d=\"M164.0,12.2 L164.0,40.0\" fill=\"none\" stroke=\"black\" stroke-linejoin=\"bevel\" stroke-width=\"12\" /><path d=\"M88.4,34.0 L191.6,34.0\" fill=\"none\" stroke=\"black\" stroke-linejoin=\"bevel\" stroke-width=\"12\" /><path d=\"M127.4,57.8 Q119.6,67.0 90.2,75.6\" fill=\"none\" stroke=\"black\" stroke-linejoin=\"bevel\" stroke-width=\"12\" /><path d=\"M150.8,57.4 Q167.0,63.2 180.8,74.2\" fill=\"none\" stroke=\"black\" stroke-linejoin=\"bevel\" stroke-width=\"12\" /><path d=\"M128.0,43.2 Q142.4,46.0 147.8,50.4\" fill=\"none\" stroke=\"black\" stroke-linejoin=\"bevel\" stroke-width=\"12\" /><path d=\"M90.8,53.6 L189.8,53.6\" fill=\"none\" stroke=\"black\" stroke-linejoin=\"bevel\" stroke-width=\"12\" /><path d=\"M20.0,96.7396 L180.0,96.7396\" fill=\"none\" stroke=\"black\" stroke-linejoin=\"bevel\" stroke-width=\"12\" /><path d=\"M100.0,77.6312 L100.0,137.4488\" fill=\"none\" stroke=\"black\" stroke-linejoin=\"bevel\" stroke-width=\"12\" /><path d=\"M95.0,96.7396 Q64.0,129.1408 14.0,143.2644\" fill=\"none\" stroke=\"black\" stroke-linejoin=\"bevel\" stroke-width=\"12\" /><path d=\"M105.0,96.7396 Q136.0,126.64840000000001 178.0,137.4488\" fill=\"none\" stroke=\"black\" stroke-linejoin=\"bevel\" stroke-width=\"12\" /><path d=\"M79.0,164.67425000000003 Q66.0,179.31375 17.0,192.9985\" fill=\"none\" stroke=\"black\" stroke-linejoin=\"bevel\" stroke-width=\"12\" /><path d=\"M118.0,164.03775000000002 Q145.0,173.267 168.0,190.77075\" fill=\"none\" stroke=\"black\" stroke-linejoin=\"bevel\" stroke-width=\"12\" /><path d=\"M80.0,141.442 Q104.0,145.89749999999998 113.0,152.899\" fill=\"none\" stroke=\"black\" stroke-linejoin=\"bevel\" stroke-width=\"12\" /><path d=\"M18.0,157.99099999999999 L183.0,157.99099999999999\" fill=\"none\" stroke=\"black\" stroke-linejoin=\"bevel\" stroke-width=\"12\" /></svg>"
      ],
      "text/plain": [
       "<svgwrite.drawing.Drawing at 0x7f2439d177d0>"
      ]
     },
     "metadata": {},
     "output_type": "display_data"
    },
    {
     "data": {
      "image/svg+xml": [
       "<svg baseProfile=\"full\" height=\"200\" version=\"1.1\" width=\"200\" xmlns=\"http://www.w3.org/2000/svg\" xmlns:ev=\"http://www.w3.org/2001/xml-events\" xmlns:xlink=\"http://www.w3.org/1999/xlink\"><defs /><path d=\"M49.0,12.0 L49.0,68.0\" fill=\"none\" stroke=\"black\" stroke-linejoin=\"bevel\" stroke-width=\"12\" /><path d=\"M43.0,18.0 L156.0,18.0\" fill=\"none\" stroke=\"black\" stroke-linejoin=\"bevel\" stroke-width=\"12\" /><path d=\"M150.0,12.0 L150.0,68.0\" fill=\"none\" stroke=\"black\" stroke-linejoin=\"bevel\" stroke-width=\"12\" /><path d=\"M43.0,39.0 L156.0,39.0\" fill=\"none\" stroke=\"black\" stroke-linejoin=\"bevel\" stroke-width=\"12\" /><path d=\"M43.0,59.0 L156.0,59.0\" fill=\"none\" stroke=\"black\" stroke-linejoin=\"bevel\" stroke-width=\"12\" /><path d=\"M14.0,76.0 L188.0,76.0\" fill=\"none\" stroke=\"black\" stroke-linejoin=\"bevel\" stroke-width=\"12\" /><path d=\"M100.0,70.0 L100.0,183.0\" fill=\"none\" stroke=\"black\" stroke-linejoin=\"bevel\" stroke-width=\"12\" /><path d=\"M18.48,92.84 L45.04,92.84\" fill=\"none\" stroke=\"black\" stroke-linejoin=\"bevel\" stroke-width=\"12\" /><path d=\"M30.64,80.968 Q31.6,107.044 18.48,117.856\" fill=\"none\" stroke=\"black\" stroke-linejoin=\"bevel\" stroke-width=\"12\" /><path d=\"M30.0,95.172 Q38.0,101.744 41.84,111.49600000000001\" fill=\"none\" stroke=\"black\" stroke-linejoin=\"bevel\" stroke-width=\"12\" /><path d=\"M51.28,81.392 L88.72,81.392\" fill=\"none\" stroke=\"black\" stroke-linejoin=\"bevel\" stroke-width=\"12\" /><path d=\"M70.75014816761302,75.90616552533281 L59.40985183238698,101.50583447466718\" fill=\"none\" stroke=\"black\" stroke-linejoin=\"bevel\" stroke-width=\"12\" /><path d=\"M53.68,87.646 L85.6,87.646\" fill=\"none\" stroke=\"black\" stroke-linejoin=\"bevel\" stroke-width=\"12\" /><path d=\"M79.6,81.646 L79.6,102.02\" fill=\"none\" stroke=\"black\" stroke-linejoin=\"bevel\" stroke-width=\"12\" /><path d=\"M49.36,96.02 L90.64,96.02\" fill=\"none\" stroke=\"black\" stroke-linejoin=\"bevel\" stroke-width=\"12\" /><path d=\"M64.96000000000001,108.634 Q61.84,113.50999999999999 50.08,118.068\" fill=\"none\" stroke=\"black\" stroke-linejoin=\"bevel\" stroke-width=\"12\" /><path d=\"M74.32,108.422 Q80.8,111.49600000000001 86.32,117.326\" fill=\"none\" stroke=\"black\" stroke-linejoin=\"bevel\" stroke-width=\"12\" /><path d=\"M65.2,100.896 Q70.96000000000001,102.38 73.12,104.712\" fill=\"none\" stroke=\"black\" stroke-linejoin=\"bevel\" stroke-width=\"12\" /><path d=\"M50.32,106.408 L89.92,106.408\" fill=\"none\" stroke=\"black\" stroke-linejoin=\"bevel\" stroke-width=\"12\" /><path d=\"M45.6,144.5839 Q40.4,160.9185 20.8,176.18779999999998\" fill=\"none\" stroke=\"black\" stroke-linejoin=\"bevel\" stroke-width=\"12\" /><path d=\"M61.2,143.87369999999999 Q72.0,154.1716 81.2,173.70209999999997\" fill=\"none\" stroke=\"black\" stroke-linejoin=\"bevel\" stroke-width=\"12\" /><path d=\"M46.0,118.66159999999999 Q55.6,123.633 59.2,131.4452\" fill=\"none\" stroke=\"black\" stroke-linejoin=\"bevel\" stroke-width=\"12\" /><path d=\"M21.2,137.1268 L87.2,137.1268\" fill=\"none\" stroke=\"black\" stroke-linejoin=\"bevel\" stroke-width=\"12\" /><path d=\"M109.92,98.80799999999999 L182.07999999999998,98.80799999999999\" fill=\"none\" stroke=\"black\" stroke-linejoin=\"bevel\" stroke-width=\"12\" /><path d=\"M134.11,86.16 L134.11,110.64\" fill=\"none\" stroke=\"black\" stroke-linejoin=\"bevel\" stroke-width=\"12\" /><path d=\"M157.89,86.16 L157.89,110.64\" fill=\"none\" stroke=\"black\" stroke-linejoin=\"bevel\" stroke-width=\"12\" /><path d=\"M115.25,124.9863 L176.75,124.9863\" fill=\"none\" stroke=\"black\" stroke-linejoin=\"bevel\" stroke-width=\"12\" /><path d=\"M122.22,145.48829999999998 L169.78,145.48829999999998\" fill=\"none\" stroke=\"black\" stroke-linejoin=\"bevel\" stroke-width=\"12\" /><path d=\"M110.74,167.3571 L181.26,167.3571\" fill=\"none\" stroke=\"black\" stroke-linejoin=\"bevel\" stroke-width=\"12\" /></svg>"
      ],
      "text/plain": [
       "<svgwrite.drawing.Drawing at 0x7f2439d2ce50>"
      ]
     },
     "metadata": {},
     "output_type": "display_data"
    },
    {
     "name": "stdout",
     "output_type": "stream",
     "text": [
      "从「再作\n"
     ]
    },
    {
     "data": {
      "image/svg+xml": [
       "<svg baseProfile=\"full\" height=\"200\" version=\"1.1\" width=\"200\" xmlns=\"http://www.w3.org/2000/svg\" xmlns:ev=\"http://www.w3.org/2001/xml-events\" xmlns:xlink=\"http://www.w3.org/1999/xlink\"><defs /><path d=\"M12.0,40.8 L188.0,40.8\" fill=\"none\" stroke=\"black\" stroke-linejoin=\"bevel\" stroke-width=\"12\" /><path d=\"M71.0,16.0 L71.0,64.0\" fill=\"none\" stroke=\"black\" stroke-linejoin=\"bevel\" stroke-width=\"12\" /><path d=\"M129.0,16.0 L129.0,64.0\" fill=\"none\" stroke=\"black\" stroke-linejoin=\"bevel\" stroke-width=\"12\" /><path d=\"M22.0,91.46000000000001 L184.0,91.46000000000001\" fill=\"none\" stroke=\"black\" stroke-linejoin=\"bevel\" stroke-width=\"12\" /><path d=\"M152.0,85.46000000000001 L152.0,177.94 Q152.0,187.94 132.0,182.94\" fill=\"none\" stroke=\"black\" stroke-linejoin=\"bevel\" stroke-width=\"12\" /><path d=\"M32.75,113.6437 L133.25,113.6437\" fill=\"none\" stroke=\"black\" stroke-linejoin=\"bevel\" stroke-width=\"12\" /><path d=\"M44.14,133.3417 L121.86,133.3417\" fill=\"none\" stroke=\"black\" stroke-linejoin=\"bevel\" stroke-width=\"12\" /><path d=\"M25.380000000000006,154.3529 L140.62,154.3529\" fill=\"none\" stroke=\"black\" stroke-linejoin=\"bevel\" stroke-width=\"12\" /></svg>"
      ],
      "text/plain": [
       "<svgwrite.drawing.Drawing at 0x7f248c343dd0>"
      ]
     },
     "metadata": {},
     "output_type": "display_data"
    },
    {
     "data": {
      "image/svg+xml": [
       "<svg baseProfile=\"full\" height=\"200\" version=\"1.1\" width=\"200\" xmlns=\"http://www.w3.org/2000/svg\" xmlns:ev=\"http://www.w3.org/2001/xml-events\" xmlns:xlink=\"http://www.w3.org/1999/xlink\"><defs /><path d=\"M11.2,28.0 L77.6,28.0\" fill=\"none\" stroke=\"black\" stroke-linejoin=\"bevel\" stroke-width=\"12\" /><path d=\"M41.6,5.6 Q44.0,54.8 11.2,75.2\" fill=\"none\" stroke=\"black\" stroke-linejoin=\"bevel\" stroke-width=\"12\" /><path d=\"M40.0,32.4 Q60.0,44.8 69.6,63.2\" fill=\"none\" stroke=\"black\" stroke-linejoin=\"bevel\" stroke-width=\"12\" /><path d=\"M93.2,6.4 L186.8,6.4\" fill=\"none\" stroke=\"black\" stroke-linejoin=\"bevel\" stroke-width=\"12\" /><path d=\"M138.83720341258535,1.225505297076829 L116.56279658741465,39.17449470292317\" fill=\"none\" stroke=\"black\" stroke-linejoin=\"bevel\" stroke-width=\"12\" /><path d=\"M99.2,18.2 L170.0,18.2\" fill=\"none\" stroke=\"black\" stroke-linejoin=\"bevel\" stroke-width=\"12\" /><path d=\"M164.0,12.2 L164.0,40.0\" fill=\"none\" stroke=\"black\" stroke-linejoin=\"bevel\" stroke-width=\"12\" /><path d=\"M88.4,34.0 L191.6,34.0\" fill=\"none\" stroke=\"black\" stroke-linejoin=\"bevel\" stroke-width=\"12\" /><path d=\"M127.4,57.8 Q119.6,67.0 90.2,75.6\" fill=\"none\" stroke=\"black\" stroke-linejoin=\"bevel\" stroke-width=\"12\" /><path d=\"M150.8,57.4 Q167.0,63.2 180.8,74.2\" fill=\"none\" stroke=\"black\" stroke-linejoin=\"bevel\" stroke-width=\"12\" /><path d=\"M128.0,43.2 Q142.4,46.0 147.8,50.4\" fill=\"none\" stroke=\"black\" stroke-linejoin=\"bevel\" stroke-width=\"12\" /><path d=\"M90.8,53.6 L189.8,53.6\" fill=\"none\" stroke=\"black\" stroke-linejoin=\"bevel\" stroke-width=\"12\" /><path d=\"M24.0,78.73 L24.0,171.91 Q24.0,181.91 34.0,181.91 L170.0,181.91 Q180.0,181.91 185.0,161.91\" fill=\"none\" stroke=\"black\" stroke-linejoin=\"bevel\" stroke-width=\"12\" /><path d=\"M89.25,123.59989999999999 Q79.5,146.0985 42.75,167.1298\" fill=\"none\" stroke=\"black\" stroke-linejoin=\"bevel\" stroke-width=\"12\" /><path d=\"M118.5,122.62169999999999 Q138.75,136.8056 156.0,163.7061\" fill=\"none\" stroke=\"black\" stroke-linejoin=\"bevel\" stroke-width=\"12\" /><path d=\"M90.0,87.8956 Q108.0,94.743 114.75,105.50319999999999\" fill=\"none\" stroke=\"black\" stroke-linejoin=\"bevel\" stroke-width=\"12\" /><path d=\"M43.5,113.3288 L167.25,113.3288\" fill=\"none\" stroke=\"black\" stroke-linejoin=\"bevel\" stroke-width=\"12\" /></svg>"
      ],
      "text/plain": [
       "<svgwrite.drawing.Drawing at 0x7f249c1cf850>"
      ]
     },
     "metadata": {},
     "output_type": "display_data"
    },
    {
     "data": {
      "image/svg+xml": [
       "<svg baseProfile=\"full\" height=\"200\" version=\"1.1\" width=\"200\" xmlns=\"http://www.w3.org/2000/svg\" xmlns:ev=\"http://www.w3.org/2001/xml-events\" xmlns:xlink=\"http://www.w3.org/1999/xlink\"><defs /><path d=\"M161.0,20.47 Q107.0,35.16 45.0,41.94\" fill=\"none\" stroke=\"black\" stroke-linejoin=\"bevel\" stroke-width=\"12\" /><path d=\"M52.0,36.29 Q42.0,73.58 20.0,98.44\" fill=\"none\" stroke=\"black\" stroke-linejoin=\"bevel\" stroke-width=\"12\" /><path d=\"M86.0,46.46 Q102.0,62.28 107.0,84.88\" fill=\"none\" stroke=\"black\" stroke-linejoin=\"bevel\" stroke-width=\"12\" /><path d=\"M138.0,39.68 Q163.0,62.28 173.0,87.14\" fill=\"none\" stroke=\"black\" stroke-linejoin=\"bevel\" stroke-width=\"12\" /><path d=\"M35.72,97.98 L160.52,97.98\" fill=\"none\" stroke=\"black\" stroke-linejoin=\"bevel\" stroke-width=\"12\" /><path d=\"M154.52,91.98 L154.52,141.2\" fill=\"none\" stroke=\"black\" stroke-linejoin=\"bevel\" stroke-width=\"12\" /><path d=\"M35.72,132.2 L160.52,132.2\" fill=\"none\" stroke=\"black\" stroke-linejoin=\"bevel\" stroke-width=\"12\" /><path d=\"M41.72,91.98 L41.72,168.02 Q41.72,178.02 51.72,178.02 L161.44,178.02 Q171.44,178.02 176.44,158.02\" fill=\"none\" stroke=\"black\" stroke-linejoin=\"bevel\" stroke-width=\"12\" /></svg>"
      ],
      "text/plain": [
       "<svgwrite.drawing.Drawing at 0x7f2439d48c10>"
      ]
     },
     "metadata": {},
     "output_type": "display_data"
    },
    {
     "data": {
      "image/svg+xml": [
       "<svg baseProfile=\"full\" height=\"200\" version=\"1.1\" width=\"200\" xmlns=\"http://www.w3.org/2000/svg\" xmlns:ev=\"http://www.w3.org/2001/xml-events\" xmlns:xlink=\"http://www.w3.org/1999/xlink\"><defs /><path d=\"M12.0,40.8 L188.0,40.8\" fill=\"none\" stroke=\"black\" stroke-linejoin=\"bevel\" stroke-width=\"12\" /><path d=\"M71.0,16.0 L71.0,64.0\" fill=\"none\" stroke=\"black\" stroke-linejoin=\"bevel\" stroke-width=\"12\" /><path d=\"M129.0,16.0 L129.0,64.0\" fill=\"none\" stroke=\"black\" stroke-linejoin=\"bevel\" stroke-width=\"12\" /><path d=\"M22.0,91.46000000000001 L184.0,91.46000000000001\" fill=\"none\" stroke=\"black\" stroke-linejoin=\"bevel\" stroke-width=\"12\" /><path d=\"M152.0,85.46000000000001 L152.0,177.94 Q152.0,187.94 132.0,182.94\" fill=\"none\" stroke=\"black\" stroke-linejoin=\"bevel\" stroke-width=\"12\" /><path d=\"M32.75,113.6437 L133.25,113.6437\" fill=\"none\" stroke=\"black\" stroke-linejoin=\"bevel\" stroke-width=\"12\" /><path d=\"M44.14,133.3417 L121.86,133.3417\" fill=\"none\" stroke=\"black\" stroke-linejoin=\"bevel\" stroke-width=\"12\" /><path d=\"M25.380000000000006,154.3529 L140.62,154.3529\" fill=\"none\" stroke=\"black\" stroke-linejoin=\"bevel\" stroke-width=\"12\" /></svg>"
      ],
      "text/plain": [
       "<svgwrite.drawing.Drawing at 0x7f2439d14e50>"
      ]
     },
     "metadata": {},
     "output_type": "display_data"
    },
    {
     "data": {
      "image/svg+xml": [
       "<svg baseProfile=\"full\" height=\"200\" version=\"1.1\" width=\"200\" xmlns=\"http://www.w3.org/2000/svg\" xmlns:ev=\"http://www.w3.org/2001/xml-events\" xmlns:xlink=\"http://www.w3.org/1999/xlink\"><defs /><path d=\"M11.2,28.0 L77.6,28.0\" fill=\"none\" stroke=\"black\" stroke-linejoin=\"bevel\" stroke-width=\"12\" /><path d=\"M41.6,5.6 Q44.0,54.8 11.2,75.2\" fill=\"none\" stroke=\"black\" stroke-linejoin=\"bevel\" stroke-width=\"12\" /><path d=\"M40.0,32.4 Q60.0,44.8 69.6,63.2\" fill=\"none\" stroke=\"black\" stroke-linejoin=\"bevel\" stroke-width=\"12\" /><path d=\"M127.4,17.8 Q119.6,27.0 90.2,35.6\" fill=\"none\" stroke=\"black\" stroke-linejoin=\"bevel\" stroke-width=\"12\" /><path d=\"M150.8,17.4 Q167.0,23.2 180.8,34.2\" fill=\"none\" stroke=\"black\" stroke-linejoin=\"bevel\" stroke-width=\"12\" /><path d=\"M128.0,3.2 Q142.4,6.0 147.8,10.4\" fill=\"none\" stroke=\"black\" stroke-linejoin=\"bevel\" stroke-width=\"12\" /><path d=\"M90.8,13.6 L189.8,13.6\" fill=\"none\" stroke=\"black\" stroke-linejoin=\"bevel\" stroke-width=\"12\" /><path d=\"M97.4,41.4 L97.4,81.6\" fill=\"none\" stroke=\"black\" stroke-linejoin=\"bevel\" stroke-width=\"12\" /><path d=\"M91.4,47.4 L188.6,47.4\" fill=\"none\" stroke=\"black\" stroke-linejoin=\"bevel\" stroke-width=\"12\" /><path d=\"M182.6,41.4 L182.6,81.6\" fill=\"none\" stroke=\"black\" stroke-linejoin=\"bevel\" stroke-width=\"12\" /><path d=\"M127.4,41.4 L127.4,52.4 Q127.4,62.4 102.8,66.8\" fill=\"none\" stroke=\"black\" stroke-linejoin=\"bevel\" stroke-width=\"12\" /><path d=\"M150.8,41.4 L150.8,53.4 Q150.8,63.4 160.8,63.4 L171.8,63.4\" fill=\"none\" stroke=\"black\" stroke-linejoin=\"bevel\" stroke-width=\"12\" /><path d=\"M91.4,72.6 L188.6,72.6\" fill=\"none\" stroke=\"black\" stroke-linejoin=\"bevel\" stroke-width=\"12\" /><path d=\"M24.0,78.73 L24.0,171.91 Q24.0,181.91 34.0,181.91 L170.0,181.91 Q180.0,181.91 185.0,161.91\" fill=\"none\" stroke=\"black\" stroke-linejoin=\"bevel\" stroke-width=\"12\" /><path d=\"M89.25,123.59989999999999 Q79.5,146.0985 42.75,167.1298\" fill=\"none\" stroke=\"black\" stroke-linejoin=\"bevel\" stroke-width=\"12\" /><path d=\"M118.5,122.62169999999999 Q138.75,136.8056 156.0,163.7061\" fill=\"none\" stroke=\"black\" stroke-linejoin=\"bevel\" stroke-width=\"12\" /><path d=\"M90.0,87.8956 Q108.0,94.743 114.75,105.50319999999999\" fill=\"none\" stroke=\"black\" stroke-linejoin=\"bevel\" stroke-width=\"12\" /><path d=\"M43.5,113.3288 L167.25,113.3288\" fill=\"none\" stroke=\"black\" stroke-linejoin=\"bevel\" stroke-width=\"12\" /></svg>"
      ],
      "text/plain": [
       "<svgwrite.drawing.Drawing at 0x7f2439d32490>"
      ]
     },
     "metadata": {},
     "output_type": "display_data"
    },
    {
     "data": {
      "image/svg+xml": [
       "<svg baseProfile=\"full\" height=\"200\" version=\"1.1\" width=\"200\" xmlns=\"http://www.w3.org/2000/svg\" xmlns:ev=\"http://www.w3.org/2001/xml-events\" xmlns:xlink=\"http://www.w3.org/1999/xlink\"><defs /><path d=\"M161.0,20.47 Q107.0,35.16 45.0,41.94\" fill=\"none\" stroke=\"black\" stroke-linejoin=\"bevel\" stroke-width=\"12\" /><path d=\"M52.0,36.29 Q42.0,73.58 20.0,98.44\" fill=\"none\" stroke=\"black\" stroke-linejoin=\"bevel\" stroke-width=\"12\" /><path d=\"M86.0,46.46 Q102.0,62.28 107.0,84.88\" fill=\"none\" stroke=\"black\" stroke-linejoin=\"bevel\" stroke-width=\"12\" /><path d=\"M138.0,39.68 Q163.0,62.28 173.0,87.14\" fill=\"none\" stroke=\"black\" stroke-linejoin=\"bevel\" stroke-width=\"12\" /><path d=\"M35.72,97.98 L160.52,97.98\" fill=\"none\" stroke=\"black\" stroke-linejoin=\"bevel\" stroke-width=\"12\" /><path d=\"M154.52,91.98 L154.52,141.2\" fill=\"none\" stroke=\"black\" stroke-linejoin=\"bevel\" stroke-width=\"12\" /><path d=\"M35.72,132.2 L160.52,132.2\" fill=\"none\" stroke=\"black\" stroke-linejoin=\"bevel\" stroke-width=\"12\" /><path d=\"M41.72,91.98 L41.72,168.02 Q41.72,178.02 51.72,178.02 L161.44,178.02 Q171.44,178.02 176.44,158.02\" fill=\"none\" stroke=\"black\" stroke-linejoin=\"bevel\" stroke-width=\"12\" /></svg>"
      ],
      "text/plain": [
       "<svgwrite.drawing.Drawing at 0x7f2439d29f10>"
      ]
     },
     "metadata": {},
     "output_type": "display_data"
    },
    {
     "data": {
      "image/svg+xml": [
       "<svg baseProfile=\"full\" height=\"200\" version=\"1.1\" width=\"200\" xmlns=\"http://www.w3.org/2000/svg\" xmlns:ev=\"http://www.w3.org/2001/xml-events\" xmlns:xlink=\"http://www.w3.org/1999/xlink\"><defs /><path d=\"M12.0,40.8 L188.0,40.8\" fill=\"none\" stroke=\"black\" stroke-linejoin=\"bevel\" stroke-width=\"12\" /><path d=\"M71.0,16.0 L71.0,64.0\" fill=\"none\" stroke=\"black\" stroke-linejoin=\"bevel\" stroke-width=\"12\" /><path d=\"M129.0,16.0 L129.0,64.0\" fill=\"none\" stroke=\"black\" stroke-linejoin=\"bevel\" stroke-width=\"12\" /><path d=\"M22.0,91.46000000000001 L184.0,91.46000000000001\" fill=\"none\" stroke=\"black\" stroke-linejoin=\"bevel\" stroke-width=\"12\" /><path d=\"M152.0,85.46000000000001 L152.0,177.94 Q152.0,187.94 132.0,182.94\" fill=\"none\" stroke=\"black\" stroke-linejoin=\"bevel\" stroke-width=\"12\" /><path d=\"M32.75,113.6437 L133.25,113.6437\" fill=\"none\" stroke=\"black\" stroke-linejoin=\"bevel\" stroke-width=\"12\" /><path d=\"M44.14,133.3417 L121.86,133.3417\" fill=\"none\" stroke=\"black\" stroke-linejoin=\"bevel\" stroke-width=\"12\" /><path d=\"M25.380000000000006,154.3529 L140.62,154.3529\" fill=\"none\" stroke=\"black\" stroke-linejoin=\"bevel\" stroke-width=\"12\" /></svg>"
      ],
      "text/plain": [
       "<svgwrite.drawing.Drawing at 0x7f2439d2ce50>"
      ]
     },
     "metadata": {},
     "output_type": "display_data"
    },
    {
     "data": {
      "image/svg+xml": [
       "<svg baseProfile=\"full\" height=\"200\" version=\"1.1\" width=\"200\" xmlns=\"http://www.w3.org/2000/svg\" xmlns:ev=\"http://www.w3.org/2001/xml-events\" xmlns:xlink=\"http://www.w3.org/1999/xlink\"><defs /><path d=\"M11.2,28.0 L77.6,28.0\" fill=\"none\" stroke=\"black\" stroke-linejoin=\"bevel\" stroke-width=\"12\" /><path d=\"M41.6,5.6 Q44.0,54.8 11.2,75.2\" fill=\"none\" stroke=\"black\" stroke-linejoin=\"bevel\" stroke-width=\"12\" /><path d=\"M40.0,32.4 Q60.0,44.8 69.6,63.2\" fill=\"none\" stroke=\"black\" stroke-linejoin=\"bevel\" stroke-width=\"12\" /><path d=\"M88.4,41.2 L191.6,27.6\" fill=\"none\" stroke=\"black\" stroke-linejoin=\"bevel\" stroke-width=\"12\" /><path d=\"M128.0,7.6 L128.0,58.400000000000006 Q128.0,68.4 138.0,68.4 L170.8,68.4 Q180.8,68.4 185.8,48.400000000000006\" fill=\"none\" stroke=\"black\" stroke-linejoin=\"bevel\" stroke-width=\"12\" /><path d=\"M24.0,78.73 L24.0,171.91 Q24.0,181.91 34.0,181.91 L170.0,181.91 Q180.0,181.91 185.0,161.91\" fill=\"none\" stroke=\"black\" stroke-linejoin=\"bevel\" stroke-width=\"12\" /><path d=\"M89.25,123.59989999999999 Q79.5,146.0985 42.75,167.1298\" fill=\"none\" stroke=\"black\" stroke-linejoin=\"bevel\" stroke-width=\"12\" /><path d=\"M118.5,122.62169999999999 Q138.75,136.8056 156.0,163.7061\" fill=\"none\" stroke=\"black\" stroke-linejoin=\"bevel\" stroke-width=\"12\" /><path d=\"M90.0,87.8956 Q108.0,94.743 114.75,105.50319999999999\" fill=\"none\" stroke=\"black\" stroke-linejoin=\"bevel\" stroke-width=\"12\" /><path d=\"M43.5,113.3288 L167.25,113.3288\" fill=\"none\" stroke=\"black\" stroke-linejoin=\"bevel\" stroke-width=\"12\" /></svg>"
      ],
      "text/plain": [
       "<svgwrite.drawing.Drawing at 0x7f2439d57790>"
      ]
     },
     "metadata": {},
     "output_type": "display_data"
    },
    {
     "data": {
      "image/svg+xml": [
       "<svg baseProfile=\"full\" height=\"200\" version=\"1.1\" width=\"200\" xmlns=\"http://www.w3.org/2000/svg\" xmlns:ev=\"http://www.w3.org/2001/xml-events\" xmlns:xlink=\"http://www.w3.org/1999/xlink\"><defs /><path d=\"M49.0,12.0 L49.0,68.0\" fill=\"none\" stroke=\"black\" stroke-linejoin=\"bevel\" stroke-width=\"12\" /><path d=\"M43.0,18.0 L156.0,18.0\" fill=\"none\" stroke=\"black\" stroke-linejoin=\"bevel\" stroke-width=\"12\" /><path d=\"M150.0,12.0 L150.0,68.0\" fill=\"none\" stroke=\"black\" stroke-linejoin=\"bevel\" stroke-width=\"12\" /><path d=\"M43.0,39.0 L156.0,39.0\" fill=\"none\" stroke=\"black\" stroke-linejoin=\"bevel\" stroke-width=\"12\" /><path d=\"M43.0,59.0 L156.0,59.0\" fill=\"none\" stroke=\"black\" stroke-linejoin=\"bevel\" stroke-width=\"12\" /><path d=\"M14.0,76.0 L188.0,76.0\" fill=\"none\" stroke=\"black\" stroke-linejoin=\"bevel\" stroke-width=\"12\" /><path d=\"M100.0,70.0 L100.0,183.0\" fill=\"none\" stroke=\"black\" stroke-linejoin=\"bevel\" stroke-width=\"12\" /><path d=\"M18.48,92.84 L45.04,92.84\" fill=\"none\" stroke=\"black\" stroke-linejoin=\"bevel\" stroke-width=\"12\" /><path d=\"M30.64,80.968 Q31.6,107.044 18.48,117.856\" fill=\"none\" stroke=\"black\" stroke-linejoin=\"bevel\" stroke-width=\"12\" /><path d=\"M30.0,95.172 Q38.0,101.744 41.84,111.49600000000001\" fill=\"none\" stroke=\"black\" stroke-linejoin=\"bevel\" stroke-width=\"12\" /><path d=\"M49.36,99.836 L90.64,92.628\" fill=\"none\" stroke=\"black\" stroke-linejoin=\"bevel\" stroke-width=\"12\" /><path d=\"M65.2,82.028 L65.2,104.25200000000001 Q65.2,114.25200000000001 75.2,114.25200000000001 L86.32,114.25200000000001\" fill=\"none\" stroke=\"black\" stroke-linejoin=\"bevel\" stroke-width=\"12\" /><path d=\"M45.6,144.5839 Q40.4,160.9185 20.8,176.18779999999998\" fill=\"none\" stroke=\"black\" stroke-linejoin=\"bevel\" stroke-width=\"12\" /><path d=\"M61.2,143.87369999999999 Q72.0,154.1716 81.2,173.70209999999997\" fill=\"none\" stroke=\"black\" stroke-linejoin=\"bevel\" stroke-width=\"12\" /><path d=\"M46.0,118.66159999999999 Q55.6,123.633 59.2,131.4452\" fill=\"none\" stroke=\"black\" stroke-linejoin=\"bevel\" stroke-width=\"12\" /><path d=\"M21.2,137.1268 L87.2,137.1268\" fill=\"none\" stroke=\"black\" stroke-linejoin=\"bevel\" stroke-width=\"12\" /><path d=\"M109.92,98.80799999999999 L182.07999999999998,98.80799999999999\" fill=\"none\" stroke=\"black\" stroke-linejoin=\"bevel\" stroke-width=\"12\" /><path d=\"M134.11,86.16 L134.11,110.64\" fill=\"none\" stroke=\"black\" stroke-linejoin=\"bevel\" stroke-width=\"12\" /><path d=\"M157.89,86.16 L157.89,110.64\" fill=\"none\" stroke=\"black\" stroke-linejoin=\"bevel\" stroke-width=\"12\" /><path d=\"M115.25,124.9863 L176.75,124.9863\" fill=\"none\" stroke=\"black\" stroke-linejoin=\"bevel\" stroke-width=\"12\" /><path d=\"M122.22,145.48829999999998 L169.78,145.48829999999998\" fill=\"none\" stroke=\"black\" stroke-linejoin=\"bevel\" stroke-width=\"12\" /><path d=\"M110.74,167.3571 L181.26,167.3571\" fill=\"none\" stroke=\"black\" stroke-linejoin=\"bevel\" stroke-width=\"12\" /></svg>"
      ],
      "text/plain": [
       "<svgwrite.drawing.Drawing at 0x7f2439d32d50>"
      ]
     },
     "metadata": {},
     "output_type": "display_data"
    },
    {
     "data": {
      "image/svg+xml": [
       "<svg baseProfile=\"full\" height=\"200\" version=\"1.1\" width=\"200\" xmlns=\"http://www.w3.org/2000/svg\" xmlns:ev=\"http://www.w3.org/2001/xml-events\" xmlns:xlink=\"http://www.w3.org/1999/xlink\"><defs /><path d=\"M12.0,40.8 L188.0,40.8\" fill=\"none\" stroke=\"black\" stroke-linejoin=\"bevel\" stroke-width=\"12\" /><path d=\"M71.0,16.0 L71.0,64.0\" fill=\"none\" stroke=\"black\" stroke-linejoin=\"bevel\" stroke-width=\"12\" /><path d=\"M129.0,16.0 L129.0,64.0\" fill=\"none\" stroke=\"black\" stroke-linejoin=\"bevel\" stroke-width=\"12\" /><path d=\"M22.0,91.46000000000001 L184.0,91.46000000000001\" fill=\"none\" stroke=\"black\" stroke-linejoin=\"bevel\" stroke-width=\"12\" /><path d=\"M152.0,85.46000000000001 L152.0,177.94 Q152.0,187.94 132.0,182.94\" fill=\"none\" stroke=\"black\" stroke-linejoin=\"bevel\" stroke-width=\"12\" /><path d=\"M32.75,113.6437 L133.25,113.6437\" fill=\"none\" stroke=\"black\" stroke-linejoin=\"bevel\" stroke-width=\"12\" /><path d=\"M44.14,133.3417 L121.86,133.3417\" fill=\"none\" stroke=\"black\" stroke-linejoin=\"bevel\" stroke-width=\"12\" /><path d=\"M25.380000000000006,154.3529 L140.62,154.3529\" fill=\"none\" stroke=\"black\" stroke-linejoin=\"bevel\" stroke-width=\"12\" /></svg>"
      ],
      "text/plain": [
       "<svgwrite.drawing.Drawing at 0x7f2439d2a4d0>"
      ]
     },
     "metadata": {},
     "output_type": "display_data"
    },
    {
     "data": {
      "image/svg+xml": [
       "<svg baseProfile=\"full\" height=\"200\" version=\"1.1\" width=\"200\" xmlns=\"http://www.w3.org/2000/svg\" xmlns:ev=\"http://www.w3.org/2001/xml-events\" xmlns:xlink=\"http://www.w3.org/1999/xlink\"><defs /><path d=\"M11.2,28.0 L77.6,28.0\" fill=\"none\" stroke=\"black\" stroke-linejoin=\"bevel\" stroke-width=\"12\" /><path d=\"M41.6,5.6 Q44.0,54.8 11.2,75.2\" fill=\"none\" stroke=\"black\" stroke-linejoin=\"bevel\" stroke-width=\"12\" /><path d=\"M40.0,32.4 Q60.0,44.8 69.6,63.2\" fill=\"none\" stroke=\"black\" stroke-linejoin=\"bevel\" stroke-width=\"12\" /><path d=\"M88.4,41.2 L191.6,27.6\" fill=\"none\" stroke=\"black\" stroke-linejoin=\"bevel\" stroke-width=\"12\" /><path d=\"M128.0,7.6 L128.0,58.400000000000006 Q128.0,68.4 138.0,68.4 L170.8,68.4 Q180.8,68.4 185.8,48.400000000000006\" fill=\"none\" stroke=\"black\" stroke-linejoin=\"bevel\" stroke-width=\"12\" /><path d=\"M24.0,78.73 L24.0,171.91 Q24.0,181.91 34.0,181.91 L170.0,181.91 Q180.0,181.91 185.0,161.91\" fill=\"none\" stroke=\"black\" stroke-linejoin=\"bevel\" stroke-width=\"12\" /><path d=\"M89.25,123.59989999999999 Q79.5,146.0985 42.75,167.1298\" fill=\"none\" stroke=\"black\" stroke-linejoin=\"bevel\" stroke-width=\"12\" /><path d=\"M118.5,122.62169999999999 Q138.75,136.8056 156.0,163.7061\" fill=\"none\" stroke=\"black\" stroke-linejoin=\"bevel\" stroke-width=\"12\" /><path d=\"M90.0,87.8956 Q108.0,94.743 114.75,105.50319999999999\" fill=\"none\" stroke=\"black\" stroke-linejoin=\"bevel\" stroke-width=\"12\" /><path d=\"M43.5,113.3288 L167.25,113.3288\" fill=\"none\" stroke=\"black\" stroke-linejoin=\"bevel\" stroke-width=\"12\" /></svg>"
      ],
      "text/plain": [
       "<svgwrite.drawing.Drawing at 0x7f2439d2b310>"
      ]
     },
     "metadata": {},
     "output_type": "display_data"
    },
    {
     "data": {
      "image/svg+xml": [
       "<svg baseProfile=\"full\" height=\"200\" version=\"1.1\" width=\"200\" xmlns=\"http://www.w3.org/2000/svg\" xmlns:ev=\"http://www.w3.org/2001/xml-events\" xmlns:xlink=\"http://www.w3.org/1999/xlink\"><defs /><path d=\"M161.0,20.47 Q107.0,35.16 45.0,41.94\" fill=\"none\" stroke=\"black\" stroke-linejoin=\"bevel\" stroke-width=\"12\" /><path d=\"M52.0,36.29 Q42.0,73.58 20.0,98.44\" fill=\"none\" stroke=\"black\" stroke-linejoin=\"bevel\" stroke-width=\"12\" /><path d=\"M86.0,46.46 Q102.0,62.28 107.0,84.88\" fill=\"none\" stroke=\"black\" stroke-linejoin=\"bevel\" stroke-width=\"12\" /><path d=\"M138.0,39.68 Q163.0,62.28 173.0,87.14\" fill=\"none\" stroke=\"black\" stroke-linejoin=\"bevel\" stroke-width=\"12\" /><path d=\"M35.72,97.98 L160.52,97.98\" fill=\"none\" stroke=\"black\" stroke-linejoin=\"bevel\" stroke-width=\"12\" /><path d=\"M154.52,91.98 L154.52,141.2\" fill=\"none\" stroke=\"black\" stroke-linejoin=\"bevel\" stroke-width=\"12\" /><path d=\"M35.72,132.2 L160.52,132.2\" fill=\"none\" stroke=\"black\" stroke-linejoin=\"bevel\" stroke-width=\"12\" /><path d=\"M41.72,91.98 L41.72,168.02 Q41.72,178.02 51.72,178.02 L161.44,178.02 Q171.44,178.02 176.44,158.02\" fill=\"none\" stroke=\"black\" stroke-linejoin=\"bevel\" stroke-width=\"12\" /></svg>"
      ],
      "text/plain": [
       "<svgwrite.drawing.Drawing at 0x7f2439d24e50>"
      ]
     },
     "metadata": {},
     "output_type": "display_data"
    },
    {
     "data": {
      "image/svg+xml": [
       "<svg baseProfile=\"full\" height=\"200\" version=\"1.1\" width=\"200\" xmlns=\"http://www.w3.org/2000/svg\" xmlns:ev=\"http://www.w3.org/2001/xml-events\" xmlns:xlink=\"http://www.w3.org/1999/xlink\"><defs /><path d=\"M12.0,40.8 L188.0,40.8\" fill=\"none\" stroke=\"black\" stroke-linejoin=\"bevel\" stroke-width=\"12\" /><path d=\"M71.0,16.0 L71.0,64.0\" fill=\"none\" stroke=\"black\" stroke-linejoin=\"bevel\" stroke-width=\"12\" /><path d=\"M129.0,16.0 L129.0,64.0\" fill=\"none\" stroke=\"black\" stroke-linejoin=\"bevel\" stroke-width=\"12\" /><path d=\"M22.0,91.46000000000001 L184.0,91.46000000000001\" fill=\"none\" stroke=\"black\" stroke-linejoin=\"bevel\" stroke-width=\"12\" /><path d=\"M152.0,85.46000000000001 L152.0,177.94 Q152.0,187.94 132.0,182.94\" fill=\"none\" stroke=\"black\" stroke-linejoin=\"bevel\" stroke-width=\"12\" /><path d=\"M32.75,113.6437 L133.25,113.6437\" fill=\"none\" stroke=\"black\" stroke-linejoin=\"bevel\" stroke-width=\"12\" /><path d=\"M44.14,133.3417 L121.86,133.3417\" fill=\"none\" stroke=\"black\" stroke-linejoin=\"bevel\" stroke-width=\"12\" /><path d=\"M25.380000000000006,154.3529 L140.62,154.3529\" fill=\"none\" stroke=\"black\" stroke-linejoin=\"bevel\" stroke-width=\"12\" /></svg>"
      ],
      "text/plain": [
       "<svgwrite.drawing.Drawing at 0x7f2439d19d50>"
      ]
     },
     "metadata": {},
     "output_type": "display_data"
    },
    {
     "data": {
      "image/svg+xml": [
       "<svg baseProfile=\"full\" height=\"200\" version=\"1.1\" width=\"200\" xmlns=\"http://www.w3.org/2000/svg\" xmlns:ev=\"http://www.w3.org/2001/xml-events\" xmlns:xlink=\"http://www.w3.org/1999/xlink\"><defs /><path d=\"M11.2,28.0 L77.6,28.0\" fill=\"none\" stroke=\"black\" stroke-linejoin=\"bevel\" stroke-width=\"12\" /><path d=\"M41.6,5.6 Q44.0,54.8 11.2,75.2\" fill=\"none\" stroke=\"black\" stroke-linejoin=\"bevel\" stroke-width=\"12\" /><path d=\"M40.0,32.4 Q60.0,44.8 69.6,63.2\" fill=\"none\" stroke=\"black\" stroke-linejoin=\"bevel\" stroke-width=\"12\" /><path d=\"M88.4,20.6 L191.6,13.8\" fill=\"none\" stroke=\"black\" stroke-linejoin=\"bevel\" stroke-width=\"12\" /><path d=\"M128.0,3.8 L128.0,24.200000000000003 Q128.0,34.2 138.0,34.2 L180.8,34.2\" fill=\"none\" stroke=\"black\" stroke-linejoin=\"bevel\" stroke-width=\"12\" /><path d=\"M128.6,42.8 L128.6,52.2 Q128.6,70.8 88.4,76.8\" fill=\"none\" stroke=\"black\" stroke-linejoin=\"bevel\" stroke-width=\"12\" /><path d=\"M93.8,53.2 L165.2,53.2\" fill=\"none\" stroke=\"black\" stroke-linejoin=\"bevel\" stroke-width=\"12\" /><path d=\"M159.54892305627672,47.210154200582586 L158.5815384271279,63.81692366763763 Q158.0,73.8 168.0,73.8 L189.2,73.8\" fill=\"none\" stroke=\"black\" stroke-linejoin=\"bevel\" stroke-width=\"12\" /><path d=\"M24.0,78.73 L24.0,171.91 Q24.0,181.91 34.0,181.91 L170.0,181.91 Q180.0,181.91 185.0,161.91\" fill=\"none\" stroke=\"black\" stroke-linejoin=\"bevel\" stroke-width=\"12\" /><path d=\"M89.25,123.59989999999999 Q79.5,146.0985 42.75,167.1298\" fill=\"none\" stroke=\"black\" stroke-linejoin=\"bevel\" stroke-width=\"12\" /><path d=\"M118.5,122.62169999999999 Q138.75,136.8056 156.0,163.7061\" fill=\"none\" stroke=\"black\" stroke-linejoin=\"bevel\" stroke-width=\"12\" /><path d=\"M90.0,87.8956 Q108.0,94.743 114.75,105.50319999999999\" fill=\"none\" stroke=\"black\" stroke-linejoin=\"bevel\" stroke-width=\"12\" /><path d=\"M43.5,113.3288 L167.25,113.3288\" fill=\"none\" stroke=\"black\" stroke-linejoin=\"bevel\" stroke-width=\"12\" /></svg>"
      ],
      "text/plain": [
       "<svgwrite.drawing.Drawing at 0x7f2439cdb790>"
      ]
     },
     "metadata": {},
     "output_type": "display_data"
    },
    {
     "data": {
      "image/svg+xml": [
       "<svg baseProfile=\"full\" height=\"200\" version=\"1.1\" width=\"200\" xmlns=\"http://www.w3.org/2000/svg\" xmlns:ev=\"http://www.w3.org/2001/xml-events\" xmlns:xlink=\"http://www.w3.org/1999/xlink\"><defs /><path d=\"M161.0,20.47 Q107.0,35.16 45.0,41.94\" fill=\"none\" stroke=\"black\" stroke-linejoin=\"bevel\" stroke-width=\"12\" /><path d=\"M52.0,36.29 Q42.0,73.58 20.0,98.44\" fill=\"none\" stroke=\"black\" stroke-linejoin=\"bevel\" stroke-width=\"12\" /><path d=\"M86.0,46.46 Q102.0,62.28 107.0,84.88\" fill=\"none\" stroke=\"black\" stroke-linejoin=\"bevel\" stroke-width=\"12\" /><path d=\"M138.0,39.68 Q163.0,62.28 173.0,87.14\" fill=\"none\" stroke=\"black\" stroke-linejoin=\"bevel\" stroke-width=\"12\" /><path d=\"M35.72,97.98 L160.52,97.98\" fill=\"none\" stroke=\"black\" stroke-linejoin=\"bevel\" stroke-width=\"12\" /><path d=\"M154.52,91.98 L154.52,141.2\" fill=\"none\" stroke=\"black\" stroke-linejoin=\"bevel\" stroke-width=\"12\" /><path d=\"M35.72,132.2 L160.52,132.2\" fill=\"none\" stroke=\"black\" stroke-linejoin=\"bevel\" stroke-width=\"12\" /><path d=\"M41.72,91.98 L41.72,168.02 Q41.72,178.02 51.72,178.02 L161.44,178.02 Q171.44,178.02 176.44,158.02\" fill=\"none\" stroke=\"black\" stroke-linejoin=\"bevel\" stroke-width=\"12\" /></svg>"
      ],
      "text/plain": [
       "<svgwrite.drawing.Drawing at 0x7f249c1f8f90>"
      ]
     },
     "metadata": {},
     "output_type": "display_data"
    },
    {
     "data": {
      "image/svg+xml": [
       "<svg baseProfile=\"full\" height=\"200\" version=\"1.1\" width=\"200\" xmlns=\"http://www.w3.org/2000/svg\" xmlns:ev=\"http://www.w3.org/2001/xml-events\" xmlns:xlink=\"http://www.w3.org/1999/xlink\"><defs /><path d=\"M12.0,40.8 L188.0,40.8\" fill=\"none\" stroke=\"black\" stroke-linejoin=\"bevel\" stroke-width=\"12\" /><path d=\"M71.0,16.0 L71.0,64.0\" fill=\"none\" stroke=\"black\" stroke-linejoin=\"bevel\" stroke-width=\"12\" /><path d=\"M129.0,16.0 L129.0,64.0\" fill=\"none\" stroke=\"black\" stroke-linejoin=\"bevel\" stroke-width=\"12\" /><path d=\"M22.0,91.46000000000001 L184.0,91.46000000000001\" fill=\"none\" stroke=\"black\" stroke-linejoin=\"bevel\" stroke-width=\"12\" /><path d=\"M152.0,85.46000000000001 L152.0,177.94 Q152.0,187.94 132.0,182.94\" fill=\"none\" stroke=\"black\" stroke-linejoin=\"bevel\" stroke-width=\"12\" /><path d=\"M32.75,113.6437 L133.25,113.6437\" fill=\"none\" stroke=\"black\" stroke-linejoin=\"bevel\" stroke-width=\"12\" /><path d=\"M44.14,133.3417 L121.86,133.3417\" fill=\"none\" stroke=\"black\" stroke-linejoin=\"bevel\" stroke-width=\"12\" /><path d=\"M25.380000000000006,154.3529 L140.62,154.3529\" fill=\"none\" stroke=\"black\" stroke-linejoin=\"bevel\" stroke-width=\"12\" /></svg>"
      ],
      "text/plain": [
       "<svgwrite.drawing.Drawing at 0x7f2439d30f90>"
      ]
     },
     "metadata": {},
     "output_type": "display_data"
    },
    {
     "data": {
      "image/svg+xml": [
       "<svg baseProfile=\"full\" height=\"200\" version=\"1.1\" width=\"200\" xmlns=\"http://www.w3.org/2000/svg\" xmlns:ev=\"http://www.w3.org/2001/xml-events\" xmlns:xlink=\"http://www.w3.org/1999/xlink\"><defs /><path d=\"M40.176,7.6 Q31.992000000000004,30.0 11.904000000000002,46.8\" fill=\"none\" stroke=\"black\" stroke-linejoin=\"bevel\" stroke-width=\"12\" /><path d=\"M26.736000000000004,21.6 L70.728,21.6\" fill=\"none\" stroke=\"black\" stroke-linejoin=\"bevel\" stroke-width=\"12\" /><path d=\"M64.728,21.6 Q55.056,61.2 11.16,74.8\" fill=\"none\" stroke=\"black\" stroke-linejoin=\"bevel\" stroke-width=\"12\" /><path d=\"M25.296,32.4 Q39.431999999999995,37.2 46.12799999999999,44.4\" fill=\"none\" stroke=\"black\" stroke-linejoin=\"bevel\" stroke-width=\"12\" /><path d=\"M88.4,36.8 L191.6,36.8\" fill=\"none\" stroke=\"black\" stroke-linejoin=\"bevel\" stroke-width=\"12\" /><path d=\"M140.0,6.8 L140.0,74.0\" fill=\"none\" stroke=\"black\" stroke-linejoin=\"bevel\" stroke-width=\"12\" /><path d=\"M24.0,78.73 L24.0,171.91 Q24.0,181.91 34.0,181.91 L170.0,181.91 Q180.0,181.91 185.0,161.91\" fill=\"none\" stroke=\"black\" stroke-linejoin=\"bevel\" stroke-width=\"12\" /><path d=\"M89.25,123.59989999999999 Q79.5,146.0985 42.75,167.1298\" fill=\"none\" stroke=\"black\" stroke-linejoin=\"bevel\" stroke-width=\"12\" /><path d=\"M118.5,122.62169999999999 Q138.75,136.8056 156.0,163.7061\" fill=\"none\" stroke=\"black\" stroke-linejoin=\"bevel\" stroke-width=\"12\" /><path d=\"M90.0,87.8956 Q108.0,94.743 114.75,105.50319999999999\" fill=\"none\" stroke=\"black\" stroke-linejoin=\"bevel\" stroke-width=\"12\" /><path d=\"M43.5,113.3288 L167.25,113.3288\" fill=\"none\" stroke=\"black\" stroke-linejoin=\"bevel\" stroke-width=\"12\" /></svg>"
      ],
      "text/plain": [
       "<svgwrite.drawing.Drawing at 0x7f2439d54e50>"
      ]
     },
     "metadata": {},
     "output_type": "display_data"
    },
    {
     "data": {
      "image/svg+xml": [
       "<svg baseProfile=\"full\" height=\"200\" version=\"1.1\" width=\"200\" xmlns=\"http://www.w3.org/2000/svg\" xmlns:ev=\"http://www.w3.org/2001/xml-events\" xmlns:xlink=\"http://www.w3.org/1999/xlink\"><defs /><path d=\"M49.0,12.0 L49.0,68.0\" fill=\"none\" stroke=\"black\" stroke-linejoin=\"bevel\" stroke-width=\"12\" /><path d=\"M43.0,18.0 L156.0,18.0\" fill=\"none\" stroke=\"black\" stroke-linejoin=\"bevel\" stroke-width=\"12\" /><path d=\"M150.0,12.0 L150.0,68.0\" fill=\"none\" stroke=\"black\" stroke-linejoin=\"bevel\" stroke-width=\"12\" /><path d=\"M43.0,39.0 L156.0,39.0\" fill=\"none\" stroke=\"black\" stroke-linejoin=\"bevel\" stroke-width=\"12\" /><path d=\"M43.0,59.0 L156.0,59.0\" fill=\"none\" stroke=\"black\" stroke-linejoin=\"bevel\" stroke-width=\"12\" /><path d=\"M14.0,76.0 L188.0,76.0\" fill=\"none\" stroke=\"black\" stroke-linejoin=\"bevel\" stroke-width=\"12\" /><path d=\"M100.0,70.0 L100.0,183.0\" fill=\"none\" stroke=\"black\" stroke-linejoin=\"bevel\" stroke-width=\"12\" /><path d=\"M30.0704,82.028 Q26.796800000000005,93.9 18.7616,102.804\" fill=\"none\" stroke=\"black\" stroke-linejoin=\"bevel\" stroke-width=\"12\" /><path d=\"M21.0944,89.44800000000001 L45.8912,89.44800000000001\" fill=\"none\" stroke=\"black\" stroke-linejoin=\"bevel\" stroke-width=\"12\" /><path d=\"M39.8912,89.44800000000001 Q36.0224,110.436 18.464,117.644\" fill=\"none\" stroke=\"black\" stroke-linejoin=\"bevel\" stroke-width=\"12\" /><path d=\"M24.1184,95.172 Q29.772799999999997,97.71600000000001 32.4512,101.532\" fill=\"none\" stroke=\"black\" stroke-linejoin=\"bevel\" stroke-width=\"12\" /><path d=\"M49.36,97.50399999999999 L90.64,97.50399999999999\" fill=\"none\" stroke=\"black\" stroke-linejoin=\"bevel\" stroke-width=\"12\" /><path d=\"M70.0,81.604 L70.0,117.22\" fill=\"none\" stroke=\"black\" stroke-linejoin=\"bevel\" stroke-width=\"12\" /><path d=\"M45.6,144.5839 Q40.4,160.9185 20.8,176.18779999999998\" fill=\"none\" stroke=\"black\" stroke-linejoin=\"bevel\" stroke-width=\"12\" /><path d=\"M61.2,143.87369999999999 Q72.0,154.1716 81.2,173.70209999999997\" fill=\"none\" stroke=\"black\" stroke-linejoin=\"bevel\" stroke-width=\"12\" /><path d=\"M46.0,118.66159999999999 Q55.6,123.633 59.2,131.4452\" fill=\"none\" stroke=\"black\" stroke-linejoin=\"bevel\" stroke-width=\"12\" /><path d=\"M21.2,137.1268 L87.2,137.1268\" fill=\"none\" stroke=\"black\" stroke-linejoin=\"bevel\" stroke-width=\"12\" /><path d=\"M109.92,98.80799999999999 L182.07999999999998,98.80799999999999\" fill=\"none\" stroke=\"black\" stroke-linejoin=\"bevel\" stroke-width=\"12\" /><path d=\"M134.11,86.16 L134.11,110.64\" fill=\"none\" stroke=\"black\" stroke-linejoin=\"bevel\" stroke-width=\"12\" /><path d=\"M157.89,86.16 L157.89,110.64\" fill=\"none\" stroke=\"black\" stroke-linejoin=\"bevel\" stroke-width=\"12\" /><path d=\"M115.25,124.9863 L176.75,124.9863\" fill=\"none\" stroke=\"black\" stroke-linejoin=\"bevel\" stroke-width=\"12\" /><path d=\"M122.22,145.48829999999998 L169.78,145.48829999999998\" fill=\"none\" stroke=\"black\" stroke-linejoin=\"bevel\" stroke-width=\"12\" /><path d=\"M110.74,167.3571 L181.26,167.3571\" fill=\"none\" stroke=\"black\" stroke-linejoin=\"bevel\" stroke-width=\"12\" /></svg>"
      ],
      "text/plain": [
       "<svgwrite.drawing.Drawing at 0x7f2439d3a090>"
      ]
     },
     "metadata": {},
     "output_type": "display_data"
    },
    {
     "name": "stdout",
     "output_type": "stream",
     "text": [
      "「\n"
     ]
    },
    {
     "data": {
      "image/svg+xml": [
       "<svg baseProfile=\"full\" height=\"200\" version=\"1.1\" width=\"200\" xmlns=\"http://www.w3.org/2000/svg\" xmlns:ev=\"http://www.w3.org/2001/xml-events\" xmlns:xlink=\"http://www.w3.org/1999/xlink\"><defs /><path d=\"M40.176,7.6 Q31.992000000000004,30.0 11.904000000000002,46.8\" fill=\"none\" stroke=\"black\" stroke-linejoin=\"bevel\" stroke-width=\"12\" /><path d=\"M26.736000000000004,21.6 L70.728,21.6\" fill=\"none\" stroke=\"black\" stroke-linejoin=\"bevel\" stroke-width=\"12\" /><path d=\"M64.728,21.6 Q55.056,61.2 11.16,74.8\" fill=\"none\" stroke=\"black\" stroke-linejoin=\"bevel\" stroke-width=\"12\" /><path d=\"M25.296,32.4 Q39.431999999999995,37.2 46.12799999999999,44.4\" fill=\"none\" stroke=\"black\" stroke-linejoin=\"bevel\" stroke-width=\"12\" /><path d=\"M88.4,36.8 L191.6,36.8\" fill=\"none\" stroke=\"black\" stroke-linejoin=\"bevel\" stroke-width=\"12\" /><path d=\"M140.0,6.8 L140.0,74.0\" fill=\"none\" stroke=\"black\" stroke-linejoin=\"bevel\" stroke-width=\"12\" /><path d=\"M22.0,91.46000000000001 L184.0,91.46000000000001\" fill=\"none\" stroke=\"black\" stroke-linejoin=\"bevel\" stroke-width=\"12\" /><path d=\"M152.0,85.46000000000001 L152.0,177.94 Q152.0,187.94 132.0,182.94\" fill=\"none\" stroke=\"black\" stroke-linejoin=\"bevel\" stroke-width=\"12\" /></svg>"
      ],
      "text/plain": [
       "<svgwrite.drawing.Drawing at 0x7f2439d1e990>"
      ]
     },
     "metadata": {},
     "output_type": "display_data"
    },
    {
     "data": {
      "image/svg+xml": [
       "<svg baseProfile=\"full\" height=\"200\" version=\"1.1\" width=\"200\" xmlns=\"http://www.w3.org/2000/svg\" xmlns:ev=\"http://www.w3.org/2001/xml-events\" xmlns:xlink=\"http://www.w3.org/1999/xlink\"><defs /><path d=\"M11.2,28.0 L77.6,28.0\" fill=\"none\" stroke=\"black\" stroke-linejoin=\"bevel\" stroke-width=\"12\" /><path d=\"M41.6,5.6 Q44.0,54.8 11.2,75.2\" fill=\"none\" stroke=\"black\" stroke-linejoin=\"bevel\" stroke-width=\"12\" /><path d=\"M40.0,32.4 Q60.0,44.8 69.6,63.2\" fill=\"none\" stroke=\"black\" stroke-linejoin=\"bevel\" stroke-width=\"12\" /><path d=\"M128.6,5.6 L128.6,24.4 Q128.6,61.6 88.4,73.6\" fill=\"none\" stroke=\"black\" stroke-linejoin=\"bevel\" stroke-width=\"12\" /><path d=\"M93.8,26.4 L165.2,26.4\" fill=\"none\" stroke=\"black\" stroke-linejoin=\"bevel\" stroke-width=\"12\" /><path d=\"M159.3746832022088,20.4025433908309 L158.291138670348,57.604238984718165 Q158.0,67.6 168.0,67.6 L189.2,67.6\" fill=\"none\" stroke=\"black\" stroke-linejoin=\"bevel\" stroke-width=\"12\" /><path d=\"M28.0,84.76 L188.0,84.76\" fill=\"none\" stroke=\"black\" stroke-linejoin=\"bevel\" stroke-width=\"12\" /><path d=\"M34.0,78.76 L34.0,126.97 Q34.0,175.20999999999998 12.0,192.63\" fill=\"none\" stroke=\"black\" stroke-linejoin=\"bevel\" stroke-width=\"12\" /><path d=\"M50.36,113.18642500000001 L177.64,104.24527499999999\" fill=\"none\" stroke=\"black\" stroke-linejoin=\"bevel\" stroke-width=\"12\" /><path d=\"M99.2,91.096525 L99.2,121.068725 Q99.2,131.068725 109.2,131.068725 L164.32,131.068725\" fill=\"none\" stroke=\"black\" stroke-linejoin=\"bevel\" stroke-width=\"12\" /><path d=\"M98.46,162.09977500000002 Q88.84,174.19662499999998 52.58,185.50455\" fill=\"none\" stroke=\"black\" stroke-linejoin=\"bevel\" stroke-width=\"12\" /><path d=\"M127.32,161.573825 Q147.3,169.20010000000002 164.32,183.663725\" fill=\"none\" stroke=\"black\" stroke-linejoin=\"bevel\" stroke-width=\"12\" /><path d=\"M99.2,142.9026 Q116.96,146.58425 123.62,152.3697\" fill=\"none\" stroke=\"black\" stroke-linejoin=\"bevel\" stroke-width=\"12\" /><path d=\"M53.32,156.57729999999998 L175.42,156.57729999999998\" fill=\"none\" stroke=\"black\" stroke-linejoin=\"bevel\" stroke-width=\"12\" /></svg>"
      ],
      "text/plain": [
       "<svgwrite.drawing.Drawing at 0x7f2439d55290>"
      ]
     },
     "metadata": {},
     "output_type": "display_data"
    },
    {
     "data": {
      "image/svg+xml": [
       "<svg baseProfile=\"full\" height=\"200\" version=\"1.1\" width=\"200\" xmlns=\"http://www.w3.org/2000/svg\" xmlns:ev=\"http://www.w3.org/2001/xml-events\" xmlns:xlink=\"http://www.w3.org/1999/xlink\"><defs /><path d=\"M40.176,7.6 Q31.992000000000004,30.0 11.904000000000002,46.8\" fill=\"none\" stroke=\"black\" stroke-linejoin=\"bevel\" stroke-width=\"12\" /><path d=\"M26.736000000000004,21.6 L70.728,21.6\" fill=\"none\" stroke=\"black\" stroke-linejoin=\"bevel\" stroke-width=\"12\" /><path d=\"M64.728,21.6 Q55.056,61.2 11.16,74.8\" fill=\"none\" stroke=\"black\" stroke-linejoin=\"bevel\" stroke-width=\"12\" /><path d=\"M25.296,32.4 Q39.431999999999995,37.2 46.12799999999999,44.4\" fill=\"none\" stroke=\"black\" stroke-linejoin=\"bevel\" stroke-width=\"12\" /><path d=\"M88.4,36.8 L191.6,36.8\" fill=\"none\" stroke=\"black\" stroke-linejoin=\"bevel\" stroke-width=\"12\" /><path d=\"M140.0,6.8 L140.0,74.0\" fill=\"none\" stroke=\"black\" stroke-linejoin=\"bevel\" stroke-width=\"12\" /><path d=\"M168.0,78.11359999999999 Q117.0,87.3462 22.0,92.3176\" fill=\"none\" stroke=\"black\" stroke-linejoin=\"bevel\" stroke-width=\"12\" /><path d=\"M35.0,97.9992 Q53.0,107.94200000000001 59.0,122.14599999999999\" fill=\"none\" stroke=\"black\" stroke-linejoin=\"bevel\" stroke-width=\"12\" /><path d=\"M84.0,94.4482 Q101.0,104.39099999999999 105.0,116.4644\" fill=\"none\" stroke=\"black\" stroke-linejoin=\"bevel\" stroke-width=\"12\" /><path d=\"M159.0,90.187 Q153.0,98.7094 134.0,124.2766\" fill=\"none\" stroke=\"black\" stroke-linejoin=\"bevel\" stroke-width=\"12\" /><path d=\"M29.0,135.01 L159.0,135.01\" fill=\"none\" stroke=\"black\" stroke-linejoin=\"bevel\" stroke-width=\"12\" /><path d=\"M153.0,129.01 L153.0,167.45999999999998\" fill=\"none\" stroke=\"black\" stroke-linejoin=\"bevel\" stroke-width=\"12\" /><path d=\"M35.0,129.01 L35.0,175.26 Q35.0,185.26 45.0,185.26 L182.0,185.26\" fill=\"none\" stroke=\"black\" stroke-linejoin=\"bevel\" stroke-width=\"12\" /><path d=\"M29.0,158.45999999999998 L159.0,158.45999999999998\" fill=\"none\" stroke=\"black\" stroke-linejoin=\"bevel\" stroke-width=\"12\" /></svg>"
      ],
      "text/plain": [
       "<svgwrite.drawing.Drawing at 0x7f2439d556d0>"
      ]
     },
     "metadata": {},
     "output_type": "display_data"
    },
    {
     "data": {
      "image/svg+xml": [
       "<svg baseProfile=\"full\" height=\"200\" version=\"1.1\" width=\"200\" xmlns=\"http://www.w3.org/2000/svg\" xmlns:ev=\"http://www.w3.org/2001/xml-events\" xmlns:xlink=\"http://www.w3.org/1999/xlink\"><defs /><path d=\"M12.0,40.8 L188.0,40.8\" fill=\"none\" stroke=\"black\" stroke-linejoin=\"bevel\" stroke-width=\"12\" /><path d=\"M71.0,16.0 L71.0,64.0\" fill=\"none\" stroke=\"black\" stroke-linejoin=\"bevel\" stroke-width=\"12\" /><path d=\"M129.0,16.0 L129.0,64.0\" fill=\"none\" stroke=\"black\" stroke-linejoin=\"bevel\" stroke-width=\"12\" /><path d=\"M22.0,91.46000000000001 L184.0,91.46000000000001\" fill=\"none\" stroke=\"black\" stroke-linejoin=\"bevel\" stroke-width=\"12\" /><path d=\"M152.0,85.46000000000001 L152.0,177.94 Q152.0,187.94 132.0,182.94\" fill=\"none\" stroke=\"black\" stroke-linejoin=\"bevel\" stroke-width=\"12\" /><path d=\"M32.75,113.6437 L133.25,113.6437\" fill=\"none\" stroke=\"black\" stroke-linejoin=\"bevel\" stroke-width=\"12\" /><path d=\"M44.14,133.3417 L121.86,133.3417\" fill=\"none\" stroke=\"black\" stroke-linejoin=\"bevel\" stroke-width=\"12\" /><path d=\"M25.380000000000006,154.3529 L140.62,154.3529\" fill=\"none\" stroke=\"black\" stroke-linejoin=\"bevel\" stroke-width=\"12\" /></svg>"
      ],
      "text/plain": [
       "<svgwrite.drawing.Drawing at 0x7f2439d55590>"
      ]
     },
     "metadata": {},
     "output_type": "display_data"
    },
    {
     "data": {
      "image/svg+xml": [
       "<svg baseProfile=\"full\" height=\"200\" version=\"1.1\" width=\"200\" xmlns=\"http://www.w3.org/2000/svg\" xmlns:ev=\"http://www.w3.org/2001/xml-events\" xmlns:xlink=\"http://www.w3.org/1999/xlink\"><defs /><path d=\"M40.176,7.6 Q31.992000000000004,30.0 11.904000000000002,46.8\" fill=\"none\" stroke=\"black\" stroke-linejoin=\"bevel\" stroke-width=\"12\" /><path d=\"M26.736000000000004,21.6 L70.728,21.6\" fill=\"none\" stroke=\"black\" stroke-linejoin=\"bevel\" stroke-width=\"12\" /><path d=\"M64.728,21.6 Q55.056,61.2 11.16,74.8\" fill=\"none\" stroke=\"black\" stroke-linejoin=\"bevel\" stroke-width=\"12\" /><path d=\"M25.296,32.4 Q39.431999999999995,37.2 46.12799999999999,44.4\" fill=\"none\" stroke=\"black\" stroke-linejoin=\"bevel\" stroke-width=\"12\" /><path d=\"M88.4,36.8 L191.6,36.8\" fill=\"none\" stroke=\"black\" stroke-linejoin=\"bevel\" stroke-width=\"12\" /><path d=\"M140.0,6.8 L140.0,74.0\" fill=\"none\" stroke=\"black\" stroke-linejoin=\"bevel\" stroke-width=\"12\" /><path d=\"M24.0,78.73 L24.0,171.91 Q24.0,181.91 34.0,181.91 L170.0,181.91 Q180.0,181.91 185.0,161.91\" fill=\"none\" stroke=\"black\" stroke-linejoin=\"bevel\" stroke-width=\"12\" /><path d=\"M89.25,123.59989999999999 Q79.5,146.0985 42.75,167.1298\" fill=\"none\" stroke=\"black\" stroke-linejoin=\"bevel\" stroke-width=\"12\" /><path d=\"M118.5,122.62169999999999 Q138.75,136.8056 156.0,163.7061\" fill=\"none\" stroke=\"black\" stroke-linejoin=\"bevel\" stroke-width=\"12\" /><path d=\"M90.0,87.8956 Q108.0,94.743 114.75,105.50319999999999\" fill=\"none\" stroke=\"black\" stroke-linejoin=\"bevel\" stroke-width=\"12\" /><path d=\"M43.5,113.3288 L167.25,113.3288\" fill=\"none\" stroke=\"black\" stroke-linejoin=\"bevel\" stroke-width=\"12\" /></svg>"
      ],
      "text/plain": [
       "<svgwrite.drawing.Drawing at 0x7f2439d14e50>"
      ]
     },
     "metadata": {},
     "output_type": "display_data"
    },
    {
     "data": {
      "image/svg+xml": [
       "<svg baseProfile=\"full\" height=\"200\" version=\"1.1\" width=\"200\" xmlns=\"http://www.w3.org/2000/svg\" xmlns:ev=\"http://www.w3.org/2001/xml-events\" xmlns:xlink=\"http://www.w3.org/1999/xlink\"><defs /><path d=\"M49.0,12.0 L49.0,68.0\" fill=\"none\" stroke=\"black\" stroke-linejoin=\"bevel\" stroke-width=\"12\" /><path d=\"M43.0,18.0 L156.0,18.0\" fill=\"none\" stroke=\"black\" stroke-linejoin=\"bevel\" stroke-width=\"12\" /><path d=\"M150.0,12.0 L150.0,68.0\" fill=\"none\" stroke=\"black\" stroke-linejoin=\"bevel\" stroke-width=\"12\" /><path d=\"M43.0,39.0 L156.0,39.0\" fill=\"none\" stroke=\"black\" stroke-linejoin=\"bevel\" stroke-width=\"12\" /><path d=\"M43.0,59.0 L156.0,59.0\" fill=\"none\" stroke=\"black\" stroke-linejoin=\"bevel\" stroke-width=\"12\" /><path d=\"M14.0,76.0 L188.0,76.0\" fill=\"none\" stroke=\"black\" stroke-linejoin=\"bevel\" stroke-width=\"12\" /><path d=\"M100.0,70.0 L100.0,183.0\" fill=\"none\" stroke=\"black\" stroke-linejoin=\"bevel\" stroke-width=\"12\" /><path d=\"M30.0704,82.028 Q26.796800000000005,93.9 18.7616,102.804\" fill=\"none\" stroke=\"black\" stroke-linejoin=\"bevel\" stroke-width=\"12\" /><path d=\"M21.0944,89.44800000000001 L45.8912,89.44800000000001\" fill=\"none\" stroke=\"black\" stroke-linejoin=\"bevel\" stroke-width=\"12\" /><path d=\"M39.8912,89.44800000000001 Q36.0224,110.436 18.464,117.644\" fill=\"none\" stroke=\"black\" stroke-linejoin=\"bevel\" stroke-width=\"12\" /><path d=\"M24.1184,95.172 Q29.772799999999997,97.71600000000001 32.4512,101.532\" fill=\"none\" stroke=\"black\" stroke-linejoin=\"bevel\" stroke-width=\"12\" /><path d=\"M49.36,97.50399999999999 L90.64,97.50399999999999\" fill=\"none\" stroke=\"black\" stroke-linejoin=\"bevel\" stroke-width=\"12\" /><path d=\"M70.0,81.604 L70.0,117.22\" fill=\"none\" stroke=\"black\" stroke-linejoin=\"bevel\" stroke-width=\"12\" /><path d=\"M45.6,144.5839 Q40.4,160.9185 20.8,176.18779999999998\" fill=\"none\" stroke=\"black\" stroke-linejoin=\"bevel\" stroke-width=\"12\" /><path d=\"M61.2,143.87369999999999 Q72.0,154.1716 81.2,173.70209999999997\" fill=\"none\" stroke=\"black\" stroke-linejoin=\"bevel\" stroke-width=\"12\" /><path d=\"M46.0,118.66159999999999 Q55.6,123.633 59.2,131.4452\" fill=\"none\" stroke=\"black\" stroke-linejoin=\"bevel\" stroke-width=\"12\" /><path d=\"M21.2,137.1268 L87.2,137.1268\" fill=\"none\" stroke=\"black\" stroke-linejoin=\"bevel\" stroke-width=\"12\" /><path d=\"M109.92,98.80799999999999 L182.07999999999998,98.80799999999999\" fill=\"none\" stroke=\"black\" stroke-linejoin=\"bevel\" stroke-width=\"12\" /><path d=\"M134.11,86.16 L134.11,110.64\" fill=\"none\" stroke=\"black\" stroke-linejoin=\"bevel\" stroke-width=\"12\" /><path d=\"M157.89,86.16 L157.89,110.64\" fill=\"none\" stroke=\"black\" stroke-linejoin=\"bevel\" stroke-width=\"12\" /><path d=\"M115.25,124.9863 L176.75,124.9863\" fill=\"none\" stroke=\"black\" stroke-linejoin=\"bevel\" stroke-width=\"12\" /><path d=\"M122.22,145.48829999999998 L169.78,145.48829999999998\" fill=\"none\" stroke=\"black\" stroke-linejoin=\"bevel\" stroke-width=\"12\" /><path d=\"M110.74,167.3571 L181.26,167.3571\" fill=\"none\" stroke=\"black\" stroke-linejoin=\"bevel\" stroke-width=\"12\" /></svg>"
      ],
      "text/plain": [
       "<svgwrite.drawing.Drawing at 0x7f2439d24e50>"
      ]
     },
     "metadata": {},
     "output_type": "display_data"
    },
    {
     "name": "stdout",
     "output_type": "stream",
     "text": [
      "从「再作\n",
      "『二』\n"
     ]
    },
    {
     "data": {
      "image/svg+xml": [
       "<svg baseProfile=\"full\" height=\"200\" version=\"1.1\" width=\"200\" xmlns=\"http://www.w3.org/2000/svg\" xmlns:ev=\"http://www.w3.org/2001/xml-events\" xmlns:xlink=\"http://www.w3.org/1999/xlink\"><defs /><path d=\"M12.0,40.8 L188.0,40.8\" fill=\"none\" stroke=\"black\" stroke-linejoin=\"bevel\" stroke-width=\"12\" /><path d=\"M71.0,16.0 L71.0,64.0\" fill=\"none\" stroke=\"black\" stroke-linejoin=\"bevel\" stroke-width=\"12\" /><path d=\"M129.0,16.0 L129.0,64.0\" fill=\"none\" stroke=\"black\" stroke-linejoin=\"bevel\" stroke-width=\"12\" /><path d=\"M22.0,91.46000000000001 L184.0,91.46000000000001\" fill=\"none\" stroke=\"black\" stroke-linejoin=\"bevel\" stroke-width=\"12\" /><path d=\"M152.0,85.46000000000001 L152.0,177.94 Q152.0,187.94 132.0,182.94\" fill=\"none\" stroke=\"black\" stroke-linejoin=\"bevel\" stroke-width=\"12\" /><path d=\"M32.75,113.6437 L133.25,113.6437\" fill=\"none\" stroke=\"black\" stroke-linejoin=\"bevel\" stroke-width=\"12\" /><path d=\"M44.14,133.3417 L121.86,133.3417\" fill=\"none\" stroke=\"black\" stroke-linejoin=\"bevel\" stroke-width=\"12\" /><path d=\"M25.380000000000006,154.3529 L140.62,154.3529\" fill=\"none\" stroke=\"black\" stroke-linejoin=\"bevel\" stroke-width=\"12\" /></svg>"
      ],
      "text/plain": [
       "<svgwrite.drawing.Drawing at 0x7f2439cdb810>"
      ]
     },
     "metadata": {},
     "output_type": "display_data"
    },
    {
     "data": {
      "image/svg+xml": [
       "<svg baseProfile=\"full\" height=\"200\" version=\"1.1\" width=\"200\" xmlns=\"http://www.w3.org/2000/svg\" xmlns:ev=\"http://www.w3.org/2001/xml-events\" xmlns:xlink=\"http://www.w3.org/1999/xlink\"><defs /><path d=\"M11.2,28.0 L77.6,28.0\" fill=\"none\" stroke=\"black\" stroke-linejoin=\"bevel\" stroke-width=\"12\" /><path d=\"M41.6,5.6 Q44.0,54.8 11.2,75.2\" fill=\"none\" stroke=\"black\" stroke-linejoin=\"bevel\" stroke-width=\"12\" /><path d=\"M40.0,32.4 Q60.0,44.8 69.6,63.2\" fill=\"none\" stroke=\"black\" stroke-linejoin=\"bevel\" stroke-width=\"12\" /><path d=\"M128.6,5.6 L128.6,24.4 Q128.6,61.6 88.4,73.6\" fill=\"none\" stroke=\"black\" stroke-linejoin=\"bevel\" stroke-width=\"12\" /><path d=\"M93.8,26.4 L165.2,26.4\" fill=\"none\" stroke=\"black\" stroke-linejoin=\"bevel\" stroke-width=\"12\" /><path d=\"M159.3746832022088,20.4025433908309 L158.291138670348,57.604238984718165 Q158.0,67.6 168.0,67.6 L179.2,67.6 Q189.2,67.6 194.2,47.599999999999994\" fill=\"none\" stroke=\"black\" stroke-linejoin=\"bevel\" stroke-width=\"12\" /><path d=\"M24.0,78.73 L24.0,171.91 Q24.0,181.91 34.0,181.91 L170.0,181.91 Q180.0,181.91 185.0,161.91\" fill=\"none\" stroke=\"black\" stroke-linejoin=\"bevel\" stroke-width=\"12\" /><path d=\"M89.25,123.59989999999999 Q79.5,146.0985 42.75,167.1298\" fill=\"none\" stroke=\"black\" stroke-linejoin=\"bevel\" stroke-width=\"12\" /><path d=\"M118.5,122.62169999999999 Q138.75,136.8056 156.0,163.7061\" fill=\"none\" stroke=\"black\" stroke-linejoin=\"bevel\" stroke-width=\"12\" /><path d=\"M90.0,87.8956 Q108.0,94.743 114.75,105.50319999999999\" fill=\"none\" stroke=\"black\" stroke-linejoin=\"bevel\" stroke-width=\"12\" /><path d=\"M43.5,113.3288 L167.25,113.3288\" fill=\"none\" stroke=\"black\" stroke-linejoin=\"bevel\" stroke-width=\"12\" /></svg>"
      ],
      "text/plain": [
       "<svgwrite.drawing.Drawing at 0x7f2439d2b490>"
      ]
     },
     "metadata": {},
     "output_type": "display_data"
    },
    {
     "name": "stdout",
     "output_type": "stream",
     "text": [
      "上七九\n"
     ]
    },
    {
     "data": {
      "image/svg+xml": [
       "<svg baseProfile=\"full\" height=\"200\" version=\"1.1\" width=\"200\" xmlns=\"http://www.w3.org/2000/svg\" xmlns:ev=\"http://www.w3.org/2001/xml-events\" xmlns:xlink=\"http://www.w3.org/1999/xlink\"><defs /><path d=\"M12.0,40.8 L188.0,40.8\" fill=\"none\" stroke=\"black\" stroke-linejoin=\"bevel\" stroke-width=\"12\" /><path d=\"M71.0,16.0 L71.0,64.0\" fill=\"none\" stroke=\"black\" stroke-linejoin=\"bevel\" stroke-width=\"12\" /><path d=\"M129.0,16.0 L129.0,64.0\" fill=\"none\" stroke=\"black\" stroke-linejoin=\"bevel\" stroke-width=\"12\" /><path d=\"M22.0,91.46000000000001 L184.0,91.46000000000001\" fill=\"none\" stroke=\"black\" stroke-linejoin=\"bevel\" stroke-width=\"12\" /><path d=\"M152.0,85.46000000000001 L152.0,177.94 Q152.0,187.94 132.0,182.94\" fill=\"none\" stroke=\"black\" stroke-linejoin=\"bevel\" stroke-width=\"12\" /><path d=\"M32.75,113.6437 L133.25,113.6437\" fill=\"none\" stroke=\"black\" stroke-linejoin=\"bevel\" stroke-width=\"12\" /><path d=\"M44.14,133.3417 L121.86,133.3417\" fill=\"none\" stroke=\"black\" stroke-linejoin=\"bevel\" stroke-width=\"12\" /><path d=\"M25.380000000000006,154.3529 L140.62,154.3529\" fill=\"none\" stroke=\"black\" stroke-linejoin=\"bevel\" stroke-width=\"12\" /></svg>"
      ],
      "text/plain": [
       "<svgwrite.drawing.Drawing at 0x7f2439d14e50>"
      ]
     },
     "metadata": {},
     "output_type": "display_data"
    },
    {
     "data": {
      "image/svg+xml": [
       "<svg baseProfile=\"full\" height=\"200\" version=\"1.1\" width=\"200\" xmlns=\"http://www.w3.org/2000/svg\" xmlns:ev=\"http://www.w3.org/2001/xml-events\" xmlns:xlink=\"http://www.w3.org/1999/xlink\"><defs /><path d=\"M11.2,28.0 L77.6,28.0\" fill=\"none\" stroke=\"black\" stroke-linejoin=\"bevel\" stroke-width=\"12\" /><path d=\"M41.6,5.6 Q44.0,54.8 11.2,75.2\" fill=\"none\" stroke=\"black\" stroke-linejoin=\"bevel\" stroke-width=\"12\" /><path d=\"M40.0,32.4 Q60.0,44.8 69.6,63.2\" fill=\"none\" stroke=\"black\" stroke-linejoin=\"bevel\" stroke-width=\"12\" /><path d=\"M88.4,20.6 L191.6,13.8\" fill=\"none\" stroke=\"black\" stroke-linejoin=\"bevel\" stroke-width=\"12\" /><path d=\"M128.0,3.8 L128.0,24.200000000000003 Q128.0,34.2 138.0,34.2 L180.8,34.2\" fill=\"none\" stroke=\"black\" stroke-linejoin=\"bevel\" stroke-width=\"12\" /><path d=\"M128.6,42.8 L128.6,52.2 Q128.6,70.8 88.4,76.8\" fill=\"none\" stroke=\"black\" stroke-linejoin=\"bevel\" stroke-width=\"12\" /><path d=\"M93.8,53.2 L165.2,53.2\" fill=\"none\" stroke=\"black\" stroke-linejoin=\"bevel\" stroke-width=\"12\" /><path d=\"M159.54892305627672,47.210154200582586 L158.5815384271279,63.81692366763763 Q158.0,73.8 168.0,73.8 L189.2,73.8\" fill=\"none\" stroke=\"black\" stroke-linejoin=\"bevel\" stroke-width=\"12\" /><path d=\"M24.0,78.73 L24.0,171.91 Q24.0,181.91 34.0,181.91 L170.0,181.91 Q180.0,181.91 185.0,161.91\" fill=\"none\" stroke=\"black\" stroke-linejoin=\"bevel\" stroke-width=\"12\" /><path d=\"M89.25,123.59989999999999 Q79.5,146.0985 42.75,167.1298\" fill=\"none\" stroke=\"black\" stroke-linejoin=\"bevel\" stroke-width=\"12\" /><path d=\"M118.5,122.62169999999999 Q138.75,136.8056 156.0,163.7061\" fill=\"none\" stroke=\"black\" stroke-linejoin=\"bevel\" stroke-width=\"12\" /><path d=\"M90.0,87.8956 Q108.0,94.743 114.75,105.50319999999999\" fill=\"none\" stroke=\"black\" stroke-linejoin=\"bevel\" stroke-width=\"12\" /><path d=\"M43.5,113.3288 L167.25,113.3288\" fill=\"none\" stroke=\"black\" stroke-linejoin=\"bevel\" stroke-width=\"12\" /></svg>"
      ],
      "text/plain": [
       "<svgwrite.drawing.Drawing at 0x7f2439d319d0>"
      ]
     },
     "metadata": {},
     "output_type": "display_data"
    },
    {
     "name": "stdout",
     "output_type": "stream",
     "text": [
      "上七\n"
     ]
    },
    {
     "data": {
      "image/svg+xml": [
       "<svg baseProfile=\"full\" height=\"200\" version=\"1.1\" width=\"200\" xmlns=\"http://www.w3.org/2000/svg\" xmlns:ev=\"http://www.w3.org/2001/xml-events\" xmlns:xlink=\"http://www.w3.org/1999/xlink\"><defs /><path d=\"M12.0,40.8 L188.0,40.8\" fill=\"none\" stroke=\"black\" stroke-linejoin=\"bevel\" stroke-width=\"12\" /><path d=\"M71.0,16.0 L71.0,64.0\" fill=\"none\" stroke=\"black\" stroke-linejoin=\"bevel\" stroke-width=\"12\" /><path d=\"M129.0,16.0 L129.0,64.0\" fill=\"none\" stroke=\"black\" stroke-linejoin=\"bevel\" stroke-width=\"12\" /><path d=\"M22.0,91.46000000000001 L184.0,91.46000000000001\" fill=\"none\" stroke=\"black\" stroke-linejoin=\"bevel\" stroke-width=\"12\" /><path d=\"M152.0,85.46000000000001 L152.0,177.94 Q152.0,187.94 132.0,182.94\" fill=\"none\" stroke=\"black\" stroke-linejoin=\"bevel\" stroke-width=\"12\" /><path d=\"M32.75,113.6437 L133.25,113.6437\" fill=\"none\" stroke=\"black\" stroke-linejoin=\"bevel\" stroke-width=\"12\" /><path d=\"M44.14,133.3417 L121.86,133.3417\" fill=\"none\" stroke=\"black\" stroke-linejoin=\"bevel\" stroke-width=\"12\" /><path d=\"M25.380000000000006,154.3529 L140.62,154.3529\" fill=\"none\" stroke=\"black\" stroke-linejoin=\"bevel\" stroke-width=\"12\" /></svg>"
      ],
      "text/plain": [
       "<svgwrite.drawing.Drawing at 0x7f2439d28550>"
      ]
     },
     "metadata": {},
     "output_type": "display_data"
    },
    {
     "data": {
      "image/svg+xml": [
       "<svg baseProfile=\"full\" height=\"200\" version=\"1.1\" width=\"200\" xmlns=\"http://www.w3.org/2000/svg\" xmlns:ev=\"http://www.w3.org/2001/xml-events\" xmlns:xlink=\"http://www.w3.org/1999/xlink\"><defs /><path d=\"M11.2,28.0 L77.6,28.0\" fill=\"none\" stroke=\"black\" stroke-linejoin=\"bevel\" stroke-width=\"12\" /><path d=\"M41.6,5.6 Q44.0,54.8 11.2,75.2\" fill=\"none\" stroke=\"black\" stroke-linejoin=\"bevel\" stroke-width=\"12\" /><path d=\"M40.0,32.4 Q60.0,44.8 69.6,63.2\" fill=\"none\" stroke=\"black\" stroke-linejoin=\"bevel\" stroke-width=\"12\" /><path d=\"M88.4,41.2 L191.6,27.6\" fill=\"none\" stroke=\"black\" stroke-linejoin=\"bevel\" stroke-width=\"12\" /><path d=\"M128.0,7.6 L128.0,58.400000000000006 Q128.0,68.4 138.0,68.4 L180.8,68.4\" fill=\"none\" stroke=\"black\" stroke-linejoin=\"bevel\" stroke-width=\"12\" /><path d=\"M20.0,96.7396 L180.0,96.7396\" fill=\"none\" stroke=\"black\" stroke-linejoin=\"bevel\" stroke-width=\"12\" /><path d=\"M100.0,77.6312 L100.0,137.4488\" fill=\"none\" stroke=\"black\" stroke-linejoin=\"bevel\" stroke-width=\"12\" /><path d=\"M95.0,96.7396 Q64.0,129.1408 14.0,143.2644\" fill=\"none\" stroke=\"black\" stroke-linejoin=\"bevel\" stroke-width=\"12\" /><path d=\"M105.0,96.7396 Q136.0,126.64840000000001 178.0,137.4488\" fill=\"none\" stroke=\"black\" stroke-linejoin=\"bevel\" stroke-width=\"12\" /><path d=\"M79.0,164.67425000000003 Q66.0,179.31375 17.0,192.9985\" fill=\"none\" stroke=\"black\" stroke-linejoin=\"bevel\" stroke-width=\"12\" /><path d=\"M118.0,164.03775000000002 Q145.0,173.267 168.0,190.77075\" fill=\"none\" stroke=\"black\" stroke-linejoin=\"bevel\" stroke-width=\"12\" /><path d=\"M80.0,141.442 Q104.0,145.89749999999998 113.0,152.899\" fill=\"none\" stroke=\"black\" stroke-linejoin=\"bevel\" stroke-width=\"12\" /><path d=\"M18.0,157.99099999999999 L183.0,157.99099999999999\" fill=\"none\" stroke=\"black\" stroke-linejoin=\"bevel\" stroke-width=\"12\" /></svg>"
      ],
      "text/plain": [
       "<svgwrite.drawing.Drawing at 0x7f2439d1ce50>"
      ]
     },
     "metadata": {},
     "output_type": "display_data"
    },
    {
     "data": {
      "image/svg+xml": [
       "<svg baseProfile=\"full\" height=\"200\" version=\"1.1\" width=\"200\" xmlns=\"http://www.w3.org/2000/svg\" xmlns:ev=\"http://www.w3.org/2001/xml-events\" xmlns:xlink=\"http://www.w3.org/1999/xlink\"><defs /><path d=\"M49.0,12.0 L49.0,68.0\" fill=\"none\" stroke=\"black\" stroke-linejoin=\"bevel\" stroke-width=\"12\" /><path d=\"M43.0,18.0 L156.0,18.0\" fill=\"none\" stroke=\"black\" stroke-linejoin=\"bevel\" stroke-width=\"12\" /><path d=\"M150.0,12.0 L150.0,68.0\" fill=\"none\" stroke=\"black\" stroke-linejoin=\"bevel\" stroke-width=\"12\" /><path d=\"M43.0,39.0 L156.0,39.0\" fill=\"none\" stroke=\"black\" stroke-linejoin=\"bevel\" stroke-width=\"12\" /><path d=\"M43.0,59.0 L156.0,59.0\" fill=\"none\" stroke=\"black\" stroke-linejoin=\"bevel\" stroke-width=\"12\" /><path d=\"M14.0,76.0 L188.0,76.0\" fill=\"none\" stroke=\"black\" stroke-linejoin=\"bevel\" stroke-width=\"12\" /><path d=\"M100.0,70.0 L100.0,183.0\" fill=\"none\" stroke=\"black\" stroke-linejoin=\"bevel\" stroke-width=\"12\" /><path d=\"M18.48,92.84 L45.04,92.84\" fill=\"none\" stroke=\"black\" stroke-linejoin=\"bevel\" stroke-width=\"12\" /><path d=\"M30.64,80.968 Q31.6,107.044 18.48,117.856\" fill=\"none\" stroke=\"black\" stroke-linejoin=\"bevel\" stroke-width=\"12\" /><path d=\"M30.0,95.172 Q38.0,101.744 41.84,111.49600000000001\" fill=\"none\" stroke=\"black\" stroke-linejoin=\"bevel\" stroke-width=\"12\" /><path d=\"M49.36,99.836 L90.64,92.628\" fill=\"none\" stroke=\"black\" stroke-linejoin=\"bevel\" stroke-width=\"12\" /><path d=\"M65.2,82.028 L65.2,104.25200000000001 Q65.2,114.25200000000001 75.2,114.25200000000001 L86.32,114.25200000000001\" fill=\"none\" stroke=\"black\" stroke-linejoin=\"bevel\" stroke-width=\"12\" /><path d=\"M45.6,144.5839 Q40.4,160.9185 20.8,176.18779999999998\" fill=\"none\" stroke=\"black\" stroke-linejoin=\"bevel\" stroke-width=\"12\" /><path d=\"M61.2,143.87369999999999 Q72.0,154.1716 81.2,173.70209999999997\" fill=\"none\" stroke=\"black\" stroke-linejoin=\"bevel\" stroke-width=\"12\" /><path d=\"M46.0,118.66159999999999 Q55.6,123.633 59.2,131.4452\" fill=\"none\" stroke=\"black\" stroke-linejoin=\"bevel\" stroke-width=\"12\" /><path d=\"M21.2,137.1268 L87.2,137.1268\" fill=\"none\" stroke=\"black\" stroke-linejoin=\"bevel\" stroke-width=\"12\" /><path d=\"M109.92,98.80799999999999 L182.07999999999998,98.80799999999999\" fill=\"none\" stroke=\"black\" stroke-linejoin=\"bevel\" stroke-width=\"12\" /><path d=\"M134.11,86.16 L134.11,110.64\" fill=\"none\" stroke=\"black\" stroke-linejoin=\"bevel\" stroke-width=\"12\" /><path d=\"M157.89,86.16 L157.89,110.64\" fill=\"none\" stroke=\"black\" stroke-linejoin=\"bevel\" stroke-width=\"12\" /><path d=\"M115.25,124.9863 L176.75,124.9863\" fill=\"none\" stroke=\"black\" stroke-linejoin=\"bevel\" stroke-width=\"12\" /><path d=\"M122.22,145.48829999999998 L169.78,145.48829999999998\" fill=\"none\" stroke=\"black\" stroke-linejoin=\"bevel\" stroke-width=\"12\" /><path d=\"M110.74,167.3571 L181.26,167.3571\" fill=\"none\" stroke=\"black\" stroke-linejoin=\"bevel\" stroke-width=\"12\" /></svg>"
      ],
      "text/plain": [
       "<svgwrite.drawing.Drawing at 0x7f2439d33a50>"
      ]
     },
     "metadata": {},
     "output_type": "display_data"
    },
    {
     "data": {
      "image/svg+xml": [
       "<svg baseProfile=\"full\" height=\"200\" version=\"1.1\" width=\"200\" xmlns=\"http://www.w3.org/2000/svg\" xmlns:ev=\"http://www.w3.org/2001/xml-events\" xmlns:xlink=\"http://www.w3.org/1999/xlink\"><defs /><path d=\"M12.0,40.8 L188.0,40.8\" fill=\"none\" stroke=\"black\" stroke-linejoin=\"bevel\" stroke-width=\"12\" /><path d=\"M71.0,16.0 L71.0,64.0\" fill=\"none\" stroke=\"black\" stroke-linejoin=\"bevel\" stroke-width=\"12\" /><path d=\"M129.0,16.0 L129.0,64.0\" fill=\"none\" stroke=\"black\" stroke-linejoin=\"bevel\" stroke-width=\"12\" /><path d=\"M22.0,91.46000000000001 L184.0,91.46000000000001\" fill=\"none\" stroke=\"black\" stroke-linejoin=\"bevel\" stroke-width=\"12\" /><path d=\"M152.0,85.46000000000001 L152.0,177.94 Q152.0,187.94 132.0,182.94\" fill=\"none\" stroke=\"black\" stroke-linejoin=\"bevel\" stroke-width=\"12\" /><path d=\"M32.75,113.6437 L133.25,113.6437\" fill=\"none\" stroke=\"black\" stroke-linejoin=\"bevel\" stroke-width=\"12\" /><path d=\"M44.14,133.3417 L121.86,133.3417\" fill=\"none\" stroke=\"black\" stroke-linejoin=\"bevel\" stroke-width=\"12\" /><path d=\"M25.380000000000006,154.3529 L140.62,154.3529\" fill=\"none\" stroke=\"black\" stroke-linejoin=\"bevel\" stroke-width=\"12\" /></svg>"
      ],
      "text/plain": [
       "<svgwrite.drawing.Drawing at 0x7f249e97f690>"
      ]
     },
     "metadata": {},
     "output_type": "display_data"
    },
    {
     "data": {
      "image/svg+xml": [
       "<svg baseProfile=\"full\" height=\"200\" version=\"1.1\" width=\"200\" xmlns=\"http://www.w3.org/2000/svg\" xmlns:ev=\"http://www.w3.org/2001/xml-events\" xmlns:xlink=\"http://www.w3.org/1999/xlink\"><defs /><path d=\"M11.2,28.0 L77.6,28.0\" fill=\"none\" stroke=\"black\" stroke-linejoin=\"bevel\" stroke-width=\"12\" /><path d=\"M41.6,5.6 Q44.0,54.8 11.2,75.2\" fill=\"none\" stroke=\"black\" stroke-linejoin=\"bevel\" stroke-width=\"12\" /><path d=\"M40.0,32.4 Q60.0,44.8 69.6,63.2\" fill=\"none\" stroke=\"black\" stroke-linejoin=\"bevel\" stroke-width=\"12\" /><path d=\"M88.4,41.2 L191.6,27.6\" fill=\"none\" stroke=\"black\" stroke-linejoin=\"bevel\" stroke-width=\"12\" /><path d=\"M128.0,7.6 L128.0,58.400000000000006 Q128.0,68.4 138.0,68.4 L170.8,68.4 Q180.8,68.4 185.8,48.400000000000006\" fill=\"none\" stroke=\"black\" stroke-linejoin=\"bevel\" stroke-width=\"12\" /><path d=\"M24.0,78.73 L24.0,171.91 Q24.0,181.91 34.0,181.91 L170.0,181.91 Q180.0,181.91 185.0,161.91\" fill=\"none\" stroke=\"black\" stroke-linejoin=\"bevel\" stroke-width=\"12\" /><path d=\"M89.25,123.59989999999999 Q79.5,146.0985 42.75,167.1298\" fill=\"none\" stroke=\"black\" stroke-linejoin=\"bevel\" stroke-width=\"12\" /><path d=\"M118.5,122.62169999999999 Q138.75,136.8056 156.0,163.7061\" fill=\"none\" stroke=\"black\" stroke-linejoin=\"bevel\" stroke-width=\"12\" /><path d=\"M90.0,87.8956 Q108.0,94.743 114.75,105.50319999999999\" fill=\"none\" stroke=\"black\" stroke-linejoin=\"bevel\" stroke-width=\"12\" /><path d=\"M43.5,113.3288 L167.25,113.3288\" fill=\"none\" stroke=\"black\" stroke-linejoin=\"bevel\" stroke-width=\"12\" /></svg>"
      ],
      "text/plain": [
       "<svgwrite.drawing.Drawing at 0x7f2439d309d0>"
      ]
     },
     "metadata": {},
     "output_type": "display_data"
    },
    {
     "name": "stdout",
     "output_type": "stream",
     "text": [
      "上六四\n"
     ]
    },
    {
     "data": {
      "image/svg+xml": [
       "<svg baseProfile=\"full\" height=\"200\" version=\"1.1\" width=\"200\" xmlns=\"http://www.w3.org/2000/svg\" xmlns:ev=\"http://www.w3.org/2001/xml-events\" xmlns:xlink=\"http://www.w3.org/1999/xlink\"><defs /><path d=\"M12.0,40.8 L188.0,40.8\" fill=\"none\" stroke=\"black\" stroke-linejoin=\"bevel\" stroke-width=\"12\" /><path d=\"M71.0,16.0 L71.0,64.0\" fill=\"none\" stroke=\"black\" stroke-linejoin=\"bevel\" stroke-width=\"12\" /><path d=\"M129.0,16.0 L129.0,64.0\" fill=\"none\" stroke=\"black\" stroke-linejoin=\"bevel\" stroke-width=\"12\" /><path d=\"M22.0,91.46000000000001 L184.0,91.46000000000001\" fill=\"none\" stroke=\"black\" stroke-linejoin=\"bevel\" stroke-width=\"12\" /><path d=\"M152.0,85.46000000000001 L152.0,177.94 Q152.0,187.94 132.0,182.94\" fill=\"none\" stroke=\"black\" stroke-linejoin=\"bevel\" stroke-width=\"12\" /><path d=\"M32.75,113.6437 L133.25,113.6437\" fill=\"none\" stroke=\"black\" stroke-linejoin=\"bevel\" stroke-width=\"12\" /><path d=\"M44.14,133.3417 L121.86,133.3417\" fill=\"none\" stroke=\"black\" stroke-linejoin=\"bevel\" stroke-width=\"12\" /><path d=\"M25.380000000000006,154.3529 L140.62,154.3529\" fill=\"none\" stroke=\"black\" stroke-linejoin=\"bevel\" stroke-width=\"12\" /></svg>"
      ],
      "text/plain": [
       "<svgwrite.drawing.Drawing at 0x7f248c342d10>"
      ]
     },
     "metadata": {},
     "output_type": "display_data"
    },
    {
     "data": {
      "image/svg+xml": [
       "<svg baseProfile=\"full\" height=\"200\" version=\"1.1\" width=\"200\" xmlns=\"http://www.w3.org/2000/svg\" xmlns:ev=\"http://www.w3.org/2001/xml-events\" xmlns:xlink=\"http://www.w3.org/1999/xlink\"><defs /><path d=\"M11.2,28.0 L77.6,28.0\" fill=\"none\" stroke=\"black\" stroke-linejoin=\"bevel\" stroke-width=\"12\" /><path d=\"M41.6,5.6 Q44.0,54.8 11.2,75.2\" fill=\"none\" stroke=\"black\" stroke-linejoin=\"bevel\" stroke-width=\"12\" /><path d=\"M40.0,32.4 Q60.0,44.8 69.6,63.2\" fill=\"none\" stroke=\"black\" stroke-linejoin=\"bevel\" stroke-width=\"12\" /><path d=\"M127.4,17.8 Q119.6,27.0 90.2,35.6\" fill=\"none\" stroke=\"black\" stroke-linejoin=\"bevel\" stroke-width=\"12\" /><path d=\"M150.8,17.4 Q167.0,23.2 180.8,34.2\" fill=\"none\" stroke=\"black\" stroke-linejoin=\"bevel\" stroke-width=\"12\" /><path d=\"M128.0,3.2 Q142.4,6.0 147.8,10.4\" fill=\"none\" stroke=\"black\" stroke-linejoin=\"bevel\" stroke-width=\"12\" /><path d=\"M90.8,13.6 L189.8,13.6\" fill=\"none\" stroke=\"black\" stroke-linejoin=\"bevel\" stroke-width=\"12\" /><path d=\"M97.4,41.4 L97.4,81.6\" fill=\"none\" stroke=\"black\" stroke-linejoin=\"bevel\" stroke-width=\"12\" /><path d=\"M91.4,47.4 L188.6,47.4\" fill=\"none\" stroke=\"black\" stroke-linejoin=\"bevel\" stroke-width=\"12\" /><path d=\"M182.6,41.4 L182.6,81.6\" fill=\"none\" stroke=\"black\" stroke-linejoin=\"bevel\" stroke-width=\"12\" /><path d=\"M127.4,41.4 L127.4,52.4 Q127.4,62.4 102.8,66.8\" fill=\"none\" stroke=\"black\" stroke-linejoin=\"bevel\" stroke-width=\"12\" /><path d=\"M150.8,41.4 L150.8,53.4 Q150.8,63.4 160.8,63.4 L171.8,63.4\" fill=\"none\" stroke=\"black\" stroke-linejoin=\"bevel\" stroke-width=\"12\" /><path d=\"M91.4,72.6 L188.6,72.6\" fill=\"none\" stroke=\"black\" stroke-linejoin=\"bevel\" stroke-width=\"12\" /><path d=\"M24.0,78.73 L24.0,171.91 Q24.0,181.91 34.0,181.91 L170.0,181.91 Q180.0,181.91 185.0,161.91\" fill=\"none\" stroke=\"black\" stroke-linejoin=\"bevel\" stroke-width=\"12\" /><path d=\"M89.25,123.59989999999999 Q79.5,146.0985 42.75,167.1298\" fill=\"none\" stroke=\"black\" stroke-linejoin=\"bevel\" stroke-width=\"12\" /><path d=\"M118.5,122.62169999999999 Q138.75,136.8056 156.0,163.7061\" fill=\"none\" stroke=\"black\" stroke-linejoin=\"bevel\" stroke-width=\"12\" /><path d=\"M90.0,87.8956 Q108.0,94.743 114.75,105.50319999999999\" fill=\"none\" stroke=\"black\" stroke-linejoin=\"bevel\" stroke-width=\"12\" /><path d=\"M43.5,113.3288 L167.25,113.3288\" fill=\"none\" stroke=\"black\" stroke-linejoin=\"bevel\" stroke-width=\"12\" /></svg>"
      ],
      "text/plain": [
       "<svgwrite.drawing.Drawing at 0x7f248c604a10>"
      ]
     },
     "metadata": {},
     "output_type": "display_data"
    },
    {
     "name": "stdout",
     "output_type": "stream",
     "text": [
      "上五六\n"
     ]
    },
    {
     "data": {
      "image/svg+xml": [
       "<svg baseProfile=\"full\" height=\"200\" version=\"1.1\" width=\"200\" xmlns=\"http://www.w3.org/2000/svg\" xmlns:ev=\"http://www.w3.org/2001/xml-events\" xmlns:xlink=\"http://www.w3.org/1999/xlink\"><defs /><path d=\"M12.0,40.8 L188.0,40.8\" fill=\"none\" stroke=\"black\" stroke-linejoin=\"bevel\" stroke-width=\"12\" /><path d=\"M71.0,16.0 L71.0,64.0\" fill=\"none\" stroke=\"black\" stroke-linejoin=\"bevel\" stroke-width=\"12\" /><path d=\"M129.0,16.0 L129.0,64.0\" fill=\"none\" stroke=\"black\" stroke-linejoin=\"bevel\" stroke-width=\"12\" /><path d=\"M22.0,91.46000000000001 L184.0,91.46000000000001\" fill=\"none\" stroke=\"black\" stroke-linejoin=\"bevel\" stroke-width=\"12\" /><path d=\"M152.0,85.46000000000001 L152.0,177.94 Q152.0,187.94 132.0,182.94\" fill=\"none\" stroke=\"black\" stroke-linejoin=\"bevel\" stroke-width=\"12\" /><path d=\"M32.75,113.6437 L133.25,113.6437\" fill=\"none\" stroke=\"black\" stroke-linejoin=\"bevel\" stroke-width=\"12\" /><path d=\"M44.14,133.3417 L121.86,133.3417\" fill=\"none\" stroke=\"black\" stroke-linejoin=\"bevel\" stroke-width=\"12\" /><path d=\"M25.380000000000006,154.3529 L140.62,154.3529\" fill=\"none\" stroke=\"black\" stroke-linejoin=\"bevel\" stroke-width=\"12\" /></svg>"
      ],
      "text/plain": [
       "<svgwrite.drawing.Drawing at 0x7f2439d1ab10>"
      ]
     },
     "metadata": {},
     "output_type": "display_data"
    },
    {
     "data": {
      "image/svg+xml": [
       "<svg baseProfile=\"full\" height=\"200\" version=\"1.1\" width=\"200\" xmlns=\"http://www.w3.org/2000/svg\" xmlns:ev=\"http://www.w3.org/2001/xml-events\" xmlns:xlink=\"http://www.w3.org/1999/xlink\"><defs /><path d=\"M11.2,28.0 L77.6,28.0\" fill=\"none\" stroke=\"black\" stroke-linejoin=\"bevel\" stroke-width=\"12\" /><path d=\"M41.6,5.6 Q44.0,54.8 11.2,75.2\" fill=\"none\" stroke=\"black\" stroke-linejoin=\"bevel\" stroke-width=\"12\" /><path d=\"M40.0,32.4 Q60.0,44.8 69.6,63.2\" fill=\"none\" stroke=\"black\" stroke-linejoin=\"bevel\" stroke-width=\"12\" /><path d=\"M93.2,6.4 L186.8,6.4\" fill=\"none\" stroke=\"black\" stroke-linejoin=\"bevel\" stroke-width=\"12\" /><path d=\"M138.83720341258535,1.225505297076829 L116.56279658741465,39.17449470292317\" fill=\"none\" stroke=\"black\" stroke-linejoin=\"bevel\" stroke-width=\"12\" /><path d=\"M99.2,18.2 L170.0,18.2\" fill=\"none\" stroke=\"black\" stroke-linejoin=\"bevel\" stroke-width=\"12\" /><path d=\"M164.0,12.2 L164.0,40.0\" fill=\"none\" stroke=\"black\" stroke-linejoin=\"bevel\" stroke-width=\"12\" /><path d=\"M88.4,34.0 L191.6,34.0\" fill=\"none\" stroke=\"black\" stroke-linejoin=\"bevel\" stroke-width=\"12\" /><path d=\"M127.4,57.8 Q119.6,67.0 90.2,75.6\" fill=\"none\" stroke=\"black\" stroke-linejoin=\"bevel\" stroke-width=\"12\" /><path d=\"M150.8,57.4 Q167.0,63.2 180.8,74.2\" fill=\"none\" stroke=\"black\" stroke-linejoin=\"bevel\" stroke-width=\"12\" /><path d=\"M128.0,43.2 Q142.4,46.0 147.8,50.4\" fill=\"none\" stroke=\"black\" stroke-linejoin=\"bevel\" stroke-width=\"12\" /><path d=\"M90.8,53.6 L189.8,53.6\" fill=\"none\" stroke=\"black\" stroke-linejoin=\"bevel\" stroke-width=\"12\" /><path d=\"M20.0,96.7396 L180.0,96.7396\" fill=\"none\" stroke=\"black\" stroke-linejoin=\"bevel\" stroke-width=\"12\" /><path d=\"M100.0,77.6312 L100.0,137.4488\" fill=\"none\" stroke=\"black\" stroke-linejoin=\"bevel\" stroke-width=\"12\" /><path d=\"M95.0,96.7396 Q64.0,129.1408 14.0,143.2644\" fill=\"none\" stroke=\"black\" stroke-linejoin=\"bevel\" stroke-width=\"12\" /><path d=\"M105.0,96.7396 Q136.0,126.64840000000001 178.0,137.4488\" fill=\"none\" stroke=\"black\" stroke-linejoin=\"bevel\" stroke-width=\"12\" /><path d=\"M79.0,164.67425000000003 Q66.0,179.31375 17.0,192.9985\" fill=\"none\" stroke=\"black\" stroke-linejoin=\"bevel\" stroke-width=\"12\" /><path d=\"M118.0,164.03775000000002 Q145.0,173.267 168.0,190.77075\" fill=\"none\" stroke=\"black\" stroke-linejoin=\"bevel\" stroke-width=\"12\" /><path d=\"M80.0,141.442 Q104.0,145.89749999999998 113.0,152.899\" fill=\"none\" stroke=\"black\" stroke-linejoin=\"bevel\" stroke-width=\"12\" /><path d=\"M18.0,157.99099999999999 L183.0,157.99099999999999\" fill=\"none\" stroke=\"black\" stroke-linejoin=\"bevel\" stroke-width=\"12\" /></svg>"
      ],
      "text/plain": [
       "<svgwrite.drawing.Drawing at 0x7f2439d491d0>"
      ]
     },
     "metadata": {},
     "output_type": "display_data"
    },
    {
     "data": {
      "image/svg+xml": [
       "<svg baseProfile=\"full\" height=\"200\" version=\"1.1\" width=\"200\" xmlns=\"http://www.w3.org/2000/svg\" xmlns:ev=\"http://www.w3.org/2001/xml-events\" xmlns:xlink=\"http://www.w3.org/1999/xlink\"><defs /><path d=\"M49.0,12.0 L49.0,68.0\" fill=\"none\" stroke=\"black\" stroke-linejoin=\"bevel\" stroke-width=\"12\" /><path d=\"M43.0,18.0 L156.0,18.0\" fill=\"none\" stroke=\"black\" stroke-linejoin=\"bevel\" stroke-width=\"12\" /><path d=\"M150.0,12.0 L150.0,68.0\" fill=\"none\" stroke=\"black\" stroke-linejoin=\"bevel\" stroke-width=\"12\" /><path d=\"M43.0,39.0 L156.0,39.0\" fill=\"none\" stroke=\"black\" stroke-linejoin=\"bevel\" stroke-width=\"12\" /><path d=\"M43.0,59.0 L156.0,59.0\" fill=\"none\" stroke=\"black\" stroke-linejoin=\"bevel\" stroke-width=\"12\" /><path d=\"M14.0,76.0 L188.0,76.0\" fill=\"none\" stroke=\"black\" stroke-linejoin=\"bevel\" stroke-width=\"12\" /><path d=\"M100.0,70.0 L100.0,183.0\" fill=\"none\" stroke=\"black\" stroke-linejoin=\"bevel\" stroke-width=\"12\" /><path d=\"M18.48,92.84 L45.04,92.84\" fill=\"none\" stroke=\"black\" stroke-linejoin=\"bevel\" stroke-width=\"12\" /><path d=\"M30.64,80.968 Q31.6,107.044 18.48,117.856\" fill=\"none\" stroke=\"black\" stroke-linejoin=\"bevel\" stroke-width=\"12\" /><path d=\"M30.0,95.172 Q38.0,101.744 41.84,111.49600000000001\" fill=\"none\" stroke=\"black\" stroke-linejoin=\"bevel\" stroke-width=\"12\" /><path d=\"M51.28,81.392 L88.72,81.392\" fill=\"none\" stroke=\"black\" stroke-linejoin=\"bevel\" stroke-width=\"12\" /><path d=\"M70.75014816761302,75.90616552533281 L59.40985183238698,101.50583447466718\" fill=\"none\" stroke=\"black\" stroke-linejoin=\"bevel\" stroke-width=\"12\" /><path d=\"M53.68,87.646 L85.6,87.646\" fill=\"none\" stroke=\"black\" stroke-linejoin=\"bevel\" stroke-width=\"12\" /><path d=\"M79.6,81.646 L79.6,102.02\" fill=\"none\" stroke=\"black\" stroke-linejoin=\"bevel\" stroke-width=\"12\" /><path d=\"M49.36,96.02 L90.64,96.02\" fill=\"none\" stroke=\"black\" stroke-linejoin=\"bevel\" stroke-width=\"12\" /><path d=\"M64.96000000000001,108.634 Q61.84,113.50999999999999 50.08,118.068\" fill=\"none\" stroke=\"black\" stroke-linejoin=\"bevel\" stroke-width=\"12\" /><path d=\"M74.32,108.422 Q80.8,111.49600000000001 86.32,117.326\" fill=\"none\" stroke=\"black\" stroke-linejoin=\"bevel\" stroke-width=\"12\" /><path d=\"M65.2,100.896 Q70.96000000000001,102.38 73.12,104.712\" fill=\"none\" stroke=\"black\" stroke-linejoin=\"bevel\" stroke-width=\"12\" /><path d=\"M50.32,106.408 L89.92,106.408\" fill=\"none\" stroke=\"black\" stroke-linejoin=\"bevel\" stroke-width=\"12\" /><path d=\"M45.6,144.5839 Q40.4,160.9185 20.8,176.18779999999998\" fill=\"none\" stroke=\"black\" stroke-linejoin=\"bevel\" stroke-width=\"12\" /><path d=\"M61.2,143.87369999999999 Q72.0,154.1716 81.2,173.70209999999997\" fill=\"none\" stroke=\"black\" stroke-linejoin=\"bevel\" stroke-width=\"12\" /><path d=\"M46.0,118.66159999999999 Q55.6,123.633 59.2,131.4452\" fill=\"none\" stroke=\"black\" stroke-linejoin=\"bevel\" stroke-width=\"12\" /><path d=\"M21.2,137.1268 L87.2,137.1268\" fill=\"none\" stroke=\"black\" stroke-linejoin=\"bevel\" stroke-width=\"12\" /><path d=\"M109.92,98.80799999999999 L182.07999999999998,98.80799999999999\" fill=\"none\" stroke=\"black\" stroke-linejoin=\"bevel\" stroke-width=\"12\" /><path d=\"M134.11,86.16 L134.11,110.64\" fill=\"none\" stroke=\"black\" stroke-linejoin=\"bevel\" stroke-width=\"12\" /><path d=\"M157.89,86.16 L157.89,110.64\" fill=\"none\" stroke=\"black\" stroke-linejoin=\"bevel\" stroke-width=\"12\" /><path d=\"M115.25,124.9863 L176.75,124.9863\" fill=\"none\" stroke=\"black\" stroke-linejoin=\"bevel\" stroke-width=\"12\" /><path d=\"M122.22,145.48829999999998 L169.78,145.48829999999998\" fill=\"none\" stroke=\"black\" stroke-linejoin=\"bevel\" stroke-width=\"12\" /><path d=\"M110.74,167.3571 L181.26,167.3571\" fill=\"none\" stroke=\"black\" stroke-linejoin=\"bevel\" stroke-width=\"12\" /></svg>"
      ],
      "text/plain": [
       "<svgwrite.drawing.Drawing at 0x7f2439d28c50>"
      ]
     },
     "metadata": {},
     "output_type": "display_data"
    },
    {
     "data": {
      "image/svg+xml": [
       "<svg baseProfile=\"full\" height=\"200\" version=\"1.1\" width=\"200\" xmlns=\"http://www.w3.org/2000/svg\" xmlns:ev=\"http://www.w3.org/2001/xml-events\" xmlns:xlink=\"http://www.w3.org/1999/xlink\"><defs /><path d=\"M12.0,40.8 L188.0,40.8\" fill=\"none\" stroke=\"black\" stroke-linejoin=\"bevel\" stroke-width=\"12\" /><path d=\"M71.0,16.0 L71.0,64.0\" fill=\"none\" stroke=\"black\" stroke-linejoin=\"bevel\" stroke-width=\"12\" /><path d=\"M129.0,16.0 L129.0,64.0\" fill=\"none\" stroke=\"black\" stroke-linejoin=\"bevel\" stroke-width=\"12\" /><path d=\"M22.0,91.46000000000001 L184.0,91.46000000000001\" fill=\"none\" stroke=\"black\" stroke-linejoin=\"bevel\" stroke-width=\"12\" /><path d=\"M152.0,85.46000000000001 L152.0,177.94 Q152.0,187.94 132.0,182.94\" fill=\"none\" stroke=\"black\" stroke-linejoin=\"bevel\" stroke-width=\"12\" /><path d=\"M32.75,113.6437 L133.25,113.6437\" fill=\"none\" stroke=\"black\" stroke-linejoin=\"bevel\" stroke-width=\"12\" /><path d=\"M44.14,133.3417 L121.86,133.3417\" fill=\"none\" stroke=\"black\" stroke-linejoin=\"bevel\" stroke-width=\"12\" /><path d=\"M25.380000000000006,154.3529 L140.62,154.3529\" fill=\"none\" stroke=\"black\" stroke-linejoin=\"bevel\" stroke-width=\"12\" /></svg>"
      ],
      "text/plain": [
       "<svgwrite.drawing.Drawing at 0x7f2439d37a90>"
      ]
     },
     "metadata": {},
     "output_type": "display_data"
    },
    {
     "data": {
      "image/svg+xml": [
       "<svg baseProfile=\"full\" height=\"200\" version=\"1.1\" width=\"200\" xmlns=\"http://www.w3.org/2000/svg\" xmlns:ev=\"http://www.w3.org/2001/xml-events\" xmlns:xlink=\"http://www.w3.org/1999/xlink\"><defs /><path d=\"M11.2,28.0 L77.6,28.0\" fill=\"none\" stroke=\"black\" stroke-linejoin=\"bevel\" stroke-width=\"12\" /><path d=\"M41.6,5.6 Q44.0,54.8 11.2,75.2\" fill=\"none\" stroke=\"black\" stroke-linejoin=\"bevel\" stroke-width=\"12\" /><path d=\"M40.0,32.4 Q60.0,44.8 69.6,63.2\" fill=\"none\" stroke=\"black\" stroke-linejoin=\"bevel\" stroke-width=\"12\" /><path d=\"M93.2,6.4 L186.8,6.4\" fill=\"none\" stroke=\"black\" stroke-linejoin=\"bevel\" stroke-width=\"12\" /><path d=\"M138.83720341258535,1.225505297076829 L116.56279658741465,39.17449470292317\" fill=\"none\" stroke=\"black\" stroke-linejoin=\"bevel\" stroke-width=\"12\" /><path d=\"M99.2,18.2 L170.0,18.2\" fill=\"none\" stroke=\"black\" stroke-linejoin=\"bevel\" stroke-width=\"12\" /><path d=\"M164.0,12.2 L164.0,40.0\" fill=\"none\" stroke=\"black\" stroke-linejoin=\"bevel\" stroke-width=\"12\" /><path d=\"M88.4,34.0 L191.6,34.0\" fill=\"none\" stroke=\"black\" stroke-linejoin=\"bevel\" stroke-width=\"12\" /><path d=\"M127.4,57.8 Q119.6,67.0 90.2,75.6\" fill=\"none\" stroke=\"black\" stroke-linejoin=\"bevel\" stroke-width=\"12\" /><path d=\"M150.8,57.4 Q167.0,63.2 180.8,74.2\" fill=\"none\" stroke=\"black\" stroke-linejoin=\"bevel\" stroke-width=\"12\" /><path d=\"M128.0,43.2 Q142.4,46.0 147.8,50.4\" fill=\"none\" stroke=\"black\" stroke-linejoin=\"bevel\" stroke-width=\"12\" /><path d=\"M90.8,53.6 L189.8,53.6\" fill=\"none\" stroke=\"black\" stroke-linejoin=\"bevel\" stroke-width=\"12\" /><path d=\"M24.0,78.73 L24.0,171.91 Q24.0,181.91 34.0,181.91 L170.0,181.91 Q180.0,181.91 185.0,161.91\" fill=\"none\" stroke=\"black\" stroke-linejoin=\"bevel\" stroke-width=\"12\" /><path d=\"M89.25,123.59989999999999 Q79.5,146.0985 42.75,167.1298\" fill=\"none\" stroke=\"black\" stroke-linejoin=\"bevel\" stroke-width=\"12\" /><path d=\"M118.5,122.62169999999999 Q138.75,136.8056 156.0,163.7061\" fill=\"none\" stroke=\"black\" stroke-linejoin=\"bevel\" stroke-width=\"12\" /><path d=\"M90.0,87.8956 Q108.0,94.743 114.75,105.50319999999999\" fill=\"none\" stroke=\"black\" stroke-linejoin=\"bevel\" stroke-width=\"12\" /><path d=\"M43.5,113.3288 L167.25,113.3288\" fill=\"none\" stroke=\"black\" stroke-linejoin=\"bevel\" stroke-width=\"12\" /></svg>"
      ],
      "text/plain": [
       "<svgwrite.drawing.Drawing at 0x7f2439d28dd0>"
      ]
     },
     "metadata": {},
     "output_type": "display_data"
    },
    {
     "data": {
      "image/svg+xml": [
       "<svg baseProfile=\"full\" height=\"200\" version=\"1.1\" width=\"200\" xmlns=\"http://www.w3.org/2000/svg\" xmlns:ev=\"http://www.w3.org/2001/xml-events\" xmlns:xlink=\"http://www.w3.org/1999/xlink\"><defs /><path d=\"M161.0,20.47 Q107.0,35.16 45.0,41.94\" fill=\"none\" stroke=\"black\" stroke-linejoin=\"bevel\" stroke-width=\"12\" /><path d=\"M52.0,36.29 Q42.0,73.58 20.0,98.44\" fill=\"none\" stroke=\"black\" stroke-linejoin=\"bevel\" stroke-width=\"12\" /><path d=\"M86.0,46.46 Q102.0,62.28 107.0,84.88\" fill=\"none\" stroke=\"black\" stroke-linejoin=\"bevel\" stroke-width=\"12\" /><path d=\"M138.0,39.68 Q163.0,62.28 173.0,87.14\" fill=\"none\" stroke=\"black\" stroke-linejoin=\"bevel\" stroke-width=\"12\" /><path d=\"M35.72,97.98 L160.52,97.98\" fill=\"none\" stroke=\"black\" stroke-linejoin=\"bevel\" stroke-width=\"12\" /><path d=\"M154.52,91.98 L154.52,141.2\" fill=\"none\" stroke=\"black\" stroke-linejoin=\"bevel\" stroke-width=\"12\" /><path d=\"M35.72,132.2 L160.52,132.2\" fill=\"none\" stroke=\"black\" stroke-linejoin=\"bevel\" stroke-width=\"12\" /><path d=\"M41.72,91.98 L41.72,168.02 Q41.72,178.02 51.72,178.02 L161.44,178.02 Q171.44,178.02 176.44,158.02\" fill=\"none\" stroke=\"black\" stroke-linejoin=\"bevel\" stroke-width=\"12\" /></svg>"
      ],
      "text/plain": [
       "<svgwrite.drawing.Drawing at 0x7f2439d3bf50>"
      ]
     },
     "metadata": {},
     "output_type": "display_data"
    },
    {
     "data": {
      "image/svg+xml": [
       "<svg baseProfile=\"full\" height=\"200\" version=\"1.1\" width=\"200\" xmlns=\"http://www.w3.org/2000/svg\" xmlns:ev=\"http://www.w3.org/2001/xml-events\" xmlns:xlink=\"http://www.w3.org/1999/xlink\"><defs /><path d=\"M12.0,40.8 L188.0,40.8\" fill=\"none\" stroke=\"black\" stroke-linejoin=\"bevel\" stroke-width=\"12\" /><path d=\"M71.0,16.0 L71.0,64.0\" fill=\"none\" stroke=\"black\" stroke-linejoin=\"bevel\" stroke-width=\"12\" /><path d=\"M129.0,16.0 L129.0,64.0\" fill=\"none\" stroke=\"black\" stroke-linejoin=\"bevel\" stroke-width=\"12\" /><path d=\"M22.0,91.46000000000001 L184.0,91.46000000000001\" fill=\"none\" stroke=\"black\" stroke-linejoin=\"bevel\" stroke-width=\"12\" /><path d=\"M152.0,85.46000000000001 L152.0,177.94 Q152.0,187.94 132.0,182.94\" fill=\"none\" stroke=\"black\" stroke-linejoin=\"bevel\" stroke-width=\"12\" /><path d=\"M32.75,113.6437 L133.25,113.6437\" fill=\"none\" stroke=\"black\" stroke-linejoin=\"bevel\" stroke-width=\"12\" /><path d=\"M44.14,133.3417 L121.86,133.3417\" fill=\"none\" stroke=\"black\" stroke-linejoin=\"bevel\" stroke-width=\"12\" /><path d=\"M25.380000000000006,154.3529 L140.62,154.3529\" fill=\"none\" stroke=\"black\" stroke-linejoin=\"bevel\" stroke-width=\"12\" /></svg>"
      ],
      "text/plain": [
       "<svgwrite.drawing.Drawing at 0x7f2439d390d0>"
      ]
     },
     "metadata": {},
     "output_type": "display_data"
    },
    {
     "data": {
      "image/svg+xml": [
       "<svg baseProfile=\"full\" height=\"200\" version=\"1.1\" width=\"200\" xmlns=\"http://www.w3.org/2000/svg\" xmlns:ev=\"http://www.w3.org/2001/xml-events\" xmlns:xlink=\"http://www.w3.org/1999/xlink\"><defs /><path d=\"M11.2,28.0 L77.6,28.0\" fill=\"none\" stroke=\"black\" stroke-linejoin=\"bevel\" stroke-width=\"12\" /><path d=\"M41.6,5.6 Q44.0,54.8 11.2,75.2\" fill=\"none\" stroke=\"black\" stroke-linejoin=\"bevel\" stroke-width=\"12\" /><path d=\"M40.0,32.4 Q60.0,44.8 69.6,63.2\" fill=\"none\" stroke=\"black\" stroke-linejoin=\"bevel\" stroke-width=\"12\" /><path d=\"M127.4,17.8 Q119.6,27.0 90.2,35.6\" fill=\"none\" stroke=\"black\" stroke-linejoin=\"bevel\" stroke-width=\"12\" /><path d=\"M150.8,17.4 Q167.0,23.2 180.8,34.2\" fill=\"none\" stroke=\"black\" stroke-linejoin=\"bevel\" stroke-width=\"12\" /><path d=\"M128.0,3.2 Q142.4,6.0 147.8,10.4\" fill=\"none\" stroke=\"black\" stroke-linejoin=\"bevel\" stroke-width=\"12\" /><path d=\"M90.8,13.6 L189.8,13.6\" fill=\"none\" stroke=\"black\" stroke-linejoin=\"bevel\" stroke-width=\"12\" /><path d=\"M97.4,41.4 L97.4,81.6\" fill=\"none\" stroke=\"black\" stroke-linejoin=\"bevel\" stroke-width=\"12\" /><path d=\"M91.4,47.4 L188.6,47.4\" fill=\"none\" stroke=\"black\" stroke-linejoin=\"bevel\" stroke-width=\"12\" /><path d=\"M182.6,41.4 L182.6,81.6\" fill=\"none\" stroke=\"black\" stroke-linejoin=\"bevel\" stroke-width=\"12\" /><path d=\"M127.4,41.4 L127.4,52.4 Q127.4,62.4 102.8,66.8\" fill=\"none\" stroke=\"black\" stroke-linejoin=\"bevel\" stroke-width=\"12\" /><path d=\"M150.8,41.4 L150.8,53.4 Q150.8,63.4 160.8,63.4 L171.8,63.4\" fill=\"none\" stroke=\"black\" stroke-linejoin=\"bevel\" stroke-width=\"12\" /><path d=\"M91.4,72.6 L188.6,72.6\" fill=\"none\" stroke=\"black\" stroke-linejoin=\"bevel\" stroke-width=\"12\" /><path d=\"M24.0,78.73 L24.0,171.91 Q24.0,181.91 34.0,181.91 L170.0,181.91 Q180.0,181.91 185.0,161.91\" fill=\"none\" stroke=\"black\" stroke-linejoin=\"bevel\" stroke-width=\"12\" /><path d=\"M89.25,123.59989999999999 Q79.5,146.0985 42.75,167.1298\" fill=\"none\" stroke=\"black\" stroke-linejoin=\"bevel\" stroke-width=\"12\" /><path d=\"M118.5,122.62169999999999 Q138.75,136.8056 156.0,163.7061\" fill=\"none\" stroke=\"black\" stroke-linejoin=\"bevel\" stroke-width=\"12\" /><path d=\"M90.0,87.8956 Q108.0,94.743 114.75,105.50319999999999\" fill=\"none\" stroke=\"black\" stroke-linejoin=\"bevel\" stroke-width=\"12\" /><path d=\"M43.5,113.3288 L167.25,113.3288\" fill=\"none\" stroke=\"black\" stroke-linejoin=\"bevel\" stroke-width=\"12\" /></svg>"
      ],
      "text/plain": [
       "<svgwrite.drawing.Drawing at 0x7f2439fa8e50>"
      ]
     },
     "metadata": {},
     "output_type": "display_data"
    },
    {
     "data": {
      "image/svg+xml": [
       "<svg baseProfile=\"full\" height=\"200\" version=\"1.1\" width=\"200\" xmlns=\"http://www.w3.org/2000/svg\" xmlns:ev=\"http://www.w3.org/2001/xml-events\" xmlns:xlink=\"http://www.w3.org/1999/xlink\"><defs /><path d=\"M161.0,20.47 Q107.0,35.16 45.0,41.94\" fill=\"none\" stroke=\"black\" stroke-linejoin=\"bevel\" stroke-width=\"12\" /><path d=\"M52.0,36.29 Q42.0,73.58 20.0,98.44\" fill=\"none\" stroke=\"black\" stroke-linejoin=\"bevel\" stroke-width=\"12\" /><path d=\"M86.0,46.46 Q102.0,62.28 107.0,84.88\" fill=\"none\" stroke=\"black\" stroke-linejoin=\"bevel\" stroke-width=\"12\" /><path d=\"M138.0,39.68 Q163.0,62.28 173.0,87.14\" fill=\"none\" stroke=\"black\" stroke-linejoin=\"bevel\" stroke-width=\"12\" /><path d=\"M35.72,97.98 L160.52,97.98\" fill=\"none\" stroke=\"black\" stroke-linejoin=\"bevel\" stroke-width=\"12\" /><path d=\"M154.52,91.98 L154.52,141.2\" fill=\"none\" stroke=\"black\" stroke-linejoin=\"bevel\" stroke-width=\"12\" /><path d=\"M35.72,132.2 L160.52,132.2\" fill=\"none\" stroke=\"black\" stroke-linejoin=\"bevel\" stroke-width=\"12\" /><path d=\"M41.72,91.98 L41.72,168.02 Q41.72,178.02 51.72,178.02 L161.44,178.02 Q171.44,178.02 176.44,158.02\" fill=\"none\" stroke=\"black\" stroke-linejoin=\"bevel\" stroke-width=\"12\" /></svg>"
      ],
      "text/plain": [
       "<svgwrite.drawing.Drawing at 0x7f2439d1bbd0>"
      ]
     },
     "metadata": {},
     "output_type": "display_data"
    },
    {
     "data": {
      "image/svg+xml": [
       "<svg baseProfile=\"full\" height=\"200\" version=\"1.1\" width=\"200\" xmlns=\"http://www.w3.org/2000/svg\" xmlns:ev=\"http://www.w3.org/2001/xml-events\" xmlns:xlink=\"http://www.w3.org/1999/xlink\"><defs /><path d=\"M12.0,40.8 L188.0,40.8\" fill=\"none\" stroke=\"black\" stroke-linejoin=\"bevel\" stroke-width=\"12\" /><path d=\"M71.0,16.0 L71.0,64.0\" fill=\"none\" stroke=\"black\" stroke-linejoin=\"bevel\" stroke-width=\"12\" /><path d=\"M129.0,16.0 L129.0,64.0\" fill=\"none\" stroke=\"black\" stroke-linejoin=\"bevel\" stroke-width=\"12\" /><path d=\"M22.0,91.46000000000001 L184.0,91.46000000000001\" fill=\"none\" stroke=\"black\" stroke-linejoin=\"bevel\" stroke-width=\"12\" /><path d=\"M152.0,85.46000000000001 L152.0,177.94 Q152.0,187.94 132.0,182.94\" fill=\"none\" stroke=\"black\" stroke-linejoin=\"bevel\" stroke-width=\"12\" /><path d=\"M32.75,113.6437 L133.25,113.6437\" fill=\"none\" stroke=\"black\" stroke-linejoin=\"bevel\" stroke-width=\"12\" /><path d=\"M44.14,133.3417 L121.86,133.3417\" fill=\"none\" stroke=\"black\" stroke-linejoin=\"bevel\" stroke-width=\"12\" /><path d=\"M25.380000000000006,154.3529 L140.62,154.3529\" fill=\"none\" stroke=\"black\" stroke-linejoin=\"bevel\" stroke-width=\"12\" /></svg>"
      ],
      "text/plain": [
       "<svgwrite.drawing.Drawing at 0x7f2439d57d10>"
      ]
     },
     "metadata": {},
     "output_type": "display_data"
    },
    {
     "data": {
      "image/svg+xml": [
       "<svg baseProfile=\"full\" height=\"200\" version=\"1.1\" width=\"200\" xmlns=\"http://www.w3.org/2000/svg\" xmlns:ev=\"http://www.w3.org/2001/xml-events\" xmlns:xlink=\"http://www.w3.org/1999/xlink\"><defs /><path d=\"M11.2,28.0 L77.6,28.0\" fill=\"none\" stroke=\"black\" stroke-linejoin=\"bevel\" stroke-width=\"12\" /><path d=\"M41.6,5.6 Q44.0,54.8 11.2,75.2\" fill=\"none\" stroke=\"black\" stroke-linejoin=\"bevel\" stroke-width=\"12\" /><path d=\"M40.0,32.4 Q60.0,44.8 69.6,63.2\" fill=\"none\" stroke=\"black\" stroke-linejoin=\"bevel\" stroke-width=\"12\" /><path d=\"M88.4,41.2 L191.6,27.6\" fill=\"none\" stroke=\"black\" stroke-linejoin=\"bevel\" stroke-width=\"12\" /><path d=\"M128.0,7.6 L128.0,58.400000000000006 Q128.0,68.4 138.0,68.4 L170.8,68.4 Q180.8,68.4 185.8,48.400000000000006\" fill=\"none\" stroke=\"black\" stroke-linejoin=\"bevel\" stroke-width=\"12\" /><path d=\"M24.0,78.73 L24.0,171.91 Q24.0,181.91 34.0,181.91 L170.0,181.91 Q180.0,181.91 185.0,161.91\" fill=\"none\" stroke=\"black\" stroke-linejoin=\"bevel\" stroke-width=\"12\" /><path d=\"M89.25,123.59989999999999 Q79.5,146.0985 42.75,167.1298\" fill=\"none\" stroke=\"black\" stroke-linejoin=\"bevel\" stroke-width=\"12\" /><path d=\"M118.5,122.62169999999999 Q138.75,136.8056 156.0,163.7061\" fill=\"none\" stroke=\"black\" stroke-linejoin=\"bevel\" stroke-width=\"12\" /><path d=\"M90.0,87.8956 Q108.0,94.743 114.75,105.50319999999999\" fill=\"none\" stroke=\"black\" stroke-linejoin=\"bevel\" stroke-width=\"12\" /><path d=\"M43.5,113.3288 L167.25,113.3288\" fill=\"none\" stroke=\"black\" stroke-linejoin=\"bevel\" stroke-width=\"12\" /></svg>"
      ],
      "text/plain": [
       "<svgwrite.drawing.Drawing at 0x7f2439d57790>"
      ]
     },
     "metadata": {},
     "output_type": "display_data"
    },
    {
     "data": {
      "image/svg+xml": [
       "<svg baseProfile=\"full\" height=\"200\" version=\"1.1\" width=\"200\" xmlns=\"http://www.w3.org/2000/svg\" xmlns:ev=\"http://www.w3.org/2001/xml-events\" xmlns:xlink=\"http://www.w3.org/1999/xlink\"><defs /><path d=\"M49.0,12.0 L49.0,68.0\" fill=\"none\" stroke=\"black\" stroke-linejoin=\"bevel\" stroke-width=\"12\" /><path d=\"M43.0,18.0 L156.0,18.0\" fill=\"none\" stroke=\"black\" stroke-linejoin=\"bevel\" stroke-width=\"12\" /><path d=\"M150.0,12.0 L150.0,68.0\" fill=\"none\" stroke=\"black\" stroke-linejoin=\"bevel\" stroke-width=\"12\" /><path d=\"M43.0,39.0 L156.0,39.0\" fill=\"none\" stroke=\"black\" stroke-linejoin=\"bevel\" stroke-width=\"12\" /><path d=\"M43.0,59.0 L156.0,59.0\" fill=\"none\" stroke=\"black\" stroke-linejoin=\"bevel\" stroke-width=\"12\" /><path d=\"M14.0,76.0 L188.0,76.0\" fill=\"none\" stroke=\"black\" stroke-linejoin=\"bevel\" stroke-width=\"12\" /><path d=\"M100.0,70.0 L100.0,183.0\" fill=\"none\" stroke=\"black\" stroke-linejoin=\"bevel\" stroke-width=\"12\" /><path d=\"M18.48,92.84 L45.04,92.84\" fill=\"none\" stroke=\"black\" stroke-linejoin=\"bevel\" stroke-width=\"12\" /><path d=\"M30.64,80.968 Q31.6,107.044 18.48,117.856\" fill=\"none\" stroke=\"black\" stroke-linejoin=\"bevel\" stroke-width=\"12\" /><path d=\"M30.0,95.172 Q38.0,101.744 41.84,111.49600000000001\" fill=\"none\" stroke=\"black\" stroke-linejoin=\"bevel\" stroke-width=\"12\" /><path d=\"M49.36,99.836 L90.64,92.628\" fill=\"none\" stroke=\"black\" stroke-linejoin=\"bevel\" stroke-width=\"12\" /><path d=\"M65.2,82.028 L65.2,104.25200000000001 Q65.2,114.25200000000001 75.2,114.25200000000001 L86.32,114.25200000000001\" fill=\"none\" stroke=\"black\" stroke-linejoin=\"bevel\" stroke-width=\"12\" /><path d=\"M45.6,144.5839 Q40.4,160.9185 20.8,176.18779999999998\" fill=\"none\" stroke=\"black\" stroke-linejoin=\"bevel\" stroke-width=\"12\" /><path d=\"M61.2,143.87369999999999 Q72.0,154.1716 81.2,173.70209999999997\" fill=\"none\" stroke=\"black\" stroke-linejoin=\"bevel\" stroke-width=\"12\" /><path d=\"M46.0,118.66159999999999 Q55.6,123.633 59.2,131.4452\" fill=\"none\" stroke=\"black\" stroke-linejoin=\"bevel\" stroke-width=\"12\" /><path d=\"M21.2,137.1268 L87.2,137.1268\" fill=\"none\" stroke=\"black\" stroke-linejoin=\"bevel\" stroke-width=\"12\" /><path d=\"M109.92,98.80799999999999 L182.07999999999998,98.80799999999999\" fill=\"none\" stroke=\"black\" stroke-linejoin=\"bevel\" stroke-width=\"12\" /><path d=\"M134.11,86.16 L134.11,110.64\" fill=\"none\" stroke=\"black\" stroke-linejoin=\"bevel\" stroke-width=\"12\" /><path d=\"M157.89,86.16 L157.89,110.64\" fill=\"none\" stroke=\"black\" stroke-linejoin=\"bevel\" stroke-width=\"12\" /><path d=\"M115.25,124.9863 L176.75,124.9863\" fill=\"none\" stroke=\"black\" stroke-linejoin=\"bevel\" stroke-width=\"12\" /><path d=\"M122.22,145.48829999999998 L169.78,145.48829999999998\" fill=\"none\" stroke=\"black\" stroke-linejoin=\"bevel\" stroke-width=\"12\" /><path d=\"M110.74,167.3571 L181.26,167.3571\" fill=\"none\" stroke=\"black\" stroke-linejoin=\"bevel\" stroke-width=\"12\" /></svg>"
      ],
      "text/plain": [
       "<svgwrite.drawing.Drawing at 0x7f2439d54e10>"
      ]
     },
     "metadata": {},
     "output_type": "display_data"
    },
    {
     "data": {
      "image/svg+xml": [
       "<svg baseProfile=\"full\" height=\"200\" version=\"1.1\" width=\"200\" xmlns=\"http://www.w3.org/2000/svg\" xmlns:ev=\"http://www.w3.org/2001/xml-events\" xmlns:xlink=\"http://www.w3.org/1999/xlink\"><defs /><path d=\"M12.0,40.8 L188.0,40.8\" fill=\"none\" stroke=\"black\" stroke-linejoin=\"bevel\" stroke-width=\"12\" /><path d=\"M71.0,16.0 L71.0,64.0\" fill=\"none\" stroke=\"black\" stroke-linejoin=\"bevel\" stroke-width=\"12\" /><path d=\"M129.0,16.0 L129.0,64.0\" fill=\"none\" stroke=\"black\" stroke-linejoin=\"bevel\" stroke-width=\"12\" /><path d=\"M22.0,91.46000000000001 L184.0,91.46000000000001\" fill=\"none\" stroke=\"black\" stroke-linejoin=\"bevel\" stroke-width=\"12\" /><path d=\"M152.0,85.46000000000001 L152.0,177.94 Q152.0,187.94 132.0,182.94\" fill=\"none\" stroke=\"black\" stroke-linejoin=\"bevel\" stroke-width=\"12\" /><path d=\"M32.75,113.6437 L133.25,113.6437\" fill=\"none\" stroke=\"black\" stroke-linejoin=\"bevel\" stroke-width=\"12\" /><path d=\"M44.14,133.3417 L121.86,133.3417\" fill=\"none\" stroke=\"black\" stroke-linejoin=\"bevel\" stroke-width=\"12\" /><path d=\"M25.380000000000006,154.3529 L140.62,154.3529\" fill=\"none\" stroke=\"black\" stroke-linejoin=\"bevel\" stroke-width=\"12\" /></svg>"
      ],
      "text/plain": [
       "<svgwrite.drawing.Drawing at 0x7f249c1f1a50>"
      ]
     },
     "metadata": {},
     "output_type": "display_data"
    },
    {
     "data": {
      "image/svg+xml": [
       "<svg baseProfile=\"full\" height=\"200\" version=\"1.1\" width=\"200\" xmlns=\"http://www.w3.org/2000/svg\" xmlns:ev=\"http://www.w3.org/2001/xml-events\" xmlns:xlink=\"http://www.w3.org/1999/xlink\"><defs /><path d=\"M11.2,28.0 L77.6,28.0\" fill=\"none\" stroke=\"black\" stroke-linejoin=\"bevel\" stroke-width=\"12\" /><path d=\"M41.6,5.6 Q44.0,54.8 11.2,75.2\" fill=\"none\" stroke=\"black\" stroke-linejoin=\"bevel\" stroke-width=\"12\" /><path d=\"M40.0,32.4 Q60.0,44.8 69.6,63.2\" fill=\"none\" stroke=\"black\" stroke-linejoin=\"bevel\" stroke-width=\"12\" /><path d=\"M88.4,41.2 L191.6,27.6\" fill=\"none\" stroke=\"black\" stroke-linejoin=\"bevel\" stroke-width=\"12\" /><path d=\"M128.0,7.6 L128.0,58.400000000000006 Q128.0,68.4 138.0,68.4 L170.8,68.4 Q180.8,68.4 185.8,48.400000000000006\" fill=\"none\" stroke=\"black\" stroke-linejoin=\"bevel\" stroke-width=\"12\" /><path d=\"M24.0,78.73 L24.0,171.91 Q24.0,181.91 34.0,181.91 L170.0,181.91 Q180.0,181.91 185.0,161.91\" fill=\"none\" stroke=\"black\" stroke-linejoin=\"bevel\" stroke-width=\"12\" /><path d=\"M89.25,123.59989999999999 Q79.5,146.0985 42.75,167.1298\" fill=\"none\" stroke=\"black\" stroke-linejoin=\"bevel\" stroke-width=\"12\" /><path d=\"M118.5,122.62169999999999 Q138.75,136.8056 156.0,163.7061\" fill=\"none\" stroke=\"black\" stroke-linejoin=\"bevel\" stroke-width=\"12\" /><path d=\"M90.0,87.8956 Q108.0,94.743 114.75,105.50319999999999\" fill=\"none\" stroke=\"black\" stroke-linejoin=\"bevel\" stroke-width=\"12\" /><path d=\"M43.5,113.3288 L167.25,113.3288\" fill=\"none\" stroke=\"black\" stroke-linejoin=\"bevel\" stroke-width=\"12\" /></svg>"
      ],
      "text/plain": [
       "<svgwrite.drawing.Drawing at 0x7f248c6a1e50>"
      ]
     },
     "metadata": {},
     "output_type": "display_data"
    },
    {
     "data": {
      "image/svg+xml": [
       "<svg baseProfile=\"full\" height=\"200\" version=\"1.1\" width=\"200\" xmlns=\"http://www.w3.org/2000/svg\" xmlns:ev=\"http://www.w3.org/2001/xml-events\" xmlns:xlink=\"http://www.w3.org/1999/xlink\"><defs /><path d=\"M161.0,20.47 Q107.0,35.16 45.0,41.94\" fill=\"none\" stroke=\"black\" stroke-linejoin=\"bevel\" stroke-width=\"12\" /><path d=\"M52.0,36.29 Q42.0,73.58 20.0,98.44\" fill=\"none\" stroke=\"black\" stroke-linejoin=\"bevel\" stroke-width=\"12\" /><path d=\"M86.0,46.46 Q102.0,62.28 107.0,84.88\" fill=\"none\" stroke=\"black\" stroke-linejoin=\"bevel\" stroke-width=\"12\" /><path d=\"M138.0,39.68 Q163.0,62.28 173.0,87.14\" fill=\"none\" stroke=\"black\" stroke-linejoin=\"bevel\" stroke-width=\"12\" /><path d=\"M35.72,97.98 L160.52,97.98\" fill=\"none\" stroke=\"black\" stroke-linejoin=\"bevel\" stroke-width=\"12\" /><path d=\"M154.52,91.98 L154.52,141.2\" fill=\"none\" stroke=\"black\" stroke-linejoin=\"bevel\" stroke-width=\"12\" /><path d=\"M35.72,132.2 L160.52,132.2\" fill=\"none\" stroke=\"black\" stroke-linejoin=\"bevel\" stroke-width=\"12\" /><path d=\"M41.72,91.98 L41.72,168.02 Q41.72,178.02 51.72,178.02 L161.44,178.02 Q171.44,178.02 176.44,158.02\" fill=\"none\" stroke=\"black\" stroke-linejoin=\"bevel\" stroke-width=\"12\" /></svg>"
      ],
      "text/plain": [
       "<svgwrite.drawing.Drawing at 0x7f2439d2d150>"
      ]
     },
     "metadata": {},
     "output_type": "display_data"
    },
    {
     "data": {
      "image/svg+xml": [
       "<svg baseProfile=\"full\" height=\"200\" version=\"1.1\" width=\"200\" xmlns=\"http://www.w3.org/2000/svg\" xmlns:ev=\"http://www.w3.org/2001/xml-events\" xmlns:xlink=\"http://www.w3.org/1999/xlink\"><defs /><path d=\"M12.0,40.8 L188.0,40.8\" fill=\"none\" stroke=\"black\" stroke-linejoin=\"bevel\" stroke-width=\"12\" /><path d=\"M71.0,16.0 L71.0,64.0\" fill=\"none\" stroke=\"black\" stroke-linejoin=\"bevel\" stroke-width=\"12\" /><path d=\"M129.0,16.0 L129.0,64.0\" fill=\"none\" stroke=\"black\" stroke-linejoin=\"bevel\" stroke-width=\"12\" /><path d=\"M22.0,91.46000000000001 L184.0,91.46000000000001\" fill=\"none\" stroke=\"black\" stroke-linejoin=\"bevel\" stroke-width=\"12\" /><path d=\"M152.0,85.46000000000001 L152.0,177.94 Q152.0,187.94 132.0,182.94\" fill=\"none\" stroke=\"black\" stroke-linejoin=\"bevel\" stroke-width=\"12\" /><path d=\"M32.75,113.6437 L133.25,113.6437\" fill=\"none\" stroke=\"black\" stroke-linejoin=\"bevel\" stroke-width=\"12\" /><path d=\"M44.14,133.3417 L121.86,133.3417\" fill=\"none\" stroke=\"black\" stroke-linejoin=\"bevel\" stroke-width=\"12\" /><path d=\"M25.380000000000006,154.3529 L140.62,154.3529\" fill=\"none\" stroke=\"black\" stroke-linejoin=\"bevel\" stroke-width=\"12\" /></svg>"
      ],
      "text/plain": [
       "<svgwrite.drawing.Drawing at 0x7f2439d24c50>"
      ]
     },
     "metadata": {},
     "output_type": "display_data"
    },
    {
     "data": {
      "image/svg+xml": [
       "<svg baseProfile=\"full\" height=\"200\" version=\"1.1\" width=\"200\" xmlns=\"http://www.w3.org/2000/svg\" xmlns:ev=\"http://www.w3.org/2001/xml-events\" xmlns:xlink=\"http://www.w3.org/1999/xlink\"><defs /><path d=\"M11.2,28.0 L77.6,28.0\" fill=\"none\" stroke=\"black\" stroke-linejoin=\"bevel\" stroke-width=\"12\" /><path d=\"M41.6,5.6 Q44.0,54.8 11.2,75.2\" fill=\"none\" stroke=\"black\" stroke-linejoin=\"bevel\" stroke-width=\"12\" /><path d=\"M40.0,32.4 Q60.0,44.8 69.6,63.2\" fill=\"none\" stroke=\"black\" stroke-linejoin=\"bevel\" stroke-width=\"12\" /><path d=\"M88.4,20.6 L191.6,13.8\" fill=\"none\" stroke=\"black\" stroke-linejoin=\"bevel\" stroke-width=\"12\" /><path d=\"M128.0,3.8 L128.0,24.200000000000003 Q128.0,34.2 138.0,34.2 L180.8,34.2\" fill=\"none\" stroke=\"black\" stroke-linejoin=\"bevel\" stroke-width=\"12\" /><path d=\"M128.6,42.8 L128.6,52.2 Q128.6,70.8 88.4,76.8\" fill=\"none\" stroke=\"black\" stroke-linejoin=\"bevel\" stroke-width=\"12\" /><path d=\"M93.8,53.2 L165.2,53.2\" fill=\"none\" stroke=\"black\" stroke-linejoin=\"bevel\" stroke-width=\"12\" /><path d=\"M159.54892305627672,47.210154200582586 L158.5815384271279,63.81692366763763 Q158.0,73.8 168.0,73.8 L189.2,73.8\" fill=\"none\" stroke=\"black\" stroke-linejoin=\"bevel\" stroke-width=\"12\" /><path d=\"M24.0,78.73 L24.0,171.91 Q24.0,181.91 34.0,181.91 L170.0,181.91 Q180.0,181.91 185.0,161.91\" fill=\"none\" stroke=\"black\" stroke-linejoin=\"bevel\" stroke-width=\"12\" /><path d=\"M89.25,123.59989999999999 Q79.5,146.0985 42.75,167.1298\" fill=\"none\" stroke=\"black\" stroke-linejoin=\"bevel\" stroke-width=\"12\" /><path d=\"M118.5,122.62169999999999 Q138.75,136.8056 156.0,163.7061\" fill=\"none\" stroke=\"black\" stroke-linejoin=\"bevel\" stroke-width=\"12\" /><path d=\"M90.0,87.8956 Q108.0,94.743 114.75,105.50319999999999\" fill=\"none\" stroke=\"black\" stroke-linejoin=\"bevel\" stroke-width=\"12\" /><path d=\"M43.5,113.3288 L167.25,113.3288\" fill=\"none\" stroke=\"black\" stroke-linejoin=\"bevel\" stroke-width=\"12\" /></svg>"
      ],
      "text/plain": [
       "<svgwrite.drawing.Drawing at 0x7f248c6a1e50>"
      ]
     },
     "metadata": {},
     "output_type": "display_data"
    },
    {
     "data": {
      "image/svg+xml": [
       "<svg baseProfile=\"full\" height=\"200\" version=\"1.1\" width=\"200\" xmlns=\"http://www.w3.org/2000/svg\" xmlns:ev=\"http://www.w3.org/2001/xml-events\" xmlns:xlink=\"http://www.w3.org/1999/xlink\"><defs /><path d=\"M161.0,20.47 Q107.0,35.16 45.0,41.94\" fill=\"none\" stroke=\"black\" stroke-linejoin=\"bevel\" stroke-width=\"12\" /><path d=\"M52.0,36.29 Q42.0,73.58 20.0,98.44\" fill=\"none\" stroke=\"black\" stroke-linejoin=\"bevel\" stroke-width=\"12\" /><path d=\"M86.0,46.46 Q102.0,62.28 107.0,84.88\" fill=\"none\" stroke=\"black\" stroke-linejoin=\"bevel\" stroke-width=\"12\" /><path d=\"M138.0,39.68 Q163.0,62.28 173.0,87.14\" fill=\"none\" stroke=\"black\" stroke-linejoin=\"bevel\" stroke-width=\"12\" /><path d=\"M35.72,97.98 L160.52,97.98\" fill=\"none\" stroke=\"black\" stroke-linejoin=\"bevel\" stroke-width=\"12\" /><path d=\"M154.52,91.98 L154.52,141.2\" fill=\"none\" stroke=\"black\" stroke-linejoin=\"bevel\" stroke-width=\"12\" /><path d=\"M35.72,132.2 L160.52,132.2\" fill=\"none\" stroke=\"black\" stroke-linejoin=\"bevel\" stroke-width=\"12\" /><path d=\"M41.72,91.98 L41.72,168.02 Q41.72,178.02 51.72,178.02 L161.44,178.02 Q171.44,178.02 176.44,158.02\" fill=\"none\" stroke=\"black\" stroke-linejoin=\"bevel\" stroke-width=\"12\" /></svg>"
      ],
      "text/plain": [
       "<svgwrite.drawing.Drawing at 0x7f2439f9b610>"
      ]
     },
     "metadata": {},
     "output_type": "display_data"
    },
    {
     "data": {
      "image/svg+xml": [
       "<svg baseProfile=\"full\" height=\"200\" version=\"1.1\" width=\"200\" xmlns=\"http://www.w3.org/2000/svg\" xmlns:ev=\"http://www.w3.org/2001/xml-events\" xmlns:xlink=\"http://www.w3.org/1999/xlink\"><defs /><path d=\"M12.0,40.8 L188.0,40.8\" fill=\"none\" stroke=\"black\" stroke-linejoin=\"bevel\" stroke-width=\"12\" /><path d=\"M71.0,16.0 L71.0,64.0\" fill=\"none\" stroke=\"black\" stroke-linejoin=\"bevel\" stroke-width=\"12\" /><path d=\"M129.0,16.0 L129.0,64.0\" fill=\"none\" stroke=\"black\" stroke-linejoin=\"bevel\" stroke-width=\"12\" /><path d=\"M22.0,91.46000000000001 L184.0,91.46000000000001\" fill=\"none\" stroke=\"black\" stroke-linejoin=\"bevel\" stroke-width=\"12\" /><path d=\"M152.0,85.46000000000001 L152.0,177.94 Q152.0,187.94 132.0,182.94\" fill=\"none\" stroke=\"black\" stroke-linejoin=\"bevel\" stroke-width=\"12\" /><path d=\"M32.75,113.6437 L133.25,113.6437\" fill=\"none\" stroke=\"black\" stroke-linejoin=\"bevel\" stroke-width=\"12\" /><path d=\"M44.14,133.3417 L121.86,133.3417\" fill=\"none\" stroke=\"black\" stroke-linejoin=\"bevel\" stroke-width=\"12\" /><path d=\"M25.380000000000006,154.3529 L140.62,154.3529\" fill=\"none\" stroke=\"black\" stroke-linejoin=\"bevel\" stroke-width=\"12\" /></svg>"
      ],
      "text/plain": [
       "<svgwrite.drawing.Drawing at 0x7f2439d32f50>"
      ]
     },
     "metadata": {},
     "output_type": "display_data"
    },
    {
     "data": {
      "image/svg+xml": [
       "<svg baseProfile=\"full\" height=\"200\" version=\"1.1\" width=\"200\" xmlns=\"http://www.w3.org/2000/svg\" xmlns:ev=\"http://www.w3.org/2001/xml-events\" xmlns:xlink=\"http://www.w3.org/1999/xlink\"><defs /><path d=\"M40.176,7.6 Q31.992000000000004,30.0 11.904000000000002,46.8\" fill=\"none\" stroke=\"black\" stroke-linejoin=\"bevel\" stroke-width=\"12\" /><path d=\"M26.736000000000004,21.6 L70.728,21.6\" fill=\"none\" stroke=\"black\" stroke-linejoin=\"bevel\" stroke-width=\"12\" /><path d=\"M64.728,21.6 Q55.056,61.2 11.16,74.8\" fill=\"none\" stroke=\"black\" stroke-linejoin=\"bevel\" stroke-width=\"12\" /><path d=\"M25.296,32.4 Q39.431999999999995,37.2 46.12799999999999,44.4\" fill=\"none\" stroke=\"black\" stroke-linejoin=\"bevel\" stroke-width=\"12\" /><path d=\"M88.4,36.8 L191.6,36.8\" fill=\"none\" stroke=\"black\" stroke-linejoin=\"bevel\" stroke-width=\"12\" /><path d=\"M140.0,6.8 L140.0,74.0\" fill=\"none\" stroke=\"black\" stroke-linejoin=\"bevel\" stroke-width=\"12\" /><path d=\"M20.0,96.7396 L180.0,96.7396\" fill=\"none\" stroke=\"black\" stroke-linejoin=\"bevel\" stroke-width=\"12\" /><path d=\"M100.0,77.6312 L100.0,137.4488\" fill=\"none\" stroke=\"black\" stroke-linejoin=\"bevel\" stroke-width=\"12\" /><path d=\"M95.0,96.7396 Q64.0,129.1408 14.0,143.2644\" fill=\"none\" stroke=\"black\" stroke-linejoin=\"bevel\" stroke-width=\"12\" /><path d=\"M105.0,96.7396 Q136.0,126.64840000000001 178.0,137.4488\" fill=\"none\" stroke=\"black\" stroke-linejoin=\"bevel\" stroke-width=\"12\" /><path d=\"M79.0,164.67425000000003 Q66.0,179.31375 17.0,192.9985\" fill=\"none\" stroke=\"black\" stroke-linejoin=\"bevel\" stroke-width=\"12\" /><path d=\"M118.0,164.03775000000002 Q145.0,173.267 168.0,190.77075\" fill=\"none\" stroke=\"black\" stroke-linejoin=\"bevel\" stroke-width=\"12\" /><path d=\"M80.0,141.442 Q104.0,145.89749999999998 113.0,152.899\" fill=\"none\" stroke=\"black\" stroke-linejoin=\"bevel\" stroke-width=\"12\" /><path d=\"M18.0,157.99099999999999 L183.0,157.99099999999999\" fill=\"none\" stroke=\"black\" stroke-linejoin=\"bevel\" stroke-width=\"12\" /></svg>"
      ],
      "text/plain": [
       "<svgwrite.drawing.Drawing at 0x7f2439d54a10>"
      ]
     },
     "metadata": {},
     "output_type": "display_data"
    },
    {
     "data": {
      "image/svg+xml": [
       "<svg baseProfile=\"full\" height=\"200\" version=\"1.1\" width=\"200\" xmlns=\"http://www.w3.org/2000/svg\" xmlns:ev=\"http://www.w3.org/2001/xml-events\" xmlns:xlink=\"http://www.w3.org/1999/xlink\"><defs /><path d=\"M49.0,12.0 L49.0,68.0\" fill=\"none\" stroke=\"black\" stroke-linejoin=\"bevel\" stroke-width=\"12\" /><path d=\"M43.0,18.0 L156.0,18.0\" fill=\"none\" stroke=\"black\" stroke-linejoin=\"bevel\" stroke-width=\"12\" /><path d=\"M150.0,12.0 L150.0,68.0\" fill=\"none\" stroke=\"black\" stroke-linejoin=\"bevel\" stroke-width=\"12\" /><path d=\"M43.0,39.0 L156.0,39.0\" fill=\"none\" stroke=\"black\" stroke-linejoin=\"bevel\" stroke-width=\"12\" /><path d=\"M43.0,59.0 L156.0,59.0\" fill=\"none\" stroke=\"black\" stroke-linejoin=\"bevel\" stroke-width=\"12\" /><path d=\"M14.0,76.0 L188.0,76.0\" fill=\"none\" stroke=\"black\" stroke-linejoin=\"bevel\" stroke-width=\"12\" /><path d=\"M100.0,70.0 L100.0,183.0\" fill=\"none\" stroke=\"black\" stroke-linejoin=\"bevel\" stroke-width=\"12\" /><path d=\"M30.0704,82.028 Q26.796800000000005,93.9 18.7616,102.804\" fill=\"none\" stroke=\"black\" stroke-linejoin=\"bevel\" stroke-width=\"12\" /><path d=\"M21.0944,89.44800000000001 L45.8912,89.44800000000001\" fill=\"none\" stroke=\"black\" stroke-linejoin=\"bevel\" stroke-width=\"12\" /><path d=\"M39.8912,89.44800000000001 Q36.0224,110.436 18.464,117.644\" fill=\"none\" stroke=\"black\" stroke-linejoin=\"bevel\" stroke-width=\"12\" /><path d=\"M24.1184,95.172 Q29.772799999999997,97.71600000000001 32.4512,101.532\" fill=\"none\" stroke=\"black\" stroke-linejoin=\"bevel\" stroke-width=\"12\" /><path d=\"M49.36,97.50399999999999 L90.64,97.50399999999999\" fill=\"none\" stroke=\"black\" stroke-linejoin=\"bevel\" stroke-width=\"12\" /><path d=\"M70.0,81.604 L70.0,117.22\" fill=\"none\" stroke=\"black\" stroke-linejoin=\"bevel\" stroke-width=\"12\" /><path d=\"M45.6,144.5839 Q40.4,160.9185 20.8,176.18779999999998\" fill=\"none\" stroke=\"black\" stroke-linejoin=\"bevel\" stroke-width=\"12\" /><path d=\"M61.2,143.87369999999999 Q72.0,154.1716 81.2,173.70209999999997\" fill=\"none\" stroke=\"black\" stroke-linejoin=\"bevel\" stroke-width=\"12\" /><path d=\"M46.0,118.66159999999999 Q55.6,123.633 59.2,131.4452\" fill=\"none\" stroke=\"black\" stroke-linejoin=\"bevel\" stroke-width=\"12\" /><path d=\"M21.2,137.1268 L87.2,137.1268\" fill=\"none\" stroke=\"black\" stroke-linejoin=\"bevel\" stroke-width=\"12\" /><path d=\"M109.92,98.80799999999999 L182.07999999999998,98.80799999999999\" fill=\"none\" stroke=\"black\" stroke-linejoin=\"bevel\" stroke-width=\"12\" /><path d=\"M134.11,86.16 L134.11,110.64\" fill=\"none\" stroke=\"black\" stroke-linejoin=\"bevel\" stroke-width=\"12\" /><path d=\"M157.89,86.16 L157.89,110.64\" fill=\"none\" stroke=\"black\" stroke-linejoin=\"bevel\" stroke-width=\"12\" /><path d=\"M115.25,124.9863 L176.75,124.9863\" fill=\"none\" stroke=\"black\" stroke-linejoin=\"bevel\" stroke-width=\"12\" /><path d=\"M122.22,145.48829999999998 L169.78,145.48829999999998\" fill=\"none\" stroke=\"black\" stroke-linejoin=\"bevel\" stroke-width=\"12\" /><path d=\"M110.74,167.3571 L181.26,167.3571\" fill=\"none\" stroke=\"black\" stroke-linejoin=\"bevel\" stroke-width=\"12\" /></svg>"
      ],
      "text/plain": [
       "<svgwrite.drawing.Drawing at 0x7f2439d48e50>"
      ]
     },
     "metadata": {},
     "output_type": "display_data"
    },
    {
     "name": "stdout",
     "output_type": "stream",
     "text": [
      "「\n"
     ]
    },
    {
     "data": {
      "image/svg+xml": [
       "<svg baseProfile=\"full\" height=\"200\" version=\"1.1\" width=\"200\" xmlns=\"http://www.w3.org/2000/svg\" xmlns:ev=\"http://www.w3.org/2001/xml-events\" xmlns:xlink=\"http://www.w3.org/1999/xlink\"><defs /><path d=\"M40.176,7.6 Q31.992000000000004,30.0 11.904000000000002,46.8\" fill=\"none\" stroke=\"black\" stroke-linejoin=\"bevel\" stroke-width=\"12\" /><path d=\"M26.736000000000004,21.6 L70.728,21.6\" fill=\"none\" stroke=\"black\" stroke-linejoin=\"bevel\" stroke-width=\"12\" /><path d=\"M64.728,21.6 Q55.056,61.2 11.16,74.8\" fill=\"none\" stroke=\"black\" stroke-linejoin=\"bevel\" stroke-width=\"12\" /><path d=\"M25.296,32.4 Q39.431999999999995,37.2 46.12799999999999,44.4\" fill=\"none\" stroke=\"black\" stroke-linejoin=\"bevel\" stroke-width=\"12\" /><path d=\"M88.4,36.8 L191.6,36.8\" fill=\"none\" stroke=\"black\" stroke-linejoin=\"bevel\" stroke-width=\"12\" /><path d=\"M140.0,6.8 L140.0,74.0\" fill=\"none\" stroke=\"black\" stroke-linejoin=\"bevel\" stroke-width=\"12\" /><path d=\"M22.0,91.46000000000001 L184.0,91.46000000000001\" fill=\"none\" stroke=\"black\" stroke-linejoin=\"bevel\" stroke-width=\"12\" /><path d=\"M152.0,85.46000000000001 L152.0,177.94 Q152.0,187.94 132.0,182.94\" fill=\"none\" stroke=\"black\" stroke-linejoin=\"bevel\" stroke-width=\"12\" /></svg>"
      ],
      "text/plain": [
       "<svgwrite.drawing.Drawing at 0x7f2439d1a010>"
      ]
     },
     "metadata": {},
     "output_type": "display_data"
    },
    {
     "data": {
      "image/svg+xml": [
       "<svg baseProfile=\"full\" height=\"200\" version=\"1.1\" width=\"200\" xmlns=\"http://www.w3.org/2000/svg\" xmlns:ev=\"http://www.w3.org/2001/xml-events\" xmlns:xlink=\"http://www.w3.org/1999/xlink\"><defs /><path d=\"M11.2,28.0 L77.6,28.0\" fill=\"none\" stroke=\"black\" stroke-linejoin=\"bevel\" stroke-width=\"12\" /><path d=\"M41.6,5.6 Q44.0,54.8 11.2,75.2\" fill=\"none\" stroke=\"black\" stroke-linejoin=\"bevel\" stroke-width=\"12\" /><path d=\"M40.0,32.4 Q60.0,44.8 69.6,63.2\" fill=\"none\" stroke=\"black\" stroke-linejoin=\"bevel\" stroke-width=\"12\" /><path d=\"M128.6,5.6 L128.6,24.4 Q128.6,61.6 88.4,73.6\" fill=\"none\" stroke=\"black\" stroke-linejoin=\"bevel\" stroke-width=\"12\" /><path d=\"M93.8,26.4 L165.2,26.4\" fill=\"none\" stroke=\"black\" stroke-linejoin=\"bevel\" stroke-width=\"12\" /><path d=\"M159.3746832022088,20.4025433908309 L158.291138670348,57.604238984718165 Q158.0,67.6 168.0,67.6 L189.2,67.6\" fill=\"none\" stroke=\"black\" stroke-linejoin=\"bevel\" stroke-width=\"12\" /><path d=\"M28.0,84.76 L188.0,84.76\" fill=\"none\" stroke=\"black\" stroke-linejoin=\"bevel\" stroke-width=\"12\" /><path d=\"M34.0,78.76 L34.0,126.97 Q34.0,175.20999999999998 12.0,192.63\" fill=\"none\" stroke=\"black\" stroke-linejoin=\"bevel\" stroke-width=\"12\" /><path d=\"M50.36,113.18642500000001 L177.64,104.24527499999999\" fill=\"none\" stroke=\"black\" stroke-linejoin=\"bevel\" stroke-width=\"12\" /><path d=\"M99.2,91.096525 L99.2,121.068725 Q99.2,131.068725 109.2,131.068725 L164.32,131.068725\" fill=\"none\" stroke=\"black\" stroke-linejoin=\"bevel\" stroke-width=\"12\" /><path d=\"M98.46,162.09977500000002 Q88.84,174.19662499999998 52.58,185.50455\" fill=\"none\" stroke=\"black\" stroke-linejoin=\"bevel\" stroke-width=\"12\" /><path d=\"M127.32,161.573825 Q147.3,169.20010000000002 164.32,183.663725\" fill=\"none\" stroke=\"black\" stroke-linejoin=\"bevel\" stroke-width=\"12\" /><path d=\"M99.2,142.9026 Q116.96,146.58425 123.62,152.3697\" fill=\"none\" stroke=\"black\" stroke-linejoin=\"bevel\" stroke-width=\"12\" /><path d=\"M53.32,156.57729999999998 L175.42,156.57729999999998\" fill=\"none\" stroke=\"black\" stroke-linejoin=\"bevel\" stroke-width=\"12\" /></svg>"
      ],
      "text/plain": [
       "<svgwrite.drawing.Drawing at 0x7f2439d33f90>"
      ]
     },
     "metadata": {},
     "output_type": "display_data"
    },
    {
     "data": {
      "image/svg+xml": [
       "<svg baseProfile=\"full\" height=\"200\" version=\"1.1\" width=\"200\" xmlns=\"http://www.w3.org/2000/svg\" xmlns:ev=\"http://www.w3.org/2001/xml-events\" xmlns:xlink=\"http://www.w3.org/1999/xlink\"><defs /><path d=\"M40.176,7.6 Q31.992000000000004,30.0 11.904000000000002,46.8\" fill=\"none\" stroke=\"black\" stroke-linejoin=\"bevel\" stroke-width=\"12\" /><path d=\"M26.736000000000004,21.6 L70.728,21.6\" fill=\"none\" stroke=\"black\" stroke-linejoin=\"bevel\" stroke-width=\"12\" /><path d=\"M64.728,21.6 Q55.056,61.2 11.16,74.8\" fill=\"none\" stroke=\"black\" stroke-linejoin=\"bevel\" stroke-width=\"12\" /><path d=\"M25.296,32.4 Q39.431999999999995,37.2 46.12799999999999,44.4\" fill=\"none\" stroke=\"black\" stroke-linejoin=\"bevel\" stroke-width=\"12\" /><path d=\"M88.4,36.8 L191.6,36.8\" fill=\"none\" stroke=\"black\" stroke-linejoin=\"bevel\" stroke-width=\"12\" /><path d=\"M140.0,6.8 L140.0,74.0\" fill=\"none\" stroke=\"black\" stroke-linejoin=\"bevel\" stroke-width=\"12\" /><path d=\"M168.0,78.11359999999999 Q117.0,87.3462 22.0,92.3176\" fill=\"none\" stroke=\"black\" stroke-linejoin=\"bevel\" stroke-width=\"12\" /><path d=\"M35.0,97.9992 Q53.0,107.94200000000001 59.0,122.14599999999999\" fill=\"none\" stroke=\"black\" stroke-linejoin=\"bevel\" stroke-width=\"12\" /><path d=\"M84.0,94.4482 Q101.0,104.39099999999999 105.0,116.4644\" fill=\"none\" stroke=\"black\" stroke-linejoin=\"bevel\" stroke-width=\"12\" /><path d=\"M159.0,90.187 Q153.0,98.7094 134.0,124.2766\" fill=\"none\" stroke=\"black\" stroke-linejoin=\"bevel\" stroke-width=\"12\" /><path d=\"M29.0,135.01 L159.0,135.01\" fill=\"none\" stroke=\"black\" stroke-linejoin=\"bevel\" stroke-width=\"12\" /><path d=\"M153.0,129.01 L153.0,167.45999999999998\" fill=\"none\" stroke=\"black\" stroke-linejoin=\"bevel\" stroke-width=\"12\" /><path d=\"M35.0,129.01 L35.0,175.26 Q35.0,185.26 45.0,185.26 L182.0,185.26\" fill=\"none\" stroke=\"black\" stroke-linejoin=\"bevel\" stroke-width=\"12\" /><path d=\"M29.0,158.45999999999998 L159.0,158.45999999999998\" fill=\"none\" stroke=\"black\" stroke-linejoin=\"bevel\" stroke-width=\"12\" /></svg>"
      ],
      "text/plain": [
       "<svgwrite.drawing.Drawing at 0x7f2439d1c650>"
      ]
     },
     "metadata": {},
     "output_type": "display_data"
    },
    {
     "data": {
      "image/svg+xml": [
       "<svg baseProfile=\"full\" height=\"200\" version=\"1.1\" width=\"200\" xmlns=\"http://www.w3.org/2000/svg\" xmlns:ev=\"http://www.w3.org/2001/xml-events\" xmlns:xlink=\"http://www.w3.org/1999/xlink\"><defs /><path d=\"M12.0,40.8 L188.0,40.8\" fill=\"none\" stroke=\"black\" stroke-linejoin=\"bevel\" stroke-width=\"12\" /><path d=\"M71.0,16.0 L71.0,64.0\" fill=\"none\" stroke=\"black\" stroke-linejoin=\"bevel\" stroke-width=\"12\" /><path d=\"M129.0,16.0 L129.0,64.0\" fill=\"none\" stroke=\"black\" stroke-linejoin=\"bevel\" stroke-width=\"12\" /><path d=\"M22.0,91.46000000000001 L184.0,91.46000000000001\" fill=\"none\" stroke=\"black\" stroke-linejoin=\"bevel\" stroke-width=\"12\" /><path d=\"M152.0,85.46000000000001 L152.0,177.94 Q152.0,187.94 132.0,182.94\" fill=\"none\" stroke=\"black\" stroke-linejoin=\"bevel\" stroke-width=\"12\" /><path d=\"M32.75,113.6437 L133.25,113.6437\" fill=\"none\" stroke=\"black\" stroke-linejoin=\"bevel\" stroke-width=\"12\" /><path d=\"M44.14,133.3417 L121.86,133.3417\" fill=\"none\" stroke=\"black\" stroke-linejoin=\"bevel\" stroke-width=\"12\" /><path d=\"M25.380000000000006,154.3529 L140.62,154.3529\" fill=\"none\" stroke=\"black\" stroke-linejoin=\"bevel\" stroke-width=\"12\" /></svg>"
      ],
      "text/plain": [
       "<svgwrite.drawing.Drawing at 0x7f2439d30f90>"
      ]
     },
     "metadata": {},
     "output_type": "display_data"
    },
    {
     "data": {
      "image/svg+xml": [
       "<svg baseProfile=\"full\" height=\"200\" version=\"1.1\" width=\"200\" xmlns=\"http://www.w3.org/2000/svg\" xmlns:ev=\"http://www.w3.org/2001/xml-events\" xmlns:xlink=\"http://www.w3.org/1999/xlink\"><defs /><path d=\"M40.176,7.6 Q31.992000000000004,30.0 11.904000000000002,46.8\" fill=\"none\" stroke=\"black\" stroke-linejoin=\"bevel\" stroke-width=\"12\" /><path d=\"M26.736000000000004,21.6 L70.728,21.6\" fill=\"none\" stroke=\"black\" stroke-linejoin=\"bevel\" stroke-width=\"12\" /><path d=\"M64.728,21.6 Q55.056,61.2 11.16,74.8\" fill=\"none\" stroke=\"black\" stroke-linejoin=\"bevel\" stroke-width=\"12\" /><path d=\"M25.296,32.4 Q39.431999999999995,37.2 46.12799999999999,44.4\" fill=\"none\" stroke=\"black\" stroke-linejoin=\"bevel\" stroke-width=\"12\" /><path d=\"M88.4,36.8 L191.6,36.8\" fill=\"none\" stroke=\"black\" stroke-linejoin=\"bevel\" stroke-width=\"12\" /><path d=\"M140.0,6.8 L140.0,74.0\" fill=\"none\" stroke=\"black\" stroke-linejoin=\"bevel\" stroke-width=\"12\" /><path d=\"M20.0,96.7396 L180.0,96.7396\" fill=\"none\" stroke=\"black\" stroke-linejoin=\"bevel\" stroke-width=\"12\" /><path d=\"M100.0,77.6312 L100.0,137.4488\" fill=\"none\" stroke=\"black\" stroke-linejoin=\"bevel\" stroke-width=\"12\" /><path d=\"M95.0,96.7396 Q64.0,129.1408 14.0,143.2644\" fill=\"none\" stroke=\"black\" stroke-linejoin=\"bevel\" stroke-width=\"12\" /><path d=\"M105.0,96.7396 Q136.0,126.64840000000001 178.0,137.4488\" fill=\"none\" stroke=\"black\" stroke-linejoin=\"bevel\" stroke-width=\"12\" /><path d=\"M79.0,164.67425000000003 Q66.0,179.31375 17.0,192.9985\" fill=\"none\" stroke=\"black\" stroke-linejoin=\"bevel\" stroke-width=\"12\" /><path d=\"M118.0,164.03775000000002 Q145.0,173.267 168.0,190.77075\" fill=\"none\" stroke=\"black\" stroke-linejoin=\"bevel\" stroke-width=\"12\" /><path d=\"M80.0,141.442 Q104.0,145.89749999999998 113.0,152.899\" fill=\"none\" stroke=\"black\" stroke-linejoin=\"bevel\" stroke-width=\"12\" /><path d=\"M18.0,157.99099999999999 L183.0,157.99099999999999\" fill=\"none\" stroke=\"black\" stroke-linejoin=\"bevel\" stroke-width=\"12\" /></svg>"
      ],
      "text/plain": [
       "<svgwrite.drawing.Drawing at 0x7f2439d1af50>"
      ]
     },
     "metadata": {},
     "output_type": "display_data"
    },
    {
     "data": {
      "image/svg+xml": [
       "<svg baseProfile=\"full\" height=\"200\" version=\"1.1\" width=\"200\" xmlns=\"http://www.w3.org/2000/svg\" xmlns:ev=\"http://www.w3.org/2001/xml-events\" xmlns:xlink=\"http://www.w3.org/1999/xlink\"><defs /><path d=\"M49.0,12.0 L49.0,68.0\" fill=\"none\" stroke=\"black\" stroke-linejoin=\"bevel\" stroke-width=\"12\" /><path d=\"M43.0,18.0 L156.0,18.0\" fill=\"none\" stroke=\"black\" stroke-linejoin=\"bevel\" stroke-width=\"12\" /><path d=\"M150.0,12.0 L150.0,68.0\" fill=\"none\" stroke=\"black\" stroke-linejoin=\"bevel\" stroke-width=\"12\" /><path d=\"M43.0,39.0 L156.0,39.0\" fill=\"none\" stroke=\"black\" stroke-linejoin=\"bevel\" stroke-width=\"12\" /><path d=\"M43.0,59.0 L156.0,59.0\" fill=\"none\" stroke=\"black\" stroke-linejoin=\"bevel\" stroke-width=\"12\" /><path d=\"M14.0,76.0 L188.0,76.0\" fill=\"none\" stroke=\"black\" stroke-linejoin=\"bevel\" stroke-width=\"12\" /><path d=\"M100.0,70.0 L100.0,183.0\" fill=\"none\" stroke=\"black\" stroke-linejoin=\"bevel\" stroke-width=\"12\" /><path d=\"M30.0704,82.028 Q26.796800000000005,93.9 18.7616,102.804\" fill=\"none\" stroke=\"black\" stroke-linejoin=\"bevel\" stroke-width=\"12\" /><path d=\"M21.0944,89.44800000000001 L45.8912,89.44800000000001\" fill=\"none\" stroke=\"black\" stroke-linejoin=\"bevel\" stroke-width=\"12\" /><path d=\"M39.8912,89.44800000000001 Q36.0224,110.436 18.464,117.644\" fill=\"none\" stroke=\"black\" stroke-linejoin=\"bevel\" stroke-width=\"12\" /><path d=\"M24.1184,95.172 Q29.772799999999997,97.71600000000001 32.4512,101.532\" fill=\"none\" stroke=\"black\" stroke-linejoin=\"bevel\" stroke-width=\"12\" /><path d=\"M49.36,97.50399999999999 L90.64,97.50399999999999\" fill=\"none\" stroke=\"black\" stroke-linejoin=\"bevel\" stroke-width=\"12\" /><path d=\"M70.0,81.604 L70.0,117.22\" fill=\"none\" stroke=\"black\" stroke-linejoin=\"bevel\" stroke-width=\"12\" /><path d=\"M45.6,144.5839 Q40.4,160.9185 20.8,176.18779999999998\" fill=\"none\" stroke=\"black\" stroke-linejoin=\"bevel\" stroke-width=\"12\" /><path d=\"M61.2,143.87369999999999 Q72.0,154.1716 81.2,173.70209999999997\" fill=\"none\" stroke=\"black\" stroke-linejoin=\"bevel\" stroke-width=\"12\" /><path d=\"M46.0,118.66159999999999 Q55.6,123.633 59.2,131.4452\" fill=\"none\" stroke=\"black\" stroke-linejoin=\"bevel\" stroke-width=\"12\" /><path d=\"M21.2,137.1268 L87.2,137.1268\" fill=\"none\" stroke=\"black\" stroke-linejoin=\"bevel\" stroke-width=\"12\" /><path d=\"M109.92,98.80799999999999 L182.07999999999998,98.80799999999999\" fill=\"none\" stroke=\"black\" stroke-linejoin=\"bevel\" stroke-width=\"12\" /><path d=\"M134.11,86.16 L134.11,110.64\" fill=\"none\" stroke=\"black\" stroke-linejoin=\"bevel\" stroke-width=\"12\" /><path d=\"M157.89,86.16 L157.89,110.64\" fill=\"none\" stroke=\"black\" stroke-linejoin=\"bevel\" stroke-width=\"12\" /><path d=\"M115.25,124.9863 L176.75,124.9863\" fill=\"none\" stroke=\"black\" stroke-linejoin=\"bevel\" stroke-width=\"12\" /><path d=\"M122.22,145.48829999999998 L169.78,145.48829999999998\" fill=\"none\" stroke=\"black\" stroke-linejoin=\"bevel\" stroke-width=\"12\" /><path d=\"M110.74,167.3571 L181.26,167.3571\" fill=\"none\" stroke=\"black\" stroke-linejoin=\"bevel\" stroke-width=\"12\" /></svg>"
      ],
      "text/plain": [
       "<svgwrite.drawing.Drawing at 0x7f2439d4b990>"
      ]
     },
     "metadata": {},
     "output_type": "display_data"
    },
    {
     "name": "stdout",
     "output_type": "stream",
     "text": [
      "从「再作\n",
      "『三』\n",
      "「\n"
     ]
    },
    {
     "data": {
      "image/svg+xml": [
       "<svg baseProfile=\"full\" height=\"200\" version=\"1.1\" width=\"200\" xmlns=\"http://www.w3.org/2000/svg\" xmlns:ev=\"http://www.w3.org/2001/xml-events\" xmlns:xlink=\"http://www.w3.org/1999/xlink\"><defs /><path d=\"M12.0,40.8 L188.0,40.8\" fill=\"none\" stroke=\"black\" stroke-linejoin=\"bevel\" stroke-width=\"12\" /><path d=\"M71.0,16.0 L71.0,64.0\" fill=\"none\" stroke=\"black\" stroke-linejoin=\"bevel\" stroke-width=\"12\" /><path d=\"M129.0,16.0 L129.0,64.0\" fill=\"none\" stroke=\"black\" stroke-linejoin=\"bevel\" stroke-width=\"12\" /><path d=\"M22.0,91.46000000000001 L184.0,91.46000000000001\" fill=\"none\" stroke=\"black\" stroke-linejoin=\"bevel\" stroke-width=\"12\" /><path d=\"M152.0,85.46000000000001 L152.0,177.94 Q152.0,187.94 132.0,182.94\" fill=\"none\" stroke=\"black\" stroke-linejoin=\"bevel\" stroke-width=\"12\" /><path d=\"M30.74,111.3456 L135.26,111.3456\" fill=\"none\" stroke=\"black\" stroke-linejoin=\"bevel\" stroke-width=\"12\" /><path d=\"M80.53493378049725,105.7733769541769 L57.995066219502746,162.22322304582312\" fill=\"none\" stroke=\"black\" stroke-linejoin=\"bevel\" stroke-width=\"12\" /><path d=\"M37.44,130.7153 L115.8,130.7153\" fill=\"none\" stroke=\"black\" stroke-linejoin=\"bevel\" stroke-width=\"12\" /><path d=\"M109.8,124.71530000000001 L109.8,162.651\" fill=\"none\" stroke=\"black\" stroke-linejoin=\"bevel\" stroke-width=\"12\" /><path d=\"M25.380000000000006,156.651 L140.62,156.651\" fill=\"none\" stroke=\"black\" stroke-linejoin=\"bevel\" stroke-width=\"12\" /></svg>"
      ],
      "text/plain": [
       "<svgwrite.drawing.Drawing at 0x7f248c342d10>"
      ]
     },
     "metadata": {},
     "output_type": "display_data"
    },
    {
     "data": {
      "image/svg+xml": [
       "<svg baseProfile=\"full\" height=\"200\" version=\"1.1\" width=\"200\" xmlns=\"http://www.w3.org/2000/svg\" xmlns:ev=\"http://www.w3.org/2001/xml-events\" xmlns:xlink=\"http://www.w3.org/1999/xlink\"><defs /><path d=\"M11.2,28.0 L77.6,28.0\" fill=\"none\" stroke=\"black\" stroke-linejoin=\"bevel\" stroke-width=\"12\" /><path d=\"M41.6,5.6 Q44.0,54.8 11.2,75.2\" fill=\"none\" stroke=\"black\" stroke-linejoin=\"bevel\" stroke-width=\"12\" /><path d=\"M40.0,32.4 Q60.0,44.8 69.6,63.2\" fill=\"none\" stroke=\"black\" stroke-linejoin=\"bevel\" stroke-width=\"12\" /><path d=\"M128.6,5.6 L128.6,24.4 Q128.6,61.6 88.4,73.6\" fill=\"none\" stroke=\"black\" stroke-linejoin=\"bevel\" stroke-width=\"12\" /><path d=\"M93.8,26.4 L165.2,26.4\" fill=\"none\" stroke=\"black\" stroke-linejoin=\"bevel\" stroke-width=\"12\" /><path d=\"M159.3746832022088,20.4025433908309 L158.291138670348,57.604238984718165 Q158.0,67.6 168.0,67.6 L179.2,67.6 Q189.2,67.6 194.2,47.599999999999994\" fill=\"none\" stroke=\"black\" stroke-linejoin=\"bevel\" stroke-width=\"12\" /><path d=\"M24.0,78.73 L24.0,171.91 Q24.0,181.91 34.0,181.91 L180.0,181.91\" fill=\"none\" stroke=\"black\" stroke-linejoin=\"bevel\" stroke-width=\"12\" /><path d=\"M40.5,130.44729999999998 L169.5,113.81790000000001\" fill=\"none\" stroke=\"black\" stroke-linejoin=\"bevel\" stroke-width=\"12\" /><path d=\"M90.0,89.3629 L90.0,153.7061 Q90.0,163.7061 100.0,163.7061 L156.0,163.7061\" fill=\"none\" stroke=\"black\" stroke-linejoin=\"bevel\" stroke-width=\"12\" /></svg>"
      ],
      "text/plain": [
       "<svgwrite.drawing.Drawing at 0x7f2439d2fcd0>"
      ]
     },
     "metadata": {},
     "output_type": "display_data"
    },
    {
     "data": {
      "image/svg+xml": [
       "<svg baseProfile=\"full\" height=\"200\" version=\"1.1\" width=\"200\" xmlns=\"http://www.w3.org/2000/svg\" xmlns:ev=\"http://www.w3.org/2001/xml-events\" xmlns:xlink=\"http://www.w3.org/1999/xlink\"><defs /><path d=\"M161.0,20.47 Q107.0,35.16 45.0,41.94\" fill=\"none\" stroke=\"black\" stroke-linejoin=\"bevel\" stroke-width=\"12\" /><path d=\"M52.0,36.29 Q42.0,73.58 20.0,98.44\" fill=\"none\" stroke=\"black\" stroke-linejoin=\"bevel\" stroke-width=\"12\" /><path d=\"M86.0,46.46 Q102.0,62.28 107.0,84.88\" fill=\"none\" stroke=\"black\" stroke-linejoin=\"bevel\" stroke-width=\"12\" /><path d=\"M138.0,39.68 Q163.0,62.28 173.0,87.14\" fill=\"none\" stroke=\"black\" stroke-linejoin=\"bevel\" stroke-width=\"12\" /><path d=\"M35.72,97.98 L160.52,97.98\" fill=\"none\" stroke=\"black\" stroke-linejoin=\"bevel\" stroke-width=\"12\" /><path d=\"M154.52,91.98 L154.52,141.2\" fill=\"none\" stroke=\"black\" stroke-linejoin=\"bevel\" stroke-width=\"12\" /><path d=\"M35.72,132.2 L160.52,132.2\" fill=\"none\" stroke=\"black\" stroke-linejoin=\"bevel\" stroke-width=\"12\" /><path d=\"M41.72,91.98 L41.72,168.02 Q41.72,178.02 51.72,178.02 L161.44,178.02 Q171.44,178.02 176.44,158.02\" fill=\"none\" stroke=\"black\" stroke-linejoin=\"bevel\" stroke-width=\"12\" /></svg>"
      ],
      "text/plain": [
       "<svgwrite.drawing.Drawing at 0x7f2439f9a4d0>"
      ]
     },
     "metadata": {},
     "output_type": "display_data"
    },
    {
     "data": {
      "image/svg+xml": [
       "<svg baseProfile=\"full\" height=\"200\" version=\"1.1\" width=\"200\" xmlns=\"http://www.w3.org/2000/svg\" xmlns:ev=\"http://www.w3.org/2001/xml-events\" xmlns:xlink=\"http://www.w3.org/1999/xlink\"><defs /><path d=\"M12.0,40.8 L188.0,40.8\" fill=\"none\" stroke=\"black\" stroke-linejoin=\"bevel\" stroke-width=\"12\" /><path d=\"M71.0,16.0 L71.0,64.0\" fill=\"none\" stroke=\"black\" stroke-linejoin=\"bevel\" stroke-width=\"12\" /><path d=\"M129.0,16.0 L129.0,64.0\" fill=\"none\" stroke=\"black\" stroke-linejoin=\"bevel\" stroke-width=\"12\" /><path d=\"M22.0,91.46000000000001 L184.0,91.46000000000001\" fill=\"none\" stroke=\"black\" stroke-linejoin=\"bevel\" stroke-width=\"12\" /><path d=\"M152.0,85.46000000000001 L152.0,177.94 Q152.0,187.94 132.0,182.94\" fill=\"none\" stroke=\"black\" stroke-linejoin=\"bevel\" stroke-width=\"12\" /><path d=\"M35.43,106.9871 L35.43,163.3529\" fill=\"none\" stroke=\"black\" stroke-linejoin=\"bevel\" stroke-width=\"12\" /><path d=\"M29.43,112.9871 L136.57,112.9871\" fill=\"none\" stroke=\"black\" stroke-linejoin=\"bevel\" stroke-width=\"12\" /><path d=\"M130.57,106.9871 L130.57,163.3529\" fill=\"none\" stroke=\"black\" stroke-linejoin=\"bevel\" stroke-width=\"12\" /><path d=\"M68.93,106.9871 L68.93,121.19460000000001 Q68.93,137.6096 41.46,144.8322\" fill=\"none\" stroke=\"black\" stroke-linejoin=\"bevel\" stroke-width=\"12\" /><path d=\"M95.06,106.9871 L95.06,129.2511 Q95.06,139.2511 105.06,139.2511 L118.51,139.2511\" fill=\"none\" stroke=\"black\" stroke-linejoin=\"bevel\" stroke-width=\"12\" /><path d=\"M29.43,154.3529 L136.57,154.3529\" fill=\"none\" stroke=\"black\" stroke-linejoin=\"bevel\" stroke-width=\"12\" /></svg>"
      ],
      "text/plain": [
       "<svgwrite.drawing.Drawing at 0x7f2439f9bc50>"
      ]
     },
     "metadata": {},
     "output_type": "display_data"
    },
    {
     "data": {
      "image/svg+xml": [
       "<svg baseProfile=\"full\" height=\"200\" version=\"1.1\" width=\"200\" xmlns=\"http://www.w3.org/2000/svg\" xmlns:ev=\"http://www.w3.org/2001/xml-events\" xmlns:xlink=\"http://www.w3.org/1999/xlink\"><defs /><path d=\"M11.2,28.0 L77.6,28.0\" fill=\"none\" stroke=\"black\" stroke-linejoin=\"bevel\" stroke-width=\"12\" /><path d=\"M41.6,5.6 Q44.0,54.8 11.2,75.2\" fill=\"none\" stroke=\"black\" stroke-linejoin=\"bevel\" stroke-width=\"12\" /><path d=\"M40.0,32.4 Q60.0,44.8 69.6,63.2\" fill=\"none\" stroke=\"black\" stroke-linejoin=\"bevel\" stroke-width=\"12\" /><path d=\"M128.6,5.6 L128.6,24.4 Q128.6,61.6 88.4,73.6\" fill=\"none\" stroke=\"black\" stroke-linejoin=\"bevel\" stroke-width=\"12\" /><path d=\"M93.8,26.4 L165.2,26.4\" fill=\"none\" stroke=\"black\" stroke-linejoin=\"bevel\" stroke-width=\"12\" /><path d=\"M159.3746832022088,20.4025433908309 L158.291138670348,57.604238984718165 Q158.0,67.6 168.0,67.6 L179.2,67.6 Q189.2,67.6 194.2,47.599999999999994\" fill=\"none\" stroke=\"black\" stroke-linejoin=\"bevel\" stroke-width=\"12\" /><path d=\"M24.0,78.73 L24.0,171.91 Q24.0,181.91 34.0,181.91 L170.0,181.91 Q180.0,181.91 185.0,161.91\" fill=\"none\" stroke=\"black\" stroke-linejoin=\"bevel\" stroke-width=\"12\" /><path d=\"M89.25,123.59989999999999 Q79.5,146.0985 42.75,167.1298\" fill=\"none\" stroke=\"black\" stroke-linejoin=\"bevel\" stroke-width=\"12\" /><path d=\"M118.5,122.62169999999999 Q138.75,136.8056 156.0,163.7061\" fill=\"none\" stroke=\"black\" stroke-linejoin=\"bevel\" stroke-width=\"12\" /><path d=\"M90.0,87.8956 Q108.0,94.743 114.75,105.50319999999999\" fill=\"none\" stroke=\"black\" stroke-linejoin=\"bevel\" stroke-width=\"12\" /><path d=\"M43.5,113.3288 L167.25,113.3288\" fill=\"none\" stroke=\"black\" stroke-linejoin=\"bevel\" stroke-width=\"12\" /></svg>"
      ],
      "text/plain": [
       "<svgwrite.drawing.Drawing at 0x7f2439d57410>"
      ]
     },
     "metadata": {},
     "output_type": "display_data"
    },
    {
     "data": {
      "image/svg+xml": [
       "<svg baseProfile=\"full\" height=\"200\" version=\"1.1\" width=\"200\" xmlns=\"http://www.w3.org/2000/svg\" xmlns:ev=\"http://www.w3.org/2001/xml-events\" xmlns:xlink=\"http://www.w3.org/1999/xlink\"><defs /><path d=\"M161.0,20.47 Q107.0,35.16 45.0,41.94\" fill=\"none\" stroke=\"black\" stroke-linejoin=\"bevel\" stroke-width=\"12\" /><path d=\"M52.0,36.29 Q42.0,73.58 20.0,98.44\" fill=\"none\" stroke=\"black\" stroke-linejoin=\"bevel\" stroke-width=\"12\" /><path d=\"M86.0,46.46 Q102.0,62.28 107.0,84.88\" fill=\"none\" stroke=\"black\" stroke-linejoin=\"bevel\" stroke-width=\"12\" /><path d=\"M138.0,39.68 Q163.0,62.28 173.0,87.14\" fill=\"none\" stroke=\"black\" stroke-linejoin=\"bevel\" stroke-width=\"12\" /><path d=\"M35.72,97.98 L160.52,97.98\" fill=\"none\" stroke=\"black\" stroke-linejoin=\"bevel\" stroke-width=\"12\" /><path d=\"M154.52,91.98 L154.52,141.2\" fill=\"none\" stroke=\"black\" stroke-linejoin=\"bevel\" stroke-width=\"12\" /><path d=\"M35.72,132.2 L160.52,132.2\" fill=\"none\" stroke=\"black\" stroke-linejoin=\"bevel\" stroke-width=\"12\" /><path d=\"M41.72,91.98 L41.72,168.02 Q41.72,178.02 51.72,178.02 L161.44,178.02 Q171.44,178.02 176.44,158.02\" fill=\"none\" stroke=\"black\" stroke-linejoin=\"bevel\" stroke-width=\"12\" /></svg>"
      ],
      "text/plain": [
       "<svgwrite.drawing.Drawing at 0x7f243a11f710>"
      ]
     },
     "metadata": {},
     "output_type": "display_data"
    },
    {
     "data": {
      "image/svg+xml": [
       "<svg baseProfile=\"full\" height=\"200\" version=\"1.1\" width=\"200\" xmlns=\"http://www.w3.org/2000/svg\" xmlns:ev=\"http://www.w3.org/2001/xml-events\" xmlns:xlink=\"http://www.w3.org/1999/xlink\"><defs /><path d=\"M12.0,40.8 L188.0,40.8\" fill=\"none\" stroke=\"black\" stroke-linejoin=\"bevel\" stroke-width=\"12\" /><path d=\"M71.0,16.0 L71.0,64.0\" fill=\"none\" stroke=\"black\" stroke-linejoin=\"bevel\" stroke-width=\"12\" /><path d=\"M129.0,16.0 L129.0,64.0\" fill=\"none\" stroke=\"black\" stroke-linejoin=\"bevel\" stroke-width=\"12\" /><path d=\"M22.0,91.46000000000001 L184.0,91.46000000000001\" fill=\"none\" stroke=\"black\" stroke-linejoin=\"bevel\" stroke-width=\"12\" /><path d=\"M152.0,85.46000000000001 L152.0,177.94 Q152.0,187.94 132.0,182.94\" fill=\"none\" stroke=\"black\" stroke-linejoin=\"bevel\" stroke-width=\"12\" /><path d=\"M32.75,113.6437 L133.25,113.6437\" fill=\"none\" stroke=\"black\" stroke-linejoin=\"bevel\" stroke-width=\"12\" /><path d=\"M44.14,133.3417 L121.86,133.3417\" fill=\"none\" stroke=\"black\" stroke-linejoin=\"bevel\" stroke-width=\"12\" /><path d=\"M25.380000000000006,154.3529 L140.62,154.3529\" fill=\"none\" stroke=\"black\" stroke-linejoin=\"bevel\" stroke-width=\"12\" /></svg>"
      ],
      "text/plain": [
       "<svgwrite.drawing.Drawing at 0x7f2439d313d0>"
      ]
     },
     "metadata": {},
     "output_type": "display_data"
    },
    {
     "data": {
      "image/svg+xml": [
       "<svg baseProfile=\"full\" height=\"200\" version=\"1.1\" width=\"200\" xmlns=\"http://www.w3.org/2000/svg\" xmlns:ev=\"http://www.w3.org/2001/xml-events\" xmlns:xlink=\"http://www.w3.org/1999/xlink\"><defs /><path d=\"M11.2,28.0 L77.6,28.0\" fill=\"none\" stroke=\"black\" stroke-linejoin=\"bevel\" stroke-width=\"12\" /><path d=\"M41.6,5.6 Q44.0,54.8 11.2,75.2\" fill=\"none\" stroke=\"black\" stroke-linejoin=\"bevel\" stroke-width=\"12\" /><path d=\"M40.0,32.4 Q60.0,44.8 69.6,63.2\" fill=\"none\" stroke=\"black\" stroke-linejoin=\"bevel\" stroke-width=\"12\" /><path d=\"M124.4,5.0 Q119.6,25.4 87.2,37.4\" fill=\"none\" stroke=\"black\" stroke-linejoin=\"bevel\" stroke-width=\"12\" /><path d=\"M153.2,2.2 Q162.2,25.6 190.4,35.6\" fill=\"none\" stroke=\"black\" stroke-linejoin=\"bevel\" stroke-width=\"12\" /><path d=\"M95.6,51.6 L184.4,51.6\" fill=\"none\" stroke=\"black\" stroke-linejoin=\"bevel\" stroke-width=\"12\" /><path d=\"M89.6,63.4 L190.4,63.4\" fill=\"none\" stroke=\"black\" stroke-linejoin=\"bevel\" stroke-width=\"12\" /><path d=\"M140.0,42.6 L140.0,77.0\" fill=\"none\" stroke=\"black\" stroke-linejoin=\"bevel\" stroke-width=\"12\" /><path d=\"M20.0,96.7396 L180.0,96.7396\" fill=\"none\" stroke=\"black\" stroke-linejoin=\"bevel\" stroke-width=\"12\" /><path d=\"M100.0,77.6312 L100.0,137.4488\" fill=\"none\" stroke=\"black\" stroke-linejoin=\"bevel\" stroke-width=\"12\" /><path d=\"M95.0,96.7396 Q64.0,129.1408 14.0,143.2644\" fill=\"none\" stroke=\"black\" stroke-linejoin=\"bevel\" stroke-width=\"12\" /><path d=\"M105.0,96.7396 Q136.0,126.64840000000001 178.0,137.4488\" fill=\"none\" stroke=\"black\" stroke-linejoin=\"bevel\" stroke-width=\"12\" /><path d=\"M22.0,146.534 L178.0,146.534\" fill=\"none\" stroke=\"black\" stroke-linejoin=\"bevel\" stroke-width=\"12\" /><path d=\"M96.14232453006441,141.4226600046802 L62.85767546993559,195.56383999531977\" fill=\"none\" stroke=\"black\" stroke-linejoin=\"bevel\" stroke-width=\"12\" /><path d=\"M32.0,165.31074999999998 L146.0,165.31074999999998\" fill=\"none\" stroke=\"black\" stroke-linejoin=\"bevel\" stroke-width=\"12\" /><path d=\"M140.0,159.31074999999998 L140.0,196.4525\" fill=\"none\" stroke=\"black\" stroke-linejoin=\"bevel\" stroke-width=\"12\" /><path d=\"M14.0,190.4525 L186.0,190.4525\" fill=\"none\" stroke=\"black\" stroke-linejoin=\"bevel\" stroke-width=\"12\" /></svg>"
      ],
      "text/plain": [
       "<svgwrite.drawing.Drawing at 0x7f2439d39c10>"
      ]
     },
     "metadata": {},
     "output_type": "display_data"
    },
    {
     "data": {
      "image/svg+xml": [
       "<svg baseProfile=\"full\" height=\"200\" version=\"1.1\" width=\"200\" xmlns=\"http://www.w3.org/2000/svg\" xmlns:ev=\"http://www.w3.org/2001/xml-events\" xmlns:xlink=\"http://www.w3.org/1999/xlink\"><defs /><path d=\"M49.0,12.0 L49.0,68.0\" fill=\"none\" stroke=\"black\" stroke-linejoin=\"bevel\" stroke-width=\"12\" /><path d=\"M43.0,18.0 L156.0,18.0\" fill=\"none\" stroke=\"black\" stroke-linejoin=\"bevel\" stroke-width=\"12\" /><path d=\"M150.0,12.0 L150.0,68.0\" fill=\"none\" stroke=\"black\" stroke-linejoin=\"bevel\" stroke-width=\"12\" /><path d=\"M43.0,39.0 L156.0,39.0\" fill=\"none\" stroke=\"black\" stroke-linejoin=\"bevel\" stroke-width=\"12\" /><path d=\"M43.0,59.0 L156.0,59.0\" fill=\"none\" stroke=\"black\" stroke-linejoin=\"bevel\" stroke-width=\"12\" /><path d=\"M14.0,76.0 L188.0,76.0\" fill=\"none\" stroke=\"black\" stroke-linejoin=\"bevel\" stroke-width=\"12\" /><path d=\"M100.0,70.0 L100.0,183.0\" fill=\"none\" stroke=\"black\" stroke-linejoin=\"bevel\" stroke-width=\"12\" /><path d=\"M18.48,92.84 L45.04,92.84\" fill=\"none\" stroke=\"black\" stroke-linejoin=\"bevel\" stroke-width=\"12\" /><path d=\"M30.64,80.968 Q31.6,107.044 18.48,117.856\" fill=\"none\" stroke=\"black\" stroke-linejoin=\"bevel\" stroke-width=\"12\" /><path d=\"M30.0,95.172 Q38.0,101.744 41.84,111.49600000000001\" fill=\"none\" stroke=\"black\" stroke-linejoin=\"bevel\" stroke-width=\"12\" /><path d=\"M63.76,80.65 Q61.84,91.462 48.88,97.822\" fill=\"none\" stroke=\"black\" stroke-linejoin=\"bevel\" stroke-width=\"12\" /><path d=\"M75.28,79.166 Q78.88,91.568 90.16,96.868\" fill=\"none\" stroke=\"black\" stroke-linejoin=\"bevel\" stroke-width=\"12\" /><path d=\"M52.24,105.348 L87.76,105.348\" fill=\"none\" stroke=\"black\" stroke-linejoin=\"bevel\" stroke-width=\"12\" /><path d=\"M49.84,111.602 L90.16,111.602\" fill=\"none\" stroke=\"black\" stroke-linejoin=\"bevel\" stroke-width=\"12\" /><path d=\"M70.0,100.578 L70.0,118.81\" fill=\"none\" stroke=\"black\" stroke-linejoin=\"bevel\" stroke-width=\"12\" /><path d=\"M22.8,124.3432 L85.2,124.3432\" fill=\"none\" stroke=\"black\" stroke-linejoin=\"bevel\" stroke-width=\"12\" /><path d=\"M52.49135626065202,118.48381445132044 L39.10864373934798,179.20638554867958\" fill=\"none\" stroke=\"black\" stroke-linejoin=\"bevel\" stroke-width=\"12\" /><path d=\"M26.8,145.29410000000001 L76.0,145.29410000000001\" fill=\"none\" stroke=\"black\" stroke-linejoin=\"bevel\" stroke-width=\"12\" /><path d=\"M70.0,139.29410000000001 L70.0,179.347\" fill=\"none\" stroke=\"black\" stroke-linejoin=\"bevel\" stroke-width=\"12\" /><path d=\"M19.6,173.347 L88.4,173.347\" fill=\"none\" stroke=\"black\" stroke-linejoin=\"bevel\" stroke-width=\"12\" /><path d=\"M109.92,98.80799999999999 L182.07999999999998,98.80799999999999\" fill=\"none\" stroke=\"black\" stroke-linejoin=\"bevel\" stroke-width=\"12\" /><path d=\"M134.11,86.16 L134.11,110.64\" fill=\"none\" stroke=\"black\" stroke-linejoin=\"bevel\" stroke-width=\"12\" /><path d=\"M157.89,86.16 L157.89,110.64\" fill=\"none\" stroke=\"black\" stroke-linejoin=\"bevel\" stroke-width=\"12\" /><path d=\"M115.25,124.9863 L176.75,124.9863\" fill=\"none\" stroke=\"black\" stroke-linejoin=\"bevel\" stroke-width=\"12\" /><path d=\"M122.22,145.48829999999998 L169.78,145.48829999999998\" fill=\"none\" stroke=\"black\" stroke-linejoin=\"bevel\" stroke-width=\"12\" /><path d=\"M110.74,167.3571 L181.26,167.3571\" fill=\"none\" stroke=\"black\" stroke-linejoin=\"bevel\" stroke-width=\"12\" /></svg>"
      ],
      "text/plain": [
       "<svgwrite.drawing.Drawing at 0x7f2439d48f10>"
      ]
     },
     "metadata": {},
     "output_type": "display_data"
    },
    {
     "name": "stdout",
     "output_type": "stream",
     "text": [
      "从「再作\n",
      "「\n"
     ]
    },
    {
     "data": {
      "image/svg+xml": [
       "<svg baseProfile=\"full\" height=\"200\" version=\"1.1\" width=\"200\" xmlns=\"http://www.w3.org/2000/svg\" xmlns:ev=\"http://www.w3.org/2001/xml-events\" xmlns:xlink=\"http://www.w3.org/1999/xlink\"><defs /><path d=\"M21.44,17.2 L21.44,57.4\" fill=\"none\" stroke=\"black\" stroke-linejoin=\"bevel\" stroke-width=\"12\" /><path d=\"M15.440000000000001,23.2 L77.36,23.2\" fill=\"none\" stroke=\"black\" stroke-linejoin=\"bevel\" stroke-width=\"12\" /><path d=\"M71.36,17.2 L71.36,57.4\" fill=\"none\" stroke=\"black\" stroke-linejoin=\"bevel\" stroke-width=\"12\" /><path d=\"M15.440000000000001,48.4 L77.36,48.4\" fill=\"none\" stroke=\"black\" stroke-linejoin=\"bevel\" stroke-width=\"12\" /><path d=\"M46.4,6.4 L46.4,73.6\" fill=\"none\" stroke=\"black\" stroke-linejoin=\"bevel\" stroke-width=\"12\" /><path d=\"M133.4,7.6 L133.4,74.4\" fill=\"none\" stroke=\"black\" stroke-linejoin=\"bevel\" stroke-width=\"12\" /><path d=\"M138.8,33.6 Q161.0,38.0 173.6,45.6\" fill=\"none\" stroke=\"black\" stroke-linejoin=\"bevel\" stroke-width=\"12\" /><path d=\"M22.0,91.46000000000001 L184.0,91.46000000000001\" fill=\"none\" stroke=\"black\" stroke-linejoin=\"bevel\" stroke-width=\"12\" /><path d=\"M152.0,85.46000000000001 L152.0,177.94 Q152.0,187.94 132.0,182.94\" fill=\"none\" stroke=\"black\" stroke-linejoin=\"bevel\" stroke-width=\"12\" /><path d=\"M25.380000000000006,133.99830000000003 L140.62,133.99830000000003\" fill=\"none\" stroke=\"black\" stroke-linejoin=\"bevel\" stroke-width=\"12\" /></svg>"
      ],
      "text/plain": [
       "<svgwrite.drawing.Drawing at 0x7f2439d19d90>"
      ]
     },
     "metadata": {},
     "output_type": "display_data"
    },
    {
     "name": "stdout",
     "output_type": "stream",
     "text": [
      "上十\n"
     ]
    },
    {
     "data": {
      "image/svg+xml": [
       "<svg baseProfile=\"full\" height=\"200\" version=\"1.1\" width=\"200\" xmlns=\"http://www.w3.org/2000/svg\" xmlns:ev=\"http://www.w3.org/2001/xml-events\" xmlns:xlink=\"http://www.w3.org/1999/xlink\"><defs /><path d=\"M12.0,40.8 L188.0,40.8\" fill=\"none\" stroke=\"black\" stroke-linejoin=\"bevel\" stroke-width=\"12\" /><path d=\"M71.0,16.0 L71.0,64.0\" fill=\"none\" stroke=\"black\" stroke-linejoin=\"bevel\" stroke-width=\"12\" /><path d=\"M129.0,16.0 L129.0,64.0\" fill=\"none\" stroke=\"black\" stroke-linejoin=\"bevel\" stroke-width=\"12\" /><path d=\"M24.0,78.73 L24.0,171.91 Q24.0,181.91 34.0,181.91 L180.0,181.91\" fill=\"none\" stroke=\"black\" stroke-linejoin=\"bevel\" stroke-width=\"12\" /><path d=\"M48.75,99.1449 L161.25,99.1449\" fill=\"none\" stroke=\"black\" stroke-linejoin=\"bevel\" stroke-width=\"12\" /><path d=\"M61.5,128.4909 L148.5,128.4909\" fill=\"none\" stroke=\"black\" stroke-linejoin=\"bevel\" stroke-width=\"12\" /><path d=\"M40.5,159.7933 L169.5,159.7933\" fill=\"none\" stroke=\"black\" stroke-linejoin=\"bevel\" stroke-width=\"12\" /></svg>"
      ],
      "text/plain": [
       "<svgwrite.drawing.Drawing at 0x7f2439d3bc50>"
      ]
     },
     "metadata": {},
     "output_type": "display_data"
    },
    {
     "data": {
      "image/svg+xml": [
       "<svg baseProfile=\"full\" height=\"200\" version=\"1.1\" width=\"200\" xmlns=\"http://www.w3.org/2000/svg\" xmlns:ev=\"http://www.w3.org/2001/xml-events\" xmlns:xlink=\"http://www.w3.org/1999/xlink\"><defs /><path d=\"M11.2,28.0 L77.6,28.0\" fill=\"none\" stroke=\"black\" stroke-linejoin=\"bevel\" stroke-width=\"12\" /><path d=\"M41.6,5.6 Q44.0,54.8 11.2,75.2\" fill=\"none\" stroke=\"black\" stroke-linejoin=\"bevel\" stroke-width=\"12\" /><path d=\"M40.0,32.4 Q60.0,44.8 69.6,63.2\" fill=\"none\" stroke=\"black\" stroke-linejoin=\"bevel\" stroke-width=\"12\" /><path d=\"M128.6,5.6 L128.6,24.4 Q128.6,61.6 88.4,73.6\" fill=\"none\" stroke=\"black\" stroke-linejoin=\"bevel\" stroke-width=\"12\" /><path d=\"M93.8,26.4 L165.2,26.4\" fill=\"none\" stroke=\"black\" stroke-linejoin=\"bevel\" stroke-width=\"12\" /><path d=\"M159.3746832022088,20.4025433908309 L158.291138670348,57.604238984718165 Q158.0,67.6 168.0,67.6 L189.2,67.6\" fill=\"none\" stroke=\"black\" stroke-linejoin=\"bevel\" stroke-width=\"12\" /><path d=\"M22.0,91.46000000000001 L184.0,91.46000000000001\" fill=\"none\" stroke=\"black\" stroke-linejoin=\"bevel\" stroke-width=\"12\" /><path d=\"M152.0,85.46000000000001 L152.0,177.94 Q152.0,187.94 132.0,182.94\" fill=\"none\" stroke=\"black\" stroke-linejoin=\"bevel\" stroke-width=\"12\" /><path d=\"M37.44,116.5984 L128.56,116.5984\" fill=\"none\" stroke=\"black\" stroke-linejoin=\"bevel\" stroke-width=\"12\" /><path d=\"M25.380000000000006,151.3982 L140.62,151.3982\" fill=\"none\" stroke=\"black\" stroke-linejoin=\"bevel\" stroke-width=\"12\" /></svg>"
      ],
      "text/plain": [
       "<svgwrite.drawing.Drawing at 0x7f2439d54cd0>"
      ]
     },
     "metadata": {},
     "output_type": "display_data"
    },
    {
     "data": {
      "image/svg+xml": [
       "<svg baseProfile=\"full\" height=\"200\" version=\"1.1\" width=\"200\" xmlns=\"http://www.w3.org/2000/svg\" xmlns:ev=\"http://www.w3.org/2001/xml-events\" xmlns:xlink=\"http://www.w3.org/1999/xlink\"><defs /><path d=\"M12.0,40.8 L188.0,40.8\" fill=\"none\" stroke=\"black\" stroke-linejoin=\"bevel\" stroke-width=\"12\" /><path d=\"M71.0,16.0 L71.0,64.0\" fill=\"none\" stroke=\"black\" stroke-linejoin=\"bevel\" stroke-width=\"12\" /><path d=\"M129.0,16.0 L129.0,64.0\" fill=\"none\" stroke=\"black\" stroke-linejoin=\"bevel\" stroke-width=\"12\" /><path d=\"M24.0,78.73 L24.0,171.91 Q24.0,181.91 34.0,181.91 L180.0,181.91\" fill=\"none\" stroke=\"black\" stroke-linejoin=\"bevel\" stroke-width=\"12\" /><path d=\"M46.5,95.7212 L163.5,95.7212\" fill=\"none\" stroke=\"black\" stroke-linejoin=\"bevel\" stroke-width=\"12\" /><path d=\"M101.47418573761139,89.97427181685576 L77.77581426238861,168.96392818314422\" fill=\"none\" stroke=\"black\" stroke-linejoin=\"bevel\" stroke-width=\"12\" /><path d=\"M54.0,124.5781 L141.0,124.5781\" fill=\"none\" stroke=\"black\" stroke-linejoin=\"bevel\" stroke-width=\"12\" /><path d=\"M135.0,118.5781 L135.0,169.21699999999998\" fill=\"none\" stroke=\"black\" stroke-linejoin=\"bevel\" stroke-width=\"12\" /><path d=\"M40.5,163.21699999999998 L169.5,163.21699999999998\" fill=\"none\" stroke=\"black\" stroke-linejoin=\"bevel\" stroke-width=\"12\" /></svg>"
      ],
      "text/plain": [
       "<svgwrite.drawing.Drawing at 0x7f2439d36650>"
      ]
     },
     "metadata": {},
     "output_type": "display_data"
    },
    {
     "data": {
      "image/svg+xml": [
       "<svg baseProfile=\"full\" height=\"200\" version=\"1.1\" width=\"200\" xmlns=\"http://www.w3.org/2000/svg\" xmlns:ev=\"http://www.w3.org/2001/xml-events\" xmlns:xlink=\"http://www.w3.org/1999/xlink\"><defs /><path d=\"M40.176,7.6 Q31.992000000000004,30.0 11.904000000000002,46.8\" fill=\"none\" stroke=\"black\" stroke-linejoin=\"bevel\" stroke-width=\"12\" /><path d=\"M26.736000000000004,21.6 L70.728,21.6\" fill=\"none\" stroke=\"black\" stroke-linejoin=\"bevel\" stroke-width=\"12\" /><path d=\"M64.728,21.6 Q55.056,61.2 11.16,74.8\" fill=\"none\" stroke=\"black\" stroke-linejoin=\"bevel\" stroke-width=\"12\" /><path d=\"M25.296,32.4 Q39.431999999999995,37.2 46.12799999999999,44.4\" fill=\"none\" stroke=\"black\" stroke-linejoin=\"bevel\" stroke-width=\"12\" /><path d=\"M133.4,7.6 L133.4,74.4\" fill=\"none\" stroke=\"black\" stroke-linejoin=\"bevel\" stroke-width=\"12\" /><path d=\"M138.8,33.6 Q161.0,38.0 173.6,45.6\" fill=\"none\" stroke=\"black\" stroke-linejoin=\"bevel\" stroke-width=\"12\" /><path d=\"M22.0,91.46000000000001 L184.0,91.46000000000001\" fill=\"none\" stroke=\"black\" stroke-linejoin=\"bevel\" stroke-width=\"12\" /><path d=\"M152.0,85.46000000000001 L152.0,177.94 Q152.0,187.94 132.0,182.94\" fill=\"none\" stroke=\"black\" stroke-linejoin=\"bevel\" stroke-width=\"12\" /><path d=\"M32.75,113.6437 L133.25,113.6437\" fill=\"none\" stroke=\"black\" stroke-linejoin=\"bevel\" stroke-width=\"12\" /><path d=\"M44.14,133.3417 L121.86,133.3417\" fill=\"none\" stroke=\"black\" stroke-linejoin=\"bevel\" stroke-width=\"12\" /><path d=\"M25.380000000000006,154.3529 L140.62,154.3529\" fill=\"none\" stroke=\"black\" stroke-linejoin=\"bevel\" stroke-width=\"12\" /></svg>"
      ],
      "text/plain": [
       "<svgwrite.drawing.Drawing at 0x7f2439d2a4d0>"
      ]
     },
     "metadata": {},
     "output_type": "display_data"
    },
    {
     "name": "stdout",
     "output_type": "stream",
     "text": [
      "上十八\n"
     ]
    },
    {
     "data": {
      "image/svg+xml": [
       "<svg baseProfile=\"full\" height=\"200\" version=\"1.1\" width=\"200\" xmlns=\"http://www.w3.org/2000/svg\" xmlns:ev=\"http://www.w3.org/2001/xml-events\" xmlns:xlink=\"http://www.w3.org/1999/xlink\"><defs /><path d=\"M12.0,40.8 L188.0,40.8\" fill=\"none\" stroke=\"black\" stroke-linejoin=\"bevel\" stroke-width=\"12\" /><path d=\"M71.0,16.0 L71.0,64.0\" fill=\"none\" stroke=\"black\" stroke-linejoin=\"bevel\" stroke-width=\"12\" /><path d=\"M129.0,16.0 L129.0,64.0\" fill=\"none\" stroke=\"black\" stroke-linejoin=\"bevel\" stroke-width=\"12\" /><path d=\"M20.0,96.7396 L180.0,96.7396\" fill=\"none\" stroke=\"black\" stroke-linejoin=\"bevel\" stroke-width=\"12\" /><path d=\"M100.0,77.6312 L100.0,137.4488\" fill=\"none\" stroke=\"black\" stroke-linejoin=\"bevel\" stroke-width=\"12\" /><path d=\"M95.0,96.7396 Q64.0,129.1408 14.0,143.2644\" fill=\"none\" stroke=\"black\" stroke-linejoin=\"bevel\" stroke-width=\"12\" /><path d=\"M105.0,96.7396 Q136.0,126.64840000000001 178.0,137.4488\" fill=\"none\" stroke=\"black\" stroke-linejoin=\"bevel\" stroke-width=\"12\" /><path d=\"M79.0,164.67425000000003 Q66.0,179.31375 17.0,192.9985\" fill=\"none\" stroke=\"black\" stroke-linejoin=\"bevel\" stroke-width=\"12\" /><path d=\"M118.0,164.03775000000002 Q145.0,173.267 168.0,190.77075\" fill=\"none\" stroke=\"black\" stroke-linejoin=\"bevel\" stroke-width=\"12\" /><path d=\"M80.0,141.442 Q104.0,145.89749999999998 113.0,152.899\" fill=\"none\" stroke=\"black\" stroke-linejoin=\"bevel\" stroke-width=\"12\" /><path d=\"M18.0,157.99099999999999 L183.0,157.99099999999999\" fill=\"none\" stroke=\"black\" stroke-linejoin=\"bevel\" stroke-width=\"12\" /></svg>"
      ],
      "text/plain": [
       "<svgwrite.drawing.Drawing at 0x7f2439f99490>"
      ]
     },
     "metadata": {},
     "output_type": "display_data"
    },
    {
     "data": {
      "image/svg+xml": [
       "<svg baseProfile=\"full\" height=\"200\" version=\"1.1\" width=\"200\" xmlns=\"http://www.w3.org/2000/svg\" xmlns:ev=\"http://www.w3.org/2001/xml-events\" xmlns:xlink=\"http://www.w3.org/1999/xlink\"><defs /><path d=\"M49.0,12.0 L49.0,68.0\" fill=\"none\" stroke=\"black\" stroke-linejoin=\"bevel\" stroke-width=\"12\" /><path d=\"M43.0,18.0 L156.0,18.0\" fill=\"none\" stroke=\"black\" stroke-linejoin=\"bevel\" stroke-width=\"12\" /><path d=\"M150.0,12.0 L150.0,68.0\" fill=\"none\" stroke=\"black\" stroke-linejoin=\"bevel\" stroke-width=\"12\" /><path d=\"M43.0,39.0 L156.0,39.0\" fill=\"none\" stroke=\"black\" stroke-linejoin=\"bevel\" stroke-width=\"12\" /><path d=\"M43.0,59.0 L156.0,59.0\" fill=\"none\" stroke=\"black\" stroke-linejoin=\"bevel\" stroke-width=\"12\" /><path d=\"M14.0,76.0 L188.0,76.0\" fill=\"none\" stroke=\"black\" stroke-linejoin=\"bevel\" stroke-width=\"12\" /><path d=\"M100.0,70.0 L100.0,183.0\" fill=\"none\" stroke=\"black\" stroke-linejoin=\"bevel\" stroke-width=\"12\" /><path d=\"M18.48,92.84 L45.04,92.84\" fill=\"none\" stroke=\"black\" stroke-linejoin=\"bevel\" stroke-width=\"12\" /><path d=\"M30.64,80.968 Q31.6,107.044 18.48,117.856\" fill=\"none\" stroke=\"black\" stroke-linejoin=\"bevel\" stroke-width=\"12\" /><path d=\"M30.0,95.172 Q38.0,101.744 41.84,111.49600000000001\" fill=\"none\" stroke=\"black\" stroke-linejoin=\"bevel\" stroke-width=\"12\" /><path d=\"M65.44,80.968 L65.44,90.932 Q65.44,110.648 49.36,117.008\" fill=\"none\" stroke=\"black\" stroke-linejoin=\"bevel\" stroke-width=\"12\" /><path d=\"M51.52,91.99199999999999 L83.68,91.99199999999999\" fill=\"none\" stroke=\"black\" stroke-linejoin=\"bevel\" stroke-width=\"12\" /><path d=\"M77.81186043364377,85.99344910615577 L77.41976738940627,103.83041517692631 Q77.2,113.828 87.2,113.828 L89.68,113.828\" fill=\"none\" stroke=\"black\" stroke-linejoin=\"bevel\" stroke-width=\"12\" /><path d=\"M24.0,126.8289 L84.0,126.8289\" fill=\"none\" stroke=\"black\" stroke-linejoin=\"bevel\" stroke-width=\"12\" /><path d=\"M30.8,148.1349 L77.2,148.1349\" fill=\"none\" stroke=\"black\" stroke-linejoin=\"bevel\" stroke-width=\"12\" /><path d=\"M19.6,170.86129999999997 L88.4,170.86129999999997\" fill=\"none\" stroke=\"black\" stroke-linejoin=\"bevel\" stroke-width=\"12\" /><path d=\"M109.92,98.80799999999999 L182.07999999999998,98.80799999999999\" fill=\"none\" stroke=\"black\" stroke-linejoin=\"bevel\" stroke-width=\"12\" /><path d=\"M134.11,86.16 L134.11,110.64\" fill=\"none\" stroke=\"black\" stroke-linejoin=\"bevel\" stroke-width=\"12\" /><path d=\"M157.89,86.16 L157.89,110.64\" fill=\"none\" stroke=\"black\" stroke-linejoin=\"bevel\" stroke-width=\"12\" /><path d=\"M137.39,142.0713 Q132.06,157.7895 111.97,172.4826\" fill=\"none\" stroke=\"black\" stroke-linejoin=\"bevel\" stroke-width=\"12\" /><path d=\"M153.38,141.3879 Q164.45,151.2972 173.88,170.0907\" fill=\"none\" stroke=\"black\" stroke-linejoin=\"bevel\" stroke-width=\"12\" /><path d=\"M137.8,117.12719999999999 Q147.64,121.911 151.32999999999998,129.4284\" fill=\"none\" stroke=\"black\" stroke-linejoin=\"bevel\" stroke-width=\"12\" /><path d=\"M112.38,134.8956 L180.03,134.8956\" fill=\"none\" stroke=\"black\" stroke-linejoin=\"bevel\" stroke-width=\"12\" /></svg>"
      ],
      "text/plain": [
       "<svgwrite.drawing.Drawing at 0x7f2439d49850>"
      ]
     },
     "metadata": {},
     "output_type": "display_data"
    },
    {
     "name": "stdout",
     "output_type": "stream",
     "text": [
      "从「再作\n",
      "「\n"
     ]
    },
    {
     "data": {
      "image/svg+xml": [
       "<svg baseProfile=\"full\" height=\"200\" version=\"1.1\" width=\"200\" xmlns=\"http://www.w3.org/2000/svg\" xmlns:ev=\"http://www.w3.org/2001/xml-events\" xmlns:xlink=\"http://www.w3.org/1999/xlink\"><defs /><path d=\"M40.176,7.6 Q31.992000000000004,30.0 11.904000000000002,46.8\" fill=\"none\" stroke=\"black\" stroke-linejoin=\"bevel\" stroke-width=\"12\" /><path d=\"M26.736000000000004,21.6 L70.728,21.6\" fill=\"none\" stroke=\"black\" stroke-linejoin=\"bevel\" stroke-width=\"12\" /><path d=\"M64.728,21.6 Q55.056,61.2 11.16,74.8\" fill=\"none\" stroke=\"black\" stroke-linejoin=\"bevel\" stroke-width=\"12\" /><path d=\"M25.296,32.4 Q39.431999999999995,37.2 46.12799999999999,44.4\" fill=\"none\" stroke=\"black\" stroke-linejoin=\"bevel\" stroke-width=\"12\" /><path d=\"M88.4,36.8 L191.6,36.8\" fill=\"none\" stroke=\"black\" stroke-linejoin=\"bevel\" stroke-width=\"12\" /><path d=\"M140.0,6.8 L140.0,74.0\" fill=\"none\" stroke=\"black\" stroke-linejoin=\"bevel\" stroke-width=\"12\" /><path d=\"M22.0,91.46000000000001 L184.0,91.46000000000001\" fill=\"none\" stroke=\"black\" stroke-linejoin=\"bevel\" stroke-width=\"12\" /><path d=\"M152.0,85.46000000000001 L152.0,177.94 Q152.0,187.94 132.0,182.94\" fill=\"none\" stroke=\"black\" stroke-linejoin=\"bevel\" stroke-width=\"12\" /></svg>"
      ],
      "text/plain": [
       "<svgwrite.drawing.Drawing at 0x7f2439d24a10>"
      ]
     },
     "metadata": {},
     "output_type": "display_data"
    },
    {
     "data": {
      "image/svg+xml": [
       "<svg baseProfile=\"full\" height=\"200\" version=\"1.1\" width=\"200\" xmlns=\"http://www.w3.org/2000/svg\" xmlns:ev=\"http://www.w3.org/2001/xml-events\" xmlns:xlink=\"http://www.w3.org/1999/xlink\"><defs /><path d=\"M11.2,28.0 L77.6,28.0\" fill=\"none\" stroke=\"black\" stroke-linejoin=\"bevel\" stroke-width=\"12\" /><path d=\"M41.6,5.6 Q44.0,54.8 11.2,75.2\" fill=\"none\" stroke=\"black\" stroke-linejoin=\"bevel\" stroke-width=\"12\" /><path d=\"M40.0,32.4 Q60.0,44.8 69.6,63.2\" fill=\"none\" stroke=\"black\" stroke-linejoin=\"bevel\" stroke-width=\"12\" /><path d=\"M128.6,5.6 L128.6,24.4 Q128.6,61.6 88.4,73.6\" fill=\"none\" stroke=\"black\" stroke-linejoin=\"bevel\" stroke-width=\"12\" /><path d=\"M93.8,26.4 L165.2,26.4\" fill=\"none\" stroke=\"black\" stroke-linejoin=\"bevel\" stroke-width=\"12\" /><path d=\"M159.3746832022088,20.4025433908309 L158.291138670348,57.604238984718165 Q158.0,67.6 168.0,67.6 L189.2,67.6\" fill=\"none\" stroke=\"black\" stroke-linejoin=\"bevel\" stroke-width=\"12\" /><path d=\"M28.0,84.76 L188.0,84.76\" fill=\"none\" stroke=\"black\" stroke-linejoin=\"bevel\" stroke-width=\"12\" /><path d=\"M34.0,78.76 L34.0,126.97 Q34.0,175.20999999999998 12.0,192.63\" fill=\"none\" stroke=\"black\" stroke-linejoin=\"bevel\" stroke-width=\"12\" /><path d=\"M50.36,113.18642500000001 L177.64,104.24527499999999\" fill=\"none\" stroke=\"black\" stroke-linejoin=\"bevel\" stroke-width=\"12\" /><path d=\"M99.2,91.096525 L99.2,121.068725 Q99.2,131.068725 109.2,131.068725 L164.32,131.068725\" fill=\"none\" stroke=\"black\" stroke-linejoin=\"bevel\" stroke-width=\"12\" /><path d=\"M98.46,162.09977500000002 Q88.84,174.19662499999998 52.58,185.50455\" fill=\"none\" stroke=\"black\" stroke-linejoin=\"bevel\" stroke-width=\"12\" /><path d=\"M127.32,161.573825 Q147.3,169.20010000000002 164.32,183.663725\" fill=\"none\" stroke=\"black\" stroke-linejoin=\"bevel\" stroke-width=\"12\" /><path d=\"M99.2,142.9026 Q116.96,146.58425 123.62,152.3697\" fill=\"none\" stroke=\"black\" stroke-linejoin=\"bevel\" stroke-width=\"12\" /><path d=\"M53.32,156.57729999999998 L175.42,156.57729999999998\" fill=\"none\" stroke=\"black\" stroke-linejoin=\"bevel\" stroke-width=\"12\" /></svg>"
      ],
      "text/plain": [
       "<svgwrite.drawing.Drawing at 0x7f2439d19d90>"
      ]
     },
     "metadata": {},
     "output_type": "display_data"
    },
    {
     "data": {
      "image/svg+xml": [
       "<svg baseProfile=\"full\" height=\"200\" version=\"1.1\" width=\"200\" xmlns=\"http://www.w3.org/2000/svg\" xmlns:ev=\"http://www.w3.org/2001/xml-events\" xmlns:xlink=\"http://www.w3.org/1999/xlink\"><defs /><path d=\"M40.176,7.6 Q31.992000000000004,30.0 11.904000000000002,46.8\" fill=\"none\" stroke=\"black\" stroke-linejoin=\"bevel\" stroke-width=\"12\" /><path d=\"M26.736000000000004,21.6 L70.728,21.6\" fill=\"none\" stroke=\"black\" stroke-linejoin=\"bevel\" stroke-width=\"12\" /><path d=\"M64.728,21.6 Q55.056,61.2 11.16,74.8\" fill=\"none\" stroke=\"black\" stroke-linejoin=\"bevel\" stroke-width=\"12\" /><path d=\"M25.296,32.4 Q39.431999999999995,37.2 46.12799999999999,44.4\" fill=\"none\" stroke=\"black\" stroke-linejoin=\"bevel\" stroke-width=\"12\" /><path d=\"M88.4,36.8 L191.6,36.8\" fill=\"none\" stroke=\"black\" stroke-linejoin=\"bevel\" stroke-width=\"12\" /><path d=\"M140.0,6.8 L140.0,74.0\" fill=\"none\" stroke=\"black\" stroke-linejoin=\"bevel\" stroke-width=\"12\" /><path d=\"M168.0,78.11359999999999 Q117.0,87.3462 22.0,92.3176\" fill=\"none\" stroke=\"black\" stroke-linejoin=\"bevel\" stroke-width=\"12\" /><path d=\"M35.0,97.9992 Q53.0,107.94200000000001 59.0,122.14599999999999\" fill=\"none\" stroke=\"black\" stroke-linejoin=\"bevel\" stroke-width=\"12\" /><path d=\"M84.0,94.4482 Q101.0,104.39099999999999 105.0,116.4644\" fill=\"none\" stroke=\"black\" stroke-linejoin=\"bevel\" stroke-width=\"12\" /><path d=\"M159.0,90.187 Q153.0,98.7094 134.0,124.2766\" fill=\"none\" stroke=\"black\" stroke-linejoin=\"bevel\" stroke-width=\"12\" /><path d=\"M29.0,135.01 L159.0,135.01\" fill=\"none\" stroke=\"black\" stroke-linejoin=\"bevel\" stroke-width=\"12\" /><path d=\"M153.0,129.01 L153.0,167.45999999999998\" fill=\"none\" stroke=\"black\" stroke-linejoin=\"bevel\" stroke-width=\"12\" /><path d=\"M35.0,129.01 L35.0,175.26 Q35.0,185.26 45.0,185.26 L182.0,185.26\" fill=\"none\" stroke=\"black\" stroke-linejoin=\"bevel\" stroke-width=\"12\" /><path d=\"M29.0,158.45999999999998 L159.0,158.45999999999998\" fill=\"none\" stroke=\"black\" stroke-linejoin=\"bevel\" stroke-width=\"12\" /></svg>"
      ],
      "text/plain": [
       "<svgwrite.drawing.Drawing at 0x7f2439fa8e50>"
      ]
     },
     "metadata": {},
     "output_type": "display_data"
    },
    {
     "data": {
      "image/svg+xml": [
       "<svg baseProfile=\"full\" height=\"200\" version=\"1.1\" width=\"200\" xmlns=\"http://www.w3.org/2000/svg\" xmlns:ev=\"http://www.w3.org/2001/xml-events\" xmlns:xlink=\"http://www.w3.org/1999/xlink\"><defs /><path d=\"M12.0,40.8 L188.0,40.8\" fill=\"none\" stroke=\"black\" stroke-linejoin=\"bevel\" stroke-width=\"12\" /><path d=\"M71.0,16.0 L71.0,64.0\" fill=\"none\" stroke=\"black\" stroke-linejoin=\"bevel\" stroke-width=\"12\" /><path d=\"M129.0,16.0 L129.0,64.0\" fill=\"none\" stroke=\"black\" stroke-linejoin=\"bevel\" stroke-width=\"12\" /><path d=\"M22.0,91.46000000000001 L184.0,91.46000000000001\" fill=\"none\" stroke=\"black\" stroke-linejoin=\"bevel\" stroke-width=\"12\" /><path d=\"M152.0,85.46000000000001 L152.0,177.94 Q152.0,187.94 132.0,182.94\" fill=\"none\" stroke=\"black\" stroke-linejoin=\"bevel\" stroke-width=\"12\" /><path d=\"M32.75,113.6437 L133.25,113.6437\" fill=\"none\" stroke=\"black\" stroke-linejoin=\"bevel\" stroke-width=\"12\" /><path d=\"M44.14,133.3417 L121.86,133.3417\" fill=\"none\" stroke=\"black\" stroke-linejoin=\"bevel\" stroke-width=\"12\" /><path d=\"M25.380000000000006,154.3529 L140.62,154.3529\" fill=\"none\" stroke=\"black\" stroke-linejoin=\"bevel\" stroke-width=\"12\" /></svg>"
      ],
      "text/plain": [
       "<svgwrite.drawing.Drawing at 0x7f2439d49ed0>"
      ]
     },
     "metadata": {},
     "output_type": "display_data"
    },
    {
     "data": {
      "image/svg+xml": [
       "<svg baseProfile=\"full\" height=\"200\" version=\"1.1\" width=\"200\" xmlns=\"http://www.w3.org/2000/svg\" xmlns:ev=\"http://www.w3.org/2001/xml-events\" xmlns:xlink=\"http://www.w3.org/1999/xlink\"><defs /><path d=\"M40.176,7.6 Q31.992000000000004,30.0 11.904000000000002,46.8\" fill=\"none\" stroke=\"black\" stroke-linejoin=\"bevel\" stroke-width=\"12\" /><path d=\"M26.736000000000004,21.6 L70.728,21.6\" fill=\"none\" stroke=\"black\" stroke-linejoin=\"bevel\" stroke-width=\"12\" /><path d=\"M64.728,21.6 Q55.056,61.2 11.16,74.8\" fill=\"none\" stroke=\"black\" stroke-linejoin=\"bevel\" stroke-width=\"12\" /><path d=\"M25.296,32.4 Q39.431999999999995,37.2 46.12799999999999,44.4\" fill=\"none\" stroke=\"black\" stroke-linejoin=\"bevel\" stroke-width=\"12\" /><path d=\"M88.4,36.8 L191.6,36.8\" fill=\"none\" stroke=\"black\" stroke-linejoin=\"bevel\" stroke-width=\"12\" /><path d=\"M140.0,6.8 L140.0,74.0\" fill=\"none\" stroke=\"black\" stroke-linejoin=\"bevel\" stroke-width=\"12\" /><path d=\"M24.0,78.73 L24.0,171.91 Q24.0,181.91 34.0,181.91 L170.0,181.91 Q180.0,181.91 185.0,161.91\" fill=\"none\" stroke=\"black\" stroke-linejoin=\"bevel\" stroke-width=\"12\" /><path d=\"M89.25,123.59989999999999 Q79.5,146.0985 42.75,167.1298\" fill=\"none\" stroke=\"black\" stroke-linejoin=\"bevel\" stroke-width=\"12\" /><path d=\"M118.5,122.62169999999999 Q138.75,136.8056 156.0,163.7061\" fill=\"none\" stroke=\"black\" stroke-linejoin=\"bevel\" stroke-width=\"12\" /><path d=\"M90.0,87.8956 Q108.0,94.743 114.75,105.50319999999999\" fill=\"none\" stroke=\"black\" stroke-linejoin=\"bevel\" stroke-width=\"12\" /><path d=\"M43.5,113.3288 L167.25,113.3288\" fill=\"none\" stroke=\"black\" stroke-linejoin=\"bevel\" stroke-width=\"12\" /></svg>"
      ],
      "text/plain": [
       "<svgwrite.drawing.Drawing at 0x7f2439d31590>"
      ]
     },
     "metadata": {},
     "output_type": "display_data"
    },
    {
     "data": {
      "image/svg+xml": [
       "<svg baseProfile=\"full\" height=\"200\" version=\"1.1\" width=\"200\" xmlns=\"http://www.w3.org/2000/svg\" xmlns:ev=\"http://www.w3.org/2001/xml-events\" xmlns:xlink=\"http://www.w3.org/1999/xlink\"><defs /><path d=\"M49.0,12.0 L49.0,68.0\" fill=\"none\" stroke=\"black\" stroke-linejoin=\"bevel\" stroke-width=\"12\" /><path d=\"M43.0,18.0 L156.0,18.0\" fill=\"none\" stroke=\"black\" stroke-linejoin=\"bevel\" stroke-width=\"12\" /><path d=\"M150.0,12.0 L150.0,68.0\" fill=\"none\" stroke=\"black\" stroke-linejoin=\"bevel\" stroke-width=\"12\" /><path d=\"M43.0,39.0 L156.0,39.0\" fill=\"none\" stroke=\"black\" stroke-linejoin=\"bevel\" stroke-width=\"12\" /><path d=\"M43.0,59.0 L156.0,59.0\" fill=\"none\" stroke=\"black\" stroke-linejoin=\"bevel\" stroke-width=\"12\" /><path d=\"M14.0,76.0 L188.0,76.0\" fill=\"none\" stroke=\"black\" stroke-linejoin=\"bevel\" stroke-width=\"12\" /><path d=\"M100.0,70.0 L100.0,183.0\" fill=\"none\" stroke=\"black\" stroke-linejoin=\"bevel\" stroke-width=\"12\" /><path d=\"M30.0704,82.028 Q26.796800000000005,93.9 18.7616,102.804\" fill=\"none\" stroke=\"black\" stroke-linejoin=\"bevel\" stroke-width=\"12\" /><path d=\"M21.0944,89.44800000000001 L45.8912,89.44800000000001\" fill=\"none\" stroke=\"black\" stroke-linejoin=\"bevel\" stroke-width=\"12\" /><path d=\"M39.8912,89.44800000000001 Q36.0224,110.436 18.464,117.644\" fill=\"none\" stroke=\"black\" stroke-linejoin=\"bevel\" stroke-width=\"12\" /><path d=\"M24.1184,95.172 Q29.772799999999997,97.71600000000001 32.4512,101.532\" fill=\"none\" stroke=\"black\" stroke-linejoin=\"bevel\" stroke-width=\"12\" /><path d=\"M49.36,97.50399999999999 L90.64,97.50399999999999\" fill=\"none\" stroke=\"black\" stroke-linejoin=\"bevel\" stroke-width=\"12\" /><path d=\"M70.0,81.604 L70.0,117.22\" fill=\"none\" stroke=\"black\" stroke-linejoin=\"bevel\" stroke-width=\"12\" /><path d=\"M45.6,144.5839 Q40.4,160.9185 20.8,176.18779999999998\" fill=\"none\" stroke=\"black\" stroke-linejoin=\"bevel\" stroke-width=\"12\" /><path d=\"M61.2,143.87369999999999 Q72.0,154.1716 81.2,173.70209999999997\" fill=\"none\" stroke=\"black\" stroke-linejoin=\"bevel\" stroke-width=\"12\" /><path d=\"M46.0,118.66159999999999 Q55.6,123.633 59.2,131.4452\" fill=\"none\" stroke=\"black\" stroke-linejoin=\"bevel\" stroke-width=\"12\" /><path d=\"M21.2,137.1268 L87.2,137.1268\" fill=\"none\" stroke=\"black\" stroke-linejoin=\"bevel\" stroke-width=\"12\" /><path d=\"M109.92,98.80799999999999 L182.07999999999998,98.80799999999999\" fill=\"none\" stroke=\"black\" stroke-linejoin=\"bevel\" stroke-width=\"12\" /><path d=\"M134.11,86.16 L134.11,110.64\" fill=\"none\" stroke=\"black\" stroke-linejoin=\"bevel\" stroke-width=\"12\" /><path d=\"M157.89,86.16 L157.89,110.64\" fill=\"none\" stroke=\"black\" stroke-linejoin=\"bevel\" stroke-width=\"12\" /><path d=\"M115.25,124.9863 L176.75,124.9863\" fill=\"none\" stroke=\"black\" stroke-linejoin=\"bevel\" stroke-width=\"12\" /><path d=\"M122.22,145.48829999999998 L169.78,145.48829999999998\" fill=\"none\" stroke=\"black\" stroke-linejoin=\"bevel\" stroke-width=\"12\" /><path d=\"M110.74,167.3571 L181.26,167.3571\" fill=\"none\" stroke=\"black\" stroke-linejoin=\"bevel\" stroke-width=\"12\" /></svg>"
      ],
      "text/plain": [
       "<svgwrite.drawing.Drawing at 0x7f2439d32e10>"
      ]
     },
     "metadata": {},
     "output_type": "display_data"
    },
    {
     "name": "stdout",
     "output_type": "stream",
     "text": [
      "从「再作\n",
      "『四』\n"
     ]
    },
    {
     "data": {
      "image/svg+xml": [
       "<svg baseProfile=\"full\" height=\"200\" version=\"1.1\" width=\"200\" xmlns=\"http://www.w3.org/2000/svg\" xmlns:ev=\"http://www.w3.org/2001/xml-events\" xmlns:xlink=\"http://www.w3.org/1999/xlink\"><defs /><path d=\"M12.0,40.8 L188.0,40.8\" fill=\"none\" stroke=\"black\" stroke-linejoin=\"bevel\" stroke-width=\"12\" /><path d=\"M71.0,16.0 L71.0,64.0\" fill=\"none\" stroke=\"black\" stroke-linejoin=\"bevel\" stroke-width=\"12\" /><path d=\"M129.0,16.0 L129.0,64.0\" fill=\"none\" stroke=\"black\" stroke-linejoin=\"bevel\" stroke-width=\"12\" /><path d=\"M22.0,91.46000000000001 L184.0,91.46000000000001\" fill=\"none\" stroke=\"black\" stroke-linejoin=\"bevel\" stroke-width=\"12\" /><path d=\"M152.0,85.46000000000001 L152.0,177.94 Q152.0,187.94 132.0,182.94\" fill=\"none\" stroke=\"black\" stroke-linejoin=\"bevel\" stroke-width=\"12\" /><path d=\"M32.75,113.6437 L133.25,113.6437\" fill=\"none\" stroke=\"black\" stroke-linejoin=\"bevel\" stroke-width=\"12\" /><path d=\"M44.14,133.3417 L121.86,133.3417\" fill=\"none\" stroke=\"black\" stroke-linejoin=\"bevel\" stroke-width=\"12\" /><path d=\"M25.380000000000006,154.3529 L140.62,154.3529\" fill=\"none\" stroke=\"black\" stroke-linejoin=\"bevel\" stroke-width=\"12\" /></svg>"
      ],
      "text/plain": [
       "<svgwrite.drawing.Drawing at 0x7f2439fbd150>"
      ]
     },
     "metadata": {},
     "output_type": "display_data"
    },
    {
     "data": {
      "image/svg+xml": [
       "<svg baseProfile=\"full\" height=\"200\" version=\"1.1\" width=\"200\" xmlns=\"http://www.w3.org/2000/svg\" xmlns:ev=\"http://www.w3.org/2001/xml-events\" xmlns:xlink=\"http://www.w3.org/1999/xlink\"><defs /><path d=\"M11.2,28.0 L77.6,28.0\" fill=\"none\" stroke=\"black\" stroke-linejoin=\"bevel\" stroke-width=\"12\" /><path d=\"M41.6,5.6 Q44.0,54.8 11.2,75.2\" fill=\"none\" stroke=\"black\" stroke-linejoin=\"bevel\" stroke-width=\"12\" /><path d=\"M40.0,32.4 Q60.0,44.8 69.6,63.2\" fill=\"none\" stroke=\"black\" stroke-linejoin=\"bevel\" stroke-width=\"12\" /><path d=\"M128.6,5.6 L128.6,24.4 Q128.6,61.6 88.4,73.6\" fill=\"none\" stroke=\"black\" stroke-linejoin=\"bevel\" stroke-width=\"12\" /><path d=\"M93.8,26.4 L165.2,26.4\" fill=\"none\" stroke=\"black\" stroke-linejoin=\"bevel\" stroke-width=\"12\" /><path d=\"M159.3746832022088,20.4025433908309 L158.291138670348,57.604238984718165 Q158.0,67.6 168.0,67.6 L179.2,67.6 Q189.2,67.6 194.2,47.599999999999994\" fill=\"none\" stroke=\"black\" stroke-linejoin=\"bevel\" stroke-width=\"12\" /><path d=\"M24.0,78.73 L24.0,171.91 Q24.0,181.91 34.0,181.91 L170.0,181.91 Q180.0,181.91 185.0,161.91\" fill=\"none\" stroke=\"black\" stroke-linejoin=\"bevel\" stroke-width=\"12\" /><path d=\"M89.25,123.59989999999999 Q79.5,146.0985 42.75,167.1298\" fill=\"none\" stroke=\"black\" stroke-linejoin=\"bevel\" stroke-width=\"12\" /><path d=\"M118.5,122.62169999999999 Q138.75,136.8056 156.0,163.7061\" fill=\"none\" stroke=\"black\" stroke-linejoin=\"bevel\" stroke-width=\"12\" /><path d=\"M90.0,87.8956 Q108.0,94.743 114.75,105.50319999999999\" fill=\"none\" stroke=\"black\" stroke-linejoin=\"bevel\" stroke-width=\"12\" /><path d=\"M43.5,113.3288 L167.25,113.3288\" fill=\"none\" stroke=\"black\" stroke-linejoin=\"bevel\" stroke-width=\"12\" /></svg>"
      ],
      "text/plain": [
       "<svgwrite.drawing.Drawing at 0x7f2439d14e50>"
      ]
     },
     "metadata": {},
     "output_type": "display_data"
    },
    {
     "data": {
      "image/svg+xml": [
       "<svg baseProfile=\"full\" height=\"200\" version=\"1.1\" width=\"200\" xmlns=\"http://www.w3.org/2000/svg\" xmlns:ev=\"http://www.w3.org/2001/xml-events\" xmlns:xlink=\"http://www.w3.org/1999/xlink\"><defs /><path d=\"M161.0,20.47 Q107.0,35.16 45.0,41.94\" fill=\"none\" stroke=\"black\" stroke-linejoin=\"bevel\" stroke-width=\"12\" /><path d=\"M52.0,36.29 Q42.0,73.58 20.0,98.44\" fill=\"none\" stroke=\"black\" stroke-linejoin=\"bevel\" stroke-width=\"12\" /><path d=\"M86.0,46.46 Q102.0,62.28 107.0,84.88\" fill=\"none\" stroke=\"black\" stroke-linejoin=\"bevel\" stroke-width=\"12\" /><path d=\"M138.0,39.68 Q163.0,62.28 173.0,87.14\" fill=\"none\" stroke=\"black\" stroke-linejoin=\"bevel\" stroke-width=\"12\" /><path d=\"M35.72,97.98 L160.52,97.98\" fill=\"none\" stroke=\"black\" stroke-linejoin=\"bevel\" stroke-width=\"12\" /><path d=\"M154.52,91.98 L154.52,141.2\" fill=\"none\" stroke=\"black\" stroke-linejoin=\"bevel\" stroke-width=\"12\" /><path d=\"M35.72,132.2 L160.52,132.2\" fill=\"none\" stroke=\"black\" stroke-linejoin=\"bevel\" stroke-width=\"12\" /><path d=\"M41.72,91.98 L41.72,168.02 Q41.72,178.02 51.72,178.02 L161.44,178.02 Q171.44,178.02 176.44,158.02\" fill=\"none\" stroke=\"black\" stroke-linejoin=\"bevel\" stroke-width=\"12\" /></svg>"
      ],
      "text/plain": [
       "<svgwrite.drawing.Drawing at 0x7f2439d1ab10>"
      ]
     },
     "metadata": {},
     "output_type": "display_data"
    },
    {
     "data": {
      "image/svg+xml": [
       "<svg baseProfile=\"full\" height=\"200\" version=\"1.1\" width=\"200\" xmlns=\"http://www.w3.org/2000/svg\" xmlns:ev=\"http://www.w3.org/2001/xml-events\" xmlns:xlink=\"http://www.w3.org/1999/xlink\"><defs /><path d=\"M12.0,40.8 L188.0,40.8\" fill=\"none\" stroke=\"black\" stroke-linejoin=\"bevel\" stroke-width=\"12\" /><path d=\"M71.0,16.0 L71.0,64.0\" fill=\"none\" stroke=\"black\" stroke-linejoin=\"bevel\" stroke-width=\"12\" /><path d=\"M129.0,16.0 L129.0,64.0\" fill=\"none\" stroke=\"black\" stroke-linejoin=\"bevel\" stroke-width=\"12\" /><path d=\"M22.0,91.46000000000001 L184.0,91.46000000000001\" fill=\"none\" stroke=\"black\" stroke-linejoin=\"bevel\" stroke-width=\"12\" /><path d=\"M152.0,85.46000000000001 L152.0,177.94 Q152.0,187.94 132.0,182.94\" fill=\"none\" stroke=\"black\" stroke-linejoin=\"bevel\" stroke-width=\"12\" /><path d=\"M32.75,113.6437 L133.25,113.6437\" fill=\"none\" stroke=\"black\" stroke-linejoin=\"bevel\" stroke-width=\"12\" /><path d=\"M44.14,133.3417 L121.86,133.3417\" fill=\"none\" stroke=\"black\" stroke-linejoin=\"bevel\" stroke-width=\"12\" /><path d=\"M25.380000000000006,154.3529 L140.62,154.3529\" fill=\"none\" stroke=\"black\" stroke-linejoin=\"bevel\" stroke-width=\"12\" /></svg>"
      ],
      "text/plain": [
       "<svgwrite.drawing.Drawing at 0x7f2439d13950>"
      ]
     },
     "metadata": {},
     "output_type": "display_data"
    },
    {
     "data": {
      "image/svg+xml": [
       "<svg baseProfile=\"full\" height=\"200\" version=\"1.1\" width=\"200\" xmlns=\"http://www.w3.org/2000/svg\" xmlns:ev=\"http://www.w3.org/2001/xml-events\" xmlns:xlink=\"http://www.w3.org/1999/xlink\"><defs /><path d=\"M11.2,28.0 L77.6,28.0\" fill=\"none\" stroke=\"black\" stroke-linejoin=\"bevel\" stroke-width=\"12\" /><path d=\"M41.6,5.6 Q44.0,54.8 11.2,75.2\" fill=\"none\" stroke=\"black\" stroke-linejoin=\"bevel\" stroke-width=\"12\" /><path d=\"M40.0,32.4 Q60.0,44.8 69.6,63.2\" fill=\"none\" stroke=\"black\" stroke-linejoin=\"bevel\" stroke-width=\"12\" /><path d=\"M88.4,20.6 L191.6,13.8\" fill=\"none\" stroke=\"black\" stroke-linejoin=\"bevel\" stroke-width=\"12\" /><path d=\"M128.0,3.8 L128.0,24.200000000000003 Q128.0,34.2 138.0,34.2 L180.8,34.2\" fill=\"none\" stroke=\"black\" stroke-linejoin=\"bevel\" stroke-width=\"12\" /><path d=\"M128.6,42.8 L128.6,52.2 Q128.6,70.8 88.4,76.8\" fill=\"none\" stroke=\"black\" stroke-linejoin=\"bevel\" stroke-width=\"12\" /><path d=\"M93.8,53.2 L165.2,53.2\" fill=\"none\" stroke=\"black\" stroke-linejoin=\"bevel\" stroke-width=\"12\" /><path d=\"M159.54892305627672,47.210154200582586 L158.5815384271279,63.81692366763763 Q158.0,73.8 168.0,73.8 L189.2,73.8\" fill=\"none\" stroke=\"black\" stroke-linejoin=\"bevel\" stroke-width=\"12\" /><path d=\"M24.0,78.73 L24.0,171.91 Q24.0,181.91 34.0,181.91 L170.0,181.91 Q180.0,181.91 185.0,161.91\" fill=\"none\" stroke=\"black\" stroke-linejoin=\"bevel\" stroke-width=\"12\" /><path d=\"M89.25,123.59989999999999 Q79.5,146.0985 42.75,167.1298\" fill=\"none\" stroke=\"black\" stroke-linejoin=\"bevel\" stroke-width=\"12\" /><path d=\"M118.5,122.62169999999999 Q138.75,136.8056 156.0,163.7061\" fill=\"none\" stroke=\"black\" stroke-linejoin=\"bevel\" stroke-width=\"12\" /><path d=\"M90.0,87.8956 Q108.0,94.743 114.75,105.50319999999999\" fill=\"none\" stroke=\"black\" stroke-linejoin=\"bevel\" stroke-width=\"12\" /><path d=\"M43.5,113.3288 L167.25,113.3288\" fill=\"none\" stroke=\"black\" stroke-linejoin=\"bevel\" stroke-width=\"12\" /></svg>"
      ],
      "text/plain": [
       "<svgwrite.drawing.Drawing at 0x7f248c2a0fd0>"
      ]
     },
     "metadata": {},
     "output_type": "display_data"
    },
    {
     "data": {
      "image/svg+xml": [
       "<svg baseProfile=\"full\" height=\"200\" version=\"1.1\" width=\"200\" xmlns=\"http://www.w3.org/2000/svg\" xmlns:ev=\"http://www.w3.org/2001/xml-events\" xmlns:xlink=\"http://www.w3.org/1999/xlink\"><defs /><path d=\"M161.0,20.47 Q107.0,35.16 45.0,41.94\" fill=\"none\" stroke=\"black\" stroke-linejoin=\"bevel\" stroke-width=\"12\" /><path d=\"M52.0,36.29 Q42.0,73.58 20.0,98.44\" fill=\"none\" stroke=\"black\" stroke-linejoin=\"bevel\" stroke-width=\"12\" /><path d=\"M86.0,46.46 Q102.0,62.28 107.0,84.88\" fill=\"none\" stroke=\"black\" stroke-linejoin=\"bevel\" stroke-width=\"12\" /><path d=\"M138.0,39.68 Q163.0,62.28 173.0,87.14\" fill=\"none\" stroke=\"black\" stroke-linejoin=\"bevel\" stroke-width=\"12\" /><path d=\"M35.72,97.98 L160.52,97.98\" fill=\"none\" stroke=\"black\" stroke-linejoin=\"bevel\" stroke-width=\"12\" /><path d=\"M154.52,91.98 L154.52,141.2\" fill=\"none\" stroke=\"black\" stroke-linejoin=\"bevel\" stroke-width=\"12\" /><path d=\"M35.72,132.2 L160.52,132.2\" fill=\"none\" stroke=\"black\" stroke-linejoin=\"bevel\" stroke-width=\"12\" /><path d=\"M41.72,91.98 L41.72,168.02 Q41.72,178.02 51.72,178.02 L161.44,178.02 Q171.44,178.02 176.44,158.02\" fill=\"none\" stroke=\"black\" stroke-linejoin=\"bevel\" stroke-width=\"12\" /></svg>"
      ],
      "text/plain": [
       "<svgwrite.drawing.Drawing at 0x7f2439d1ce90>"
      ]
     },
     "metadata": {},
     "output_type": "display_data"
    },
    {
     "data": {
      "image/svg+xml": [
       "<svg baseProfile=\"full\" height=\"200\" version=\"1.1\" width=\"200\" xmlns=\"http://www.w3.org/2000/svg\" xmlns:ev=\"http://www.w3.org/2001/xml-events\" xmlns:xlink=\"http://www.w3.org/1999/xlink\"><defs /><path d=\"M12.0,40.8 L188.0,40.8\" fill=\"none\" stroke=\"black\" stroke-linejoin=\"bevel\" stroke-width=\"12\" /><path d=\"M71.0,16.0 L71.0,64.0\" fill=\"none\" stroke=\"black\" stroke-linejoin=\"bevel\" stroke-width=\"12\" /><path d=\"M129.0,16.0 L129.0,64.0\" fill=\"none\" stroke=\"black\" stroke-linejoin=\"bevel\" stroke-width=\"12\" /><path d=\"M22.0,91.46000000000001 L184.0,91.46000000000001\" fill=\"none\" stroke=\"black\" stroke-linejoin=\"bevel\" stroke-width=\"12\" /><path d=\"M152.0,85.46000000000001 L152.0,177.94 Q152.0,187.94 132.0,182.94\" fill=\"none\" stroke=\"black\" stroke-linejoin=\"bevel\" stroke-width=\"12\" /><path d=\"M32.75,113.6437 L133.25,113.6437\" fill=\"none\" stroke=\"black\" stroke-linejoin=\"bevel\" stroke-width=\"12\" /><path d=\"M44.14,133.3417 L121.86,133.3417\" fill=\"none\" stroke=\"black\" stroke-linejoin=\"bevel\" stroke-width=\"12\" /><path d=\"M25.380000000000006,154.3529 L140.62,154.3529\" fill=\"none\" stroke=\"black\" stroke-linejoin=\"bevel\" stroke-width=\"12\" /></svg>"
      ],
      "text/plain": [
       "<svgwrite.drawing.Drawing at 0x7f2439d1e1d0>"
      ]
     },
     "metadata": {},
     "output_type": "display_data"
    },
    {
     "data": {
      "image/svg+xml": [
       "<svg baseProfile=\"full\" height=\"200\" version=\"1.1\" width=\"200\" xmlns=\"http://www.w3.org/2000/svg\" xmlns:ev=\"http://www.w3.org/2001/xml-events\" xmlns:xlink=\"http://www.w3.org/1999/xlink\"><defs /><path d=\"M11.2,28.0 L77.6,28.0\" fill=\"none\" stroke=\"black\" stroke-linejoin=\"bevel\" stroke-width=\"12\" /><path d=\"M41.6,5.6 Q44.0,54.8 11.2,75.2\" fill=\"none\" stroke=\"black\" stroke-linejoin=\"bevel\" stroke-width=\"12\" /><path d=\"M40.0,32.4 Q60.0,44.8 69.6,63.2\" fill=\"none\" stroke=\"black\" stroke-linejoin=\"bevel\" stroke-width=\"12\" /><path d=\"M88.4,41.2 L191.6,27.6\" fill=\"none\" stroke=\"black\" stroke-linejoin=\"bevel\" stroke-width=\"12\" /><path d=\"M128.0,7.6 L128.0,58.400000000000006 Q128.0,68.4 138.0,68.4 L180.8,68.4\" fill=\"none\" stroke=\"black\" stroke-linejoin=\"bevel\" stroke-width=\"12\" /><path d=\"M20.0,96.7396 L180.0,96.7396\" fill=\"none\" stroke=\"black\" stroke-linejoin=\"bevel\" stroke-width=\"12\" /><path d=\"M100.0,77.6312 L100.0,137.4488\" fill=\"none\" stroke=\"black\" stroke-linejoin=\"bevel\" stroke-width=\"12\" /><path d=\"M95.0,96.7396 Q64.0,129.1408 14.0,143.2644\" fill=\"none\" stroke=\"black\" stroke-linejoin=\"bevel\" stroke-width=\"12\" /><path d=\"M105.0,96.7396 Q136.0,126.64840000000001 178.0,137.4488\" fill=\"none\" stroke=\"black\" stroke-linejoin=\"bevel\" stroke-width=\"12\" /><path d=\"M79.0,164.67425000000003 Q66.0,179.31375 17.0,192.9985\" fill=\"none\" stroke=\"black\" stroke-linejoin=\"bevel\" stroke-width=\"12\" /><path d=\"M118.0,164.03775000000002 Q145.0,173.267 168.0,190.77075\" fill=\"none\" stroke=\"black\" stroke-linejoin=\"bevel\" stroke-width=\"12\" /><path d=\"M80.0,141.442 Q104.0,145.89749999999998 113.0,152.899\" fill=\"none\" stroke=\"black\" stroke-linejoin=\"bevel\" stroke-width=\"12\" /><path d=\"M18.0,157.99099999999999 L183.0,157.99099999999999\" fill=\"none\" stroke=\"black\" stroke-linejoin=\"bevel\" stroke-width=\"12\" /></svg>"
      ],
      "text/plain": [
       "<svgwrite.drawing.Drawing at 0x7f2439d4b110>"
      ]
     },
     "metadata": {},
     "output_type": "display_data"
    },
    {
     "data": {
      "image/svg+xml": [
       "<svg baseProfile=\"full\" height=\"200\" version=\"1.1\" width=\"200\" xmlns=\"http://www.w3.org/2000/svg\" xmlns:ev=\"http://www.w3.org/2001/xml-events\" xmlns:xlink=\"http://www.w3.org/1999/xlink\"><defs /><path d=\"M49.0,12.0 L49.0,68.0\" fill=\"none\" stroke=\"black\" stroke-linejoin=\"bevel\" stroke-width=\"12\" /><path d=\"M43.0,18.0 L156.0,18.0\" fill=\"none\" stroke=\"black\" stroke-linejoin=\"bevel\" stroke-width=\"12\" /><path d=\"M150.0,12.0 L150.0,68.0\" fill=\"none\" stroke=\"black\" stroke-linejoin=\"bevel\" stroke-width=\"12\" /><path d=\"M43.0,39.0 L156.0,39.0\" fill=\"none\" stroke=\"black\" stroke-linejoin=\"bevel\" stroke-width=\"12\" /><path d=\"M43.0,59.0 L156.0,59.0\" fill=\"none\" stroke=\"black\" stroke-linejoin=\"bevel\" stroke-width=\"12\" /><path d=\"M14.0,76.0 L188.0,76.0\" fill=\"none\" stroke=\"black\" stroke-linejoin=\"bevel\" stroke-width=\"12\" /><path d=\"M100.0,70.0 L100.0,183.0\" fill=\"none\" stroke=\"black\" stroke-linejoin=\"bevel\" stroke-width=\"12\" /><path d=\"M18.48,92.84 L45.04,92.84\" fill=\"none\" stroke=\"black\" stroke-linejoin=\"bevel\" stroke-width=\"12\" /><path d=\"M30.64,80.968 Q31.6,107.044 18.48,117.856\" fill=\"none\" stroke=\"black\" stroke-linejoin=\"bevel\" stroke-width=\"12\" /><path d=\"M30.0,95.172 Q38.0,101.744 41.84,111.49600000000001\" fill=\"none\" stroke=\"black\" stroke-linejoin=\"bevel\" stroke-width=\"12\" /><path d=\"M49.36,99.836 L90.64,92.628\" fill=\"none\" stroke=\"black\" stroke-linejoin=\"bevel\" stroke-width=\"12\" /><path d=\"M65.2,82.028 L65.2,104.25200000000001 Q65.2,114.25200000000001 75.2,114.25200000000001 L86.32,114.25200000000001\" fill=\"none\" stroke=\"black\" stroke-linejoin=\"bevel\" stroke-width=\"12\" /><path d=\"M45.6,144.5839 Q40.4,160.9185 20.8,176.18779999999998\" fill=\"none\" stroke=\"black\" stroke-linejoin=\"bevel\" stroke-width=\"12\" /><path d=\"M61.2,143.87369999999999 Q72.0,154.1716 81.2,173.70209999999997\" fill=\"none\" stroke=\"black\" stroke-linejoin=\"bevel\" stroke-width=\"12\" /><path d=\"M46.0,118.66159999999999 Q55.6,123.633 59.2,131.4452\" fill=\"none\" stroke=\"black\" stroke-linejoin=\"bevel\" stroke-width=\"12\" /><path d=\"M21.2,137.1268 L87.2,137.1268\" fill=\"none\" stroke=\"black\" stroke-linejoin=\"bevel\" stroke-width=\"12\" /><path d=\"M109.92,98.80799999999999 L182.07999999999998,98.80799999999999\" fill=\"none\" stroke=\"black\" stroke-linejoin=\"bevel\" stroke-width=\"12\" /><path d=\"M134.11,86.16 L134.11,110.64\" fill=\"none\" stroke=\"black\" stroke-linejoin=\"bevel\" stroke-width=\"12\" /><path d=\"M157.89,86.16 L157.89,110.64\" fill=\"none\" stroke=\"black\" stroke-linejoin=\"bevel\" stroke-width=\"12\" /><path d=\"M115.25,124.9863 L176.75,124.9863\" fill=\"none\" stroke=\"black\" stroke-linejoin=\"bevel\" stroke-width=\"12\" /><path d=\"M122.22,145.48829999999998 L169.78,145.48829999999998\" fill=\"none\" stroke=\"black\" stroke-linejoin=\"bevel\" stroke-width=\"12\" /><path d=\"M110.74,167.3571 L181.26,167.3571\" fill=\"none\" stroke=\"black\" stroke-linejoin=\"bevel\" stroke-width=\"12\" /></svg>"
      ],
      "text/plain": [
       "<svgwrite.drawing.Drawing at 0x7f2439d2ab50>"
      ]
     },
     "metadata": {},
     "output_type": "display_data"
    },
    {
     "data": {
      "image/svg+xml": [
       "<svg baseProfile=\"full\" height=\"200\" version=\"1.1\" width=\"200\" xmlns=\"http://www.w3.org/2000/svg\" xmlns:ev=\"http://www.w3.org/2001/xml-events\" xmlns:xlink=\"http://www.w3.org/1999/xlink\"><defs /><path d=\"M12.0,40.8 L188.0,40.8\" fill=\"none\" stroke=\"black\" stroke-linejoin=\"bevel\" stroke-width=\"12\" /><path d=\"M71.0,16.0 L71.0,64.0\" fill=\"none\" stroke=\"black\" stroke-linejoin=\"bevel\" stroke-width=\"12\" /><path d=\"M129.0,16.0 L129.0,64.0\" fill=\"none\" stroke=\"black\" stroke-linejoin=\"bevel\" stroke-width=\"12\" /><path d=\"M22.0,91.46000000000001 L184.0,91.46000000000001\" fill=\"none\" stroke=\"black\" stroke-linejoin=\"bevel\" stroke-width=\"12\" /><path d=\"M152.0,85.46000000000001 L152.0,177.94 Q152.0,187.94 132.0,182.94\" fill=\"none\" stroke=\"black\" stroke-linejoin=\"bevel\" stroke-width=\"12\" /><path d=\"M32.75,113.6437 L133.25,113.6437\" fill=\"none\" stroke=\"black\" stroke-linejoin=\"bevel\" stroke-width=\"12\" /><path d=\"M44.14,133.3417 L121.86,133.3417\" fill=\"none\" stroke=\"black\" stroke-linejoin=\"bevel\" stroke-width=\"12\" /><path d=\"M25.380000000000006,154.3529 L140.62,154.3529\" fill=\"none\" stroke=\"black\" stroke-linejoin=\"bevel\" stroke-width=\"12\" /></svg>"
      ],
      "text/plain": [
       "<svgwrite.drawing.Drawing at 0x7f2439d4bdd0>"
      ]
     },
     "metadata": {},
     "output_type": "display_data"
    },
    {
     "data": {
      "image/svg+xml": [
       "<svg baseProfile=\"full\" height=\"200\" version=\"1.1\" width=\"200\" xmlns=\"http://www.w3.org/2000/svg\" xmlns:ev=\"http://www.w3.org/2001/xml-events\" xmlns:xlink=\"http://www.w3.org/1999/xlink\"><defs /><path d=\"M11.2,28.0 L77.6,28.0\" fill=\"none\" stroke=\"black\" stroke-linejoin=\"bevel\" stroke-width=\"12\" /><path d=\"M41.6,5.6 Q44.0,54.8 11.2,75.2\" fill=\"none\" stroke=\"black\" stroke-linejoin=\"bevel\" stroke-width=\"12\" /><path d=\"M40.0,32.4 Q60.0,44.8 69.6,63.2\" fill=\"none\" stroke=\"black\" stroke-linejoin=\"bevel\" stroke-width=\"12\" /><path d=\"M88.4,41.2 L191.6,27.6\" fill=\"none\" stroke=\"black\" stroke-linejoin=\"bevel\" stroke-width=\"12\" /><path d=\"M128.0,7.6 L128.0,58.400000000000006 Q128.0,68.4 138.0,68.4 L170.8,68.4 Q180.8,68.4 185.8,48.400000000000006\" fill=\"none\" stroke=\"black\" stroke-linejoin=\"bevel\" stroke-width=\"12\" /><path d=\"M24.0,78.73 L24.0,171.91 Q24.0,181.91 34.0,181.91 L170.0,181.91 Q180.0,181.91 185.0,161.91\" fill=\"none\" stroke=\"black\" stroke-linejoin=\"bevel\" stroke-width=\"12\" /><path d=\"M89.25,123.59989999999999 Q79.5,146.0985 42.75,167.1298\" fill=\"none\" stroke=\"black\" stroke-linejoin=\"bevel\" stroke-width=\"12\" /><path d=\"M118.5,122.62169999999999 Q138.75,136.8056 156.0,163.7061\" fill=\"none\" stroke=\"black\" stroke-linejoin=\"bevel\" stroke-width=\"12\" /><path d=\"M90.0,87.8956 Q108.0,94.743 114.75,105.50319999999999\" fill=\"none\" stroke=\"black\" stroke-linejoin=\"bevel\" stroke-width=\"12\" /><path d=\"M43.5,113.3288 L167.25,113.3288\" fill=\"none\" stroke=\"black\" stroke-linejoin=\"bevel\" stroke-width=\"12\" /></svg>"
      ],
      "text/plain": [
       "<svgwrite.drawing.Drawing at 0x7f2439d2e0d0>"
      ]
     },
     "metadata": {},
     "output_type": "display_data"
    },
    {
     "data": {
      "image/svg+xml": [
       "<svg baseProfile=\"full\" height=\"200\" version=\"1.1\" width=\"200\" xmlns=\"http://www.w3.org/2000/svg\" xmlns:ev=\"http://www.w3.org/2001/xml-events\" xmlns:xlink=\"http://www.w3.org/1999/xlink\"><defs /><path d=\"M161.0,20.47 Q107.0,35.16 45.0,41.94\" fill=\"none\" stroke=\"black\" stroke-linejoin=\"bevel\" stroke-width=\"12\" /><path d=\"M52.0,36.29 Q42.0,73.58 20.0,98.44\" fill=\"none\" stroke=\"black\" stroke-linejoin=\"bevel\" stroke-width=\"12\" /><path d=\"M86.0,46.46 Q102.0,62.28 107.0,84.88\" fill=\"none\" stroke=\"black\" stroke-linejoin=\"bevel\" stroke-width=\"12\" /><path d=\"M138.0,39.68 Q163.0,62.28 173.0,87.14\" fill=\"none\" stroke=\"black\" stroke-linejoin=\"bevel\" stroke-width=\"12\" /><path d=\"M35.72,97.98 L160.52,97.98\" fill=\"none\" stroke=\"black\" stroke-linejoin=\"bevel\" stroke-width=\"12\" /><path d=\"M154.52,91.98 L154.52,141.2\" fill=\"none\" stroke=\"black\" stroke-linejoin=\"bevel\" stroke-width=\"12\" /><path d=\"M35.72,132.2 L160.52,132.2\" fill=\"none\" stroke=\"black\" stroke-linejoin=\"bevel\" stroke-width=\"12\" /><path d=\"M41.72,91.98 L41.72,168.02 Q41.72,178.02 51.72,178.02 L161.44,178.02 Q171.44,178.02 176.44,158.02\" fill=\"none\" stroke=\"black\" stroke-linejoin=\"bevel\" stroke-width=\"12\" /></svg>"
      ],
      "text/plain": [
       "<svgwrite.drawing.Drawing at 0x7f2439d24a10>"
      ]
     },
     "metadata": {},
     "output_type": "display_data"
    },
    {
     "data": {
      "image/svg+xml": [
       "<svg baseProfile=\"full\" height=\"200\" version=\"1.1\" width=\"200\" xmlns=\"http://www.w3.org/2000/svg\" xmlns:ev=\"http://www.w3.org/2001/xml-events\" xmlns:xlink=\"http://www.w3.org/1999/xlink\"><defs /><path d=\"M12.0,40.8 L188.0,40.8\" fill=\"none\" stroke=\"black\" stroke-linejoin=\"bevel\" stroke-width=\"12\" /><path d=\"M71.0,16.0 L71.0,64.0\" fill=\"none\" stroke=\"black\" stroke-linejoin=\"bevel\" stroke-width=\"12\" /><path d=\"M129.0,16.0 L129.0,64.0\" fill=\"none\" stroke=\"black\" stroke-linejoin=\"bevel\" stroke-width=\"12\" /><path d=\"M22.0,91.46000000000001 L184.0,91.46000000000001\" fill=\"none\" stroke=\"black\" stroke-linejoin=\"bevel\" stroke-width=\"12\" /><path d=\"M152.0,85.46000000000001 L152.0,177.94 Q152.0,187.94 132.0,182.94\" fill=\"none\" stroke=\"black\" stroke-linejoin=\"bevel\" stroke-width=\"12\" /><path d=\"M32.75,113.6437 L133.25,113.6437\" fill=\"none\" stroke=\"black\" stroke-linejoin=\"bevel\" stroke-width=\"12\" /><path d=\"M44.14,133.3417 L121.86,133.3417\" fill=\"none\" stroke=\"black\" stroke-linejoin=\"bevel\" stroke-width=\"12\" /><path d=\"M25.380000000000006,154.3529 L140.62,154.3529\" fill=\"none\" stroke=\"black\" stroke-linejoin=\"bevel\" stroke-width=\"12\" /></svg>"
      ],
      "text/plain": [
       "<svgwrite.drawing.Drawing at 0x7f2439fa9410>"
      ]
     },
     "metadata": {},
     "output_type": "display_data"
    },
    {
     "data": {
      "image/svg+xml": [
       "<svg baseProfile=\"full\" height=\"200\" version=\"1.1\" width=\"200\" xmlns=\"http://www.w3.org/2000/svg\" xmlns:ev=\"http://www.w3.org/2001/xml-events\" xmlns:xlink=\"http://www.w3.org/1999/xlink\"><defs /><path d=\"M11.2,28.0 L77.6,28.0\" fill=\"none\" stroke=\"black\" stroke-linejoin=\"bevel\" stroke-width=\"12\" /><path d=\"M41.6,5.6 Q44.0,54.8 11.2,75.2\" fill=\"none\" stroke=\"black\" stroke-linejoin=\"bevel\" stroke-width=\"12\" /><path d=\"M40.0,32.4 Q60.0,44.8 69.6,63.2\" fill=\"none\" stroke=\"black\" stroke-linejoin=\"bevel\" stroke-width=\"12\" /><path d=\"M127.4,17.8 Q119.6,27.0 90.2,35.6\" fill=\"none\" stroke=\"black\" stroke-linejoin=\"bevel\" stroke-width=\"12\" /><path d=\"M150.8,17.4 Q167.0,23.2 180.8,34.2\" fill=\"none\" stroke=\"black\" stroke-linejoin=\"bevel\" stroke-width=\"12\" /><path d=\"M128.0,3.2 Q142.4,6.0 147.8,10.4\" fill=\"none\" stroke=\"black\" stroke-linejoin=\"bevel\" stroke-width=\"12\" /><path d=\"M90.8,13.6 L189.8,13.6\" fill=\"none\" stroke=\"black\" stroke-linejoin=\"bevel\" stroke-width=\"12\" /><path d=\"M97.4,41.4 L97.4,81.6\" fill=\"none\" stroke=\"black\" stroke-linejoin=\"bevel\" stroke-width=\"12\" /><path d=\"M91.4,47.4 L188.6,47.4\" fill=\"none\" stroke=\"black\" stroke-linejoin=\"bevel\" stroke-width=\"12\" /><path d=\"M182.6,41.4 L182.6,81.6\" fill=\"none\" stroke=\"black\" stroke-linejoin=\"bevel\" stroke-width=\"12\" /><path d=\"M127.4,41.4 L127.4,52.4 Q127.4,62.4 102.8,66.8\" fill=\"none\" stroke=\"black\" stroke-linejoin=\"bevel\" stroke-width=\"12\" /><path d=\"M150.8,41.4 L150.8,53.4 Q150.8,63.4 160.8,63.4 L171.8,63.4\" fill=\"none\" stroke=\"black\" stroke-linejoin=\"bevel\" stroke-width=\"12\" /><path d=\"M91.4,72.6 L188.6,72.6\" fill=\"none\" stroke=\"black\" stroke-linejoin=\"bevel\" stroke-width=\"12\" /><path d=\"M24.0,78.73 L24.0,171.91 Q24.0,181.91 34.0,181.91 L170.0,181.91 Q180.0,181.91 185.0,161.91\" fill=\"none\" stroke=\"black\" stroke-linejoin=\"bevel\" stroke-width=\"12\" /><path d=\"M89.25,123.59989999999999 Q79.5,146.0985 42.75,167.1298\" fill=\"none\" stroke=\"black\" stroke-linejoin=\"bevel\" stroke-width=\"12\" /><path d=\"M118.5,122.62169999999999 Q138.75,136.8056 156.0,163.7061\" fill=\"none\" stroke=\"black\" stroke-linejoin=\"bevel\" stroke-width=\"12\" /><path d=\"M90.0,87.8956 Q108.0,94.743 114.75,105.50319999999999\" fill=\"none\" stroke=\"black\" stroke-linejoin=\"bevel\" stroke-width=\"12\" /><path d=\"M43.5,113.3288 L167.25,113.3288\" fill=\"none\" stroke=\"black\" stroke-linejoin=\"bevel\" stroke-width=\"12\" /></svg>"
      ],
      "text/plain": [
       "<svgwrite.drawing.Drawing at 0x7f2439fbd890>"
      ]
     },
     "metadata": {},
     "output_type": "display_data"
    },
    {
     "data": {
      "image/svg+xml": [
       "<svg baseProfile=\"full\" height=\"200\" version=\"1.1\" width=\"200\" xmlns=\"http://www.w3.org/2000/svg\" xmlns:ev=\"http://www.w3.org/2001/xml-events\" xmlns:xlink=\"http://www.w3.org/1999/xlink\"><defs /><path d=\"M161.0,20.47 Q107.0,35.16 45.0,41.94\" fill=\"none\" stroke=\"black\" stroke-linejoin=\"bevel\" stroke-width=\"12\" /><path d=\"M52.0,36.29 Q42.0,73.58 20.0,98.44\" fill=\"none\" stroke=\"black\" stroke-linejoin=\"bevel\" stroke-width=\"12\" /><path d=\"M86.0,46.46 Q102.0,62.28 107.0,84.88\" fill=\"none\" stroke=\"black\" stroke-linejoin=\"bevel\" stroke-width=\"12\" /><path d=\"M138.0,39.68 Q163.0,62.28 173.0,87.14\" fill=\"none\" stroke=\"black\" stroke-linejoin=\"bevel\" stroke-width=\"12\" /><path d=\"M35.72,97.98 L160.52,97.98\" fill=\"none\" stroke=\"black\" stroke-linejoin=\"bevel\" stroke-width=\"12\" /><path d=\"M154.52,91.98 L154.52,141.2\" fill=\"none\" stroke=\"black\" stroke-linejoin=\"bevel\" stroke-width=\"12\" /><path d=\"M35.72,132.2 L160.52,132.2\" fill=\"none\" stroke=\"black\" stroke-linejoin=\"bevel\" stroke-width=\"12\" /><path d=\"M41.72,91.98 L41.72,168.02 Q41.72,178.02 51.72,178.02 L161.44,178.02 Q171.44,178.02 176.44,158.02\" fill=\"none\" stroke=\"black\" stroke-linejoin=\"bevel\" stroke-width=\"12\" /></svg>"
      ],
      "text/plain": [
       "<svgwrite.drawing.Drawing at 0x7f2439d18ed0>"
      ]
     },
     "metadata": {},
     "output_type": "display_data"
    },
    {
     "data": {
      "image/svg+xml": [
       "<svg baseProfile=\"full\" height=\"200\" version=\"1.1\" width=\"200\" xmlns=\"http://www.w3.org/2000/svg\" xmlns:ev=\"http://www.w3.org/2001/xml-events\" xmlns:xlink=\"http://www.w3.org/1999/xlink\"><defs /><path d=\"M12.0,40.8 L188.0,40.8\" fill=\"none\" stroke=\"black\" stroke-linejoin=\"bevel\" stroke-width=\"12\" /><path d=\"M71.0,16.0 L71.0,64.0\" fill=\"none\" stroke=\"black\" stroke-linejoin=\"bevel\" stroke-width=\"12\" /><path d=\"M129.0,16.0 L129.0,64.0\" fill=\"none\" stroke=\"black\" stroke-linejoin=\"bevel\" stroke-width=\"12\" /><path d=\"M22.0,91.46000000000001 L184.0,91.46000000000001\" fill=\"none\" stroke=\"black\" stroke-linejoin=\"bevel\" stroke-width=\"12\" /><path d=\"M152.0,85.46000000000001 L152.0,177.94 Q152.0,187.94 132.0,182.94\" fill=\"none\" stroke=\"black\" stroke-linejoin=\"bevel\" stroke-width=\"12\" /><path d=\"M32.75,113.6437 L133.25,113.6437\" fill=\"none\" stroke=\"black\" stroke-linejoin=\"bevel\" stroke-width=\"12\" /><path d=\"M44.14,133.3417 L121.86,133.3417\" fill=\"none\" stroke=\"black\" stroke-linejoin=\"bevel\" stroke-width=\"12\" /><path d=\"M25.380000000000006,154.3529 L140.62,154.3529\" fill=\"none\" stroke=\"black\" stroke-linejoin=\"bevel\" stroke-width=\"12\" /></svg>"
      ],
      "text/plain": [
       "<svgwrite.drawing.Drawing at 0x7f2439d13bd0>"
      ]
     },
     "metadata": {},
     "output_type": "display_data"
    },
    {
     "data": {
      "image/svg+xml": [
       "<svg baseProfile=\"full\" height=\"200\" version=\"1.1\" width=\"200\" xmlns=\"http://www.w3.org/2000/svg\" xmlns:ev=\"http://www.w3.org/2001/xml-events\" xmlns:xlink=\"http://www.w3.org/1999/xlink\"><defs /><path d=\"M11.2,28.0 L77.6,28.0\" fill=\"none\" stroke=\"black\" stroke-linejoin=\"bevel\" stroke-width=\"12\" /><path d=\"M41.6,5.6 Q44.0,54.8 11.2,75.2\" fill=\"none\" stroke=\"black\" stroke-linejoin=\"bevel\" stroke-width=\"12\" /><path d=\"M40.0,32.4 Q60.0,44.8 69.6,63.2\" fill=\"none\" stroke=\"black\" stroke-linejoin=\"bevel\" stroke-width=\"12\" /><path d=\"M93.2,6.4 L186.8,6.4\" fill=\"none\" stroke=\"black\" stroke-linejoin=\"bevel\" stroke-width=\"12\" /><path d=\"M138.83720341258535,1.225505297076829 L116.56279658741465,39.17449470292317\" fill=\"none\" stroke=\"black\" stroke-linejoin=\"bevel\" stroke-width=\"12\" /><path d=\"M99.2,18.2 L170.0,18.2\" fill=\"none\" stroke=\"black\" stroke-linejoin=\"bevel\" stroke-width=\"12\" /><path d=\"M164.0,12.2 L164.0,40.0\" fill=\"none\" stroke=\"black\" stroke-linejoin=\"bevel\" stroke-width=\"12\" /><path d=\"M88.4,34.0 L191.6,34.0\" fill=\"none\" stroke=\"black\" stroke-linejoin=\"bevel\" stroke-width=\"12\" /><path d=\"M127.4,57.8 Q119.6,67.0 90.2,75.6\" fill=\"none\" stroke=\"black\" stroke-linejoin=\"bevel\" stroke-width=\"12\" /><path d=\"M150.8,57.4 Q167.0,63.2 180.8,74.2\" fill=\"none\" stroke=\"black\" stroke-linejoin=\"bevel\" stroke-width=\"12\" /><path d=\"M128.0,43.2 Q142.4,46.0 147.8,50.4\" fill=\"none\" stroke=\"black\" stroke-linejoin=\"bevel\" stroke-width=\"12\" /><path d=\"M90.8,53.6 L189.8,53.6\" fill=\"none\" stroke=\"black\" stroke-linejoin=\"bevel\" stroke-width=\"12\" /><path d=\"M20.0,96.7396 L180.0,96.7396\" fill=\"none\" stroke=\"black\" stroke-linejoin=\"bevel\" stroke-width=\"12\" /><path d=\"M100.0,77.6312 L100.0,137.4488\" fill=\"none\" stroke=\"black\" stroke-linejoin=\"bevel\" stroke-width=\"12\" /><path d=\"M95.0,96.7396 Q64.0,129.1408 14.0,143.2644\" fill=\"none\" stroke=\"black\" stroke-linejoin=\"bevel\" stroke-width=\"12\" /><path d=\"M105.0,96.7396 Q136.0,126.64840000000001 178.0,137.4488\" fill=\"none\" stroke=\"black\" stroke-linejoin=\"bevel\" stroke-width=\"12\" /><path d=\"M79.0,164.67425000000003 Q66.0,179.31375 17.0,192.9985\" fill=\"none\" stroke=\"black\" stroke-linejoin=\"bevel\" stroke-width=\"12\" /><path d=\"M118.0,164.03775000000002 Q145.0,173.267 168.0,190.77075\" fill=\"none\" stroke=\"black\" stroke-linejoin=\"bevel\" stroke-width=\"12\" /><path d=\"M80.0,141.442 Q104.0,145.89749999999998 113.0,152.899\" fill=\"none\" stroke=\"black\" stroke-linejoin=\"bevel\" stroke-width=\"12\" /><path d=\"M18.0,157.99099999999999 L183.0,157.99099999999999\" fill=\"none\" stroke=\"black\" stroke-linejoin=\"bevel\" stroke-width=\"12\" /></svg>"
      ],
      "text/plain": [
       "<svgwrite.drawing.Drawing at 0x7f248c6a2f50>"
      ]
     },
     "metadata": {},
     "output_type": "display_data"
    },
    {
     "data": {
      "image/svg+xml": [
       "<svg baseProfile=\"full\" height=\"200\" version=\"1.1\" width=\"200\" xmlns=\"http://www.w3.org/2000/svg\" xmlns:ev=\"http://www.w3.org/2001/xml-events\" xmlns:xlink=\"http://www.w3.org/1999/xlink\"><defs /><path d=\"M49.0,12.0 L49.0,68.0\" fill=\"none\" stroke=\"black\" stroke-linejoin=\"bevel\" stroke-width=\"12\" /><path d=\"M43.0,18.0 L156.0,18.0\" fill=\"none\" stroke=\"black\" stroke-linejoin=\"bevel\" stroke-width=\"12\" /><path d=\"M150.0,12.0 L150.0,68.0\" fill=\"none\" stroke=\"black\" stroke-linejoin=\"bevel\" stroke-width=\"12\" /><path d=\"M43.0,39.0 L156.0,39.0\" fill=\"none\" stroke=\"black\" stroke-linejoin=\"bevel\" stroke-width=\"12\" /><path d=\"M43.0,59.0 L156.0,59.0\" fill=\"none\" stroke=\"black\" stroke-linejoin=\"bevel\" stroke-width=\"12\" /><path d=\"M14.0,76.0 L188.0,76.0\" fill=\"none\" stroke=\"black\" stroke-linejoin=\"bevel\" stroke-width=\"12\" /><path d=\"M100.0,70.0 L100.0,183.0\" fill=\"none\" stroke=\"black\" stroke-linejoin=\"bevel\" stroke-width=\"12\" /><path d=\"M18.48,92.84 L45.04,92.84\" fill=\"none\" stroke=\"black\" stroke-linejoin=\"bevel\" stroke-width=\"12\" /><path d=\"M30.64,80.968 Q31.6,107.044 18.48,117.856\" fill=\"none\" stroke=\"black\" stroke-linejoin=\"bevel\" stroke-width=\"12\" /><path d=\"M30.0,95.172 Q38.0,101.744 41.84,111.49600000000001\" fill=\"none\" stroke=\"black\" stroke-linejoin=\"bevel\" stroke-width=\"12\" /><path d=\"M51.28,81.392 L88.72,81.392\" fill=\"none\" stroke=\"black\" stroke-linejoin=\"bevel\" stroke-width=\"12\" /><path d=\"M70.75014816761302,75.90616552533281 L59.40985183238698,101.50583447466718\" fill=\"none\" stroke=\"black\" stroke-linejoin=\"bevel\" stroke-width=\"12\" /><path d=\"M53.68,87.646 L85.6,87.646\" fill=\"none\" stroke=\"black\" stroke-linejoin=\"bevel\" stroke-width=\"12\" /><path d=\"M79.6,81.646 L79.6,102.02\" fill=\"none\" stroke=\"black\" stroke-linejoin=\"bevel\" stroke-width=\"12\" /><path d=\"M49.36,96.02 L90.64,96.02\" fill=\"none\" stroke=\"black\" stroke-linejoin=\"bevel\" stroke-width=\"12\" /><path d=\"M64.96000000000001,108.634 Q61.84,113.50999999999999 50.08,118.068\" fill=\"none\" stroke=\"black\" stroke-linejoin=\"bevel\" stroke-width=\"12\" /><path d=\"M74.32,108.422 Q80.8,111.49600000000001 86.32,117.326\" fill=\"none\" stroke=\"black\" stroke-linejoin=\"bevel\" stroke-width=\"12\" /><path d=\"M65.2,100.896 Q70.96000000000001,102.38 73.12,104.712\" fill=\"none\" stroke=\"black\" stroke-linejoin=\"bevel\" stroke-width=\"12\" /><path d=\"M50.32,106.408 L89.92,106.408\" fill=\"none\" stroke=\"black\" stroke-linejoin=\"bevel\" stroke-width=\"12\" /><path d=\"M45.6,144.5839 Q40.4,160.9185 20.8,176.18779999999998\" fill=\"none\" stroke=\"black\" stroke-linejoin=\"bevel\" stroke-width=\"12\" /><path d=\"M61.2,143.87369999999999 Q72.0,154.1716 81.2,173.70209999999997\" fill=\"none\" stroke=\"black\" stroke-linejoin=\"bevel\" stroke-width=\"12\" /><path d=\"M46.0,118.66159999999999 Q55.6,123.633 59.2,131.4452\" fill=\"none\" stroke=\"black\" stroke-linejoin=\"bevel\" stroke-width=\"12\" /><path d=\"M21.2,137.1268 L87.2,137.1268\" fill=\"none\" stroke=\"black\" stroke-linejoin=\"bevel\" stroke-width=\"12\" /><path d=\"M109.92,98.80799999999999 L182.07999999999998,98.80799999999999\" fill=\"none\" stroke=\"black\" stroke-linejoin=\"bevel\" stroke-width=\"12\" /><path d=\"M134.11,86.16 L134.11,110.64\" fill=\"none\" stroke=\"black\" stroke-linejoin=\"bevel\" stroke-width=\"12\" /><path d=\"M157.89,86.16 L157.89,110.64\" fill=\"none\" stroke=\"black\" stroke-linejoin=\"bevel\" stroke-width=\"12\" /><path d=\"M115.25,124.9863 L176.75,124.9863\" fill=\"none\" stroke=\"black\" stroke-linejoin=\"bevel\" stroke-width=\"12\" /><path d=\"M122.22,145.48829999999998 L169.78,145.48829999999998\" fill=\"none\" stroke=\"black\" stroke-linejoin=\"bevel\" stroke-width=\"12\" /><path d=\"M110.74,167.3571 L181.26,167.3571\" fill=\"none\" stroke=\"black\" stroke-linejoin=\"bevel\" stroke-width=\"12\" /></svg>"
      ],
      "text/plain": [
       "<svgwrite.drawing.Drawing at 0x7f2439d32550>"
      ]
     },
     "metadata": {},
     "output_type": "display_data"
    },
    {
     "name": "stdout",
     "output_type": "stream",
     "text": [
      "「\n"
     ]
    },
    {
     "data": {
      "image/svg+xml": [
       "<svg baseProfile=\"full\" height=\"200\" version=\"1.1\" width=\"200\" xmlns=\"http://www.w3.org/2000/svg\" xmlns:ev=\"http://www.w3.org/2001/xml-events\" xmlns:xlink=\"http://www.w3.org/1999/xlink\"><defs /><path d=\"M21.44,17.2 L21.44,57.4\" fill=\"none\" stroke=\"black\" stroke-linejoin=\"bevel\" stroke-width=\"12\" /><path d=\"M15.440000000000001,23.2 L77.36,23.2\" fill=\"none\" stroke=\"black\" stroke-linejoin=\"bevel\" stroke-width=\"12\" /><path d=\"M71.36,17.2 L71.36,57.4\" fill=\"none\" stroke=\"black\" stroke-linejoin=\"bevel\" stroke-width=\"12\" /><path d=\"M15.440000000000001,48.4 L77.36,48.4\" fill=\"none\" stroke=\"black\" stroke-linejoin=\"bevel\" stroke-width=\"12\" /><path d=\"M46.4,6.4 L46.4,73.6\" fill=\"none\" stroke=\"black\" stroke-linejoin=\"bevel\" stroke-width=\"12\" /><path d=\"M127.4,17.8 Q119.6,27.0 90.2,35.6\" fill=\"none\" stroke=\"black\" stroke-linejoin=\"bevel\" stroke-width=\"12\" /><path d=\"M150.8,17.4 Q167.0,23.2 180.8,34.2\" fill=\"none\" stroke=\"black\" stroke-linejoin=\"bevel\" stroke-width=\"12\" /><path d=\"M128.0,3.2 Q142.4,6.0 147.8,10.4\" fill=\"none\" stroke=\"black\" stroke-linejoin=\"bevel\" stroke-width=\"12\" /><path d=\"M90.8,13.6 L189.8,13.6\" fill=\"none\" stroke=\"black\" stroke-linejoin=\"bevel\" stroke-width=\"12\" /><path d=\"M97.4,41.4 L97.4,81.6\" fill=\"none\" stroke=\"black\" stroke-linejoin=\"bevel\" stroke-width=\"12\" /><path d=\"M91.4,47.4 L188.6,47.4\" fill=\"none\" stroke=\"black\" stroke-linejoin=\"bevel\" stroke-width=\"12\" /><path d=\"M182.6,41.4 L182.6,81.6\" fill=\"none\" stroke=\"black\" stroke-linejoin=\"bevel\" stroke-width=\"12\" /><path d=\"M127.4,41.4 L127.4,52.4 Q127.4,62.4 102.8,66.8\" fill=\"none\" stroke=\"black\" stroke-linejoin=\"bevel\" stroke-width=\"12\" /><path d=\"M150.8,41.4 L150.8,53.4 Q150.8,63.4 160.8,63.4 L171.8,63.4\" fill=\"none\" stroke=\"black\" stroke-linejoin=\"bevel\" stroke-width=\"12\" /><path d=\"M91.4,72.6 L188.6,72.6\" fill=\"none\" stroke=\"black\" stroke-linejoin=\"bevel\" stroke-width=\"12\" /><path d=\"M22.0,91.46000000000001 L184.0,91.46000000000001\" fill=\"none\" stroke=\"black\" stroke-linejoin=\"bevel\" stroke-width=\"12\" /><path d=\"M152.0,85.46000000000001 L152.0,177.94 Q152.0,187.94 132.0,182.94\" fill=\"none\" stroke=\"black\" stroke-linejoin=\"bevel\" stroke-width=\"12\" /><path d=\"M25.380000000000006,133.99830000000003 L140.62,133.99830000000003\" fill=\"none\" stroke=\"black\" stroke-linejoin=\"bevel\" stroke-width=\"12\" /></svg>"
      ],
      "text/plain": [
       "<svgwrite.drawing.Drawing at 0x7f2439fa8e50>"
      ]
     },
     "metadata": {},
     "output_type": "display_data"
    },
    {
     "name": "stdout",
     "output_type": "stream",
     "text": [
      "外上五六\n"
     ]
    },
    {
     "data": {
      "image/svg+xml": [
       "<svg baseProfile=\"full\" height=\"200\" version=\"1.1\" width=\"200\" xmlns=\"http://www.w3.org/2000/svg\" xmlns:ev=\"http://www.w3.org/2001/xml-events\" xmlns:xlink=\"http://www.w3.org/1999/xlink\"><defs /><path d=\"M12.0,40.8 L188.0,40.8\" fill=\"none\" stroke=\"black\" stroke-linejoin=\"bevel\" stroke-width=\"12\" /><path d=\"M71.0,16.0 L71.0,64.0\" fill=\"none\" stroke=\"black\" stroke-linejoin=\"bevel\" stroke-width=\"12\" /><path d=\"M129.0,16.0 L129.0,64.0\" fill=\"none\" stroke=\"black\" stroke-linejoin=\"bevel\" stroke-width=\"12\" /><path d=\"M22.0,91.46000000000001 L184.0,91.46000000000001\" fill=\"none\" stroke=\"black\" stroke-linejoin=\"bevel\" stroke-width=\"12\" /><path d=\"M152.0,85.46000000000001 L152.0,177.94 Q152.0,187.94 132.0,182.94\" fill=\"none\" stroke=\"black\" stroke-linejoin=\"bevel\" stroke-width=\"12\" /><path d=\"M32.75,113.6437 L133.25,113.6437\" fill=\"none\" stroke=\"black\" stroke-linejoin=\"bevel\" stroke-width=\"12\" /><path d=\"M44.14,133.3417 L121.86,133.3417\" fill=\"none\" stroke=\"black\" stroke-linejoin=\"bevel\" stroke-width=\"12\" /><path d=\"M25.380000000000006,154.3529 L140.62,154.3529\" fill=\"none\" stroke=\"black\" stroke-linejoin=\"bevel\" stroke-width=\"12\" /></svg>"
      ],
      "text/plain": [
       "<svgwrite.drawing.Drawing at 0x7f2439d2a6d0>"
      ]
     },
     "metadata": {},
     "output_type": "display_data"
    },
    {
     "data": {
      "image/svg+xml": [
       "<svg baseProfile=\"full\" height=\"200\" version=\"1.1\" width=\"200\" xmlns=\"http://www.w3.org/2000/svg\" xmlns:ev=\"http://www.w3.org/2001/xml-events\" xmlns:xlink=\"http://www.w3.org/1999/xlink\"><defs /><path d=\"M11.2,28.0 L77.6,28.0\" fill=\"none\" stroke=\"black\" stroke-linejoin=\"bevel\" stroke-width=\"12\" /><path d=\"M41.6,5.6 Q44.0,54.8 11.2,75.2\" fill=\"none\" stroke=\"black\" stroke-linejoin=\"bevel\" stroke-width=\"12\" /><path d=\"M40.0,32.4 Q60.0,44.8 69.6,63.2\" fill=\"none\" stroke=\"black\" stroke-linejoin=\"bevel\" stroke-width=\"12\" /><path d=\"M93.2,12.8 L186.8,12.8\" fill=\"none\" stroke=\"black\" stroke-linejoin=\"bevel\" stroke-width=\"12\" /><path d=\"M137.4896096624626,7.042811520497788 L117.9103903375374,73.75718847950222\" fill=\"none\" stroke=\"black\" stroke-linejoin=\"bevel\" stroke-width=\"12\" /><path d=\"M99.2,36.4 L170.0,36.4\" fill=\"none\" stroke=\"black\" stroke-linejoin=\"bevel\" stroke-width=\"12\" /><path d=\"M164.0,30.4 L164.0,74.0\" fill=\"none\" stroke=\"black\" stroke-linejoin=\"bevel\" stroke-width=\"12\" /><path d=\"M88.4,68.0 L191.6,68.0\" fill=\"none\" stroke=\"black\" stroke-linejoin=\"bevel\" stroke-width=\"12\" /><path d=\"M22.0,91.46000000000001 L184.0,91.46000000000001\" fill=\"none\" stroke=\"black\" stroke-linejoin=\"bevel\" stroke-width=\"12\" /><path d=\"M152.0,85.46000000000001 L152.0,177.94 Q152.0,187.94 132.0,182.94\" fill=\"none\" stroke=\"black\" stroke-linejoin=\"bevel\" stroke-width=\"12\" /><path d=\"M37.44,116.5984 L128.56,116.5984\" fill=\"none\" stroke=\"black\" stroke-linejoin=\"bevel\" stroke-width=\"12\" /><path d=\"M25.380000000000006,151.3982 L140.62,151.3982\" fill=\"none\" stroke=\"black\" stroke-linejoin=\"bevel\" stroke-width=\"12\" /></svg>"
      ],
      "text/plain": [
       "<svgwrite.drawing.Drawing at 0x7f2439d4a510>"
      ]
     },
     "metadata": {},
     "output_type": "display_data"
    },
    {
     "data": {
      "image/svg+xml": [
       "<svg baseProfile=\"full\" height=\"200\" version=\"1.1\" width=\"200\" xmlns=\"http://www.w3.org/2000/svg\" xmlns:ev=\"http://www.w3.org/2001/xml-events\" xmlns:xlink=\"http://www.w3.org/1999/xlink\"><defs /><path d=\"M12.0,40.8 L188.0,40.8\" fill=\"none\" stroke=\"black\" stroke-linejoin=\"bevel\" stroke-width=\"12\" /><path d=\"M71.0,16.0 L71.0,64.0\" fill=\"none\" stroke=\"black\" stroke-linejoin=\"bevel\" stroke-width=\"12\" /><path d=\"M129.0,16.0 L129.0,64.0\" fill=\"none\" stroke=\"black\" stroke-linejoin=\"bevel\" stroke-width=\"12\" /><path d=\"M24.0,78.73 L24.0,171.91 Q24.0,181.91 34.0,181.91 L180.0,181.91\" fill=\"none\" stroke=\"black\" stroke-linejoin=\"bevel\" stroke-width=\"12\" /><path d=\"M46.5,95.7212 L163.5,95.7212\" fill=\"none\" stroke=\"black\" stroke-linejoin=\"bevel\" stroke-width=\"12\" /><path d=\"M101.47418573761139,89.97427181685576 L77.77581426238861,168.96392818314422\" fill=\"none\" stroke=\"black\" stroke-linejoin=\"bevel\" stroke-width=\"12\" /><path d=\"M54.0,124.5781 L141.0,124.5781\" fill=\"none\" stroke=\"black\" stroke-linejoin=\"bevel\" stroke-width=\"12\" /><path d=\"M135.0,118.5781 L135.0,169.21699999999998\" fill=\"none\" stroke=\"black\" stroke-linejoin=\"bevel\" stroke-width=\"12\" /><path d=\"M40.5,163.21699999999998 L169.5,163.21699999999998\" fill=\"none\" stroke=\"black\" stroke-linejoin=\"bevel\" stroke-width=\"12\" /></svg>"
      ],
      "text/plain": [
       "<svgwrite.drawing.Drawing at 0x7f2439d15050>"
      ]
     },
     "metadata": {},
     "output_type": "display_data"
    },
    {
     "data": {
      "image/svg+xml": [
       "<svg baseProfile=\"full\" height=\"200\" version=\"1.1\" width=\"200\" xmlns=\"http://www.w3.org/2000/svg\" xmlns:ev=\"http://www.w3.org/2001/xml-events\" xmlns:xlink=\"http://www.w3.org/1999/xlink\"><defs /><path d=\"M24.0,6.0 L24.0,40.2\" fill=\"none\" stroke=\"black\" stroke-linejoin=\"bevel\" stroke-width=\"12\" /><path d=\"M18.0,12.0 L75.6,12.0\" fill=\"none\" stroke=\"black\" stroke-linejoin=\"bevel\" stroke-width=\"12\" /><path d=\"M69.6,6.0 L69.6,40.2\" fill=\"none\" stroke=\"black\" stroke-linejoin=\"bevel\" stroke-width=\"12\" /><path d=\"M18.0,31.2 L75.6,31.2\" fill=\"none\" stroke=\"black\" stroke-linejoin=\"bevel\" stroke-width=\"12\" /><path d=\"M48.0,25.2 L48.0,70.8\" fill=\"none\" stroke=\"black\" stroke-linejoin=\"bevel\" stroke-width=\"12\" /><path d=\"M42.0,47.6 L79.2,47.6\" fill=\"none\" stroke=\"black\" stroke-linejoin=\"bevel\" stroke-width=\"12\" /><path d=\"M24.0,40.8 L24.0,68.4\" fill=\"none\" stroke=\"black\" stroke-linejoin=\"bevel\" stroke-width=\"12\" /><path d=\"M12.8,70.0 Q48.0,66.0 80.8,60.0\" fill=\"none\" stroke=\"black\" stroke-linejoin=\"bevel\" stroke-width=\"12\" /><path d=\"M127.4,17.8 Q119.6,27.0 90.2,35.6\" fill=\"none\" stroke=\"black\" stroke-linejoin=\"bevel\" stroke-width=\"12\" /><path d=\"M150.8,17.4 Q167.0,23.2 180.8,34.2\" fill=\"none\" stroke=\"black\" stroke-linejoin=\"bevel\" stroke-width=\"12\" /><path d=\"M128.0,3.2 Q142.4,6.0 147.8,10.4\" fill=\"none\" stroke=\"black\" stroke-linejoin=\"bevel\" stroke-width=\"12\" /><path d=\"M90.8,13.6 L189.8,13.6\" fill=\"none\" stroke=\"black\" stroke-linejoin=\"bevel\" stroke-width=\"12\" /><path d=\"M97.4,41.4 L97.4,81.6\" fill=\"none\" stroke=\"black\" stroke-linejoin=\"bevel\" stroke-width=\"12\" /><path d=\"M91.4,47.4 L188.6,47.4\" fill=\"none\" stroke=\"black\" stroke-linejoin=\"bevel\" stroke-width=\"12\" /><path d=\"M182.6,41.4 L182.6,81.6\" fill=\"none\" stroke=\"black\" stroke-linejoin=\"bevel\" stroke-width=\"12\" /><path d=\"M127.4,41.4 L127.4,52.4 Q127.4,62.4 102.8,66.8\" fill=\"none\" stroke=\"black\" stroke-linejoin=\"bevel\" stroke-width=\"12\" /><path d=\"M150.8,41.4 L150.8,53.4 Q150.8,63.4 160.8,63.4 L171.8,63.4\" fill=\"none\" stroke=\"black\" stroke-linejoin=\"bevel\" stroke-width=\"12\" /><path d=\"M91.4,72.6 L188.6,72.6\" fill=\"none\" stroke=\"black\" stroke-linejoin=\"bevel\" stroke-width=\"12\" /><path d=\"M22.0,91.46000000000001 L184.0,91.46000000000001\" fill=\"none\" stroke=\"black\" stroke-linejoin=\"bevel\" stroke-width=\"12\" /><path d=\"M152.0,85.46000000000001 L152.0,177.94 Q152.0,187.94 132.0,182.94\" fill=\"none\" stroke=\"black\" stroke-linejoin=\"bevel\" stroke-width=\"12\" /><path d=\"M32.75,113.6437 L133.25,113.6437\" fill=\"none\" stroke=\"black\" stroke-linejoin=\"bevel\" stroke-width=\"12\" /><path d=\"M44.14,133.3417 L121.86,133.3417\" fill=\"none\" stroke=\"black\" stroke-linejoin=\"bevel\" stroke-width=\"12\" /><path d=\"M25.380000000000006,154.3529 L140.62,154.3529\" fill=\"none\" stroke=\"black\" stroke-linejoin=\"bevel\" stroke-width=\"12\" /></svg>"
      ],
      "text/plain": [
       "<svgwrite.drawing.Drawing at 0x7f2439d27310>"
      ]
     },
     "metadata": {},
     "output_type": "display_data"
    },
    {
     "name": "stdout",
     "output_type": "stream",
     "text": [
      "外上五九\n"
     ]
    },
    {
     "data": {
      "image/svg+xml": [
       "<svg baseProfile=\"full\" height=\"200\" version=\"1.1\" width=\"200\" xmlns=\"http://www.w3.org/2000/svg\" xmlns:ev=\"http://www.w3.org/2001/xml-events\" xmlns:xlink=\"http://www.w3.org/1999/xlink\"><defs /><path d=\"M12.0,40.8 L188.0,40.8\" fill=\"none\" stroke=\"black\" stroke-linejoin=\"bevel\" stroke-width=\"12\" /><path d=\"M71.0,16.0 L71.0,64.0\" fill=\"none\" stroke=\"black\" stroke-linejoin=\"bevel\" stroke-width=\"12\" /><path d=\"M129.0,16.0 L129.0,64.0\" fill=\"none\" stroke=\"black\" stroke-linejoin=\"bevel\" stroke-width=\"12\" /><path d=\"M20.0,96.7396 L180.0,96.7396\" fill=\"none\" stroke=\"black\" stroke-linejoin=\"bevel\" stroke-width=\"12\" /><path d=\"M100.0,77.6312 L100.0,137.4488\" fill=\"none\" stroke=\"black\" stroke-linejoin=\"bevel\" stroke-width=\"12\" /><path d=\"M95.0,96.7396 Q64.0,129.1408 14.0,143.2644\" fill=\"none\" stroke=\"black\" stroke-linejoin=\"bevel\" stroke-width=\"12\" /><path d=\"M105.0,96.7396 Q136.0,126.64840000000001 178.0,137.4488\" fill=\"none\" stroke=\"black\" stroke-linejoin=\"bevel\" stroke-width=\"12\" /><path d=\"M79.0,164.67425000000003 Q66.0,179.31375 17.0,192.9985\" fill=\"none\" stroke=\"black\" stroke-linejoin=\"bevel\" stroke-width=\"12\" /><path d=\"M118.0,164.03775000000002 Q145.0,173.267 168.0,190.77075\" fill=\"none\" stroke=\"black\" stroke-linejoin=\"bevel\" stroke-width=\"12\" /><path d=\"M80.0,141.442 Q104.0,145.89749999999998 113.0,152.899\" fill=\"none\" stroke=\"black\" stroke-linejoin=\"bevel\" stroke-width=\"12\" /><path d=\"M18.0,157.99099999999999 L183.0,157.99099999999999\" fill=\"none\" stroke=\"black\" stroke-linejoin=\"bevel\" stroke-width=\"12\" /></svg>"
      ],
      "text/plain": [
       "<svgwrite.drawing.Drawing at 0x7f2439d49dd0>"
      ]
     },
     "metadata": {},
     "output_type": "display_data"
    },
    {
     "data": {
      "image/svg+xml": [
       "<svg baseProfile=\"full\" height=\"200\" version=\"1.1\" width=\"200\" xmlns=\"http://www.w3.org/2000/svg\" xmlns:ev=\"http://www.w3.org/2001/xml-events\" xmlns:xlink=\"http://www.w3.org/1999/xlink\"><defs /><path d=\"M49.0,12.0 L49.0,68.0\" fill=\"none\" stroke=\"black\" stroke-linejoin=\"bevel\" stroke-width=\"12\" /><path d=\"M43.0,18.0 L156.0,18.0\" fill=\"none\" stroke=\"black\" stroke-linejoin=\"bevel\" stroke-width=\"12\" /><path d=\"M150.0,12.0 L150.0,68.0\" fill=\"none\" stroke=\"black\" stroke-linejoin=\"bevel\" stroke-width=\"12\" /><path d=\"M43.0,39.0 L156.0,39.0\" fill=\"none\" stroke=\"black\" stroke-linejoin=\"bevel\" stroke-width=\"12\" /><path d=\"M43.0,59.0 L156.0,59.0\" fill=\"none\" stroke=\"black\" stroke-linejoin=\"bevel\" stroke-width=\"12\" /><path d=\"M14.0,76.0 L188.0,76.0\" fill=\"none\" stroke=\"black\" stroke-linejoin=\"bevel\" stroke-width=\"12\" /><path d=\"M100.0,70.0 L100.0,183.0\" fill=\"none\" stroke=\"black\" stroke-linejoin=\"bevel\" stroke-width=\"12\" /><path d=\"M18.48,92.84 L45.04,92.84\" fill=\"none\" stroke=\"black\" stroke-linejoin=\"bevel\" stroke-width=\"12\" /><path d=\"M30.64,80.968 Q31.6,107.044 18.48,117.856\" fill=\"none\" stroke=\"black\" stroke-linejoin=\"bevel\" stroke-width=\"12\" /><path d=\"M30.0,95.172 Q38.0,101.744 41.84,111.49600000000001\" fill=\"none\" stroke=\"black\" stroke-linejoin=\"bevel\" stroke-width=\"12\" /><path d=\"M51.28,84.784 L88.72,84.784\" fill=\"none\" stroke=\"black\" stroke-linejoin=\"bevel\" stroke-width=\"12\" /><path d=\"M69.61751180729713,78.92597447001769 L60.542488192702855,119.8980255299823\" fill=\"none\" stroke=\"black\" stroke-linejoin=\"bevel\" stroke-width=\"12\" /><path d=\"M53.68,97.292 L85.6,97.292\" fill=\"none\" stroke=\"black\" stroke-linejoin=\"bevel\" stroke-width=\"12\" /><path d=\"M79.6,91.292 L79.6,120.03999999999999\" fill=\"none\" stroke=\"black\" stroke-linejoin=\"bevel\" stroke-width=\"12\" /><path d=\"M49.36,114.03999999999999 L90.64,114.03999999999999\" fill=\"none\" stroke=\"black\" stroke-linejoin=\"bevel\" stroke-width=\"12\" /><path d=\"M24.0,126.8289 L84.0,126.8289\" fill=\"none\" stroke=\"black\" stroke-linejoin=\"bevel\" stroke-width=\"12\" /><path d=\"M30.8,148.1349 L77.2,148.1349\" fill=\"none\" stroke=\"black\" stroke-linejoin=\"bevel\" stroke-width=\"12\" /><path d=\"M19.6,170.86129999999997 L88.4,170.86129999999997\" fill=\"none\" stroke=\"black\" stroke-linejoin=\"bevel\" stroke-width=\"12\" /><path d=\"M109.92,98.80799999999999 L182.07999999999998,98.80799999999999\" fill=\"none\" stroke=\"black\" stroke-linejoin=\"bevel\" stroke-width=\"12\" /><path d=\"M134.11,86.16 L134.11,110.64\" fill=\"none\" stroke=\"black\" stroke-linejoin=\"bevel\" stroke-width=\"12\" /><path d=\"M157.89,86.16 L157.89,110.64\" fill=\"none\" stroke=\"black\" stroke-linejoin=\"bevel\" stroke-width=\"12\" /><path d=\"M137.39,142.0713 Q132.06,157.7895 111.97,172.4826\" fill=\"none\" stroke=\"black\" stroke-linejoin=\"bevel\" stroke-width=\"12\" /><path d=\"M153.38,141.3879 Q164.45,151.2972 173.88,170.0907\" fill=\"none\" stroke=\"black\" stroke-linejoin=\"bevel\" stroke-width=\"12\" /><path d=\"M137.8,117.12719999999999 Q147.64,121.911 151.32999999999998,129.4284\" fill=\"none\" stroke=\"black\" stroke-linejoin=\"bevel\" stroke-width=\"12\" /><path d=\"M112.38,134.8956 L180.03,134.8956\" fill=\"none\" stroke=\"black\" stroke-linejoin=\"bevel\" stroke-width=\"12\" /></svg>"
      ],
      "text/plain": [
       "<svgwrite.drawing.Drawing at 0x7f2439d17690>"
      ]
     },
     "metadata": {},
     "output_type": "display_data"
    },
    {
     "name": "stdout",
     "output_type": "stream",
     "text": [
      "从「再作\n",
      "「\n"
     ]
    },
    {
     "data": {
      "image/svg+xml": [
       "<svg baseProfile=\"full\" height=\"200\" version=\"1.1\" width=\"200\" xmlns=\"http://www.w3.org/2000/svg\" xmlns:ev=\"http://www.w3.org/2001/xml-events\" xmlns:xlink=\"http://www.w3.org/1999/xlink\"><defs /><path d=\"M24.0,6.0 L24.0,40.2\" fill=\"none\" stroke=\"black\" stroke-linejoin=\"bevel\" stroke-width=\"12\" /><path d=\"M18.0,12.0 L75.6,12.0\" fill=\"none\" stroke=\"black\" stroke-linejoin=\"bevel\" stroke-width=\"12\" /><path d=\"M69.6,6.0 L69.6,40.2\" fill=\"none\" stroke=\"black\" stroke-linejoin=\"bevel\" stroke-width=\"12\" /><path d=\"M18.0,31.2 L75.6,31.2\" fill=\"none\" stroke=\"black\" stroke-linejoin=\"bevel\" stroke-width=\"12\" /><path d=\"M48.0,25.2 L48.0,70.8\" fill=\"none\" stroke=\"black\" stroke-linejoin=\"bevel\" stroke-width=\"12\" /><path d=\"M42.0,47.6 L79.2,47.6\" fill=\"none\" stroke=\"black\" stroke-linejoin=\"bevel\" stroke-width=\"12\" /><path d=\"M24.0,40.8 L24.0,68.4\" fill=\"none\" stroke=\"black\" stroke-linejoin=\"bevel\" stroke-width=\"12\" /><path d=\"M12.8,70.0 Q48.0,66.0 80.8,60.0\" fill=\"none\" stroke=\"black\" stroke-linejoin=\"bevel\" stroke-width=\"12\" /><path d=\"M93.2,6.4 L186.8,6.4\" fill=\"none\" stroke=\"black\" stroke-linejoin=\"bevel\" stroke-width=\"12\" /><path d=\"M138.83720341258535,1.225505297076829 L116.56279658741465,39.17449470292317\" fill=\"none\" stroke=\"black\" stroke-linejoin=\"bevel\" stroke-width=\"12\" /><path d=\"M99.2,18.2 L170.0,18.2\" fill=\"none\" stroke=\"black\" stroke-linejoin=\"bevel\" stroke-width=\"12\" /><path d=\"M164.0,12.2 L164.0,40.0\" fill=\"none\" stroke=\"black\" stroke-linejoin=\"bevel\" stroke-width=\"12\" /><path d=\"M88.4,34.0 L191.6,34.0\" fill=\"none\" stroke=\"black\" stroke-linejoin=\"bevel\" stroke-width=\"12\" /><path d=\"M127.4,57.8 Q119.6,67.0 90.2,75.6\" fill=\"none\" stroke=\"black\" stroke-linejoin=\"bevel\" stroke-width=\"12\" /><path d=\"M150.8,57.4 Q167.0,63.2 180.8,74.2\" fill=\"none\" stroke=\"black\" stroke-linejoin=\"bevel\" stroke-width=\"12\" /><path d=\"M128.0,43.2 Q142.4,46.0 147.8,50.4\" fill=\"none\" stroke=\"black\" stroke-linejoin=\"bevel\" stroke-width=\"12\" /><path d=\"M90.8,53.6 L189.8,53.6\" fill=\"none\" stroke=\"black\" stroke-linejoin=\"bevel\" stroke-width=\"12\" /><path d=\"M22.0,91.46000000000001 L184.0,91.46000000000001\" fill=\"none\" stroke=\"black\" stroke-linejoin=\"bevel\" stroke-width=\"12\" /><path d=\"M152.0,85.46000000000001 L152.0,177.94 Q152.0,187.94 132.0,182.94\" fill=\"none\" stroke=\"black\" stroke-linejoin=\"bevel\" stroke-width=\"12\" /></svg>"
      ],
      "text/plain": [
       "<svgwrite.drawing.Drawing at 0x7f2439d4a590>"
      ]
     },
     "metadata": {},
     "output_type": "display_data"
    },
    {
     "data": {
      "image/svg+xml": [
       "<svg baseProfile=\"full\" height=\"200\" version=\"1.1\" width=\"200\" xmlns=\"http://www.w3.org/2000/svg\" xmlns:ev=\"http://www.w3.org/2001/xml-events\" xmlns:xlink=\"http://www.w3.org/1999/xlink\"><defs /><path d=\"M11.2,28.0 L77.6,28.0\" fill=\"none\" stroke=\"black\" stroke-linejoin=\"bevel\" stroke-width=\"12\" /><path d=\"M41.6,5.6 Q44.0,54.8 11.2,75.2\" fill=\"none\" stroke=\"black\" stroke-linejoin=\"bevel\" stroke-width=\"12\" /><path d=\"M40.0,32.4 Q60.0,44.8 69.6,63.2\" fill=\"none\" stroke=\"black\" stroke-linejoin=\"bevel\" stroke-width=\"12\" /><path d=\"M93.2,12.8 L186.8,12.8\" fill=\"none\" stroke=\"black\" stroke-linejoin=\"bevel\" stroke-width=\"12\" /><path d=\"M137.4896096624626,7.042811520497788 L117.9103903375374,73.75718847950222\" fill=\"none\" stroke=\"black\" stroke-linejoin=\"bevel\" stroke-width=\"12\" /><path d=\"M99.2,36.4 L170.0,36.4\" fill=\"none\" stroke=\"black\" stroke-linejoin=\"bevel\" stroke-width=\"12\" /><path d=\"M164.0,30.4 L164.0,74.0\" fill=\"none\" stroke=\"black\" stroke-linejoin=\"bevel\" stroke-width=\"12\" /><path d=\"M88.4,68.0 L191.6,68.0\" fill=\"none\" stroke=\"black\" stroke-linejoin=\"bevel\" stroke-width=\"12\" /><path d=\"M28.0,84.76 L188.0,84.76\" fill=\"none\" stroke=\"black\" stroke-linejoin=\"bevel\" stroke-width=\"12\" /><path d=\"M34.0,78.76 L34.0,126.97 Q34.0,175.20999999999998 12.0,192.63\" fill=\"none\" stroke=\"black\" stroke-linejoin=\"bevel\" stroke-width=\"12\" /><path d=\"M50.36,113.18642500000001 L177.64,104.24527499999999\" fill=\"none\" stroke=\"black\" stroke-linejoin=\"bevel\" stroke-width=\"12\" /><path d=\"M99.2,91.096525 L99.2,121.068725 Q99.2,131.068725 109.2,131.068725 L164.32,131.068725\" fill=\"none\" stroke=\"black\" stroke-linejoin=\"bevel\" stroke-width=\"12\" /><path d=\"M98.46,162.09977500000002 Q88.84,174.19662499999998 52.58,185.50455\" fill=\"none\" stroke=\"black\" stroke-linejoin=\"bevel\" stroke-width=\"12\" /><path d=\"M127.32,161.573825 Q147.3,169.20010000000002 164.32,183.663725\" fill=\"none\" stroke=\"black\" stroke-linejoin=\"bevel\" stroke-width=\"12\" /><path d=\"M99.2,142.9026 Q116.96,146.58425 123.62,152.3697\" fill=\"none\" stroke=\"black\" stroke-linejoin=\"bevel\" stroke-width=\"12\" /><path d=\"M53.32,156.57729999999998 L175.42,156.57729999999998\" fill=\"none\" stroke=\"black\" stroke-linejoin=\"bevel\" stroke-width=\"12\" /></svg>"
      ],
      "text/plain": [
       "<svgwrite.drawing.Drawing at 0x7f2439d24e50>"
      ]
     },
     "metadata": {},
     "output_type": "display_data"
    },
    {
     "data": {
      "image/svg+xml": [
       "<svg baseProfile=\"full\" height=\"200\" version=\"1.1\" width=\"200\" xmlns=\"http://www.w3.org/2000/svg\" xmlns:ev=\"http://www.w3.org/2001/xml-events\" xmlns:xlink=\"http://www.w3.org/1999/xlink\"><defs /><path d=\"M24.0,6.0 L24.0,40.2\" fill=\"none\" stroke=\"black\" stroke-linejoin=\"bevel\" stroke-width=\"12\" /><path d=\"M18.0,12.0 L75.6,12.0\" fill=\"none\" stroke=\"black\" stroke-linejoin=\"bevel\" stroke-width=\"12\" /><path d=\"M69.6,6.0 L69.6,40.2\" fill=\"none\" stroke=\"black\" stroke-linejoin=\"bevel\" stroke-width=\"12\" /><path d=\"M18.0,31.2 L75.6,31.2\" fill=\"none\" stroke=\"black\" stroke-linejoin=\"bevel\" stroke-width=\"12\" /><path d=\"M48.0,25.2 L48.0,70.8\" fill=\"none\" stroke=\"black\" stroke-linejoin=\"bevel\" stroke-width=\"12\" /><path d=\"M42.0,47.6 L79.2,47.6\" fill=\"none\" stroke=\"black\" stroke-linejoin=\"bevel\" stroke-width=\"12\" /><path d=\"M24.0,40.8 L24.0,68.4\" fill=\"none\" stroke=\"black\" stroke-linejoin=\"bevel\" stroke-width=\"12\" /><path d=\"M12.8,70.0 Q48.0,66.0 80.8,60.0\" fill=\"none\" stroke=\"black\" stroke-linejoin=\"bevel\" stroke-width=\"12\" /><path d=\"M93.2,6.4 L186.8,6.4\" fill=\"none\" stroke=\"black\" stroke-linejoin=\"bevel\" stroke-width=\"12\" /><path d=\"M138.83720341258535,1.225505297076829 L116.56279658741465,39.17449470292317\" fill=\"none\" stroke=\"black\" stroke-linejoin=\"bevel\" stroke-width=\"12\" /><path d=\"M99.2,18.2 L170.0,18.2\" fill=\"none\" stroke=\"black\" stroke-linejoin=\"bevel\" stroke-width=\"12\" /><path d=\"M164.0,12.2 L164.0,40.0\" fill=\"none\" stroke=\"black\" stroke-linejoin=\"bevel\" stroke-width=\"12\" /><path d=\"M88.4,34.0 L191.6,34.0\" fill=\"none\" stroke=\"black\" stroke-linejoin=\"bevel\" stroke-width=\"12\" /><path d=\"M127.4,57.8 Q119.6,67.0 90.2,75.6\" fill=\"none\" stroke=\"black\" stroke-linejoin=\"bevel\" stroke-width=\"12\" /><path d=\"M150.8,57.4 Q167.0,63.2 180.8,74.2\" fill=\"none\" stroke=\"black\" stroke-linejoin=\"bevel\" stroke-width=\"12\" /><path d=\"M128.0,43.2 Q142.4,46.0 147.8,50.4\" fill=\"none\" stroke=\"black\" stroke-linejoin=\"bevel\" stroke-width=\"12\" /><path d=\"M90.8,53.6 L189.8,53.6\" fill=\"none\" stroke=\"black\" stroke-linejoin=\"bevel\" stroke-width=\"12\" /><path d=\"M168.0,78.11359999999999 Q117.0,87.3462 22.0,92.3176\" fill=\"none\" stroke=\"black\" stroke-linejoin=\"bevel\" stroke-width=\"12\" /><path d=\"M35.0,97.9992 Q53.0,107.94200000000001 59.0,122.14599999999999\" fill=\"none\" stroke=\"black\" stroke-linejoin=\"bevel\" stroke-width=\"12\" /><path d=\"M84.0,94.4482 Q101.0,104.39099999999999 105.0,116.4644\" fill=\"none\" stroke=\"black\" stroke-linejoin=\"bevel\" stroke-width=\"12\" /><path d=\"M159.0,90.187 Q153.0,98.7094 134.0,124.2766\" fill=\"none\" stroke=\"black\" stroke-linejoin=\"bevel\" stroke-width=\"12\" /><path d=\"M29.0,135.01 L159.0,135.01\" fill=\"none\" stroke=\"black\" stroke-linejoin=\"bevel\" stroke-width=\"12\" /><path d=\"M153.0,129.01 L153.0,167.45999999999998\" fill=\"none\" stroke=\"black\" stroke-linejoin=\"bevel\" stroke-width=\"12\" /><path d=\"M35.0,129.01 L35.0,175.26 Q35.0,185.26 45.0,185.26 L182.0,185.26\" fill=\"none\" stroke=\"black\" stroke-linejoin=\"bevel\" stroke-width=\"12\" /><path d=\"M29.0,158.45999999999998 L159.0,158.45999999999998\" fill=\"none\" stroke=\"black\" stroke-linejoin=\"bevel\" stroke-width=\"12\" /></svg>"
      ],
      "text/plain": [
       "<svgwrite.drawing.Drawing at 0x7f2439d35b10>"
      ]
     },
     "metadata": {},
     "output_type": "display_data"
    },
    {
     "data": {
      "image/svg+xml": [
       "<svg baseProfile=\"full\" height=\"200\" version=\"1.1\" width=\"200\" xmlns=\"http://www.w3.org/2000/svg\" xmlns:ev=\"http://www.w3.org/2001/xml-events\" xmlns:xlink=\"http://www.w3.org/1999/xlink\"><defs /><path d=\"M12.0,40.8 L188.0,40.8\" fill=\"none\" stroke=\"black\" stroke-linejoin=\"bevel\" stroke-width=\"12\" /><path d=\"M71.0,16.0 L71.0,64.0\" fill=\"none\" stroke=\"black\" stroke-linejoin=\"bevel\" stroke-width=\"12\" /><path d=\"M129.0,16.0 L129.0,64.0\" fill=\"none\" stroke=\"black\" stroke-linejoin=\"bevel\" stroke-width=\"12\" /><path d=\"M22.0,91.46000000000001 L184.0,91.46000000000001\" fill=\"none\" stroke=\"black\" stroke-linejoin=\"bevel\" stroke-width=\"12\" /><path d=\"M152.0,85.46000000000001 L152.0,177.94 Q152.0,187.94 132.0,182.94\" fill=\"none\" stroke=\"black\" stroke-linejoin=\"bevel\" stroke-width=\"12\" /><path d=\"M32.75,113.6437 L133.25,113.6437\" fill=\"none\" stroke=\"black\" stroke-linejoin=\"bevel\" stroke-width=\"12\" /><path d=\"M44.14,133.3417 L121.86,133.3417\" fill=\"none\" stroke=\"black\" stroke-linejoin=\"bevel\" stroke-width=\"12\" /><path d=\"M25.380000000000006,154.3529 L140.62,154.3529\" fill=\"none\" stroke=\"black\" stroke-linejoin=\"bevel\" stroke-width=\"12\" /></svg>"
      ],
      "text/plain": [
       "<svgwrite.drawing.Drawing at 0x7f2439d54e50>"
      ]
     },
     "metadata": {},
     "output_type": "display_data"
    },
    {
     "data": {
      "image/svg+xml": [
       "<svg baseProfile=\"full\" height=\"200\" version=\"1.1\" width=\"200\" xmlns=\"http://www.w3.org/2000/svg\" xmlns:ev=\"http://www.w3.org/2001/xml-events\" xmlns:xlink=\"http://www.w3.org/1999/xlink\"><defs /><path d=\"M24.0,6.0 L24.0,40.2\" fill=\"none\" stroke=\"black\" stroke-linejoin=\"bevel\" stroke-width=\"12\" /><path d=\"M18.0,12.0 L75.6,12.0\" fill=\"none\" stroke=\"black\" stroke-linejoin=\"bevel\" stroke-width=\"12\" /><path d=\"M69.6,6.0 L69.6,40.2\" fill=\"none\" stroke=\"black\" stroke-linejoin=\"bevel\" stroke-width=\"12\" /><path d=\"M18.0,31.2 L75.6,31.2\" fill=\"none\" stroke=\"black\" stroke-linejoin=\"bevel\" stroke-width=\"12\" /><path d=\"M48.0,25.2 L48.0,70.8\" fill=\"none\" stroke=\"black\" stroke-linejoin=\"bevel\" stroke-width=\"12\" /><path d=\"M42.0,47.6 L79.2,47.6\" fill=\"none\" stroke=\"black\" stroke-linejoin=\"bevel\" stroke-width=\"12\" /><path d=\"M24.0,40.8 L24.0,68.4\" fill=\"none\" stroke=\"black\" stroke-linejoin=\"bevel\" stroke-width=\"12\" /><path d=\"M12.8,70.0 Q48.0,66.0 80.8,60.0\" fill=\"none\" stroke=\"black\" stroke-linejoin=\"bevel\" stroke-width=\"12\" /><path d=\"M93.2,6.4 L186.8,6.4\" fill=\"none\" stroke=\"black\" stroke-linejoin=\"bevel\" stroke-width=\"12\" /><path d=\"M138.83720341258535,1.225505297076829 L116.56279658741465,39.17449470292317\" fill=\"none\" stroke=\"black\" stroke-linejoin=\"bevel\" stroke-width=\"12\" /><path d=\"M99.2,18.2 L170.0,18.2\" fill=\"none\" stroke=\"black\" stroke-linejoin=\"bevel\" stroke-width=\"12\" /><path d=\"M164.0,12.2 L164.0,40.0\" fill=\"none\" stroke=\"black\" stroke-linejoin=\"bevel\" stroke-width=\"12\" /><path d=\"M88.4,34.0 L191.6,34.0\" fill=\"none\" stroke=\"black\" stroke-linejoin=\"bevel\" stroke-width=\"12\" /><path d=\"M127.4,57.8 Q119.6,67.0 90.2,75.6\" fill=\"none\" stroke=\"black\" stroke-linejoin=\"bevel\" stroke-width=\"12\" /><path d=\"M150.8,57.4 Q167.0,63.2 180.8,74.2\" fill=\"none\" stroke=\"black\" stroke-linejoin=\"bevel\" stroke-width=\"12\" /><path d=\"M128.0,43.2 Q142.4,46.0 147.8,50.4\" fill=\"none\" stroke=\"black\" stroke-linejoin=\"bevel\" stroke-width=\"12\" /><path d=\"M90.8,53.6 L189.8,53.6\" fill=\"none\" stroke=\"black\" stroke-linejoin=\"bevel\" stroke-width=\"12\" /><path d=\"M20.0,96.7396 L180.0,96.7396\" fill=\"none\" stroke=\"black\" stroke-linejoin=\"bevel\" stroke-width=\"12\" /><path d=\"M100.0,77.6312 L100.0,137.4488\" fill=\"none\" stroke=\"black\" stroke-linejoin=\"bevel\" stroke-width=\"12\" /><path d=\"M95.0,96.7396 Q64.0,129.1408 14.0,143.2644\" fill=\"none\" stroke=\"black\" stroke-linejoin=\"bevel\" stroke-width=\"12\" /><path d=\"M105.0,96.7396 Q136.0,126.64840000000001 178.0,137.4488\" fill=\"none\" stroke=\"black\" stroke-linejoin=\"bevel\" stroke-width=\"12\" /><path d=\"M79.0,164.67425000000003 Q66.0,179.31375 17.0,192.9985\" fill=\"none\" stroke=\"black\" stroke-linejoin=\"bevel\" stroke-width=\"12\" /><path d=\"M118.0,164.03775000000002 Q145.0,173.267 168.0,190.77075\" fill=\"none\" stroke=\"black\" stroke-linejoin=\"bevel\" stroke-width=\"12\" /><path d=\"M80.0,141.442 Q104.0,145.89749999999998 113.0,152.899\" fill=\"none\" stroke=\"black\" stroke-linejoin=\"bevel\" stroke-width=\"12\" /><path d=\"M18.0,157.99099999999999 L183.0,157.99099999999999\" fill=\"none\" stroke=\"black\" stroke-linejoin=\"bevel\" stroke-width=\"12\" /></svg>"
      ],
      "text/plain": [
       "<svgwrite.drawing.Drawing at 0x7f2439d56490>"
      ]
     },
     "metadata": {},
     "output_type": "display_data"
    },
    {
     "data": {
      "image/svg+xml": [
       "<svg baseProfile=\"full\" height=\"200\" version=\"1.1\" width=\"200\" xmlns=\"http://www.w3.org/2000/svg\" xmlns:ev=\"http://www.w3.org/2001/xml-events\" xmlns:xlink=\"http://www.w3.org/1999/xlink\"><defs /><path d=\"M49.0,12.0 L49.0,68.0\" fill=\"none\" stroke=\"black\" stroke-linejoin=\"bevel\" stroke-width=\"12\" /><path d=\"M43.0,18.0 L156.0,18.0\" fill=\"none\" stroke=\"black\" stroke-linejoin=\"bevel\" stroke-width=\"12\" /><path d=\"M150.0,12.0 L150.0,68.0\" fill=\"none\" stroke=\"black\" stroke-linejoin=\"bevel\" stroke-width=\"12\" /><path d=\"M43.0,39.0 L156.0,39.0\" fill=\"none\" stroke=\"black\" stroke-linejoin=\"bevel\" stroke-width=\"12\" /><path d=\"M43.0,59.0 L156.0,59.0\" fill=\"none\" stroke=\"black\" stroke-linejoin=\"bevel\" stroke-width=\"12\" /><path d=\"M14.0,76.0 L188.0,76.0\" fill=\"none\" stroke=\"black\" stroke-linejoin=\"bevel\" stroke-width=\"12\" /><path d=\"M100.0,70.0 L100.0,183.0\" fill=\"none\" stroke=\"black\" stroke-linejoin=\"bevel\" stroke-width=\"12\" /><path d=\"M23.6,78.36 L23.6,103.536\" fill=\"none\" stroke=\"black\" stroke-linejoin=\"bevel\" stroke-width=\"12\" /><path d=\"M17.6,84.36 L47.84,84.36\" fill=\"none\" stroke=\"black\" stroke-linejoin=\"bevel\" stroke-width=\"12\" /><path d=\"M41.84,78.36 L41.84,103.536\" fill=\"none\" stroke=\"black\" stroke-linejoin=\"bevel\" stroke-width=\"12\" /><path d=\"M17.6,94.536 L47.84,94.536\" fill=\"none\" stroke=\"black\" stroke-linejoin=\"bevel\" stroke-width=\"12\" /><path d=\"M33.2,88.536 L33.2,118.344\" fill=\"none\" stroke=\"black\" stroke-linejoin=\"bevel\" stroke-width=\"12\" /><path d=\"M27.200000000000003,103.22800000000001 L45.68,103.22800000000001\" fill=\"none\" stroke=\"black\" stroke-linejoin=\"bevel\" stroke-width=\"12\" /><path d=\"M23.6,99.624 L23.6,114.25200000000001 Q33.2,112.97999999999999 46.32,109.8\" fill=\"none\" stroke=\"black\" stroke-linejoin=\"bevel\" stroke-width=\"12\" /><path d=\"M51.28,81.392 L88.72,81.392\" fill=\"none\" stroke=\"black\" stroke-linejoin=\"bevel\" stroke-width=\"12\" /><path d=\"M70.75014816761302,75.90616552533281 L59.40985183238698,101.50583447466718\" fill=\"none\" stroke=\"black\" stroke-linejoin=\"bevel\" stroke-width=\"12\" /><path d=\"M53.68,87.646 L85.6,87.646\" fill=\"none\" stroke=\"black\" stroke-linejoin=\"bevel\" stroke-width=\"12\" /><path d=\"M79.6,81.646 L79.6,102.02\" fill=\"none\" stroke=\"black\" stroke-linejoin=\"bevel\" stroke-width=\"12\" /><path d=\"M49.36,96.02 L90.64,96.02\" fill=\"none\" stroke=\"black\" stroke-linejoin=\"bevel\" stroke-width=\"12\" /><path d=\"M64.96000000000001,108.634 Q61.84,113.50999999999999 50.08,118.068\" fill=\"none\" stroke=\"black\" stroke-linejoin=\"bevel\" stroke-width=\"12\" /><path d=\"M74.32,108.422 Q80.8,111.49600000000001 86.32,117.326\" fill=\"none\" stroke=\"black\" stroke-linejoin=\"bevel\" stroke-width=\"12\" /><path d=\"M65.2,100.896 Q70.96000000000001,102.38 73.12,104.712\" fill=\"none\" stroke=\"black\" stroke-linejoin=\"bevel\" stroke-width=\"12\" /><path d=\"M50.32,106.408 L89.92,106.408\" fill=\"none\" stroke=\"black\" stroke-linejoin=\"bevel\" stroke-width=\"12\" /><path d=\"M45.6,144.5839 Q40.4,160.9185 20.8,176.18779999999998\" fill=\"none\" stroke=\"black\" stroke-linejoin=\"bevel\" stroke-width=\"12\" /><path d=\"M61.2,143.87369999999999 Q72.0,154.1716 81.2,173.70209999999997\" fill=\"none\" stroke=\"black\" stroke-linejoin=\"bevel\" stroke-width=\"12\" /><path d=\"M46.0,118.66159999999999 Q55.6,123.633 59.2,131.4452\" fill=\"none\" stroke=\"black\" stroke-linejoin=\"bevel\" stroke-width=\"12\" /><path d=\"M21.2,137.1268 L87.2,137.1268\" fill=\"none\" stroke=\"black\" stroke-linejoin=\"bevel\" stroke-width=\"12\" /><path d=\"M109.92,98.80799999999999 L182.07999999999998,98.80799999999999\" fill=\"none\" stroke=\"black\" stroke-linejoin=\"bevel\" stroke-width=\"12\" /><path d=\"M134.11,86.16 L134.11,110.64\" fill=\"none\" stroke=\"black\" stroke-linejoin=\"bevel\" stroke-width=\"12\" /><path d=\"M157.89,86.16 L157.89,110.64\" fill=\"none\" stroke=\"black\" stroke-linejoin=\"bevel\" stroke-width=\"12\" /><path d=\"M115.25,124.9863 L176.75,124.9863\" fill=\"none\" stroke=\"black\" stroke-linejoin=\"bevel\" stroke-width=\"12\" /><path d=\"M122.22,145.48829999999998 L169.78,145.48829999999998\" fill=\"none\" stroke=\"black\" stroke-linejoin=\"bevel\" stroke-width=\"12\" /><path d=\"M110.74,167.3571 L181.26,167.3571\" fill=\"none\" stroke=\"black\" stroke-linejoin=\"bevel\" stroke-width=\"12\" /></svg>"
      ],
      "text/plain": [
       "<svgwrite.drawing.Drawing at 0x7f2439d14210>"
      ]
     },
     "metadata": {},
     "output_type": "display_data"
    },
    {
     "name": "stdout",
     "output_type": "stream",
     "text": [
      "从「再作\n",
      "「\n"
     ]
    },
    {
     "data": {
      "image/svg+xml": [
       "<svg baseProfile=\"full\" height=\"200\" version=\"1.1\" width=\"200\" xmlns=\"http://www.w3.org/2000/svg\" xmlns:ev=\"http://www.w3.org/2001/xml-events\" xmlns:xlink=\"http://www.w3.org/1999/xlink\"><defs /><path d=\"M12.0,40.8 L188.0,40.8\" fill=\"none\" stroke=\"black\" stroke-linejoin=\"bevel\" stroke-width=\"12\" /><path d=\"M71.0,16.0 L71.0,64.0\" fill=\"none\" stroke=\"black\" stroke-linejoin=\"bevel\" stroke-width=\"12\" /><path d=\"M129.0,16.0 L129.0,64.0\" fill=\"none\" stroke=\"black\" stroke-linejoin=\"bevel\" stroke-width=\"12\" /><path d=\"M22.0,91.46000000000001 L184.0,91.46000000000001\" fill=\"none\" stroke=\"black\" stroke-linejoin=\"bevel\" stroke-width=\"12\" /><path d=\"M152.0,85.46000000000001 L152.0,177.94 Q152.0,187.94 132.0,182.94\" fill=\"none\" stroke=\"black\" stroke-linejoin=\"bevel\" stroke-width=\"12\" /><path d=\"M30.74,111.3456 L135.26,111.3456\" fill=\"none\" stroke=\"black\" stroke-linejoin=\"bevel\" stroke-width=\"12\" /><path d=\"M80.53493378049725,105.7733769541769 L57.995066219502746,162.22322304582312\" fill=\"none\" stroke=\"black\" stroke-linejoin=\"bevel\" stroke-width=\"12\" /><path d=\"M37.44,130.7153 L115.8,130.7153\" fill=\"none\" stroke=\"black\" stroke-linejoin=\"bevel\" stroke-width=\"12\" /><path d=\"M109.8,124.71530000000001 L109.8,162.651\" fill=\"none\" stroke=\"black\" stroke-linejoin=\"bevel\" stroke-width=\"12\" /><path d=\"M25.380000000000006,156.651 L140.62,156.651\" fill=\"none\" stroke=\"black\" stroke-linejoin=\"bevel\" stroke-width=\"12\" /></svg>"
      ],
      "text/plain": [
       "<svgwrite.drawing.Drawing at 0x7f248c2a11d0>"
      ]
     },
     "metadata": {},
     "output_type": "display_data"
    },
    {
     "data": {
      "image/svg+xml": [
       "<svg baseProfile=\"full\" height=\"200\" version=\"1.1\" width=\"200\" xmlns=\"http://www.w3.org/2000/svg\" xmlns:ev=\"http://www.w3.org/2001/xml-events\" xmlns:xlink=\"http://www.w3.org/1999/xlink\"><defs /><path d=\"M11.2,28.0 L77.6,28.0\" fill=\"none\" stroke=\"black\" stroke-linejoin=\"bevel\" stroke-width=\"12\" /><path d=\"M41.6,5.6 Q44.0,54.8 11.2,75.2\" fill=\"none\" stroke=\"black\" stroke-linejoin=\"bevel\" stroke-width=\"12\" /><path d=\"M40.0,32.4 Q60.0,44.8 69.6,63.2\" fill=\"none\" stroke=\"black\" stroke-linejoin=\"bevel\" stroke-width=\"12\" /><path d=\"M93.2,12.8 L186.8,12.8\" fill=\"none\" stroke=\"black\" stroke-linejoin=\"bevel\" stroke-width=\"12\" /><path d=\"M137.4896096624626,7.042811520497788 L117.9103903375374,73.75718847950222\" fill=\"none\" stroke=\"black\" stroke-linejoin=\"bevel\" stroke-width=\"12\" /><path d=\"M99.2,36.4 L170.0,36.4\" fill=\"none\" stroke=\"black\" stroke-linejoin=\"bevel\" stroke-width=\"12\" /><path d=\"M164.0,30.4 L164.0,74.0\" fill=\"none\" stroke=\"black\" stroke-linejoin=\"bevel\" stroke-width=\"12\" /><path d=\"M88.4,68.0 L191.6,68.0\" fill=\"none\" stroke=\"black\" stroke-linejoin=\"bevel\" stroke-width=\"12\" /><path d=\"M24.0,78.73 L24.0,171.91 Q24.0,181.91 34.0,181.91 L180.0,181.91\" fill=\"none\" stroke=\"black\" stroke-linejoin=\"bevel\" stroke-width=\"12\" /><path d=\"M40.5,130.44729999999998 L169.5,113.81790000000001\" fill=\"none\" stroke=\"black\" stroke-linejoin=\"bevel\" stroke-width=\"12\" /><path d=\"M90.0,89.3629 L90.0,153.7061 Q90.0,163.7061 100.0,163.7061 L156.0,163.7061\" fill=\"none\" stroke=\"black\" stroke-linejoin=\"bevel\" stroke-width=\"12\" /></svg>"
      ],
      "text/plain": [
       "<svgwrite.drawing.Drawing at 0x7f2439d54e50>"
      ]
     },
     "metadata": {},
     "output_type": "display_data"
    },
    {
     "data": {
      "image/svg+xml": [
       "<svg baseProfile=\"full\" height=\"200\" version=\"1.1\" width=\"200\" xmlns=\"http://www.w3.org/2000/svg\" xmlns:ev=\"http://www.w3.org/2001/xml-events\" xmlns:xlink=\"http://www.w3.org/1999/xlink\"><defs /><path d=\"M161.0,20.47 Q107.0,35.16 45.0,41.94\" fill=\"none\" stroke=\"black\" stroke-linejoin=\"bevel\" stroke-width=\"12\" /><path d=\"M52.0,36.29 Q42.0,73.58 20.0,98.44\" fill=\"none\" stroke=\"black\" stroke-linejoin=\"bevel\" stroke-width=\"12\" /><path d=\"M86.0,46.46 Q102.0,62.28 107.0,84.88\" fill=\"none\" stroke=\"black\" stroke-linejoin=\"bevel\" stroke-width=\"12\" /><path d=\"M138.0,39.68 Q163.0,62.28 173.0,87.14\" fill=\"none\" stroke=\"black\" stroke-linejoin=\"bevel\" stroke-width=\"12\" /><path d=\"M35.72,97.98 L160.52,97.98\" fill=\"none\" stroke=\"black\" stroke-linejoin=\"bevel\" stroke-width=\"12\" /><path d=\"M154.52,91.98 L154.52,141.2\" fill=\"none\" stroke=\"black\" stroke-linejoin=\"bevel\" stroke-width=\"12\" /><path d=\"M35.72,132.2 L160.52,132.2\" fill=\"none\" stroke=\"black\" stroke-linejoin=\"bevel\" stroke-width=\"12\" /><path d=\"M41.72,91.98 L41.72,168.02 Q41.72,178.02 51.72,178.02 L161.44,178.02 Q171.44,178.02 176.44,158.02\" fill=\"none\" stroke=\"black\" stroke-linejoin=\"bevel\" stroke-width=\"12\" /></svg>"
      ],
      "text/plain": [
       "<svgwrite.drawing.Drawing at 0x7f2439d56210>"
      ]
     },
     "metadata": {},
     "output_type": "display_data"
    },
    {
     "data": {
      "image/svg+xml": [
       "<svg baseProfile=\"full\" height=\"200\" version=\"1.1\" width=\"200\" xmlns=\"http://www.w3.org/2000/svg\" xmlns:ev=\"http://www.w3.org/2001/xml-events\" xmlns:xlink=\"http://www.w3.org/1999/xlink\"><defs /><path d=\"M12.0,40.8 L188.0,40.8\" fill=\"none\" stroke=\"black\" stroke-linejoin=\"bevel\" stroke-width=\"12\" /><path d=\"M71.0,16.0 L71.0,64.0\" fill=\"none\" stroke=\"black\" stroke-linejoin=\"bevel\" stroke-width=\"12\" /><path d=\"M129.0,16.0 L129.0,64.0\" fill=\"none\" stroke=\"black\" stroke-linejoin=\"bevel\" stroke-width=\"12\" /><path d=\"M22.0,91.46000000000001 L184.0,91.46000000000001\" fill=\"none\" stroke=\"black\" stroke-linejoin=\"bevel\" stroke-width=\"12\" /><path d=\"M152.0,85.46000000000001 L152.0,177.94 Q152.0,187.94 132.0,182.94\" fill=\"none\" stroke=\"black\" stroke-linejoin=\"bevel\" stroke-width=\"12\" /><path d=\"M35.43,106.9871 L35.43,163.3529\" fill=\"none\" stroke=\"black\" stroke-linejoin=\"bevel\" stroke-width=\"12\" /><path d=\"M29.43,112.9871 L136.57,112.9871\" fill=\"none\" stroke=\"black\" stroke-linejoin=\"bevel\" stroke-width=\"12\" /><path d=\"M130.57,106.9871 L130.57,163.3529\" fill=\"none\" stroke=\"black\" stroke-linejoin=\"bevel\" stroke-width=\"12\" /><path d=\"M68.93,106.9871 L68.93,121.19460000000001 Q68.93,137.6096 41.46,144.8322\" fill=\"none\" stroke=\"black\" stroke-linejoin=\"bevel\" stroke-width=\"12\" /><path d=\"M95.06,106.9871 L95.06,129.2511 Q95.06,139.2511 105.06,139.2511 L118.51,139.2511\" fill=\"none\" stroke=\"black\" stroke-linejoin=\"bevel\" stroke-width=\"12\" /><path d=\"M29.43,154.3529 L136.57,154.3529\" fill=\"none\" stroke=\"black\" stroke-linejoin=\"bevel\" stroke-width=\"12\" /></svg>"
      ],
      "text/plain": [
       "<svgwrite.drawing.Drawing at 0x7f2439d57a10>"
      ]
     },
     "metadata": {},
     "output_type": "display_data"
    },
    {
     "data": {
      "image/svg+xml": [
       "<svg baseProfile=\"full\" height=\"200\" version=\"1.1\" width=\"200\" xmlns=\"http://www.w3.org/2000/svg\" xmlns:ev=\"http://www.w3.org/2001/xml-events\" xmlns:xlink=\"http://www.w3.org/1999/xlink\"><defs /><path d=\"M11.2,28.0 L77.6,28.0\" fill=\"none\" stroke=\"black\" stroke-linejoin=\"bevel\" stroke-width=\"12\" /><path d=\"M41.6,5.6 Q44.0,54.8 11.2,75.2\" fill=\"none\" stroke=\"black\" stroke-linejoin=\"bevel\" stroke-width=\"12\" /><path d=\"M40.0,32.4 Q60.0,44.8 69.6,63.2\" fill=\"none\" stroke=\"black\" stroke-linejoin=\"bevel\" stroke-width=\"12\" /><path d=\"M93.2,12.8 L186.8,12.8\" fill=\"none\" stroke=\"black\" stroke-linejoin=\"bevel\" stroke-width=\"12\" /><path d=\"M137.4896096624626,7.042811520497788 L117.9103903375374,73.75718847950222\" fill=\"none\" stroke=\"black\" stroke-linejoin=\"bevel\" stroke-width=\"12\" /><path d=\"M99.2,36.4 L170.0,36.4\" fill=\"none\" stroke=\"black\" stroke-linejoin=\"bevel\" stroke-width=\"12\" /><path d=\"M164.0,30.4 L164.0,74.0\" fill=\"none\" stroke=\"black\" stroke-linejoin=\"bevel\" stroke-width=\"12\" /><path d=\"M88.4,68.0 L191.6,68.0\" fill=\"none\" stroke=\"black\" stroke-linejoin=\"bevel\" stroke-width=\"12\" /><path d=\"M24.0,78.73 L24.0,171.91 Q24.0,181.91 34.0,181.91 L170.0,181.91 Q180.0,181.91 185.0,161.91\" fill=\"none\" stroke=\"black\" stroke-linejoin=\"bevel\" stroke-width=\"12\" /><path d=\"M89.25,123.59989999999999 Q79.5,146.0985 42.75,167.1298\" fill=\"none\" stroke=\"black\" stroke-linejoin=\"bevel\" stroke-width=\"12\" /><path d=\"M118.5,122.62169999999999 Q138.75,136.8056 156.0,163.7061\" fill=\"none\" stroke=\"black\" stroke-linejoin=\"bevel\" stroke-width=\"12\" /><path d=\"M90.0,87.8956 Q108.0,94.743 114.75,105.50319999999999\" fill=\"none\" stroke=\"black\" stroke-linejoin=\"bevel\" stroke-width=\"12\" /><path d=\"M43.5,113.3288 L167.25,113.3288\" fill=\"none\" stroke=\"black\" stroke-linejoin=\"bevel\" stroke-width=\"12\" /></svg>"
      ],
      "text/plain": [
       "<svgwrite.drawing.Drawing at 0x7f2439d45310>"
      ]
     },
     "metadata": {},
     "output_type": "display_data"
    },
    {
     "data": {
      "image/svg+xml": [
       "<svg baseProfile=\"full\" height=\"200\" version=\"1.1\" width=\"200\" xmlns=\"http://www.w3.org/2000/svg\" xmlns:ev=\"http://www.w3.org/2001/xml-events\" xmlns:xlink=\"http://www.w3.org/1999/xlink\"><defs /><path d=\"M161.0,20.47 Q107.0,35.16 45.0,41.94\" fill=\"none\" stroke=\"black\" stroke-linejoin=\"bevel\" stroke-width=\"12\" /><path d=\"M52.0,36.29 Q42.0,73.58 20.0,98.44\" fill=\"none\" stroke=\"black\" stroke-linejoin=\"bevel\" stroke-width=\"12\" /><path d=\"M86.0,46.46 Q102.0,62.28 107.0,84.88\" fill=\"none\" stroke=\"black\" stroke-linejoin=\"bevel\" stroke-width=\"12\" /><path d=\"M138.0,39.68 Q163.0,62.28 173.0,87.14\" fill=\"none\" stroke=\"black\" stroke-linejoin=\"bevel\" stroke-width=\"12\" /><path d=\"M35.72,97.98 L160.52,97.98\" fill=\"none\" stroke=\"black\" stroke-linejoin=\"bevel\" stroke-width=\"12\" /><path d=\"M154.52,91.98 L154.52,141.2\" fill=\"none\" stroke=\"black\" stroke-linejoin=\"bevel\" stroke-width=\"12\" /><path d=\"M35.72,132.2 L160.52,132.2\" fill=\"none\" stroke=\"black\" stroke-linejoin=\"bevel\" stroke-width=\"12\" /><path d=\"M41.72,91.98 L41.72,168.02 Q41.72,178.02 51.72,178.02 L161.44,178.02 Q171.44,178.02 176.44,158.02\" fill=\"none\" stroke=\"black\" stroke-linejoin=\"bevel\" stroke-width=\"12\" /></svg>"
      ],
      "text/plain": [
       "<svgwrite.drawing.Drawing at 0x7f2439f9ab50>"
      ]
     },
     "metadata": {},
     "output_type": "display_data"
    },
    {
     "data": {
      "image/svg+xml": [
       "<svg baseProfile=\"full\" height=\"200\" version=\"1.1\" width=\"200\" xmlns=\"http://www.w3.org/2000/svg\" xmlns:ev=\"http://www.w3.org/2001/xml-events\" xmlns:xlink=\"http://www.w3.org/1999/xlink\"><defs /><path d=\"M12.0,40.8 L188.0,40.8\" fill=\"none\" stroke=\"black\" stroke-linejoin=\"bevel\" stroke-width=\"12\" /><path d=\"M71.0,16.0 L71.0,64.0\" fill=\"none\" stroke=\"black\" stroke-linejoin=\"bevel\" stroke-width=\"12\" /><path d=\"M129.0,16.0 L129.0,64.0\" fill=\"none\" stroke=\"black\" stroke-linejoin=\"bevel\" stroke-width=\"12\" /><path d=\"M22.0,91.46000000000001 L184.0,91.46000000000001\" fill=\"none\" stroke=\"black\" stroke-linejoin=\"bevel\" stroke-width=\"12\" /><path d=\"M152.0,85.46000000000001 L152.0,177.94 Q152.0,187.94 132.0,182.94\" fill=\"none\" stroke=\"black\" stroke-linejoin=\"bevel\" stroke-width=\"12\" /><path d=\"M32.75,113.6437 L133.25,113.6437\" fill=\"none\" stroke=\"black\" stroke-linejoin=\"bevel\" stroke-width=\"12\" /><path d=\"M44.14,133.3417 L121.86,133.3417\" fill=\"none\" stroke=\"black\" stroke-linejoin=\"bevel\" stroke-width=\"12\" /><path d=\"M25.380000000000006,154.3529 L140.62,154.3529\" fill=\"none\" stroke=\"black\" stroke-linejoin=\"bevel\" stroke-width=\"12\" /></svg>"
      ],
      "text/plain": [
       "<svgwrite.drawing.Drawing at 0x7f2439d57550>"
      ]
     },
     "metadata": {},
     "output_type": "display_data"
    },
    {
     "data": {
      "image/svg+xml": [
       "<svg baseProfile=\"full\" height=\"200\" version=\"1.1\" width=\"200\" xmlns=\"http://www.w3.org/2000/svg\" xmlns:ev=\"http://www.w3.org/2001/xml-events\" xmlns:xlink=\"http://www.w3.org/1999/xlink\"><defs /><path d=\"M11.2,28.0 L77.6,28.0\" fill=\"none\" stroke=\"black\" stroke-linejoin=\"bevel\" stroke-width=\"12\" /><path d=\"M41.6,5.6 Q44.0,54.8 11.2,75.2\" fill=\"none\" stroke=\"black\" stroke-linejoin=\"bevel\" stroke-width=\"12\" /><path d=\"M40.0,32.4 Q60.0,44.8 69.6,63.2\" fill=\"none\" stroke=\"black\" stroke-linejoin=\"bevel\" stroke-width=\"12\" /><path d=\"M97.4,1.4000000000000004 L97.4,41.6\" fill=\"none\" stroke=\"black\" stroke-linejoin=\"bevel\" stroke-width=\"12\" /><path d=\"M91.4,7.400000000000001 L188.6,7.3999999999999995\" fill=\"none\" stroke=\"black\" stroke-linejoin=\"bevel\" stroke-width=\"12\" /><path d=\"M182.6,1.4000000000000004 L182.6,41.6\" fill=\"none\" stroke=\"black\" stroke-linejoin=\"bevel\" stroke-width=\"12\" /><path d=\"M127.4,1.4000000000000004 L127.4,12.4 Q127.4,22.4 102.8,26.8\" fill=\"none\" stroke=\"black\" stroke-linejoin=\"bevel\" stroke-width=\"12\" /><path d=\"M150.8,1.4000000000000004 L150.8,13.399999999999999 Q150.8,23.4 160.8,23.4 L171.8,23.4\" fill=\"none\" stroke=\"black\" stroke-linejoin=\"bevel\" stroke-width=\"12\" /><path d=\"M91.4,32.6 L188.6,32.6\" fill=\"none\" stroke=\"black\" stroke-linejoin=\"bevel\" stroke-width=\"12\" /><path d=\"M124.4,45.0 Q119.6,65.4 87.2,77.4\" fill=\"none\" stroke=\"black\" stroke-linejoin=\"bevel\" stroke-width=\"12\" /><path d=\"M153.2,42.2 Q162.2,65.6 190.4,75.6\" fill=\"none\" stroke=\"black\" stroke-linejoin=\"bevel\" stroke-width=\"12\" /><path d=\"M20.0,96.7396 L180.0,96.7396\" fill=\"none\" stroke=\"black\" stroke-linejoin=\"bevel\" stroke-width=\"12\" /><path d=\"M100.0,77.6312 L100.0,137.4488\" fill=\"none\" stroke=\"black\" stroke-linejoin=\"bevel\" stroke-width=\"12\" /><path d=\"M95.0,96.7396 Q64.0,129.1408 14.0,143.2644\" fill=\"none\" stroke=\"black\" stroke-linejoin=\"bevel\" stroke-width=\"12\" /><path d=\"M105.0,96.7396 Q136.0,126.64840000000001 178.0,137.4488\" fill=\"none\" stroke=\"black\" stroke-linejoin=\"bevel\" stroke-width=\"12\" /><path d=\"M22.0,146.534 L178.0,146.534\" fill=\"none\" stroke=\"black\" stroke-linejoin=\"bevel\" stroke-width=\"12\" /><path d=\"M96.14232453006441,141.4226600046802 L62.85767546993559,195.56383999531977\" fill=\"none\" stroke=\"black\" stroke-linejoin=\"bevel\" stroke-width=\"12\" /><path d=\"M32.0,165.31074999999998 L146.0,165.31074999999998\" fill=\"none\" stroke=\"black\" stroke-linejoin=\"bevel\" stroke-width=\"12\" /><path d=\"M140.0,159.31074999999998 L140.0,196.4525\" fill=\"none\" stroke=\"black\" stroke-linejoin=\"bevel\" stroke-width=\"12\" /><path d=\"M14.0,190.4525 L186.0,190.4525\" fill=\"none\" stroke=\"black\" stroke-linejoin=\"bevel\" stroke-width=\"12\" /></svg>"
      ],
      "text/plain": [
       "<svgwrite.drawing.Drawing at 0x7f2439d57f90>"
      ]
     },
     "metadata": {},
     "output_type": "display_data"
    },
    {
     "data": {
      "image/svg+xml": [
       "<svg baseProfile=\"full\" height=\"200\" version=\"1.1\" width=\"200\" xmlns=\"http://www.w3.org/2000/svg\" xmlns:ev=\"http://www.w3.org/2001/xml-events\" xmlns:xlink=\"http://www.w3.org/1999/xlink\"><defs /><path d=\"M49.0,12.0 L49.0,68.0\" fill=\"none\" stroke=\"black\" stroke-linejoin=\"bevel\" stroke-width=\"12\" /><path d=\"M43.0,18.0 L156.0,18.0\" fill=\"none\" stroke=\"black\" stroke-linejoin=\"bevel\" stroke-width=\"12\" /><path d=\"M150.0,12.0 L150.0,68.0\" fill=\"none\" stroke=\"black\" stroke-linejoin=\"bevel\" stroke-width=\"12\" /><path d=\"M43.0,39.0 L156.0,39.0\" fill=\"none\" stroke=\"black\" stroke-linejoin=\"bevel\" stroke-width=\"12\" /><path d=\"M43.0,59.0 L156.0,59.0\" fill=\"none\" stroke=\"black\" stroke-linejoin=\"bevel\" stroke-width=\"12\" /><path d=\"M14.0,76.0 L188.0,76.0\" fill=\"none\" stroke=\"black\" stroke-linejoin=\"bevel\" stroke-width=\"12\" /><path d=\"M100.0,70.0 L100.0,183.0\" fill=\"none\" stroke=\"black\" stroke-linejoin=\"bevel\" stroke-width=\"12\" /><path d=\"M18.48,92.84 L45.04,92.84\" fill=\"none\" stroke=\"black\" stroke-linejoin=\"bevel\" stroke-width=\"12\" /><path d=\"M30.64,80.968 Q31.6,107.044 18.48,117.856\" fill=\"none\" stroke=\"black\" stroke-linejoin=\"bevel\" stroke-width=\"12\" /><path d=\"M30.0,95.172 Q38.0,101.744 41.84,111.49600000000001\" fill=\"none\" stroke=\"black\" stroke-linejoin=\"bevel\" stroke-width=\"12\" /><path d=\"M52.96,75.922 L52.96,104.278\" fill=\"none\" stroke=\"black\" stroke-linejoin=\"bevel\" stroke-width=\"12\" /><path d=\"M46.96,81.922 L93.04,81.922\" fill=\"none\" stroke=\"black\" stroke-linejoin=\"bevel\" stroke-width=\"12\" /><path d=\"M87.04,75.922 L87.04,104.278\" fill=\"none\" stroke=\"black\" stroke-linejoin=\"bevel\" stroke-width=\"12\" /><path d=\"M64.96000000000001,75.922 L64.96000000000001,84.572 Q64.96000000000001,89.872 55.12,92.20400000000001\" fill=\"none\" stroke=\"black\" stroke-linejoin=\"bevel\" stroke-width=\"12\" /><path d=\"M74.32,87.922 L74.32,80.402 Q74.32,90.402 84.32,90.402 L82.72,90.402\" fill=\"none\" stroke=\"black\" stroke-linejoin=\"bevel\" stroke-width=\"12\" /><path d=\"M46.96,95.278 L93.04,95.278\" fill=\"none\" stroke=\"black\" stroke-linejoin=\"bevel\" stroke-width=\"12\" /><path d=\"M63.76,101.85 Q61.84,112.662 48.88,119.022\" fill=\"none\" stroke=\"black\" stroke-linejoin=\"bevel\" stroke-width=\"12\" /><path d=\"M75.28,100.366 Q78.88,112.768 90.16,118.068\" fill=\"none\" stroke=\"black\" stroke-linejoin=\"bevel\" stroke-width=\"12\" /><path d=\"M22.8,124.3432 L85.2,124.3432\" fill=\"none\" stroke=\"black\" stroke-linejoin=\"bevel\" stroke-width=\"12\" /><path d=\"M52.49135626065202,118.48381445132044 L39.10864373934798,179.20638554867958\" fill=\"none\" stroke=\"black\" stroke-linejoin=\"bevel\" stroke-width=\"12\" /><path d=\"M26.8,145.29410000000001 L76.0,145.29410000000001\" fill=\"none\" stroke=\"black\" stroke-linejoin=\"bevel\" stroke-width=\"12\" /><path d=\"M70.0,139.29410000000001 L70.0,179.347\" fill=\"none\" stroke=\"black\" stroke-linejoin=\"bevel\" stroke-width=\"12\" /><path d=\"M19.6,173.347 L88.4,173.347\" fill=\"none\" stroke=\"black\" stroke-linejoin=\"bevel\" stroke-width=\"12\" /><path d=\"M109.92,98.80799999999999 L182.07999999999998,98.80799999999999\" fill=\"none\" stroke=\"black\" stroke-linejoin=\"bevel\" stroke-width=\"12\" /><path d=\"M134.11,86.16 L134.11,110.64\" fill=\"none\" stroke=\"black\" stroke-linejoin=\"bevel\" stroke-width=\"12\" /><path d=\"M157.89,86.16 L157.89,110.64\" fill=\"none\" stroke=\"black\" stroke-linejoin=\"bevel\" stroke-width=\"12\" /><path d=\"M115.25,124.9863 L176.75,124.9863\" fill=\"none\" stroke=\"black\" stroke-linejoin=\"bevel\" stroke-width=\"12\" /><path d=\"M122.22,145.48829999999998 L169.78,145.48829999999998\" fill=\"none\" stroke=\"black\" stroke-linejoin=\"bevel\" stroke-width=\"12\" /><path d=\"M110.74,167.3571 L181.26,167.3571\" fill=\"none\" stroke=\"black\" stroke-linejoin=\"bevel\" stroke-width=\"12\" /></svg>"
      ],
      "text/plain": [
       "<svgwrite.drawing.Drawing at 0x7f249c138590>"
      ]
     },
     "metadata": {},
     "output_type": "display_data"
    },
    {
     "name": "stdout",
     "output_type": "stream",
     "text": [
      "从「再作\n",
      "「\n"
     ]
    },
    {
     "data": {
      "image/svg+xml": [
       "<svg baseProfile=\"full\" height=\"200\" version=\"1.1\" width=\"200\" xmlns=\"http://www.w3.org/2000/svg\" xmlns:ev=\"http://www.w3.org/2001/xml-events\" xmlns:xlink=\"http://www.w3.org/1999/xlink\"><defs /><path d=\"M21.44,17.2 L21.44,57.4\" fill=\"none\" stroke=\"black\" stroke-linejoin=\"bevel\" stroke-width=\"12\" /><path d=\"M15.440000000000001,23.2 L77.36,23.2\" fill=\"none\" stroke=\"black\" stroke-linejoin=\"bevel\" stroke-width=\"12\" /><path d=\"M71.36,17.2 L71.36,57.4\" fill=\"none\" stroke=\"black\" stroke-linejoin=\"bevel\" stroke-width=\"12\" /><path d=\"M15.440000000000001,48.4 L77.36,48.4\" fill=\"none\" stroke=\"black\" stroke-linejoin=\"bevel\" stroke-width=\"12\" /><path d=\"M46.4,6.4 L46.4,73.6\" fill=\"none\" stroke=\"black\" stroke-linejoin=\"bevel\" stroke-width=\"12\" /><path d=\"M127.4,17.8 Q119.6,27.0 90.2,35.6\" fill=\"none\" stroke=\"black\" stroke-linejoin=\"bevel\" stroke-width=\"12\" /><path d=\"M150.8,17.4 Q167.0,23.2 180.8,34.2\" fill=\"none\" stroke=\"black\" stroke-linejoin=\"bevel\" stroke-width=\"12\" /><path d=\"M128.0,3.2 Q142.4,6.0 147.8,10.4\" fill=\"none\" stroke=\"black\" stroke-linejoin=\"bevel\" stroke-width=\"12\" /><path d=\"M90.8,13.6 L189.8,13.6\" fill=\"none\" stroke=\"black\" stroke-linejoin=\"bevel\" stroke-width=\"12\" /><path d=\"M97.4,41.4 L97.4,81.6\" fill=\"none\" stroke=\"black\" stroke-linejoin=\"bevel\" stroke-width=\"12\" /><path d=\"M91.4,47.4 L188.6,47.4\" fill=\"none\" stroke=\"black\" stroke-linejoin=\"bevel\" stroke-width=\"12\" /><path d=\"M182.6,41.4 L182.6,81.6\" fill=\"none\" stroke=\"black\" stroke-linejoin=\"bevel\" stroke-width=\"12\" /><path d=\"M127.4,41.4 L127.4,52.4 Q127.4,62.4 102.8,66.8\" fill=\"none\" stroke=\"black\" stroke-linejoin=\"bevel\" stroke-width=\"12\" /><path d=\"M150.8,41.4 L150.8,53.4 Q150.8,63.4 160.8,63.4 L171.8,63.4\" fill=\"none\" stroke=\"black\" stroke-linejoin=\"bevel\" stroke-width=\"12\" /><path d=\"M91.4,72.6 L188.6,72.6\" fill=\"none\" stroke=\"black\" stroke-linejoin=\"bevel\" stroke-width=\"12\" /><path d=\"M22.0,91.46000000000001 L184.0,91.46000000000001\" fill=\"none\" stroke=\"black\" stroke-linejoin=\"bevel\" stroke-width=\"12\" /><path d=\"M152.0,85.46000000000001 L152.0,177.94 Q152.0,187.94 132.0,182.94\" fill=\"none\" stroke=\"black\" stroke-linejoin=\"bevel\" stroke-width=\"12\" /><path d=\"M25.380000000000006,133.99830000000003 L140.62,133.99830000000003\" fill=\"none\" stroke=\"black\" stroke-linejoin=\"bevel\" stroke-width=\"12\" /></svg>"
      ],
      "text/plain": [
       "<svgwrite.drawing.Drawing at 0x7f248c6a1e50>"
      ]
     },
     "metadata": {},
     "output_type": "display_data"
    },
    {
     "name": "stdout",
     "output_type": "stream",
     "text": [
      "外上五六\n"
     ]
    },
    {
     "data": {
      "image/svg+xml": [
       "<svg baseProfile=\"full\" height=\"200\" version=\"1.1\" width=\"200\" xmlns=\"http://www.w3.org/2000/svg\" xmlns:ev=\"http://www.w3.org/2001/xml-events\" xmlns:xlink=\"http://www.w3.org/1999/xlink\"><defs /><path d=\"M12.0,40.8 L188.0,40.8\" fill=\"none\" stroke=\"black\" stroke-linejoin=\"bevel\" stroke-width=\"12\" /><path d=\"M71.0,16.0 L71.0,64.0\" fill=\"none\" stroke=\"black\" stroke-linejoin=\"bevel\" stroke-width=\"12\" /><path d=\"M129.0,16.0 L129.0,64.0\" fill=\"none\" stroke=\"black\" stroke-linejoin=\"bevel\" stroke-width=\"12\" /><path d=\"M22.0,91.46000000000001 L184.0,91.46000000000001\" fill=\"none\" stroke=\"black\" stroke-linejoin=\"bevel\" stroke-width=\"12\" /><path d=\"M152.0,85.46000000000001 L152.0,177.94 Q152.0,187.94 132.0,182.94\" fill=\"none\" stroke=\"black\" stroke-linejoin=\"bevel\" stroke-width=\"12\" /><path d=\"M32.75,113.6437 L133.25,113.6437\" fill=\"none\" stroke=\"black\" stroke-linejoin=\"bevel\" stroke-width=\"12\" /><path d=\"M44.14,133.3417 L121.86,133.3417\" fill=\"none\" stroke=\"black\" stroke-linejoin=\"bevel\" stroke-width=\"12\" /><path d=\"M25.380000000000006,154.3529 L140.62,154.3529\" fill=\"none\" stroke=\"black\" stroke-linejoin=\"bevel\" stroke-width=\"12\" /></svg>"
      ],
      "text/plain": [
       "<svgwrite.drawing.Drawing at 0x7f2439d24e50>"
      ]
     },
     "metadata": {},
     "output_type": "display_data"
    },
    {
     "data": {
      "image/svg+xml": [
       "<svg baseProfile=\"full\" height=\"200\" version=\"1.1\" width=\"200\" xmlns=\"http://www.w3.org/2000/svg\" xmlns:ev=\"http://www.w3.org/2001/xml-events\" xmlns:xlink=\"http://www.w3.org/1999/xlink\"><defs /><path d=\"M11.2,28.0 L77.6,28.0\" fill=\"none\" stroke=\"black\" stroke-linejoin=\"bevel\" stroke-width=\"12\" /><path d=\"M41.6,5.6 Q44.0,54.8 11.2,75.2\" fill=\"none\" stroke=\"black\" stroke-linejoin=\"bevel\" stroke-width=\"12\" /><path d=\"M40.0,32.4 Q60.0,44.8 69.6,63.2\" fill=\"none\" stroke=\"black\" stroke-linejoin=\"bevel\" stroke-width=\"12\" /><path d=\"M93.2,12.8 L186.8,12.8\" fill=\"none\" stroke=\"black\" stroke-linejoin=\"bevel\" stroke-width=\"12\" /><path d=\"M137.4896096624626,7.042811520497788 L117.9103903375374,73.75718847950222\" fill=\"none\" stroke=\"black\" stroke-linejoin=\"bevel\" stroke-width=\"12\" /><path d=\"M99.2,36.4 L170.0,36.4\" fill=\"none\" stroke=\"black\" stroke-linejoin=\"bevel\" stroke-width=\"12\" /><path d=\"M164.0,30.4 L164.0,74.0\" fill=\"none\" stroke=\"black\" stroke-linejoin=\"bevel\" stroke-width=\"12\" /><path d=\"M88.4,68.0 L191.6,68.0\" fill=\"none\" stroke=\"black\" stroke-linejoin=\"bevel\" stroke-width=\"12\" /><path d=\"M22.0,91.46000000000001 L184.0,91.46000000000001\" fill=\"none\" stroke=\"black\" stroke-linejoin=\"bevel\" stroke-width=\"12\" /><path d=\"M152.0,85.46000000000001 L152.0,177.94 Q152.0,187.94 132.0,182.94\" fill=\"none\" stroke=\"black\" stroke-linejoin=\"bevel\" stroke-width=\"12\" /><path d=\"M37.44,116.5984 L128.56,116.5984\" fill=\"none\" stroke=\"black\" stroke-linejoin=\"bevel\" stroke-width=\"12\" /><path d=\"M25.380000000000006,151.3982 L140.62,151.3982\" fill=\"none\" stroke=\"black\" stroke-linejoin=\"bevel\" stroke-width=\"12\" /></svg>"
      ],
      "text/plain": [
       "<svgwrite.drawing.Drawing at 0x7f2439d17450>"
      ]
     },
     "metadata": {},
     "output_type": "display_data"
    },
    {
     "data": {
      "image/svg+xml": [
       "<svg baseProfile=\"full\" height=\"200\" version=\"1.1\" width=\"200\" xmlns=\"http://www.w3.org/2000/svg\" xmlns:ev=\"http://www.w3.org/2001/xml-events\" xmlns:xlink=\"http://www.w3.org/1999/xlink\"><defs /><path d=\"M12.0,40.8 L188.0,40.8\" fill=\"none\" stroke=\"black\" stroke-linejoin=\"bevel\" stroke-width=\"12\" /><path d=\"M71.0,16.0 L71.0,64.0\" fill=\"none\" stroke=\"black\" stroke-linejoin=\"bevel\" stroke-width=\"12\" /><path d=\"M129.0,16.0 L129.0,64.0\" fill=\"none\" stroke=\"black\" stroke-linejoin=\"bevel\" stroke-width=\"12\" /><path d=\"M24.0,78.73 L24.0,171.91 Q24.0,181.91 34.0,181.91 L180.0,181.91\" fill=\"none\" stroke=\"black\" stroke-linejoin=\"bevel\" stroke-width=\"12\" /><path d=\"M46.5,95.7212 L163.5,95.7212\" fill=\"none\" stroke=\"black\" stroke-linejoin=\"bevel\" stroke-width=\"12\" /><path d=\"M101.47418573761139,89.97427181685576 L77.77581426238861,168.96392818314422\" fill=\"none\" stroke=\"black\" stroke-linejoin=\"bevel\" stroke-width=\"12\" /><path d=\"M54.0,124.5781 L141.0,124.5781\" fill=\"none\" stroke=\"black\" stroke-linejoin=\"bevel\" stroke-width=\"12\" /><path d=\"M135.0,118.5781 L135.0,169.21699999999998\" fill=\"none\" stroke=\"black\" stroke-linejoin=\"bevel\" stroke-width=\"12\" /><path d=\"M40.5,163.21699999999998 L169.5,163.21699999999998\" fill=\"none\" stroke=\"black\" stroke-linejoin=\"bevel\" stroke-width=\"12\" /></svg>"
      ],
      "text/plain": [
       "<svgwrite.drawing.Drawing at 0x7f2439d1cf90>"
      ]
     },
     "metadata": {},
     "output_type": "display_data"
    },
    {
     "data": {
      "image/svg+xml": [
       "<svg baseProfile=\"full\" height=\"200\" version=\"1.1\" width=\"200\" xmlns=\"http://www.w3.org/2000/svg\" xmlns:ev=\"http://www.w3.org/2001/xml-events\" xmlns:xlink=\"http://www.w3.org/1999/xlink\"><defs /><path d=\"M24.0,6.0 L24.0,40.2\" fill=\"none\" stroke=\"black\" stroke-linejoin=\"bevel\" stroke-width=\"12\" /><path d=\"M18.0,12.0 L75.6,12.0\" fill=\"none\" stroke=\"black\" stroke-linejoin=\"bevel\" stroke-width=\"12\" /><path d=\"M69.6,6.0 L69.6,40.2\" fill=\"none\" stroke=\"black\" stroke-linejoin=\"bevel\" stroke-width=\"12\" /><path d=\"M18.0,31.2 L75.6,31.2\" fill=\"none\" stroke=\"black\" stroke-linejoin=\"bevel\" stroke-width=\"12\" /><path d=\"M48.0,25.2 L48.0,70.8\" fill=\"none\" stroke=\"black\" stroke-linejoin=\"bevel\" stroke-width=\"12\" /><path d=\"M42.0,47.6 L79.2,47.6\" fill=\"none\" stroke=\"black\" stroke-linejoin=\"bevel\" stroke-width=\"12\" /><path d=\"M24.0,40.8 L24.0,68.4\" fill=\"none\" stroke=\"black\" stroke-linejoin=\"bevel\" stroke-width=\"12\" /><path d=\"M12.8,70.0 Q48.0,66.0 80.8,60.0\" fill=\"none\" stroke=\"black\" stroke-linejoin=\"bevel\" stroke-width=\"12\" /><path d=\"M127.4,17.8 Q119.6,27.0 90.2,35.6\" fill=\"none\" stroke=\"black\" stroke-linejoin=\"bevel\" stroke-width=\"12\" /><path d=\"M150.8,17.4 Q167.0,23.2 180.8,34.2\" fill=\"none\" stroke=\"black\" stroke-linejoin=\"bevel\" stroke-width=\"12\" /><path d=\"M128.0,3.2 Q142.4,6.0 147.8,10.4\" fill=\"none\" stroke=\"black\" stroke-linejoin=\"bevel\" stroke-width=\"12\" /><path d=\"M90.8,13.6 L189.8,13.6\" fill=\"none\" stroke=\"black\" stroke-linejoin=\"bevel\" stroke-width=\"12\" /><path d=\"M97.4,41.4 L97.4,81.6\" fill=\"none\" stroke=\"black\" stroke-linejoin=\"bevel\" stroke-width=\"12\" /><path d=\"M91.4,47.4 L188.6,47.4\" fill=\"none\" stroke=\"black\" stroke-linejoin=\"bevel\" stroke-width=\"12\" /><path d=\"M182.6,41.4 L182.6,81.6\" fill=\"none\" stroke=\"black\" stroke-linejoin=\"bevel\" stroke-width=\"12\" /><path d=\"M127.4,41.4 L127.4,52.4 Q127.4,62.4 102.8,66.8\" fill=\"none\" stroke=\"black\" stroke-linejoin=\"bevel\" stroke-width=\"12\" /><path d=\"M150.8,41.4 L150.8,53.4 Q150.8,63.4 160.8,63.4 L171.8,63.4\" fill=\"none\" stroke=\"black\" stroke-linejoin=\"bevel\" stroke-width=\"12\" /><path d=\"M91.4,72.6 L188.6,72.6\" fill=\"none\" stroke=\"black\" stroke-linejoin=\"bevel\" stroke-width=\"12\" /><path d=\"M22.0,91.46000000000001 L184.0,91.46000000000001\" fill=\"none\" stroke=\"black\" stroke-linejoin=\"bevel\" stroke-width=\"12\" /><path d=\"M152.0,85.46000000000001 L152.0,177.94 Q152.0,187.94 132.0,182.94\" fill=\"none\" stroke=\"black\" stroke-linejoin=\"bevel\" stroke-width=\"12\" /><path d=\"M32.75,113.6437 L133.25,113.6437\" fill=\"none\" stroke=\"black\" stroke-linejoin=\"bevel\" stroke-width=\"12\" /><path d=\"M44.14,133.3417 L121.86,133.3417\" fill=\"none\" stroke=\"black\" stroke-linejoin=\"bevel\" stroke-width=\"12\" /><path d=\"M25.380000000000006,154.3529 L140.62,154.3529\" fill=\"none\" stroke=\"black\" stroke-linejoin=\"bevel\" stroke-width=\"12\" /></svg>"
      ],
      "text/plain": [
       "<svgwrite.drawing.Drawing at 0x7f2439d44a90>"
      ]
     },
     "metadata": {},
     "output_type": "display_data"
    },
    {
     "name": "stdout",
     "output_type": "stream",
     "text": [
      "外上五九\n"
     ]
    },
    {
     "data": {
      "image/svg+xml": [
       "<svg baseProfile=\"full\" height=\"200\" version=\"1.1\" width=\"200\" xmlns=\"http://www.w3.org/2000/svg\" xmlns:ev=\"http://www.w3.org/2001/xml-events\" xmlns:xlink=\"http://www.w3.org/1999/xlink\"><defs /><path d=\"M12.0,40.8 L188.0,40.8\" fill=\"none\" stroke=\"black\" stroke-linejoin=\"bevel\" stroke-width=\"12\" /><path d=\"M71.0,16.0 L71.0,64.0\" fill=\"none\" stroke=\"black\" stroke-linejoin=\"bevel\" stroke-width=\"12\" /><path d=\"M129.0,16.0 L129.0,64.0\" fill=\"none\" stroke=\"black\" stroke-linejoin=\"bevel\" stroke-width=\"12\" /><path d=\"M20.0,96.7396 L180.0,96.7396\" fill=\"none\" stroke=\"black\" stroke-linejoin=\"bevel\" stroke-width=\"12\" /><path d=\"M100.0,77.6312 L100.0,137.4488\" fill=\"none\" stroke=\"black\" stroke-linejoin=\"bevel\" stroke-width=\"12\" /><path d=\"M95.0,96.7396 Q64.0,129.1408 14.0,143.2644\" fill=\"none\" stroke=\"black\" stroke-linejoin=\"bevel\" stroke-width=\"12\" /><path d=\"M105.0,96.7396 Q136.0,126.64840000000001 178.0,137.4488\" fill=\"none\" stroke=\"black\" stroke-linejoin=\"bevel\" stroke-width=\"12\" /><path d=\"M79.0,164.67425000000003 Q66.0,179.31375 17.0,192.9985\" fill=\"none\" stroke=\"black\" stroke-linejoin=\"bevel\" stroke-width=\"12\" /><path d=\"M118.0,164.03775000000002 Q145.0,173.267 168.0,190.77075\" fill=\"none\" stroke=\"black\" stroke-linejoin=\"bevel\" stroke-width=\"12\" /><path d=\"M80.0,141.442 Q104.0,145.89749999999998 113.0,152.899\" fill=\"none\" stroke=\"black\" stroke-linejoin=\"bevel\" stroke-width=\"12\" /><path d=\"M18.0,157.99099999999999 L183.0,157.99099999999999\" fill=\"none\" stroke=\"black\" stroke-linejoin=\"bevel\" stroke-width=\"12\" /></svg>"
      ],
      "text/plain": [
       "<svgwrite.drawing.Drawing at 0x7f2439d25e90>"
      ]
     },
     "metadata": {},
     "output_type": "display_data"
    },
    {
     "data": {
      "image/svg+xml": [
       "<svg baseProfile=\"full\" height=\"200\" version=\"1.1\" width=\"200\" xmlns=\"http://www.w3.org/2000/svg\" xmlns:ev=\"http://www.w3.org/2001/xml-events\" xmlns:xlink=\"http://www.w3.org/1999/xlink\"><defs /><path d=\"M49.0,12.0 L49.0,68.0\" fill=\"none\" stroke=\"black\" stroke-linejoin=\"bevel\" stroke-width=\"12\" /><path d=\"M43.0,18.0 L156.0,18.0\" fill=\"none\" stroke=\"black\" stroke-linejoin=\"bevel\" stroke-width=\"12\" /><path d=\"M150.0,12.0 L150.0,68.0\" fill=\"none\" stroke=\"black\" stroke-linejoin=\"bevel\" stroke-width=\"12\" /><path d=\"M43.0,39.0 L156.0,39.0\" fill=\"none\" stroke=\"black\" stroke-linejoin=\"bevel\" stroke-width=\"12\" /><path d=\"M43.0,59.0 L156.0,59.0\" fill=\"none\" stroke=\"black\" stroke-linejoin=\"bevel\" stroke-width=\"12\" /><path d=\"M14.0,76.0 L188.0,76.0\" fill=\"none\" stroke=\"black\" stroke-linejoin=\"bevel\" stroke-width=\"12\" /><path d=\"M100.0,70.0 L100.0,183.0\" fill=\"none\" stroke=\"black\" stroke-linejoin=\"bevel\" stroke-width=\"12\" /><path d=\"M18.48,92.84 L45.04,92.84\" fill=\"none\" stroke=\"black\" stroke-linejoin=\"bevel\" stroke-width=\"12\" /><path d=\"M30.64,80.968 Q31.6,107.044 18.48,117.856\" fill=\"none\" stroke=\"black\" stroke-linejoin=\"bevel\" stroke-width=\"12\" /><path d=\"M30.0,95.172 Q38.0,101.744 41.84,111.49600000000001\" fill=\"none\" stroke=\"black\" stroke-linejoin=\"bevel\" stroke-width=\"12\" /><path d=\"M51.28,84.784 L88.72,84.784\" fill=\"none\" stroke=\"black\" stroke-linejoin=\"bevel\" stroke-width=\"12\" /><path d=\"M69.61751180729713,78.92597447001769 L60.542488192702855,119.8980255299823\" fill=\"none\" stroke=\"black\" stroke-linejoin=\"bevel\" stroke-width=\"12\" /><path d=\"M53.68,97.292 L85.6,97.292\" fill=\"none\" stroke=\"black\" stroke-linejoin=\"bevel\" stroke-width=\"12\" /><path d=\"M79.6,91.292 L79.6,120.03999999999999\" fill=\"none\" stroke=\"black\" stroke-linejoin=\"bevel\" stroke-width=\"12\" /><path d=\"M49.36,114.03999999999999 L90.64,114.03999999999999\" fill=\"none\" stroke=\"black\" stroke-linejoin=\"bevel\" stroke-width=\"12\" /><path d=\"M24.0,126.8289 L84.0,126.8289\" fill=\"none\" stroke=\"black\" stroke-linejoin=\"bevel\" stroke-width=\"12\" /><path d=\"M30.8,148.1349 L77.2,148.1349\" fill=\"none\" stroke=\"black\" stroke-linejoin=\"bevel\" stroke-width=\"12\" /><path d=\"M19.6,170.86129999999997 L88.4,170.86129999999997\" fill=\"none\" stroke=\"black\" stroke-linejoin=\"bevel\" stroke-width=\"12\" /><path d=\"M109.92,98.80799999999999 L182.07999999999998,98.80799999999999\" fill=\"none\" stroke=\"black\" stroke-linejoin=\"bevel\" stroke-width=\"12\" /><path d=\"M134.11,86.16 L134.11,110.64\" fill=\"none\" stroke=\"black\" stroke-linejoin=\"bevel\" stroke-width=\"12\" /><path d=\"M157.89,86.16 L157.89,110.64\" fill=\"none\" stroke=\"black\" stroke-linejoin=\"bevel\" stroke-width=\"12\" /><path d=\"M137.39,142.0713 Q132.06,157.7895 111.97,172.4826\" fill=\"none\" stroke=\"black\" stroke-linejoin=\"bevel\" stroke-width=\"12\" /><path d=\"M153.38,141.3879 Q164.45,151.2972 173.88,170.0907\" fill=\"none\" stroke=\"black\" stroke-linejoin=\"bevel\" stroke-width=\"12\" /><path d=\"M137.8,117.12719999999999 Q147.64,121.911 151.32999999999998,129.4284\" fill=\"none\" stroke=\"black\" stroke-linejoin=\"bevel\" stroke-width=\"12\" /><path d=\"M112.38,134.8956 L180.03,134.8956\" fill=\"none\" stroke=\"black\" stroke-linejoin=\"bevel\" stroke-width=\"12\" /></svg>"
      ],
      "text/plain": [
       "<svgwrite.drawing.Drawing at 0x7f2439d26f50>"
      ]
     },
     "metadata": {},
     "output_type": "display_data"
    },
    {
     "name": "stdout",
     "output_type": "stream",
     "text": [
      "从「再作\n",
      "「\n"
     ]
    },
    {
     "data": {
      "image/svg+xml": [
       "<svg baseProfile=\"full\" height=\"200\" version=\"1.1\" width=\"200\" xmlns=\"http://www.w3.org/2000/svg\" xmlns:ev=\"http://www.w3.org/2001/xml-events\" xmlns:xlink=\"http://www.w3.org/1999/xlink\"><defs /><path d=\"M24.0,6.0 L24.0,40.2\" fill=\"none\" stroke=\"black\" stroke-linejoin=\"bevel\" stroke-width=\"12\" /><path d=\"M18.0,12.0 L75.6,12.0\" fill=\"none\" stroke=\"black\" stroke-linejoin=\"bevel\" stroke-width=\"12\" /><path d=\"M69.6,6.0 L69.6,40.2\" fill=\"none\" stroke=\"black\" stroke-linejoin=\"bevel\" stroke-width=\"12\" /><path d=\"M18.0,31.2 L75.6,31.2\" fill=\"none\" stroke=\"black\" stroke-linejoin=\"bevel\" stroke-width=\"12\" /><path d=\"M48.0,25.2 L48.0,70.8\" fill=\"none\" stroke=\"black\" stroke-linejoin=\"bevel\" stroke-width=\"12\" /><path d=\"M42.0,47.6 L79.2,47.6\" fill=\"none\" stroke=\"black\" stroke-linejoin=\"bevel\" stroke-width=\"12\" /><path d=\"M24.0,40.8 L24.0,68.4\" fill=\"none\" stroke=\"black\" stroke-linejoin=\"bevel\" stroke-width=\"12\" /><path d=\"M12.8,70.0 Q48.0,66.0 80.8,60.0\" fill=\"none\" stroke=\"black\" stroke-linejoin=\"bevel\" stroke-width=\"12\" /><path d=\"M93.2,6.4 L186.8,6.4\" fill=\"none\" stroke=\"black\" stroke-linejoin=\"bevel\" stroke-width=\"12\" /><path d=\"M138.83720341258535,1.225505297076829 L116.56279658741465,39.17449470292317\" fill=\"none\" stroke=\"black\" stroke-linejoin=\"bevel\" stroke-width=\"12\" /><path d=\"M99.2,18.2 L170.0,18.2\" fill=\"none\" stroke=\"black\" stroke-linejoin=\"bevel\" stroke-width=\"12\" /><path d=\"M164.0,12.2 L164.0,40.0\" fill=\"none\" stroke=\"black\" stroke-linejoin=\"bevel\" stroke-width=\"12\" /><path d=\"M88.4,34.0 L191.6,34.0\" fill=\"none\" stroke=\"black\" stroke-linejoin=\"bevel\" stroke-width=\"12\" /><path d=\"M127.4,57.8 Q119.6,67.0 90.2,75.6\" fill=\"none\" stroke=\"black\" stroke-linejoin=\"bevel\" stroke-width=\"12\" /><path d=\"M150.8,57.4 Q167.0,63.2 180.8,74.2\" fill=\"none\" stroke=\"black\" stroke-linejoin=\"bevel\" stroke-width=\"12\" /><path d=\"M128.0,43.2 Q142.4,46.0 147.8,50.4\" fill=\"none\" stroke=\"black\" stroke-linejoin=\"bevel\" stroke-width=\"12\" /><path d=\"M90.8,53.6 L189.8,53.6\" fill=\"none\" stroke=\"black\" stroke-linejoin=\"bevel\" stroke-width=\"12\" /><path d=\"M22.0,91.46000000000001 L184.0,91.46000000000001\" fill=\"none\" stroke=\"black\" stroke-linejoin=\"bevel\" stroke-width=\"12\" /><path d=\"M152.0,85.46000000000001 L152.0,177.94 Q152.0,187.94 132.0,182.94\" fill=\"none\" stroke=\"black\" stroke-linejoin=\"bevel\" stroke-width=\"12\" /></svg>"
      ],
      "text/plain": [
       "<svgwrite.drawing.Drawing at 0x7f2439d54e50>"
      ]
     },
     "metadata": {},
     "output_type": "display_data"
    },
    {
     "data": {
      "image/svg+xml": [
       "<svg baseProfile=\"full\" height=\"200\" version=\"1.1\" width=\"200\" xmlns=\"http://www.w3.org/2000/svg\" xmlns:ev=\"http://www.w3.org/2001/xml-events\" xmlns:xlink=\"http://www.w3.org/1999/xlink\"><defs /><path d=\"M11.2,28.0 L77.6,28.0\" fill=\"none\" stroke=\"black\" stroke-linejoin=\"bevel\" stroke-width=\"12\" /><path d=\"M41.6,5.6 Q44.0,54.8 11.2,75.2\" fill=\"none\" stroke=\"black\" stroke-linejoin=\"bevel\" stroke-width=\"12\" /><path d=\"M40.0,32.4 Q60.0,44.8 69.6,63.2\" fill=\"none\" stroke=\"black\" stroke-linejoin=\"bevel\" stroke-width=\"12\" /><path d=\"M93.2,12.8 L186.8,12.8\" fill=\"none\" stroke=\"black\" stroke-linejoin=\"bevel\" stroke-width=\"12\" /><path d=\"M137.4896096624626,7.042811520497788 L117.9103903375374,73.75718847950222\" fill=\"none\" stroke=\"black\" stroke-linejoin=\"bevel\" stroke-width=\"12\" /><path d=\"M99.2,36.4 L170.0,36.4\" fill=\"none\" stroke=\"black\" stroke-linejoin=\"bevel\" stroke-width=\"12\" /><path d=\"M164.0,30.4 L164.0,74.0\" fill=\"none\" stroke=\"black\" stroke-linejoin=\"bevel\" stroke-width=\"12\" /><path d=\"M88.4,68.0 L191.6,68.0\" fill=\"none\" stroke=\"black\" stroke-linejoin=\"bevel\" stroke-width=\"12\" /><path d=\"M28.0,84.76 L188.0,84.76\" fill=\"none\" stroke=\"black\" stroke-linejoin=\"bevel\" stroke-width=\"12\" /><path d=\"M34.0,78.76 L34.0,126.97 Q34.0,175.20999999999998 12.0,192.63\" fill=\"none\" stroke=\"black\" stroke-linejoin=\"bevel\" stroke-width=\"12\" /><path d=\"M50.36,113.18642500000001 L177.64,104.24527499999999\" fill=\"none\" stroke=\"black\" stroke-linejoin=\"bevel\" stroke-width=\"12\" /><path d=\"M99.2,91.096525 L99.2,121.068725 Q99.2,131.068725 109.2,131.068725 L164.32,131.068725\" fill=\"none\" stroke=\"black\" stroke-linejoin=\"bevel\" stroke-width=\"12\" /><path d=\"M98.46,162.09977500000002 Q88.84,174.19662499999998 52.58,185.50455\" fill=\"none\" stroke=\"black\" stroke-linejoin=\"bevel\" stroke-width=\"12\" /><path d=\"M127.32,161.573825 Q147.3,169.20010000000002 164.32,183.663725\" fill=\"none\" stroke=\"black\" stroke-linejoin=\"bevel\" stroke-width=\"12\" /><path d=\"M99.2,142.9026 Q116.96,146.58425 123.62,152.3697\" fill=\"none\" stroke=\"black\" stroke-linejoin=\"bevel\" stroke-width=\"12\" /><path d=\"M53.32,156.57729999999998 L175.42,156.57729999999998\" fill=\"none\" stroke=\"black\" stroke-linejoin=\"bevel\" stroke-width=\"12\" /></svg>"
      ],
      "text/plain": [
       "<svgwrite.drawing.Drawing at 0x7f2439d1c650>"
      ]
     },
     "metadata": {},
     "output_type": "display_data"
    },
    {
     "data": {
      "image/svg+xml": [
       "<svg baseProfile=\"full\" height=\"200\" version=\"1.1\" width=\"200\" xmlns=\"http://www.w3.org/2000/svg\" xmlns:ev=\"http://www.w3.org/2001/xml-events\" xmlns:xlink=\"http://www.w3.org/1999/xlink\"><defs /><path d=\"M24.0,6.0 L24.0,40.2\" fill=\"none\" stroke=\"black\" stroke-linejoin=\"bevel\" stroke-width=\"12\" /><path d=\"M18.0,12.0 L75.6,12.0\" fill=\"none\" stroke=\"black\" stroke-linejoin=\"bevel\" stroke-width=\"12\" /><path d=\"M69.6,6.0 L69.6,40.2\" fill=\"none\" stroke=\"black\" stroke-linejoin=\"bevel\" stroke-width=\"12\" /><path d=\"M18.0,31.2 L75.6,31.2\" fill=\"none\" stroke=\"black\" stroke-linejoin=\"bevel\" stroke-width=\"12\" /><path d=\"M48.0,25.2 L48.0,70.8\" fill=\"none\" stroke=\"black\" stroke-linejoin=\"bevel\" stroke-width=\"12\" /><path d=\"M42.0,47.6 L79.2,47.6\" fill=\"none\" stroke=\"black\" stroke-linejoin=\"bevel\" stroke-width=\"12\" /><path d=\"M24.0,40.8 L24.0,68.4\" fill=\"none\" stroke=\"black\" stroke-linejoin=\"bevel\" stroke-width=\"12\" /><path d=\"M12.8,70.0 Q48.0,66.0 80.8,60.0\" fill=\"none\" stroke=\"black\" stroke-linejoin=\"bevel\" stroke-width=\"12\" /><path d=\"M93.2,6.4 L186.8,6.4\" fill=\"none\" stroke=\"black\" stroke-linejoin=\"bevel\" stroke-width=\"12\" /><path d=\"M138.83720341258535,1.225505297076829 L116.56279658741465,39.17449470292317\" fill=\"none\" stroke=\"black\" stroke-linejoin=\"bevel\" stroke-width=\"12\" /><path d=\"M99.2,18.2 L170.0,18.2\" fill=\"none\" stroke=\"black\" stroke-linejoin=\"bevel\" stroke-width=\"12\" /><path d=\"M164.0,12.2 L164.0,40.0\" fill=\"none\" stroke=\"black\" stroke-linejoin=\"bevel\" stroke-width=\"12\" /><path d=\"M88.4,34.0 L191.6,34.0\" fill=\"none\" stroke=\"black\" stroke-linejoin=\"bevel\" stroke-width=\"12\" /><path d=\"M127.4,57.8 Q119.6,67.0 90.2,75.6\" fill=\"none\" stroke=\"black\" stroke-linejoin=\"bevel\" stroke-width=\"12\" /><path d=\"M150.8,57.4 Q167.0,63.2 180.8,74.2\" fill=\"none\" stroke=\"black\" stroke-linejoin=\"bevel\" stroke-width=\"12\" /><path d=\"M128.0,43.2 Q142.4,46.0 147.8,50.4\" fill=\"none\" stroke=\"black\" stroke-linejoin=\"bevel\" stroke-width=\"12\" /><path d=\"M90.8,53.6 L189.8,53.6\" fill=\"none\" stroke=\"black\" stroke-linejoin=\"bevel\" stroke-width=\"12\" /><path d=\"M168.0,78.11359999999999 Q117.0,87.3462 22.0,92.3176\" fill=\"none\" stroke=\"black\" stroke-linejoin=\"bevel\" stroke-width=\"12\" /><path d=\"M35.0,97.9992 Q53.0,107.94200000000001 59.0,122.14599999999999\" fill=\"none\" stroke=\"black\" stroke-linejoin=\"bevel\" stroke-width=\"12\" /><path d=\"M84.0,94.4482 Q101.0,104.39099999999999 105.0,116.4644\" fill=\"none\" stroke=\"black\" stroke-linejoin=\"bevel\" stroke-width=\"12\" /><path d=\"M159.0,90.187 Q153.0,98.7094 134.0,124.2766\" fill=\"none\" stroke=\"black\" stroke-linejoin=\"bevel\" stroke-width=\"12\" /><path d=\"M29.0,135.01 L159.0,135.01\" fill=\"none\" stroke=\"black\" stroke-linejoin=\"bevel\" stroke-width=\"12\" /><path d=\"M153.0,129.01 L153.0,167.45999999999998\" fill=\"none\" stroke=\"black\" stroke-linejoin=\"bevel\" stroke-width=\"12\" /><path d=\"M35.0,129.01 L35.0,175.26 Q35.0,185.26 45.0,185.26 L182.0,185.26\" fill=\"none\" stroke=\"black\" stroke-linejoin=\"bevel\" stroke-width=\"12\" /><path d=\"M29.0,158.45999999999998 L159.0,158.45999999999998\" fill=\"none\" stroke=\"black\" stroke-linejoin=\"bevel\" stroke-width=\"12\" /></svg>"
      ],
      "text/plain": [
       "<svgwrite.drawing.Drawing at 0x7f2439d1f9d0>"
      ]
     },
     "metadata": {},
     "output_type": "display_data"
    },
    {
     "data": {
      "image/svg+xml": [
       "<svg baseProfile=\"full\" height=\"200\" version=\"1.1\" width=\"200\" xmlns=\"http://www.w3.org/2000/svg\" xmlns:ev=\"http://www.w3.org/2001/xml-events\" xmlns:xlink=\"http://www.w3.org/1999/xlink\"><defs /><path d=\"M12.0,40.8 L188.0,40.8\" fill=\"none\" stroke=\"black\" stroke-linejoin=\"bevel\" stroke-width=\"12\" /><path d=\"M71.0,16.0 L71.0,64.0\" fill=\"none\" stroke=\"black\" stroke-linejoin=\"bevel\" stroke-width=\"12\" /><path d=\"M129.0,16.0 L129.0,64.0\" fill=\"none\" stroke=\"black\" stroke-linejoin=\"bevel\" stroke-width=\"12\" /><path d=\"M22.0,91.46000000000001 L184.0,91.46000000000001\" fill=\"none\" stroke=\"black\" stroke-linejoin=\"bevel\" stroke-width=\"12\" /><path d=\"M152.0,85.46000000000001 L152.0,177.94 Q152.0,187.94 132.0,182.94\" fill=\"none\" stroke=\"black\" stroke-linejoin=\"bevel\" stroke-width=\"12\" /><path d=\"M32.75,113.6437 L133.25,113.6437\" fill=\"none\" stroke=\"black\" stroke-linejoin=\"bevel\" stroke-width=\"12\" /><path d=\"M44.14,133.3417 L121.86,133.3417\" fill=\"none\" stroke=\"black\" stroke-linejoin=\"bevel\" stroke-width=\"12\" /><path d=\"M25.380000000000006,154.3529 L140.62,154.3529\" fill=\"none\" stroke=\"black\" stroke-linejoin=\"bevel\" stroke-width=\"12\" /></svg>"
      ],
      "text/plain": [
       "<svgwrite.drawing.Drawing at 0x7f2439d11a10>"
      ]
     },
     "metadata": {},
     "output_type": "display_data"
    },
    {
     "data": {
      "image/svg+xml": [
       "<svg baseProfile=\"full\" height=\"200\" version=\"1.1\" width=\"200\" xmlns=\"http://www.w3.org/2000/svg\" xmlns:ev=\"http://www.w3.org/2001/xml-events\" xmlns:xlink=\"http://www.w3.org/1999/xlink\"><defs /><path d=\"M24.0,6.0 L24.0,40.2\" fill=\"none\" stroke=\"black\" stroke-linejoin=\"bevel\" stroke-width=\"12\" /><path d=\"M18.0,12.0 L75.6,12.0\" fill=\"none\" stroke=\"black\" stroke-linejoin=\"bevel\" stroke-width=\"12\" /><path d=\"M69.6,6.0 L69.6,40.2\" fill=\"none\" stroke=\"black\" stroke-linejoin=\"bevel\" stroke-width=\"12\" /><path d=\"M18.0,31.2 L75.6,31.2\" fill=\"none\" stroke=\"black\" stroke-linejoin=\"bevel\" stroke-width=\"12\" /><path d=\"M48.0,25.2 L48.0,70.8\" fill=\"none\" stroke=\"black\" stroke-linejoin=\"bevel\" stroke-width=\"12\" /><path d=\"M42.0,47.6 L79.2,47.6\" fill=\"none\" stroke=\"black\" stroke-linejoin=\"bevel\" stroke-width=\"12\" /><path d=\"M24.0,40.8 L24.0,68.4\" fill=\"none\" stroke=\"black\" stroke-linejoin=\"bevel\" stroke-width=\"12\" /><path d=\"M12.8,70.0 Q48.0,66.0 80.8,60.0\" fill=\"none\" stroke=\"black\" stroke-linejoin=\"bevel\" stroke-width=\"12\" /><path d=\"M93.2,6.4 L186.8,6.4\" fill=\"none\" stroke=\"black\" stroke-linejoin=\"bevel\" stroke-width=\"12\" /><path d=\"M138.83720341258535,1.225505297076829 L116.56279658741465,39.17449470292317\" fill=\"none\" stroke=\"black\" stroke-linejoin=\"bevel\" stroke-width=\"12\" /><path d=\"M99.2,18.2 L170.0,18.2\" fill=\"none\" stroke=\"black\" stroke-linejoin=\"bevel\" stroke-width=\"12\" /><path d=\"M164.0,12.2 L164.0,40.0\" fill=\"none\" stroke=\"black\" stroke-linejoin=\"bevel\" stroke-width=\"12\" /><path d=\"M88.4,34.0 L191.6,34.0\" fill=\"none\" stroke=\"black\" stroke-linejoin=\"bevel\" stroke-width=\"12\" /><path d=\"M127.4,57.8 Q119.6,67.0 90.2,75.6\" fill=\"none\" stroke=\"black\" stroke-linejoin=\"bevel\" stroke-width=\"12\" /><path d=\"M150.8,57.4 Q167.0,63.2 180.8,74.2\" fill=\"none\" stroke=\"black\" stroke-linejoin=\"bevel\" stroke-width=\"12\" /><path d=\"M128.0,43.2 Q142.4,46.0 147.8,50.4\" fill=\"none\" stroke=\"black\" stroke-linejoin=\"bevel\" stroke-width=\"12\" /><path d=\"M90.8,53.6 L189.8,53.6\" fill=\"none\" stroke=\"black\" stroke-linejoin=\"bevel\" stroke-width=\"12\" /><path d=\"M20.0,96.7396 L180.0,96.7396\" fill=\"none\" stroke=\"black\" stroke-linejoin=\"bevel\" stroke-width=\"12\" /><path d=\"M100.0,77.6312 L100.0,137.4488\" fill=\"none\" stroke=\"black\" stroke-linejoin=\"bevel\" stroke-width=\"12\" /><path d=\"M95.0,96.7396 Q64.0,129.1408 14.0,143.2644\" fill=\"none\" stroke=\"black\" stroke-linejoin=\"bevel\" stroke-width=\"12\" /><path d=\"M105.0,96.7396 Q136.0,126.64840000000001 178.0,137.4488\" fill=\"none\" stroke=\"black\" stroke-linejoin=\"bevel\" stroke-width=\"12\" /><path d=\"M79.0,164.67425000000003 Q66.0,179.31375 17.0,192.9985\" fill=\"none\" stroke=\"black\" stroke-linejoin=\"bevel\" stroke-width=\"12\" /><path d=\"M118.0,164.03775000000002 Q145.0,173.267 168.0,190.77075\" fill=\"none\" stroke=\"black\" stroke-linejoin=\"bevel\" stroke-width=\"12\" /><path d=\"M80.0,141.442 Q104.0,145.89749999999998 113.0,152.899\" fill=\"none\" stroke=\"black\" stroke-linejoin=\"bevel\" stroke-width=\"12\" /><path d=\"M18.0,157.99099999999999 L183.0,157.99099999999999\" fill=\"none\" stroke=\"black\" stroke-linejoin=\"bevel\" stroke-width=\"12\" /></svg>"
      ],
      "text/plain": [
       "<svgwrite.drawing.Drawing at 0x7f2439d16490>"
      ]
     },
     "metadata": {},
     "output_type": "display_data"
    },
    {
     "data": {
      "image/svg+xml": [
       "<svg baseProfile=\"full\" height=\"200\" version=\"1.1\" width=\"200\" xmlns=\"http://www.w3.org/2000/svg\" xmlns:ev=\"http://www.w3.org/2001/xml-events\" xmlns:xlink=\"http://www.w3.org/1999/xlink\"><defs /><path d=\"M49.0,12.0 L49.0,68.0\" fill=\"none\" stroke=\"black\" stroke-linejoin=\"bevel\" stroke-width=\"12\" /><path d=\"M43.0,18.0 L156.0,18.0\" fill=\"none\" stroke=\"black\" stroke-linejoin=\"bevel\" stroke-width=\"12\" /><path d=\"M150.0,12.0 L150.0,68.0\" fill=\"none\" stroke=\"black\" stroke-linejoin=\"bevel\" stroke-width=\"12\" /><path d=\"M43.0,39.0 L156.0,39.0\" fill=\"none\" stroke=\"black\" stroke-linejoin=\"bevel\" stroke-width=\"12\" /><path d=\"M43.0,59.0 L156.0,59.0\" fill=\"none\" stroke=\"black\" stroke-linejoin=\"bevel\" stroke-width=\"12\" /><path d=\"M14.0,76.0 L188.0,76.0\" fill=\"none\" stroke=\"black\" stroke-linejoin=\"bevel\" stroke-width=\"12\" /><path d=\"M100.0,70.0 L100.0,183.0\" fill=\"none\" stroke=\"black\" stroke-linejoin=\"bevel\" stroke-width=\"12\" /><path d=\"M23.6,78.36 L23.6,103.536\" fill=\"none\" stroke=\"black\" stroke-linejoin=\"bevel\" stroke-width=\"12\" /><path d=\"M17.6,84.36 L47.84,84.36\" fill=\"none\" stroke=\"black\" stroke-linejoin=\"bevel\" stroke-width=\"12\" /><path d=\"M41.84,78.36 L41.84,103.536\" fill=\"none\" stroke=\"black\" stroke-linejoin=\"bevel\" stroke-width=\"12\" /><path d=\"M17.6,94.536 L47.84,94.536\" fill=\"none\" stroke=\"black\" stroke-linejoin=\"bevel\" stroke-width=\"12\" /><path d=\"M33.2,88.536 L33.2,118.344\" fill=\"none\" stroke=\"black\" stroke-linejoin=\"bevel\" stroke-width=\"12\" /><path d=\"M27.200000000000003,103.22800000000001 L45.68,103.22800000000001\" fill=\"none\" stroke=\"black\" stroke-linejoin=\"bevel\" stroke-width=\"12\" /><path d=\"M23.6,99.624 L23.6,114.25200000000001 Q33.2,112.97999999999999 46.32,109.8\" fill=\"none\" stroke=\"black\" stroke-linejoin=\"bevel\" stroke-width=\"12\" /><path d=\"M51.28,81.392 L88.72,81.392\" fill=\"none\" stroke=\"black\" stroke-linejoin=\"bevel\" stroke-width=\"12\" /><path d=\"M70.75014816761302,75.90616552533281 L59.40985183238698,101.50583447466718\" fill=\"none\" stroke=\"black\" stroke-linejoin=\"bevel\" stroke-width=\"12\" /><path d=\"M53.68,87.646 L85.6,87.646\" fill=\"none\" stroke=\"black\" stroke-linejoin=\"bevel\" stroke-width=\"12\" /><path d=\"M79.6,81.646 L79.6,102.02\" fill=\"none\" stroke=\"black\" stroke-linejoin=\"bevel\" stroke-width=\"12\" /><path d=\"M49.36,96.02 L90.64,96.02\" fill=\"none\" stroke=\"black\" stroke-linejoin=\"bevel\" stroke-width=\"12\" /><path d=\"M64.96000000000001,108.634 Q61.84,113.50999999999999 50.08,118.068\" fill=\"none\" stroke=\"black\" stroke-linejoin=\"bevel\" stroke-width=\"12\" /><path d=\"M74.32,108.422 Q80.8,111.49600000000001 86.32,117.326\" fill=\"none\" stroke=\"black\" stroke-linejoin=\"bevel\" stroke-width=\"12\" /><path d=\"M65.2,100.896 Q70.96000000000001,102.38 73.12,104.712\" fill=\"none\" stroke=\"black\" stroke-linejoin=\"bevel\" stroke-width=\"12\" /><path d=\"M50.32,106.408 L89.92,106.408\" fill=\"none\" stroke=\"black\" stroke-linejoin=\"bevel\" stroke-width=\"12\" /><path d=\"M45.6,144.5839 Q40.4,160.9185 20.8,176.18779999999998\" fill=\"none\" stroke=\"black\" stroke-linejoin=\"bevel\" stroke-width=\"12\" /><path d=\"M61.2,143.87369999999999 Q72.0,154.1716 81.2,173.70209999999997\" fill=\"none\" stroke=\"black\" stroke-linejoin=\"bevel\" stroke-width=\"12\" /><path d=\"M46.0,118.66159999999999 Q55.6,123.633 59.2,131.4452\" fill=\"none\" stroke=\"black\" stroke-linejoin=\"bevel\" stroke-width=\"12\" /><path d=\"M21.2,137.1268 L87.2,137.1268\" fill=\"none\" stroke=\"black\" stroke-linejoin=\"bevel\" stroke-width=\"12\" /><path d=\"M109.92,98.80799999999999 L182.07999999999998,98.80799999999999\" fill=\"none\" stroke=\"black\" stroke-linejoin=\"bevel\" stroke-width=\"12\" /><path d=\"M134.11,86.16 L134.11,110.64\" fill=\"none\" stroke=\"black\" stroke-linejoin=\"bevel\" stroke-width=\"12\" /><path d=\"M157.89,86.16 L157.89,110.64\" fill=\"none\" stroke=\"black\" stroke-linejoin=\"bevel\" stroke-width=\"12\" /><path d=\"M115.25,124.9863 L176.75,124.9863\" fill=\"none\" stroke=\"black\" stroke-linejoin=\"bevel\" stroke-width=\"12\" /><path d=\"M122.22,145.48829999999998 L169.78,145.48829999999998\" fill=\"none\" stroke=\"black\" stroke-linejoin=\"bevel\" stroke-width=\"12\" /><path d=\"M110.74,167.3571 L181.26,167.3571\" fill=\"none\" stroke=\"black\" stroke-linejoin=\"bevel\" stroke-width=\"12\" /></svg>"
      ],
      "text/plain": [
       "<svgwrite.drawing.Drawing at 0x7f2439d27310>"
      ]
     },
     "metadata": {},
     "output_type": "display_data"
    },
    {
     "name": "stdout",
     "output_type": "stream",
     "text": [
      "从「再作\n",
      "「\n"
     ]
    },
    {
     "data": {
      "image/svg+xml": [
       "<svg baseProfile=\"full\" height=\"200\" version=\"1.1\" width=\"200\" xmlns=\"http://www.w3.org/2000/svg\" xmlns:ev=\"http://www.w3.org/2001/xml-events\" xmlns:xlink=\"http://www.w3.org/1999/xlink\"><defs /><path d=\"M40.176,7.6 Q31.992000000000004,30.0 11.904000000000002,46.8\" fill=\"none\" stroke=\"black\" stroke-linejoin=\"bevel\" stroke-width=\"12\" /><path d=\"M26.736000000000004,21.6 L70.728,21.6\" fill=\"none\" stroke=\"black\" stroke-linejoin=\"bevel\" stroke-width=\"12\" /><path d=\"M64.728,21.6 Q55.056,61.2 11.16,74.8\" fill=\"none\" stroke=\"black\" stroke-linejoin=\"bevel\" stroke-width=\"12\" /><path d=\"M25.296,32.4 Q39.431999999999995,37.2 46.12799999999999,44.4\" fill=\"none\" stroke=\"black\" stroke-linejoin=\"bevel\" stroke-width=\"12\" /><path d=\"M88.4,36.8 L191.6,36.8\" fill=\"none\" stroke=\"black\" stroke-linejoin=\"bevel\" stroke-width=\"12\" /><path d=\"M140.0,6.8 L140.0,74.0\" fill=\"none\" stroke=\"black\" stroke-linejoin=\"bevel\" stroke-width=\"12\" /><path d=\"M22.0,91.46000000000001 L184.0,91.46000000000001\" fill=\"none\" stroke=\"black\" stroke-linejoin=\"bevel\" stroke-width=\"12\" /><path d=\"M152.0,85.46000000000001 L152.0,177.94 Q152.0,187.94 132.0,182.94\" fill=\"none\" stroke=\"black\" stroke-linejoin=\"bevel\" stroke-width=\"12\" /></svg>"
      ],
      "text/plain": [
       "<svgwrite.drawing.Drawing at 0x7f2439d44f90>"
      ]
     },
     "metadata": {},
     "output_type": "display_data"
    },
    {
     "data": {
      "image/svg+xml": [
       "<svg baseProfile=\"full\" height=\"200\" version=\"1.1\" width=\"200\" xmlns=\"http://www.w3.org/2000/svg\" xmlns:ev=\"http://www.w3.org/2001/xml-events\" xmlns:xlink=\"http://www.w3.org/1999/xlink\"><defs /><path d=\"M11.2,28.0 L77.6,28.0\" fill=\"none\" stroke=\"black\" stroke-linejoin=\"bevel\" stroke-width=\"12\" /><path d=\"M41.6,5.6 Q44.0,54.8 11.2,75.2\" fill=\"none\" stroke=\"black\" stroke-linejoin=\"bevel\" stroke-width=\"12\" /><path d=\"M40.0,32.4 Q60.0,44.8 69.6,63.2\" fill=\"none\" stroke=\"black\" stroke-linejoin=\"bevel\" stroke-width=\"12\" /><path d=\"M128.6,5.6 L128.6,24.4 Q128.6,61.6 88.4,73.6\" fill=\"none\" stroke=\"black\" stroke-linejoin=\"bevel\" stroke-width=\"12\" /><path d=\"M93.8,26.4 L165.2,26.4\" fill=\"none\" stroke=\"black\" stroke-linejoin=\"bevel\" stroke-width=\"12\" /><path d=\"M159.3746832022088,20.4025433908309 L158.291138670348,57.604238984718165 Q158.0,67.6 168.0,67.6 L189.2,67.6\" fill=\"none\" stroke=\"black\" stroke-linejoin=\"bevel\" stroke-width=\"12\" /><path d=\"M28.0,84.76 L188.0,84.76\" fill=\"none\" stroke=\"black\" stroke-linejoin=\"bevel\" stroke-width=\"12\" /><path d=\"M34.0,78.76 L34.0,126.97 Q34.0,175.20999999999998 12.0,192.63\" fill=\"none\" stroke=\"black\" stroke-linejoin=\"bevel\" stroke-width=\"12\" /><path d=\"M50.36,113.18642500000001 L177.64,104.24527499999999\" fill=\"none\" stroke=\"black\" stroke-linejoin=\"bevel\" stroke-width=\"12\" /><path d=\"M99.2,91.096525 L99.2,121.068725 Q99.2,131.068725 109.2,131.068725 L164.32,131.068725\" fill=\"none\" stroke=\"black\" stroke-linejoin=\"bevel\" stroke-width=\"12\" /><path d=\"M98.46,162.09977500000002 Q88.84,174.19662499999998 52.58,185.50455\" fill=\"none\" stroke=\"black\" stroke-linejoin=\"bevel\" stroke-width=\"12\" /><path d=\"M127.32,161.573825 Q147.3,169.20010000000002 164.32,183.663725\" fill=\"none\" stroke=\"black\" stroke-linejoin=\"bevel\" stroke-width=\"12\" /><path d=\"M99.2,142.9026 Q116.96,146.58425 123.62,152.3697\" fill=\"none\" stroke=\"black\" stroke-linejoin=\"bevel\" stroke-width=\"12\" /><path d=\"M53.32,156.57729999999998 L175.42,156.57729999999998\" fill=\"none\" stroke=\"black\" stroke-linejoin=\"bevel\" stroke-width=\"12\" /></svg>"
      ],
      "text/plain": [
       "<svgwrite.drawing.Drawing at 0x7f2439d2c090>"
      ]
     },
     "metadata": {},
     "output_type": "display_data"
    },
    {
     "data": {
      "image/svg+xml": [
       "<svg baseProfile=\"full\" height=\"200\" version=\"1.1\" width=\"200\" xmlns=\"http://www.w3.org/2000/svg\" xmlns:ev=\"http://www.w3.org/2001/xml-events\" xmlns:xlink=\"http://www.w3.org/1999/xlink\"><defs /><path d=\"M40.176,7.6 Q31.992000000000004,30.0 11.904000000000002,46.8\" fill=\"none\" stroke=\"black\" stroke-linejoin=\"bevel\" stroke-width=\"12\" /><path d=\"M26.736000000000004,21.6 L70.728,21.6\" fill=\"none\" stroke=\"black\" stroke-linejoin=\"bevel\" stroke-width=\"12\" /><path d=\"M64.728,21.6 Q55.056,61.2 11.16,74.8\" fill=\"none\" stroke=\"black\" stroke-linejoin=\"bevel\" stroke-width=\"12\" /><path d=\"M25.296,32.4 Q39.431999999999995,37.2 46.12799999999999,44.4\" fill=\"none\" stroke=\"black\" stroke-linejoin=\"bevel\" stroke-width=\"12\" /><path d=\"M88.4,36.8 L191.6,36.8\" fill=\"none\" stroke=\"black\" stroke-linejoin=\"bevel\" stroke-width=\"12\" /><path d=\"M140.0,6.8 L140.0,74.0\" fill=\"none\" stroke=\"black\" stroke-linejoin=\"bevel\" stroke-width=\"12\" /><path d=\"M168.0,78.11359999999999 Q117.0,87.3462 22.0,92.3176\" fill=\"none\" stroke=\"black\" stroke-linejoin=\"bevel\" stroke-width=\"12\" /><path d=\"M35.0,97.9992 Q53.0,107.94200000000001 59.0,122.14599999999999\" fill=\"none\" stroke=\"black\" stroke-linejoin=\"bevel\" stroke-width=\"12\" /><path d=\"M84.0,94.4482 Q101.0,104.39099999999999 105.0,116.4644\" fill=\"none\" stroke=\"black\" stroke-linejoin=\"bevel\" stroke-width=\"12\" /><path d=\"M159.0,90.187 Q153.0,98.7094 134.0,124.2766\" fill=\"none\" stroke=\"black\" stroke-linejoin=\"bevel\" stroke-width=\"12\" /><path d=\"M29.0,135.01 L159.0,135.01\" fill=\"none\" stroke=\"black\" stroke-linejoin=\"bevel\" stroke-width=\"12\" /><path d=\"M153.0,129.01 L153.0,167.45999999999998\" fill=\"none\" stroke=\"black\" stroke-linejoin=\"bevel\" stroke-width=\"12\" /><path d=\"M35.0,129.01 L35.0,175.26 Q35.0,185.26 45.0,185.26 L182.0,185.26\" fill=\"none\" stroke=\"black\" stroke-linejoin=\"bevel\" stroke-width=\"12\" /><path d=\"M29.0,158.45999999999998 L159.0,158.45999999999998\" fill=\"none\" stroke=\"black\" stroke-linejoin=\"bevel\" stroke-width=\"12\" /></svg>"
      ],
      "text/plain": [
       "<svgwrite.drawing.Drawing at 0x7f2439d2f450>"
      ]
     },
     "metadata": {},
     "output_type": "display_data"
    },
    {
     "data": {
      "image/svg+xml": [
       "<svg baseProfile=\"full\" height=\"200\" version=\"1.1\" width=\"200\" xmlns=\"http://www.w3.org/2000/svg\" xmlns:ev=\"http://www.w3.org/2001/xml-events\" xmlns:xlink=\"http://www.w3.org/1999/xlink\"><defs /><path d=\"M12.0,40.8 L188.0,40.8\" fill=\"none\" stroke=\"black\" stroke-linejoin=\"bevel\" stroke-width=\"12\" /><path d=\"M71.0,16.0 L71.0,64.0\" fill=\"none\" stroke=\"black\" stroke-linejoin=\"bevel\" stroke-width=\"12\" /><path d=\"M129.0,16.0 L129.0,64.0\" fill=\"none\" stroke=\"black\" stroke-linejoin=\"bevel\" stroke-width=\"12\" /><path d=\"M22.0,91.46000000000001 L184.0,91.46000000000001\" fill=\"none\" stroke=\"black\" stroke-linejoin=\"bevel\" stroke-width=\"12\" /><path d=\"M152.0,85.46000000000001 L152.0,177.94 Q152.0,187.94 132.0,182.94\" fill=\"none\" stroke=\"black\" stroke-linejoin=\"bevel\" stroke-width=\"12\" /><path d=\"M32.75,113.6437 L133.25,113.6437\" fill=\"none\" stroke=\"black\" stroke-linejoin=\"bevel\" stroke-width=\"12\" /><path d=\"M44.14,133.3417 L121.86,133.3417\" fill=\"none\" stroke=\"black\" stroke-linejoin=\"bevel\" stroke-width=\"12\" /><path d=\"M25.380000000000006,154.3529 L140.62,154.3529\" fill=\"none\" stroke=\"black\" stroke-linejoin=\"bevel\" stroke-width=\"12\" /></svg>"
      ],
      "text/plain": [
       "<svgwrite.drawing.Drawing at 0x7f2439d1e1d0>"
      ]
     },
     "metadata": {},
     "output_type": "display_data"
    },
    {
     "data": {
      "image/svg+xml": [
       "<svg baseProfile=\"full\" height=\"200\" version=\"1.1\" width=\"200\" xmlns=\"http://www.w3.org/2000/svg\" xmlns:ev=\"http://www.w3.org/2001/xml-events\" xmlns:xlink=\"http://www.w3.org/1999/xlink\"><defs /><path d=\"M40.176,7.6 Q31.992000000000004,30.0 11.904000000000002,46.8\" fill=\"none\" stroke=\"black\" stroke-linejoin=\"bevel\" stroke-width=\"12\" /><path d=\"M26.736000000000004,21.6 L70.728,21.6\" fill=\"none\" stroke=\"black\" stroke-linejoin=\"bevel\" stroke-width=\"12\" /><path d=\"M64.728,21.6 Q55.056,61.2 11.16,74.8\" fill=\"none\" stroke=\"black\" stroke-linejoin=\"bevel\" stroke-width=\"12\" /><path d=\"M25.296,32.4 Q39.431999999999995,37.2 46.12799999999999,44.4\" fill=\"none\" stroke=\"black\" stroke-linejoin=\"bevel\" stroke-width=\"12\" /><path d=\"M88.4,36.8 L191.6,36.8\" fill=\"none\" stroke=\"black\" stroke-linejoin=\"bevel\" stroke-width=\"12\" /><path d=\"M140.0,6.8 L140.0,74.0\" fill=\"none\" stroke=\"black\" stroke-linejoin=\"bevel\" stroke-width=\"12\" /><path d=\"M20.0,96.7396 L180.0,96.7396\" fill=\"none\" stroke=\"black\" stroke-linejoin=\"bevel\" stroke-width=\"12\" /><path d=\"M100.0,77.6312 L100.0,137.4488\" fill=\"none\" stroke=\"black\" stroke-linejoin=\"bevel\" stroke-width=\"12\" /><path d=\"M95.0,96.7396 Q64.0,129.1408 14.0,143.2644\" fill=\"none\" stroke=\"black\" stroke-linejoin=\"bevel\" stroke-width=\"12\" /><path d=\"M105.0,96.7396 Q136.0,126.64840000000001 178.0,137.4488\" fill=\"none\" stroke=\"black\" stroke-linejoin=\"bevel\" stroke-width=\"12\" /><path d=\"M79.0,164.67425000000003 Q66.0,179.31375 17.0,192.9985\" fill=\"none\" stroke=\"black\" stroke-linejoin=\"bevel\" stroke-width=\"12\" /><path d=\"M118.0,164.03775000000002 Q145.0,173.267 168.0,190.77075\" fill=\"none\" stroke=\"black\" stroke-linejoin=\"bevel\" stroke-width=\"12\" /><path d=\"M80.0,141.442 Q104.0,145.89749999999998 113.0,152.899\" fill=\"none\" stroke=\"black\" stroke-linejoin=\"bevel\" stroke-width=\"12\" /><path d=\"M18.0,157.99099999999999 L183.0,157.99099999999999\" fill=\"none\" stroke=\"black\" stroke-linejoin=\"bevel\" stroke-width=\"12\" /></svg>"
      ],
      "text/plain": [
       "<svgwrite.drawing.Drawing at 0x7f2439d47350>"
      ]
     },
     "metadata": {},
     "output_type": "display_data"
    },
    {
     "data": {
      "image/svg+xml": [
       "<svg baseProfile=\"full\" height=\"200\" version=\"1.1\" width=\"200\" xmlns=\"http://www.w3.org/2000/svg\" xmlns:ev=\"http://www.w3.org/2001/xml-events\" xmlns:xlink=\"http://www.w3.org/1999/xlink\"><defs /><path d=\"M49.0,12.0 L49.0,68.0\" fill=\"none\" stroke=\"black\" stroke-linejoin=\"bevel\" stroke-width=\"12\" /><path d=\"M43.0,18.0 L156.0,18.0\" fill=\"none\" stroke=\"black\" stroke-linejoin=\"bevel\" stroke-width=\"12\" /><path d=\"M150.0,12.0 L150.0,68.0\" fill=\"none\" stroke=\"black\" stroke-linejoin=\"bevel\" stroke-width=\"12\" /><path d=\"M43.0,39.0 L156.0,39.0\" fill=\"none\" stroke=\"black\" stroke-linejoin=\"bevel\" stroke-width=\"12\" /><path d=\"M43.0,59.0 L156.0,59.0\" fill=\"none\" stroke=\"black\" stroke-linejoin=\"bevel\" stroke-width=\"12\" /><path d=\"M14.0,76.0 L188.0,76.0\" fill=\"none\" stroke=\"black\" stroke-linejoin=\"bevel\" stroke-width=\"12\" /><path d=\"M100.0,70.0 L100.0,183.0\" fill=\"none\" stroke=\"black\" stroke-linejoin=\"bevel\" stroke-width=\"12\" /><path d=\"M30.0704,82.028 Q26.796800000000005,93.9 18.7616,102.804\" fill=\"none\" stroke=\"black\" stroke-linejoin=\"bevel\" stroke-width=\"12\" /><path d=\"M21.0944,89.44800000000001 L45.8912,89.44800000000001\" fill=\"none\" stroke=\"black\" stroke-linejoin=\"bevel\" stroke-width=\"12\" /><path d=\"M39.8912,89.44800000000001 Q36.0224,110.436 18.464,117.644\" fill=\"none\" stroke=\"black\" stroke-linejoin=\"bevel\" stroke-width=\"12\" /><path d=\"M24.1184,95.172 Q29.772799999999997,97.71600000000001 32.4512,101.532\" fill=\"none\" stroke=\"black\" stroke-linejoin=\"bevel\" stroke-width=\"12\" /><path d=\"M49.36,97.50399999999999 L90.64,97.50399999999999\" fill=\"none\" stroke=\"black\" stroke-linejoin=\"bevel\" stroke-width=\"12\" /><path d=\"M70.0,81.604 L70.0,117.22\" fill=\"none\" stroke=\"black\" stroke-linejoin=\"bevel\" stroke-width=\"12\" /><path d=\"M45.6,144.5839 Q40.4,160.9185 20.8,176.18779999999998\" fill=\"none\" stroke=\"black\" stroke-linejoin=\"bevel\" stroke-width=\"12\" /><path d=\"M61.2,143.87369999999999 Q72.0,154.1716 81.2,173.70209999999997\" fill=\"none\" stroke=\"black\" stroke-linejoin=\"bevel\" stroke-width=\"12\" /><path d=\"M46.0,118.66159999999999 Q55.6,123.633 59.2,131.4452\" fill=\"none\" stroke=\"black\" stroke-linejoin=\"bevel\" stroke-width=\"12\" /><path d=\"M21.2,137.1268 L87.2,137.1268\" fill=\"none\" stroke=\"black\" stroke-linejoin=\"bevel\" stroke-width=\"12\" /><path d=\"M109.92,98.80799999999999 L182.07999999999998,98.80799999999999\" fill=\"none\" stroke=\"black\" stroke-linejoin=\"bevel\" stroke-width=\"12\" /><path d=\"M134.11,86.16 L134.11,110.64\" fill=\"none\" stroke=\"black\" stroke-linejoin=\"bevel\" stroke-width=\"12\" /><path d=\"M157.89,86.16 L157.89,110.64\" fill=\"none\" stroke=\"black\" stroke-linejoin=\"bevel\" stroke-width=\"12\" /><path d=\"M115.25,124.9863 L176.75,124.9863\" fill=\"none\" stroke=\"black\" stroke-linejoin=\"bevel\" stroke-width=\"12\" /><path d=\"M122.22,145.48829999999998 L169.78,145.48829999999998\" fill=\"none\" stroke=\"black\" stroke-linejoin=\"bevel\" stroke-width=\"12\" /><path d=\"M110.74,167.3571 L181.26,167.3571\" fill=\"none\" stroke=\"black\" stroke-linejoin=\"bevel\" stroke-width=\"12\" /></svg>"
      ],
      "text/plain": [
       "<svgwrite.drawing.Drawing at 0x7f2439f8e850>"
      ]
     },
     "metadata": {},
     "output_type": "display_data"
    },
    {
     "name": "stdout",
     "output_type": "stream",
     "text": [
      "从「再作\n",
      "「\n"
     ]
    },
    {
     "data": {
      "image/svg+xml": [
       "<svg baseProfile=\"full\" height=\"200\" version=\"1.1\" width=\"200\" xmlns=\"http://www.w3.org/2000/svg\" xmlns:ev=\"http://www.w3.org/2001/xml-events\" xmlns:xlink=\"http://www.w3.org/1999/xlink\"><defs /><path d=\"M12.0,40.8 L188.0,40.8\" fill=\"none\" stroke=\"black\" stroke-linejoin=\"bevel\" stroke-width=\"12\" /><path d=\"M71.0,16.0 L71.0,64.0\" fill=\"none\" stroke=\"black\" stroke-linejoin=\"bevel\" stroke-width=\"12\" /><path d=\"M129.0,16.0 L129.0,64.0\" fill=\"none\" stroke=\"black\" stroke-linejoin=\"bevel\" stroke-width=\"12\" /><path d=\"M24.0,78.73 L24.0,171.91 Q24.0,181.91 34.0,181.91 L180.0,181.91\" fill=\"none\" stroke=\"black\" stroke-linejoin=\"bevel\" stroke-width=\"12\" /><path d=\"M40.5,130.44729999999998 L169.5,113.81790000000001\" fill=\"none\" stroke=\"black\" stroke-linejoin=\"bevel\" stroke-width=\"12\" /><path d=\"M90.0,89.3629 L90.0,153.7061 Q90.0,163.7061 100.0,163.7061 L156.0,163.7061\" fill=\"none\" stroke=\"black\" stroke-linejoin=\"bevel\" stroke-width=\"12\" /></svg>"
      ],
      "text/plain": [
       "<svgwrite.drawing.Drawing at 0x7f2439d46110>"
      ]
     },
     "metadata": {},
     "output_type": "display_data"
    },
    {
     "data": {
      "image/svg+xml": [
       "<svg baseProfile=\"full\" height=\"200\" version=\"1.1\" width=\"200\" xmlns=\"http://www.w3.org/2000/svg\" xmlns:ev=\"http://www.w3.org/2001/xml-events\" xmlns:xlink=\"http://www.w3.org/1999/xlink\"><defs /><path d=\"M11.2,28.0 L77.6,28.0\" fill=\"none\" stroke=\"black\" stroke-linejoin=\"bevel\" stroke-width=\"12\" /><path d=\"M41.6,5.6 Q44.0,54.8 11.2,75.2\" fill=\"none\" stroke=\"black\" stroke-linejoin=\"bevel\" stroke-width=\"12\" /><path d=\"M40.0,32.4 Q60.0,44.8 69.6,63.2\" fill=\"none\" stroke=\"black\" stroke-linejoin=\"bevel\" stroke-width=\"12\" /><path d=\"M128.6,5.6 L128.6,24.4 Q128.6,61.6 88.4,73.6\" fill=\"none\" stroke=\"black\" stroke-linejoin=\"bevel\" stroke-width=\"12\" /><path d=\"M93.8,26.4 L165.2,26.4\" fill=\"none\" stroke=\"black\" stroke-linejoin=\"bevel\" stroke-width=\"12\" /><path d=\"M159.3746832022088,20.4025433908309 L158.291138670348,57.604238984718165 Q158.0,67.6 168.0,67.6 L189.2,67.6\" fill=\"none\" stroke=\"black\" stroke-linejoin=\"bevel\" stroke-width=\"12\" /><path d=\"M22.0,91.46000000000001 L184.0,91.46000000000001\" fill=\"none\" stroke=\"black\" stroke-linejoin=\"bevel\" stroke-width=\"12\" /><path d=\"M152.0,85.46000000000001 L152.0,177.94 Q152.0,187.94 132.0,182.94\" fill=\"none\" stroke=\"black\" stroke-linejoin=\"bevel\" stroke-width=\"12\" /><path d=\"M35.43,106.9871 L35.43,163.3529\" fill=\"none\" stroke=\"black\" stroke-linejoin=\"bevel\" stroke-width=\"12\" /><path d=\"M29.43,112.9871 L136.57,112.9871\" fill=\"none\" stroke=\"black\" stroke-linejoin=\"bevel\" stroke-width=\"12\" /><path d=\"M130.57,106.9871 L130.57,163.3529\" fill=\"none\" stroke=\"black\" stroke-linejoin=\"bevel\" stroke-width=\"12\" /><path d=\"M68.93,106.9871 L68.93,121.19460000000001 Q68.93,137.6096 41.46,144.8322\" fill=\"none\" stroke=\"black\" stroke-linejoin=\"bevel\" stroke-width=\"12\" /><path d=\"M95.06,106.9871 L95.06,129.2511 Q95.06,139.2511 105.06,139.2511 L118.51,139.2511\" fill=\"none\" stroke=\"black\" stroke-linejoin=\"bevel\" stroke-width=\"12\" /><path d=\"M29.43,154.3529 L136.57,154.3529\" fill=\"none\" stroke=\"black\" stroke-linejoin=\"bevel\" stroke-width=\"12\" /></svg>"
      ],
      "text/plain": [
       "<svgwrite.drawing.Drawing at 0x7f2439d3aad0>"
      ]
     },
     "metadata": {},
     "output_type": "display_data"
    },
    {
     "data": {
      "image/svg+xml": [
       "<svg baseProfile=\"full\" height=\"200\" version=\"1.1\" width=\"200\" xmlns=\"http://www.w3.org/2000/svg\" xmlns:ev=\"http://www.w3.org/2001/xml-events\" xmlns:xlink=\"http://www.w3.org/1999/xlink\"><defs /><path d=\"M12.0,40.8 L188.0,40.8\" fill=\"none\" stroke=\"black\" stroke-linejoin=\"bevel\" stroke-width=\"12\" /><path d=\"M71.0,16.0 L71.0,64.0\" fill=\"none\" stroke=\"black\" stroke-linejoin=\"bevel\" stroke-width=\"12\" /><path d=\"M129.0,16.0 L129.0,64.0\" fill=\"none\" stroke=\"black\" stroke-linejoin=\"bevel\" stroke-width=\"12\" /><path d=\"M28.0,84.76 L188.0,84.76\" fill=\"none\" stroke=\"black\" stroke-linejoin=\"bevel\" stroke-width=\"12\" /><path d=\"M34.0,78.76 L34.0,126.97 Q34.0,175.20999999999998 12.0,192.63\" fill=\"none\" stroke=\"black\" stroke-linejoin=\"bevel\" stroke-width=\"12\" /><path d=\"M50.36,113.18642500000001 L177.64,104.24527499999999\" fill=\"none\" stroke=\"black\" stroke-linejoin=\"bevel\" stroke-width=\"12\" /><path d=\"M99.2,91.096525 L99.2,121.068725 Q99.2,131.068725 109.2,131.068725 L164.32,131.068725\" fill=\"none\" stroke=\"black\" stroke-linejoin=\"bevel\" stroke-width=\"12\" /><path d=\"M98.46,162.09977500000002 Q88.84,174.19662499999998 52.58,185.50455\" fill=\"none\" stroke=\"black\" stroke-linejoin=\"bevel\" stroke-width=\"12\" /><path d=\"M127.32,161.573825 Q147.3,169.20010000000002 164.32,183.663725\" fill=\"none\" stroke=\"black\" stroke-linejoin=\"bevel\" stroke-width=\"12\" /><path d=\"M99.2,142.9026 Q116.96,146.58425 123.62,152.3697\" fill=\"none\" stroke=\"black\" stroke-linejoin=\"bevel\" stroke-width=\"12\" /><path d=\"M53.32,156.57729999999998 L175.42,156.57729999999998\" fill=\"none\" stroke=\"black\" stroke-linejoin=\"bevel\" stroke-width=\"12\" /></svg>"
      ],
      "text/plain": [
       "<svgwrite.drawing.Drawing at 0x7f2439d44f90>"
      ]
     },
     "metadata": {},
     "output_type": "display_data"
    },
    {
     "data": {
      "image/svg+xml": [
       "<svg baseProfile=\"full\" height=\"200\" version=\"1.1\" width=\"200\" xmlns=\"http://www.w3.org/2000/svg\" xmlns:ev=\"http://www.w3.org/2001/xml-events\" xmlns:xlink=\"http://www.w3.org/1999/xlink\"><defs /><path d=\"M11.2,28.0 L77.6,28.0\" fill=\"none\" stroke=\"black\" stroke-linejoin=\"bevel\" stroke-width=\"12\" /><path d=\"M41.6,5.6 Q44.0,54.8 11.2,75.2\" fill=\"none\" stroke=\"black\" stroke-linejoin=\"bevel\" stroke-width=\"12\" /><path d=\"M40.0,32.4 Q60.0,44.8 69.6,63.2\" fill=\"none\" stroke=\"black\" stroke-linejoin=\"bevel\" stroke-width=\"12\" /><path d=\"M128.6,5.6 L128.6,24.4 Q128.6,61.6 88.4,73.6\" fill=\"none\" stroke=\"black\" stroke-linejoin=\"bevel\" stroke-width=\"12\" /><path d=\"M93.8,26.4 L165.2,26.4\" fill=\"none\" stroke=\"black\" stroke-linejoin=\"bevel\" stroke-width=\"12\" /><path d=\"M159.3746832022088,20.4025433908309 L158.291138670348,57.604238984718165 Q158.0,67.6 168.0,67.6 L189.2,67.6\" fill=\"none\" stroke=\"black\" stroke-linejoin=\"bevel\" stroke-width=\"12\" /><path d=\"M22.0,91.46000000000001 L184.0,91.46000000000001\" fill=\"none\" stroke=\"black\" stroke-linejoin=\"bevel\" stroke-width=\"12\" /><path d=\"M152.0,85.46000000000001 L152.0,177.94 Q152.0,187.94 132.0,182.94\" fill=\"none\" stroke=\"black\" stroke-linejoin=\"bevel\" stroke-width=\"12\" /><path d=\"M32.75,113.6437 L133.25,113.6437\" fill=\"none\" stroke=\"black\" stroke-linejoin=\"bevel\" stroke-width=\"12\" /><path d=\"M44.14,133.3417 L121.86,133.3417\" fill=\"none\" stroke=\"black\" stroke-linejoin=\"bevel\" stroke-width=\"12\" /><path d=\"M25.380000000000006,154.3529 L140.62,154.3529\" fill=\"none\" stroke=\"black\" stroke-linejoin=\"bevel\" stroke-width=\"12\" /></svg>"
      ],
      "text/plain": [
       "<svgwrite.drawing.Drawing at 0x7f2439be4e90>"
      ]
     },
     "metadata": {},
     "output_type": "display_data"
    },
    {
     "data": {
      "image/svg+xml": [
       "<svg baseProfile=\"full\" height=\"200\" version=\"1.1\" width=\"200\" xmlns=\"http://www.w3.org/2000/svg\" xmlns:ev=\"http://www.w3.org/2001/xml-events\" xmlns:xlink=\"http://www.w3.org/1999/xlink\"><defs /><path d=\"M40.176,7.6 Q31.992000000000004,30.0 11.904000000000002,46.8\" fill=\"none\" stroke=\"black\" stroke-linejoin=\"bevel\" stroke-width=\"12\" /><path d=\"M26.736000000000004,21.6 L70.728,21.6\" fill=\"none\" stroke=\"black\" stroke-linejoin=\"bevel\" stroke-width=\"12\" /><path d=\"M64.728,21.6 Q55.056,61.2 11.16,74.8\" fill=\"none\" stroke=\"black\" stroke-linejoin=\"bevel\" stroke-width=\"12\" /><path d=\"M25.296,32.4 Q39.431999999999995,37.2 46.12799999999999,44.4\" fill=\"none\" stroke=\"black\" stroke-linejoin=\"bevel\" stroke-width=\"12\" /><path d=\"M88.4,36.8 L191.6,36.8\" fill=\"none\" stroke=\"black\" stroke-linejoin=\"bevel\" stroke-width=\"12\" /><path d=\"M140.0,6.8 L140.0,74.0\" fill=\"none\" stroke=\"black\" stroke-linejoin=\"bevel\" stroke-width=\"12\" /><path d=\"M168.0,78.11359999999999 Q117.0,87.3462 22.0,92.3176\" fill=\"none\" stroke=\"black\" stroke-linejoin=\"bevel\" stroke-width=\"12\" /><path d=\"M35.0,97.9992 Q53.0,107.94200000000001 59.0,122.14599999999999\" fill=\"none\" stroke=\"black\" stroke-linejoin=\"bevel\" stroke-width=\"12\" /><path d=\"M84.0,94.4482 Q101.0,104.39099999999999 105.0,116.4644\" fill=\"none\" stroke=\"black\" stroke-linejoin=\"bevel\" stroke-width=\"12\" /><path d=\"M159.0,90.187 Q153.0,98.7094 134.0,124.2766\" fill=\"none\" stroke=\"black\" stroke-linejoin=\"bevel\" stroke-width=\"12\" /><path d=\"M29.0,135.01 L159.0,135.01\" fill=\"none\" stroke=\"black\" stroke-linejoin=\"bevel\" stroke-width=\"12\" /><path d=\"M153.0,129.01 L153.0,167.45999999999998\" fill=\"none\" stroke=\"black\" stroke-linejoin=\"bevel\" stroke-width=\"12\" /><path d=\"M35.0,129.01 L35.0,175.26 Q35.0,185.26 45.0,185.26 L182.0,185.26\" fill=\"none\" stroke=\"black\" stroke-linejoin=\"bevel\" stroke-width=\"12\" /><path d=\"M29.0,158.45999999999998 L159.0,158.45999999999998\" fill=\"none\" stroke=\"black\" stroke-linejoin=\"bevel\" stroke-width=\"12\" /></svg>"
      ],
      "text/plain": [
       "<svgwrite.drawing.Drawing at 0x7f2439d1cf90>"
      ]
     },
     "metadata": {},
     "output_type": "display_data"
    },
    {
     "data": {
      "image/svg+xml": [
       "<svg baseProfile=\"full\" height=\"200\" version=\"1.1\" width=\"200\" xmlns=\"http://www.w3.org/2000/svg\" xmlns:ev=\"http://www.w3.org/2001/xml-events\" xmlns:xlink=\"http://www.w3.org/1999/xlink\"><defs /><path d=\"M12.0,40.8 L188.0,40.8\" fill=\"none\" stroke=\"black\" stroke-linejoin=\"bevel\" stroke-width=\"12\" /><path d=\"M71.0,16.0 L71.0,64.0\" fill=\"none\" stroke=\"black\" stroke-linejoin=\"bevel\" stroke-width=\"12\" /><path d=\"M129.0,16.0 L129.0,64.0\" fill=\"none\" stroke=\"black\" stroke-linejoin=\"bevel\" stroke-width=\"12\" /><path d=\"M28.0,84.76 L188.0,84.76\" fill=\"none\" stroke=\"black\" stroke-linejoin=\"bevel\" stroke-width=\"12\" /><path d=\"M34.0,78.76 L34.0,126.97 Q34.0,175.20999999999998 12.0,192.63\" fill=\"none\" stroke=\"black\" stroke-linejoin=\"bevel\" stroke-width=\"12\" /><path d=\"M56.28,94.5152 L171.72,94.5152\" fill=\"none\" stroke=\"black\" stroke-linejoin=\"bevel\" stroke-width=\"12\" /><path d=\"M111.71375811520252,89.25914026187871 L85.94624188479747,136.06180973812127\" fill=\"none\" stroke=\"black\" stroke-linejoin=\"bevel\" stroke-width=\"12\" /><path d=\"M63.68,110.030725 L149.6,110.030725\" fill=\"none\" stroke=\"black\" stroke-linejoin=\"bevel\" stroke-width=\"12\" /><path d=\"M143.6,104.030725 L143.6,136.80575\" fill=\"none\" stroke=\"black\" stroke-linejoin=\"bevel\" stroke-width=\"12\" /><path d=\"M50.36,130.80575 L177.64,130.80575\" fill=\"none\" stroke=\"black\" stroke-linejoin=\"bevel\" stroke-width=\"12\" /><path d=\"M61.46,142.425075 L61.46,190.55992500000002\" fill=\"none\" stroke=\"black\" stroke-linejoin=\"bevel\" stroke-width=\"12\" /><path d=\"M55.46,148.425075 L172.54000000000005,148.425075\" fill=\"none\" stroke=\"black\" stroke-linejoin=\"bevel\" stroke-width=\"12\" /><path d=\"M166.54000000000005,142.425075 L166.54000000000005,190.55992500000002\" fill=\"none\" stroke=\"black\" stroke-linejoin=\"bevel\" stroke-width=\"12\" /><path d=\"M98.46,142.425075 L98.46,154.99944999999997 Q98.46,168.14819999999997 68.12,173.93365\" fill=\"none\" stroke=\"black\" stroke-linejoin=\"bevel\" stroke-width=\"12\" /><path d=\"M127.32,142.425075 L127.32,159.463075 Q127.32,169.463075 137.32,169.463075 L153.22,169.463075\" fill=\"none\" stroke=\"black\" stroke-linejoin=\"bevel\" stroke-width=\"12\" /><path d=\"M55.46,181.55992500000002 L172.54000000000005,181.55992500000002\" fill=\"none\" stroke=\"black\" stroke-linejoin=\"bevel\" stroke-width=\"12\" /></svg>"
      ],
      "text/plain": [
       "<svgwrite.drawing.Drawing at 0x7f2439d2c210>"
      ]
     },
     "metadata": {},
     "output_type": "display_data"
    },
    {
     "data": {
      "image/svg+xml": [
       "<svg baseProfile=\"full\" height=\"200\" version=\"1.1\" width=\"200\" xmlns=\"http://www.w3.org/2000/svg\" xmlns:ev=\"http://www.w3.org/2001/xml-events\" xmlns:xlink=\"http://www.w3.org/1999/xlink\"><defs /><path d=\"M33.0,25.0 L173.0,25.0\" fill=\"none\" stroke=\"black\" stroke-linejoin=\"bevel\" stroke-width=\"12\" /><path d=\"M167.0,19.0 L167.0,73.0\" fill=\"none\" stroke=\"black\" stroke-linejoin=\"bevel\" stroke-width=\"12\" /><path d=\"M33.0,64.0 L173.0,64.0\" fill=\"none\" stroke=\"black\" stroke-linejoin=\"bevel\" stroke-width=\"12\" /><path d=\"M39.0,19.0 L39.0,87.0 Q39.0,151.0 14.0,185.0\" fill=\"none\" stroke=\"black\" stroke-linejoin=\"bevel\" stroke-width=\"12\" /><path d=\"M95.62,129.175 Q85.47999999999999,155.625 47.26,180.35\" fill=\"none\" stroke=\"black\" stroke-linejoin=\"bevel\" stroke-width=\"12\" /><path d=\"M126.04,128.025 Q147.1,144.7 165.04,176.325\" fill=\"none\" stroke=\"black\" stroke-linejoin=\"bevel\" stroke-width=\"12\" /><path d=\"M96.4,87.2 Q115.12,95.25 122.14,107.9\" fill=\"none\" stroke=\"black\" stroke-linejoin=\"bevel\" stroke-width=\"12\" /><path d=\"M48.04,117.1 L176.74,117.1\" fill=\"none\" stroke=\"black\" stroke-linejoin=\"bevel\" stroke-width=\"12\" /></svg>"
      ],
      "text/plain": [
       "<svgwrite.drawing.Drawing at 0x7f2439d2a390>"
      ]
     },
     "metadata": {},
     "output_type": "display_data"
    },
    {
     "data": {
      "image/svg+xml": [
       "<svg baseProfile=\"full\" height=\"200\" version=\"1.1\" width=\"200\" xmlns=\"http://www.w3.org/2000/svg\" xmlns:ev=\"http://www.w3.org/2001/xml-events\" xmlns:xlink=\"http://www.w3.org/1999/xlink\"><defs /><path d=\"M21.44,17.2 L21.44,57.4\" fill=\"none\" stroke=\"black\" stroke-linejoin=\"bevel\" stroke-width=\"12\" /><path d=\"M15.440000000000001,23.2 L77.36,23.2\" fill=\"none\" stroke=\"black\" stroke-linejoin=\"bevel\" stroke-width=\"12\" /><path d=\"M71.36,17.2 L71.36,57.4\" fill=\"none\" stroke=\"black\" stroke-linejoin=\"bevel\" stroke-width=\"12\" /><path d=\"M15.440000000000001,48.4 L77.36,48.4\" fill=\"none\" stroke=\"black\" stroke-linejoin=\"bevel\" stroke-width=\"12\" /><path d=\"M46.4,6.4 L46.4,73.6\" fill=\"none\" stroke=\"black\" stroke-linejoin=\"bevel\" stroke-width=\"12\" /><path d=\"M88.4,36.8 L191.6,36.8\" fill=\"none\" stroke=\"black\" stroke-linejoin=\"bevel\" stroke-width=\"12\" /><path d=\"M140.0,6.8 L140.0,74.0\" fill=\"none\" stroke=\"black\" stroke-linejoin=\"bevel\" stroke-width=\"12\" /><path d=\"M22.0,91.46000000000001 L184.0,91.46000000000001\" fill=\"none\" stroke=\"black\" stroke-linejoin=\"bevel\" stroke-width=\"12\" /><path d=\"M152.0,85.46000000000001 L152.0,177.94 Q152.0,187.94 132.0,182.94\" fill=\"none\" stroke=\"black\" stroke-linejoin=\"bevel\" stroke-width=\"12\" /><path d=\"M25.380000000000006,133.99830000000003 L140.62,133.99830000000003\" fill=\"none\" stroke=\"black\" stroke-linejoin=\"bevel\" stroke-width=\"12\" /></svg>"
      ],
      "text/plain": [
       "<svgwrite.drawing.Drawing at 0x7f2439d44950>"
      ]
     },
     "metadata": {},
     "output_type": "display_data"
    },
    {
     "data": {
      "image/svg+xml": [
       "<svg baseProfile=\"full\" height=\"200\" version=\"1.1\" width=\"200\" xmlns=\"http://www.w3.org/2000/svg\" xmlns:ev=\"http://www.w3.org/2001/xml-events\" xmlns:xlink=\"http://www.w3.org/1999/xlink\"><defs /><path d=\"M12.0,40.8 L188.0,40.8\" fill=\"none\" stroke=\"black\" stroke-linejoin=\"bevel\" stroke-width=\"12\" /><path d=\"M71.0,16.0 L71.0,64.0\" fill=\"none\" stroke=\"black\" stroke-linejoin=\"bevel\" stroke-width=\"12\" /><path d=\"M129.0,16.0 L129.0,64.0\" fill=\"none\" stroke=\"black\" stroke-linejoin=\"bevel\" stroke-width=\"12\" /><path d=\"M20.0,96.7396 L180.0,96.7396\" fill=\"none\" stroke=\"black\" stroke-linejoin=\"bevel\" stroke-width=\"12\" /><path d=\"M100.0,77.6312 L100.0,137.4488\" fill=\"none\" stroke=\"black\" stroke-linejoin=\"bevel\" stroke-width=\"12\" /><path d=\"M95.0,96.7396 Q64.0,129.1408 14.0,143.2644\" fill=\"none\" stroke=\"black\" stroke-linejoin=\"bevel\" stroke-width=\"12\" /><path d=\"M105.0,96.7396 Q136.0,126.64840000000001 178.0,137.4488\" fill=\"none\" stroke=\"black\" stroke-linejoin=\"bevel\" stroke-width=\"12\" /><path d=\"M25.0,148.76175 L175.0,148.76175\" fill=\"none\" stroke=\"black\" stroke-linejoin=\"bevel\" stroke-width=\"12\" /><path d=\"M42.0,167.85675 L158.0,167.85675\" fill=\"none\" stroke=\"black\" stroke-linejoin=\"bevel\" stroke-width=\"12\" /><path d=\"M14.0,188.22475 L186.0,188.22475\" fill=\"none\" stroke=\"black\" stroke-linejoin=\"bevel\" stroke-width=\"12\" /></svg>"
      ],
      "text/plain": [
       "<svgwrite.drawing.Drawing at 0x7f2439d10c50>"
      ]
     },
     "metadata": {},
     "output_type": "display_data"
    },
    {
     "data": {
      "image/svg+xml": [
       "<svg baseProfile=\"full\" height=\"200\" version=\"1.1\" width=\"200\" xmlns=\"http://www.w3.org/2000/svg\" xmlns:ev=\"http://www.w3.org/2001/xml-events\" xmlns:xlink=\"http://www.w3.org/1999/xlink\"><defs /><path d=\"M49.0,12.0 L49.0,68.0\" fill=\"none\" stroke=\"black\" stroke-linejoin=\"bevel\" stroke-width=\"12\" /><path d=\"M43.0,18.0 L156.0,18.0\" fill=\"none\" stroke=\"black\" stroke-linejoin=\"bevel\" stroke-width=\"12\" /><path d=\"M150.0,12.0 L150.0,68.0\" fill=\"none\" stroke=\"black\" stroke-linejoin=\"bevel\" stroke-width=\"12\" /><path d=\"M43.0,39.0 L156.0,39.0\" fill=\"none\" stroke=\"black\" stroke-linejoin=\"bevel\" stroke-width=\"12\" /><path d=\"M43.0,59.0 L156.0,59.0\" fill=\"none\" stroke=\"black\" stroke-linejoin=\"bevel\" stroke-width=\"12\" /><path d=\"M14.0,76.0 L188.0,76.0\" fill=\"none\" stroke=\"black\" stroke-linejoin=\"bevel\" stroke-width=\"12\" /><path d=\"M100.0,70.0 L100.0,183.0\" fill=\"none\" stroke=\"black\" stroke-linejoin=\"bevel\" stroke-width=\"12\" /><path d=\"M24.72,84.29599999999999 L24.72,112.652\" fill=\"none\" stroke=\"black\" stroke-linejoin=\"bevel\" stroke-width=\"12\" /><path d=\"M18.72,90.29599999999999 L55.68,90.29599999999999\" fill=\"none\" stroke=\"black\" stroke-linejoin=\"bevel\" stroke-width=\"12\" /><path d=\"M49.68,84.29599999999999 L49.68,112.652\" fill=\"none\" stroke=\"black\" stroke-linejoin=\"bevel\" stroke-width=\"12\" /><path d=\"M18.72,103.652 L55.68,103.652\" fill=\"none\" stroke=\"black\" stroke-linejoin=\"bevel\" stroke-width=\"12\" /><path d=\"M37.2,81.392 L37.2,117.008\" fill=\"none\" stroke=\"black\" stroke-linejoin=\"bevel\" stroke-width=\"12\" /><path d=\"M20.8,135.7064 L89.6,135.7064\" fill=\"none\" stroke=\"black\" stroke-linejoin=\"bevel\" stroke-width=\"12\" /><path d=\"M38.4,118.3065 L38.4,177.9633\" fill=\"none\" stroke=\"black\" stroke-linejoin=\"bevel\" stroke-width=\"12\" /><path d=\"M48.716,155.773101 L82.08399999999997,155.773101\" fill=\"none\" stroke=\"black\" stroke-linejoin=\"bevel\" stroke-width=\"12\" /><path d=\"M109.92,98.80799999999999 L182.07999999999998,98.80799999999999\" fill=\"none\" stroke=\"black\" stroke-linejoin=\"bevel\" stroke-width=\"12\" /><path d=\"M134.11,86.16 L134.11,110.64\" fill=\"none\" stroke=\"black\" stroke-linejoin=\"bevel\" stroke-width=\"12\" /><path d=\"M157.89,86.16 L157.89,110.64\" fill=\"none\" stroke=\"black\" stroke-linejoin=\"bevel\" stroke-width=\"12\" /><path d=\"M115.25,124.9863 L176.75,124.9863\" fill=\"none\" stroke=\"black\" stroke-linejoin=\"bevel\" stroke-width=\"12\" /><path d=\"M122.22,145.48829999999998 L169.78,145.48829999999998\" fill=\"none\" stroke=\"black\" stroke-linejoin=\"bevel\" stroke-width=\"12\" /><path d=\"M110.74,167.3571 L181.26,167.3571\" fill=\"none\" stroke=\"black\" stroke-linejoin=\"bevel\" stroke-width=\"12\" /></svg>"
      ],
      "text/plain": [
       "<svgwrite.drawing.Drawing at 0x7f2439d1c110>"
      ]
     },
     "metadata": {},
     "output_type": "display_data"
    },
    {
     "name": "stdout",
     "output_type": "stream",
     "text": [
      "从「再作\n",
      "散拂一至大九长琐三\n",
      "上七九\n",
      "上七\n",
      "散拂一至大七长琐三\n"
     ]
    },
    {
     "data": {
      "image/svg+xml": [
       "<svg baseProfile=\"full\" height=\"200\" version=\"1.1\" width=\"200\" xmlns=\"http://www.w3.org/2000/svg\" xmlns:ev=\"http://www.w3.org/2001/xml-events\" xmlns:xlink=\"http://www.w3.org/1999/xlink\"><defs /><path d=\"M161.0,20.47 Q107.0,35.16 45.0,41.94\" fill=\"none\" stroke=\"black\" stroke-linejoin=\"bevel\" stroke-width=\"12\" /><path d=\"M52.0,36.29 Q42.0,73.58 20.0,98.44\" fill=\"none\" stroke=\"black\" stroke-linejoin=\"bevel\" stroke-width=\"12\" /><path d=\"M86.0,46.46 Q102.0,62.28 107.0,84.88\" fill=\"none\" stroke=\"black\" stroke-linejoin=\"bevel\" stroke-width=\"12\" /><path d=\"M138.0,39.68 Q163.0,62.28 173.0,87.14\" fill=\"none\" stroke=\"black\" stroke-linejoin=\"bevel\" stroke-width=\"12\" /><path d=\"M35.72,97.98 L160.52,97.98\" fill=\"none\" stroke=\"black\" stroke-linejoin=\"bevel\" stroke-width=\"12\" /><path d=\"M154.52,91.98 L154.52,141.2\" fill=\"none\" stroke=\"black\" stroke-linejoin=\"bevel\" stroke-width=\"12\" /><path d=\"M35.72,132.2 L160.52,132.2\" fill=\"none\" stroke=\"black\" stroke-linejoin=\"bevel\" stroke-width=\"12\" /><path d=\"M41.72,91.98 L41.72,168.02 Q41.72,178.02 51.72,178.02 L161.44,178.02 Q171.44,178.02 176.44,158.02\" fill=\"none\" stroke=\"black\" stroke-linejoin=\"bevel\" stroke-width=\"12\" /></svg>"
      ],
      "text/plain": [
       "<svgwrite.drawing.Drawing at 0x7f2439d24e50>"
      ]
     },
     "metadata": {},
     "output_type": "display_data"
    },
    {
     "name": "stdout",
     "output_type": "stream",
     "text": [
      "散滚二三\n"
     ]
    },
    {
     "data": {
      "image/svg+xml": [
       "<svg baseProfile=\"full\" height=\"200\" version=\"1.1\" width=\"200\" xmlns=\"http://www.w3.org/2000/svg\" xmlns:ev=\"http://www.w3.org/2001/xml-events\" xmlns:xlink=\"http://www.w3.org/1999/xlink\"><defs /><path d=\"M22.0,38.0 L184.0,38.0\" fill=\"none\" stroke=\"black\" stroke-linejoin=\"bevel\" stroke-width=\"12\" /><path d=\"M152.0,32.0 L152.0,172.0 Q152.0,182.0 132.0,177.0\" fill=\"none\" stroke=\"black\" stroke-linejoin=\"bevel\" stroke-width=\"12\" /><path d=\"M37.44,75.52 L128.56,75.52\" fill=\"none\" stroke=\"black\" stroke-linejoin=\"bevel\" stroke-width=\"12\" /><path d=\"M25.380000000000003,127.46 L140.62,127.46\" fill=\"none\" stroke=\"black\" stroke-linejoin=\"bevel\" stroke-width=\"12\" /></svg>"
      ],
      "text/plain": [
       "<svgwrite.drawing.Drawing at 0x7f2439d54e50>"
      ]
     },
     "metadata": {},
     "output_type": "display_data"
    },
    {
     "data": {
      "image/svg+xml": [
       "<svg baseProfile=\"full\" height=\"200\" version=\"1.1\" width=\"200\" xmlns=\"http://www.w3.org/2000/svg\" xmlns:ev=\"http://www.w3.org/2001/xml-events\" xmlns:xlink=\"http://www.w3.org/1999/xlink\"><defs /><path d=\"M28.0,28.0 L188.0,28.0\" fill=\"none\" stroke=\"black\" stroke-linejoin=\"bevel\" stroke-width=\"12\" /><path d=\"M34.0,22.0 L34.0,91.0 Q34.0,163.0 12.0,189.0\" fill=\"none\" stroke=\"black\" stroke-linejoin=\"bevel\" stroke-width=\"12\" /><path d=\"M56.28,42.56 L171.72,42.56\" fill=\"none\" stroke=\"black\" stroke-linejoin=\"bevel\" stroke-width=\"12\" /><path d=\"M110.89647149980225,36.93076682748805 L86.76352850019775,102.35423317251195\" fill=\"none\" stroke=\"black\" stroke-linejoin=\"bevel\" stroke-width=\"12\" /><path d=\"M63.68,65.7175 L149.6,65.7175\" fill=\"none\" stroke=\"black\" stroke-linejoin=\"bevel\" stroke-width=\"12\" /><path d=\"M143.6,59.7175 L143.6,102.725\" fill=\"none\" stroke=\"black\" stroke-linejoin=\"bevel\" stroke-width=\"12\" /><path d=\"M50.36,96.725 L177.64,96.725\" fill=\"none\" stroke=\"black\" stroke-linejoin=\"bevel\" stroke-width=\"12\" /><path d=\"M61.46,117.0225 L61.46,181.4775\" fill=\"none\" stroke=\"black\" stroke-linejoin=\"bevel\" stroke-width=\"12\" /><path d=\"M55.46,123.0225 L172.54000000000002,123.0225\" fill=\"none\" stroke=\"black\" stroke-linejoin=\"bevel\" stroke-width=\"12\" /><path d=\"M166.54000000000002,117.0225 L166.54000000000002,181.4775\" fill=\"none\" stroke=\"black\" stroke-linejoin=\"bevel\" stroke-width=\"12\" /><path d=\"M98.46000000000001,117.0225 L98.46000000000001,132.83499999999998 Q98.46000000000001,152.45999999999998 68.12,161.095\" fill=\"none\" stroke=\"black\" stroke-linejoin=\"bevel\" stroke-width=\"12\" /><path d=\"M127.32,117.0225 L127.32,144.4225 Q127.32,154.4225 137.32,154.4225 L153.22,154.4225\" fill=\"none\" stroke=\"black\" stroke-linejoin=\"bevel\" stroke-width=\"12\" /><path d=\"M55.46,172.4775 L172.54000000000002,172.4775\" fill=\"none\" stroke=\"black\" stroke-linejoin=\"bevel\" stroke-width=\"12\" /></svg>"
      ],
      "text/plain": [
       "<svgwrite.drawing.Drawing at 0x7f2439be7850>"
      ]
     },
     "metadata": {},
     "output_type": "display_data"
    },
    {
     "data": {
      "image/svg+xml": [
       "<svg baseProfile=\"full\" height=\"200\" version=\"1.1\" width=\"200\" xmlns=\"http://www.w3.org/2000/svg\" xmlns:ev=\"http://www.w3.org/2001/xml-events\" xmlns:xlink=\"http://www.w3.org/1999/xlink\"><defs /><path d=\"M33.0,25.0 L173.0,25.0\" fill=\"none\" stroke=\"black\" stroke-linejoin=\"bevel\" stroke-width=\"12\" /><path d=\"M167.0,19.0 L167.0,73.0\" fill=\"none\" stroke=\"black\" stroke-linejoin=\"bevel\" stroke-width=\"12\" /><path d=\"M33.0,64.0 L173.0,64.0\" fill=\"none\" stroke=\"black\" stroke-linejoin=\"bevel\" stroke-width=\"12\" /><path d=\"M39.0,19.0 L39.0,87.0 Q39.0,151.0 14.0,185.0\" fill=\"none\" stroke=\"black\" stroke-linejoin=\"bevel\" stroke-width=\"12\" /><path d=\"M95.62,129.175 Q85.47999999999999,155.625 47.26,180.35\" fill=\"none\" stroke=\"black\" stroke-linejoin=\"bevel\" stroke-width=\"12\" /><path d=\"M126.04,128.025 Q147.1,144.7 165.04,176.325\" fill=\"none\" stroke=\"black\" stroke-linejoin=\"bevel\" stroke-width=\"12\" /><path d=\"M96.4,87.2 Q115.12,95.25 122.14,107.9\" fill=\"none\" stroke=\"black\" stroke-linejoin=\"bevel\" stroke-width=\"12\" /><path d=\"M48.04,117.1 L176.74,117.1\" fill=\"none\" stroke=\"black\" stroke-linejoin=\"bevel\" stroke-width=\"12\" /></svg>"
      ],
      "text/plain": [
       "<svgwrite.drawing.Drawing at 0x7f2439d2ce50>"
      ]
     },
     "metadata": {},
     "output_type": "display_data"
    },
    {
     "data": {
      "image/svg+xml": [
       "<svg baseProfile=\"full\" height=\"200\" version=\"1.1\" width=\"200\" xmlns=\"http://www.w3.org/2000/svg\" xmlns:ev=\"http://www.w3.org/2001/xml-events\" xmlns:xlink=\"http://www.w3.org/1999/xlink\"><defs /><path d=\"M21.44,17.2 L21.44,57.4\" fill=\"none\" stroke=\"black\" stroke-linejoin=\"bevel\" stroke-width=\"12\" /><path d=\"M15.440000000000001,23.2 L77.36,23.2\" fill=\"none\" stroke=\"black\" stroke-linejoin=\"bevel\" stroke-width=\"12\" /><path d=\"M71.36,17.2 L71.36,57.4\" fill=\"none\" stroke=\"black\" stroke-linejoin=\"bevel\" stroke-width=\"12\" /><path d=\"M15.440000000000001,48.4 L77.36,48.4\" fill=\"none\" stroke=\"black\" stroke-linejoin=\"bevel\" stroke-width=\"12\" /><path d=\"M46.4,6.4 L46.4,73.6\" fill=\"none\" stroke=\"black\" stroke-linejoin=\"bevel\" stroke-width=\"12\" /><path d=\"M133.4,7.6 L133.4,74.4\" fill=\"none\" stroke=\"black\" stroke-linejoin=\"bevel\" stroke-width=\"12\" /><path d=\"M138.8,33.6 Q161.0,38.0 173.6,45.6\" fill=\"none\" stroke=\"black\" stroke-linejoin=\"bevel\" stroke-width=\"12\" /><path d=\"M22.0,91.46000000000001 L184.0,91.46000000000001\" fill=\"none\" stroke=\"black\" stroke-linejoin=\"bevel\" stroke-width=\"12\" /><path d=\"M152.0,85.46000000000001 L152.0,177.94 Q152.0,187.94 132.0,182.94\" fill=\"none\" stroke=\"black\" stroke-linejoin=\"bevel\" stroke-width=\"12\" /><path d=\"M25.380000000000006,133.99830000000003 L140.62,133.99830000000003\" fill=\"none\" stroke=\"black\" stroke-linejoin=\"bevel\" stroke-width=\"12\" /></svg>"
      ],
      "text/plain": [
       "<svgwrite.drawing.Drawing at 0x7f2439d2eb50>"
      ]
     },
     "metadata": {},
     "output_type": "display_data"
    },
    {
     "name": "stdout",
     "output_type": "stream",
     "text": [
      "上十\n"
     ]
    },
    {
     "data": {
      "image/svg+xml": [
       "<svg baseProfile=\"full\" height=\"200\" version=\"1.1\" width=\"200\" xmlns=\"http://www.w3.org/2000/svg\" xmlns:ev=\"http://www.w3.org/2001/xml-events\" xmlns:xlink=\"http://www.w3.org/1999/xlink\"><defs /><path d=\"M12.0,40.8 L188.0,40.8\" fill=\"none\" stroke=\"black\" stroke-linejoin=\"bevel\" stroke-width=\"12\" /><path d=\"M71.0,16.0 L71.0,64.0\" fill=\"none\" stroke=\"black\" stroke-linejoin=\"bevel\" stroke-width=\"12\" /><path d=\"M129.0,16.0 L129.0,64.0\" fill=\"none\" stroke=\"black\" stroke-linejoin=\"bevel\" stroke-width=\"12\" /><path d=\"M20.0,96.7396 L180.0,96.7396\" fill=\"none\" stroke=\"black\" stroke-linejoin=\"bevel\" stroke-width=\"12\" /><path d=\"M100.0,77.6312 L100.0,137.4488\" fill=\"none\" stroke=\"black\" stroke-linejoin=\"bevel\" stroke-width=\"12\" /><path d=\"M95.0,96.7396 Q64.0,129.1408 14.0,143.2644\" fill=\"none\" stroke=\"black\" stroke-linejoin=\"bevel\" stroke-width=\"12\" /><path d=\"M105.0,96.7396 Q136.0,126.64840000000001 178.0,137.4488\" fill=\"none\" stroke=\"black\" stroke-linejoin=\"bevel\" stroke-width=\"12\" /><path d=\"M25.0,148.76175 L175.0,148.76175\" fill=\"none\" stroke=\"black\" stroke-linejoin=\"bevel\" stroke-width=\"12\" /><path d=\"M42.0,167.85675 L158.0,167.85675\" fill=\"none\" stroke=\"black\" stroke-linejoin=\"bevel\" stroke-width=\"12\" /><path d=\"M14.0,188.22475 L186.0,188.22475\" fill=\"none\" stroke=\"black\" stroke-linejoin=\"bevel\" stroke-width=\"12\" /></svg>"
      ],
      "text/plain": [
       "<svgwrite.drawing.Drawing at 0x7f2439be6e50>"
      ]
     },
     "metadata": {},
     "output_type": "display_data"
    },
    {
     "data": {
      "image/svg+xml": [
       "<svg baseProfile=\"full\" height=\"200\" version=\"1.1\" width=\"200\" xmlns=\"http://www.w3.org/2000/svg\" xmlns:ev=\"http://www.w3.org/2001/xml-events\" xmlns:xlink=\"http://www.w3.org/1999/xlink\"><defs /><path d=\"M49.0,12.0 L49.0,68.0\" fill=\"none\" stroke=\"black\" stroke-linejoin=\"bevel\" stroke-width=\"12\" /><path d=\"M43.0,18.0 L156.0,18.0\" fill=\"none\" stroke=\"black\" stroke-linejoin=\"bevel\" stroke-width=\"12\" /><path d=\"M150.0,12.0 L150.0,68.0\" fill=\"none\" stroke=\"black\" stroke-linejoin=\"bevel\" stroke-width=\"12\" /><path d=\"M43.0,39.0 L156.0,39.0\" fill=\"none\" stroke=\"black\" stroke-linejoin=\"bevel\" stroke-width=\"12\" /><path d=\"M43.0,59.0 L156.0,59.0\" fill=\"none\" stroke=\"black\" stroke-linejoin=\"bevel\" stroke-width=\"12\" /><path d=\"M14.0,76.0 L188.0,76.0\" fill=\"none\" stroke=\"black\" stroke-linejoin=\"bevel\" stroke-width=\"12\" /><path d=\"M100.0,70.0 L100.0,183.0\" fill=\"none\" stroke=\"black\" stroke-linejoin=\"bevel\" stroke-width=\"12\" /><path d=\"M24.72,84.29599999999999 L24.72,112.652\" fill=\"none\" stroke=\"black\" stroke-linejoin=\"bevel\" stroke-width=\"12\" /><path d=\"M18.72,90.29599999999999 L55.68,90.29599999999999\" fill=\"none\" stroke=\"black\" stroke-linejoin=\"bevel\" stroke-width=\"12\" /><path d=\"M49.68,84.29599999999999 L49.68,112.652\" fill=\"none\" stroke=\"black\" stroke-linejoin=\"bevel\" stroke-width=\"12\" /><path d=\"M18.72,103.652 L55.68,103.652\" fill=\"none\" stroke=\"black\" stroke-linejoin=\"bevel\" stroke-width=\"12\" /><path d=\"M37.2,81.392 L37.2,117.008\" fill=\"none\" stroke=\"black\" stroke-linejoin=\"bevel\" stroke-width=\"12\" /><path d=\"M20.8,135.7064 L89.6,135.7064\" fill=\"none\" stroke=\"black\" stroke-linejoin=\"bevel\" stroke-width=\"12\" /><path d=\"M38.4,118.3065 L38.4,177.9633\" fill=\"none\" stroke=\"black\" stroke-linejoin=\"bevel\" stroke-width=\"12\" /><path d=\"M48.716,155.773101 L82.08399999999997,155.773101\" fill=\"none\" stroke=\"black\" stroke-linejoin=\"bevel\" stroke-width=\"12\" /><path d=\"M109.92,98.80799999999999 L182.07999999999998,98.80799999999999\" fill=\"none\" stroke=\"black\" stroke-linejoin=\"bevel\" stroke-width=\"12\" /><path d=\"M134.11,86.16 L134.11,110.64\" fill=\"none\" stroke=\"black\" stroke-linejoin=\"bevel\" stroke-width=\"12\" /><path d=\"M157.89,86.16 L157.89,110.64\" fill=\"none\" stroke=\"black\" stroke-linejoin=\"bevel\" stroke-width=\"12\" /><path d=\"M115.25,124.9863 L176.75,124.9863\" fill=\"none\" stroke=\"black\" stroke-linejoin=\"bevel\" stroke-width=\"12\" /><path d=\"M122.22,145.48829999999998 L169.78,145.48829999999998\" fill=\"none\" stroke=\"black\" stroke-linejoin=\"bevel\" stroke-width=\"12\" /><path d=\"M110.74,167.3571 L181.26,167.3571\" fill=\"none\" stroke=\"black\" stroke-linejoin=\"bevel\" stroke-width=\"12\" /></svg>"
      ],
      "text/plain": [
       "<svgwrite.drawing.Drawing at 0x7f2439d45190>"
      ]
     },
     "metadata": {},
     "output_type": "display_data"
    },
    {
     "data": {
      "image/svg+xml": [
       "<svg baseProfile=\"full\" height=\"200\" version=\"1.1\" width=\"200\" xmlns=\"http://www.w3.org/2000/svg\" xmlns:ev=\"http://www.w3.org/2001/xml-events\" xmlns:xlink=\"http://www.w3.org/1999/xlink\"><defs /><path d=\"M41.04,29.144999999999996 L41.04,88.08\" fill=\"none\" stroke=\"black\" stroke-linejoin=\"bevel\" stroke-width=\"12\" /><path d=\"M35.04,35.144999999999996 L165.84,35.144999999999996\" fill=\"none\" stroke=\"black\" stroke-linejoin=\"bevel\" stroke-width=\"12\" /><path d=\"M159.84,29.144999999999996 L159.84,88.08\" fill=\"none\" stroke=\"black\" stroke-linejoin=\"bevel\" stroke-width=\"12\" /><path d=\"M80.64,15.57 L80.64,85.08\" fill=\"none\" stroke=\"black\" stroke-linejoin=\"bevel\" stroke-width=\"12\" /><path d=\"M120.24,15.57 L120.24,85.08\" fill=\"none\" stroke=\"black\" stroke-linejoin=\"bevel\" stroke-width=\"12\" /><path d=\"M35.04,55.59 L165.84,55.59\" fill=\"none\" stroke=\"black\" stroke-linejoin=\"bevel\" stroke-width=\"12\" /><path d=\"M35.04,79.08 L165.84,79.08\" fill=\"none\" stroke=\"black\" stroke-linejoin=\"bevel\" stroke-width=\"12\" /></svg>"
      ],
      "text/plain": [
       "<svgwrite.drawing.Drawing at 0x7f248c2a13d0>"
      ]
     },
     "metadata": {},
     "output_type": "display_data"
    }
   ],
   "source": [
    "for token in paragraph:\n",
    "    try:\n",
    "        note = parse(token, form='abbr')\n",
    "        canvas = note.draw(font='sans')\n",
    "        display(canvas)\n",
    "    except:\n",
    "        print(token)"
   ]
  },
  {
   "cell_type": "markdown",
   "metadata": {},
   "source": [
    "# note\n"
   ]
  },
  {
   "cell_type": "code",
   "execution_count": 21,
   "metadata": {},
   "outputs": [],
   "source": [
    "from jianzipu.note import *"
   ]
  },
  {
   "cell_type": "code",
   "execution_count": 22,
   "metadata": {},
   "outputs": [
    {
     "data": {
      "text/plain": [
       "0.59"
      ]
     },
     "execution_count": 22,
     "metadata": {},
     "output_type": "execute_result"
    }
   ],
   "source": [
    "hui_to_ratio(7,9)"
   ]
  },
  {
   "cell_type": "code",
   "execution_count": 39,
   "metadata": {},
   "outputs": [
    {
     "data": {
      "image/png": "[encoded data removed]",
      "text/plain": [
       "<Figure size 640x480 with 1 Axes>"
      ]
     },
     "metadata": {},
     "output_type": "display_data"
    }
   ],
   "source": [
    "import matplotlib.pyplot as plt\n",
    "fig, ax = plt.subplots()\n",
    "ax.set_xlim(0, 1)\n",
    "\n",
    "# 画出数据点\n",
    "for point in 按音徽位[:120]:\n",
    "    ax.plot(point, 0, '|k')\n",
    "\n",
    "# 显示图形\n",
    "plt.show()"
   ]
  },
  {
   "cell_type": "code",
   "execution_count": 27,
   "metadata": {},
   "outputs": [
    {
     "data": {
      "text/plain": [
       "(8, 3)"
      ]
     },
     "execution_count": 27,
     "metadata": {},
     "output_type": "execute_result"
    }
   ],
   "source": [
    "ratio_to_hui(0.62)"
   ]
  }
 ],
 "metadata": {
  "kernelspec": {
   "display_name": "Python 3",
   "language": "python",
   "name": "python3"
  },
  "language_info": {
   "codemirror_mode": {
    "name": "ipython",
    "version": 3
   },
   "file_extension": ".py",
   "mimetype": "text/x-python",
   "name": "python",
   "nbconvert_exporter": "python",
   "pygments_lexer": "ipython3",
   "version": "3.11.4"
  },
  "orig_nbformat": 4
 },
 "nbformat": 4,
 "nbformat_minor": 2
}
